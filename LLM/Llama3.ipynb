{
  "metadata": {
    "kernelspec": {
      "language": "python",
      "display_name": "Python 3",
      "name": "python3"
    },
    "language_info": {
      "name": "python",
      "version": "3.10.13",
      "mimetype": "text/x-python",
      "codemirror_mode": {
        "name": "ipython",
        "version": 3
      },
      "pygments_lexer": "ipython3",
      "nbconvert_exporter": "python",
      "file_extension": ".py"
    },
    "kaggle": {
      "accelerator": "none",
      "dataSources": [],
      "dockerImageVersionId": 30747,
      "isInternetEnabled": true,
      "language": "python",
      "sourceType": "notebook",
      "isGpuEnabled": false
    },
    "colab": {
      "name": "Llama3",
      "provenance": []
    }
  },
  "nbformat_minor": 0,
  "nbformat": 4,
  "cells": [
    {
      "cell_type": "code",
      "source": [],
      "metadata": {
        "_uuid": "8f2839f25d086af736a60e9eeb907d3b93b6e0e5",
        "_cell_guid": "b1076dfc-b9ad-4769-8c92-a6c4dae69d19",
        "trusted": true,
        "id": "uUCIlVe409yd"
      },
      "execution_count": null,
      "outputs": []
    },
    {
      "cell_type": "code",
      "source": [
        "#!pip install -q llama-toolchain\n",
        "# !llama model list\n",
        "# !llama download --source meta --model-id \"Meta-Llama3.1-8B\" --meta-url \"https://llama3-1.llamameta.net/*?Policy=eyJTdGF0ZW1lbnQiOlt7InVuaXF1ZV9oYXNoIjoiY3hhdWRmem5kOXhya2lza3A3aGV0bnN3IiwiUmVzb3VyY2UiOiJodHRwczpcL1wvbGxhbWEzLTEubGxhbWFtZXRhLm5ldFwvKiIsIkNvbmRpdGlvbiI6eyJEYXRlTGVzc1RoYW4iOnsiQVdTOkVwb2NoVGltZSI6MTcyNDE0NjgzM319fV19&Signature=GiocjWKNW%7E9xxZj6Os19-QGlsH6Sv6nbj657DlcN-djjJ5vRpuLOaOmJFlh8PMW-21K5MOIC1%7EQTD7MrpJ00sMan8VNrUuNsMIp4unrZPJYotOGfc9MHx7-zihEBap3YHh%7ETcVT72%7EW5yzwR4wV5d8gxIsi2eUpmM%7EvysTI48d5iVd7r3MPTzkQSuklE-tAWSlKVKxgP-cWh2j8FBcKl99aeTCjXmkzliQKw9kB0Bh9Hnze2BnCXqIO6P4OdbnCWBZAsCf8aBrPbOEc6y90uL48RKkfQLIq-yP%7EXeaagAE4sHi2OjqDwqtu8J5EoboZc65Bc8wZSeoxrcTqGOd4YyQ__&Key-Pair-Id=K15QRJLYKIFSLZ&Download-Request-ID=1416263852379241\"\n"
      ],
      "metadata": {
        "trusted": true,
        "id": "FmDq5Iuj09ye"
      },
      "execution_count": null,
      "outputs": []
    },
    {
      "cell_type": "markdown",
      "source": [
        "https://github.com/naklecha/llama3-from-scratch/blob/main/llama3-from-scratch.ipynb\n",
        "\n",
        "\n",
        "https://github.com/evintunador/minLlama3\n",
        "\n",
        "\n",
        "https://github.com/Blaizzy/Coding-LLMs-from-scratch/blob/main/Llama-3/Part%201/Downcycling.ipynb"
      ],
      "metadata": {
        "id": "eRYiRAHa09ym"
      }
    },
    {
      "cell_type": "code",
      "source": [
        "from huggingface_hub import notebook_login\n",
        "\n",
        "notebook_login()"
      ],
      "metadata": {
        "execution": {
          "iopub.status.busy": "2024-08-31T05:46:20.948174Z",
          "iopub.execute_input": "2024-08-31T05:46:20.948861Z",
          "iopub.status.idle": "2024-08-31T05:46:21.239808Z",
          "shell.execute_reply.started": "2024-08-31T05:46:20.948825Z",
          "shell.execute_reply": "2024-08-31T05:46:21.238891Z"
        },
        "trusted": true,
        "id": "zq8ZGF_d09yx",
        "outputId": "55bfe3eb-ab77-4bc1-fe46-7e97e6948ab4",
        "colab": {
          "referenced_widgets": [
            "9c4b558674f442e6a8c108e477b4df7f"
          ]
        }
      },
      "execution_count": null,
      "outputs": [
        {
          "output_type": "display_data",
          "data": {
            "text/plain": "VBox(children=(HTML(value='<center> <img\\nsrc=https://huggingface.co/front/assets/huggingface_logo-noborder.sv…",
            "application/vnd.jupyter.widget-view+json": {
              "version_major": 2,
              "version_minor": 0,
              "model_id": "9c4b558674f442e6a8c108e477b4df7f"
            }
          },
          "metadata": {}
        }
      ]
    },
    {
      "cell_type": "code",
      "source": [
        "import torch\n",
        "import torch.nn.functional as F\n",
        "import matplotlib.pyplot as plt\n",
        "import seaborn as sns\n",
        "import numpy as np\n",
        "import json"
      ],
      "metadata": {
        "execution": {
          "iopub.status.busy": "2024-08-31T05:46:29.182525Z",
          "iopub.execute_input": "2024-08-31T05:46:29.183185Z",
          "iopub.status.idle": "2024-08-31T05:46:33.072893Z",
          "shell.execute_reply.started": "2024-08-31T05:46:29.183154Z",
          "shell.execute_reply": "2024-08-31T05:46:33.072084Z"
        },
        "trusted": true,
        "id": "WW543La309y0"
      },
      "execution_count": null,
      "outputs": []
    },
    {
      "cell_type": "code",
      "source": [
        "device = torch.device(\"cuda:0\" if torch.cuda.is_available() else \"cpu\")\n",
        "torch.backends.cuda.enable_mem_efficient_sdp(True)\n",
        "torch.backends.cuda.enable_flash_sdp(True)\n",
        "device"
      ],
      "metadata": {
        "execution": {
          "iopub.status.busy": "2024-08-31T05:46:38.079512Z",
          "iopub.execute_input": "2024-08-31T05:46:38.080465Z",
          "iopub.status.idle": "2024-08-31T05:46:38.141277Z",
          "shell.execute_reply.started": "2024-08-31T05:46:38.080431Z",
          "shell.execute_reply": "2024-08-31T05:46:38.140278Z"
        },
        "trusted": true,
        "id": "eQM6kBwK09y3",
        "outputId": "b7e9d48e-ce2c-4d62-fd55-62a143e90f7e"
      },
      "execution_count": null,
      "outputs": [
        {
          "execution_count": 3,
          "output_type": "execute_result",
          "data": {
            "text/plain": "device(type='cuda', index=0)"
          },
          "metadata": {}
        }
      ]
    },
    {
      "cell_type": "code",
      "source": [
        "!pip install -q sentencepiece tiktoken blobfile accelerate hf-transfer"
      ],
      "metadata": {
        "execution": {
          "iopub.status.busy": "2024-08-31T04:18:45.634567Z",
          "iopub.execute_input": "2024-08-31T04:18:45.63548Z",
          "iopub.status.idle": "2024-08-31T04:19:01.250735Z",
          "shell.execute_reply.started": "2024-08-31T04:18:45.635398Z",
          "shell.execute_reply": "2024-08-31T04:19:01.249496Z"
        },
        "trusted": true,
        "id": "_7-qaCBL09y6"
      },
      "execution_count": null,
      "outputs": []
    },
    {
      "cell_type": "markdown",
      "source": [
        "# Inference"
      ],
      "metadata": {
        "id": "2GLwwPvy09y8"
      }
    },
    {
      "cell_type": "code",
      "source": [
        "import torch\n",
        "from transformers import AutoModelForCausalLM,AutoTokenizer\n",
        "\n",
        "model_id = \"meta-llama/Meta-Llama-3-8B\"\n",
        "\n",
        "tokenizer = AutoTokenizer.from_pretrained(model_id)\n",
        "\n",
        "model = AutoModelForCausalLM.from_pretrained(model_id,trust_remote_code=True,torch_dtype=torch.bfloat16,\n",
        "                                      low_cpu_mem_usage=True,device_map=\"auto\")\n",
        "\n",
        "model.config\n"
      ],
      "metadata": {
        "execution": {
          "iopub.status.busy": "2024-08-31T05:46:45.544781Z",
          "iopub.execute_input": "2024-08-31T05:46:45.545385Z",
          "iopub.status.idle": "2024-08-31T05:49:21.391047Z",
          "shell.execute_reply.started": "2024-08-31T05:46:45.545357Z",
          "shell.execute_reply": "2024-08-31T05:49:21.390169Z"
        },
        "trusted": true,
        "id": "Udia7Q2X09y_",
        "outputId": "3632fae3-f42a-46e2-f3ac-3a7b1a2940b9",
        "colab": {
          "referenced_widgets": [
            "00f68b42543f490194fb2c7466207caf",
            "8426973d3b114b3a996d6000f065fe11",
            "3f84c59bf92747b5984e4813910715d4",
            "eedf3336078444609cd9d0db6a0cde86",
            "42581a378af346f58e1b5c0a1e664b61",
            "065c29ee98694d3dbc31fc37b2deb2ca",
            "10223149f4d2448490b7181e65387e42",
            "146ed3e69d21486b9544e23e9a278d9b",
            "501f3e23ab904f989187ee9557307de0",
            "d1bd43ebed854efe917ccdef054b0a53",
            "f1d0584fe4074b97a475d84ca377082a",
            "6b0a0fa5bc5e42179ebdef27b2daebc6"
          ]
        }
      },
      "execution_count": null,
      "outputs": [
        {
          "output_type": "display_data",
          "data": {
            "text/plain": "tokenizer_config.json:   0%|          | 0.00/50.6k [00:00<?, ?B/s]",
            "application/vnd.jupyter.widget-view+json": {
              "version_major": 2,
              "version_minor": 0,
              "model_id": "00f68b42543f490194fb2c7466207caf"
            }
          },
          "metadata": {}
        },
        {
          "output_type": "display_data",
          "data": {
            "text/plain": "tokenizer.json:   0%|          | 0.00/9.09M [00:00<?, ?B/s]",
            "application/vnd.jupyter.widget-view+json": {
              "version_major": 2,
              "version_minor": 0,
              "model_id": "8426973d3b114b3a996d6000f065fe11"
            }
          },
          "metadata": {}
        },
        {
          "output_type": "display_data",
          "data": {
            "text/plain": "special_tokens_map.json:   0%|          | 0.00/73.0 [00:00<?, ?B/s]",
            "application/vnd.jupyter.widget-view+json": {
              "version_major": 2,
              "version_minor": 0,
              "model_id": "3f84c59bf92747b5984e4813910715d4"
            }
          },
          "metadata": {}
        },
        {
          "name": "stderr",
          "text": "Special tokens have been added in the vocabulary, make sure the associated word embeddings are fine-tuned or trained.\n",
          "output_type": "stream"
        },
        {
          "output_type": "display_data",
          "data": {
            "text/plain": "config.json:   0%|          | 0.00/654 [00:00<?, ?B/s]",
            "application/vnd.jupyter.widget-view+json": {
              "version_major": 2,
              "version_minor": 0,
              "model_id": "eedf3336078444609cd9d0db6a0cde86"
            }
          },
          "metadata": {}
        },
        {
          "output_type": "display_data",
          "data": {
            "text/plain": "model.safetensors.index.json:   0%|          | 0.00/23.9k [00:00<?, ?B/s]",
            "application/vnd.jupyter.widget-view+json": {
              "version_major": 2,
              "version_minor": 0,
              "model_id": "42581a378af346f58e1b5c0a1e664b61"
            }
          },
          "metadata": {}
        },
        {
          "output_type": "display_data",
          "data": {
            "text/plain": "Downloading shards:   0%|          | 0/4 [00:00<?, ?it/s]",
            "application/vnd.jupyter.widget-view+json": {
              "version_major": 2,
              "version_minor": 0,
              "model_id": "065c29ee98694d3dbc31fc37b2deb2ca"
            }
          },
          "metadata": {}
        },
        {
          "output_type": "display_data",
          "data": {
            "text/plain": "model-00001-of-00004.safetensors:   0%|          | 0.00/4.98G [00:00<?, ?B/s]",
            "application/vnd.jupyter.widget-view+json": {
              "version_major": 2,
              "version_minor": 0,
              "model_id": "10223149f4d2448490b7181e65387e42"
            }
          },
          "metadata": {}
        },
        {
          "output_type": "display_data",
          "data": {
            "text/plain": "model-00002-of-00004.safetensors:   0%|          | 0.00/5.00G [00:00<?, ?B/s]",
            "application/vnd.jupyter.widget-view+json": {
              "version_major": 2,
              "version_minor": 0,
              "model_id": "146ed3e69d21486b9544e23e9a278d9b"
            }
          },
          "metadata": {}
        },
        {
          "output_type": "display_data",
          "data": {
            "text/plain": "model-00003-of-00004.safetensors:   0%|          | 0.00/4.92G [00:00<?, ?B/s]",
            "application/vnd.jupyter.widget-view+json": {
              "version_major": 2,
              "version_minor": 0,
              "model_id": "501f3e23ab904f989187ee9557307de0"
            }
          },
          "metadata": {}
        },
        {
          "output_type": "display_data",
          "data": {
            "text/plain": "model-00004-of-00004.safetensors:   0%|          | 0.00/1.17G [00:00<?, ?B/s]",
            "application/vnd.jupyter.widget-view+json": {
              "version_major": 2,
              "version_minor": 0,
              "model_id": "d1bd43ebed854efe917ccdef054b0a53"
            }
          },
          "metadata": {}
        },
        {
          "output_type": "display_data",
          "data": {
            "text/plain": "Loading checkpoint shards:   0%|          | 0/4 [00:00<?, ?it/s]",
            "application/vnd.jupyter.widget-view+json": {
              "version_major": 2,
              "version_minor": 0,
              "model_id": "f1d0584fe4074b97a475d84ca377082a"
            }
          },
          "metadata": {}
        },
        {
          "output_type": "display_data",
          "data": {
            "text/plain": "generation_config.json:   0%|          | 0.00/177 [00:00<?, ?B/s]",
            "application/vnd.jupyter.widget-view+json": {
              "version_major": 2,
              "version_minor": 0,
              "model_id": "6b0a0fa5bc5e42179ebdef27b2daebc6"
            }
          },
          "metadata": {}
        },
        {
          "execution_count": 4,
          "output_type": "execute_result",
          "data": {
            "text/plain": "LlamaConfig {\n  \"_name_or_path\": \"meta-llama/Meta-Llama-3-8B\",\n  \"architectures\": [\n    \"LlamaForCausalLM\"\n  ],\n  \"attention_bias\": false,\n  \"attention_dropout\": 0.0,\n  \"bos_token_id\": 128000,\n  \"eos_token_id\": 128001,\n  \"hidden_act\": \"silu\",\n  \"hidden_size\": 4096,\n  \"initializer_range\": 0.02,\n  \"intermediate_size\": 14336,\n  \"max_position_embeddings\": 8192,\n  \"mlp_bias\": false,\n  \"model_type\": \"llama\",\n  \"num_attention_heads\": 32,\n  \"num_hidden_layers\": 32,\n  \"num_key_value_heads\": 8,\n  \"pretraining_tp\": 1,\n  \"rms_norm_eps\": 1e-05,\n  \"rope_scaling\": null,\n  \"rope_theta\": 500000.0,\n  \"tie_word_embeddings\": false,\n  \"torch_dtype\": \"bfloat16\",\n  \"transformers_version\": \"4.42.3\",\n  \"use_cache\": true,\n  \"vocab_size\": 128256\n}"
          },
          "metadata": {}
        }
      ]
    },
    {
      "cell_type": "code",
      "source": [
        "model.config.gradient_checkpointing = True  # reduce number of stored activations\n",
        "model.config.use_cache = False  # disable cache for memory efficiency\n",
        "model.config.output_hidden_states = True  # set to True if you want hidden states\n",
        "model.config.output_attentions = True  # set to True if you want attention weights\n",
        "model.config"
      ],
      "metadata": {
        "execution": {
          "iopub.status.busy": "2024-08-31T05:49:30.122735Z",
          "iopub.execute_input": "2024-08-31T05:49:30.123732Z",
          "iopub.status.idle": "2024-08-31T05:49:30.131657Z",
          "shell.execute_reply.started": "2024-08-31T05:49:30.123696Z",
          "shell.execute_reply": "2024-08-31T05:49:30.130739Z"
        },
        "trusted": true,
        "id": "rBULTAWt09zC",
        "outputId": "c81b2639-2f0d-49f8-d5f7-a3772f0c53b0"
      },
      "execution_count": null,
      "outputs": [
        {
          "execution_count": 5,
          "output_type": "execute_result",
          "data": {
            "text/plain": "LlamaConfig {\n  \"_name_or_path\": \"meta-llama/Meta-Llama-3-8B\",\n  \"architectures\": [\n    \"LlamaForCausalLM\"\n  ],\n  \"attention_bias\": false,\n  \"attention_dropout\": 0.0,\n  \"bos_token_id\": 128000,\n  \"eos_token_id\": 128001,\n  \"gradient_checkpointing\": true,\n  \"hidden_act\": \"silu\",\n  \"hidden_size\": 4096,\n  \"initializer_range\": 0.02,\n  \"intermediate_size\": 14336,\n  \"max_position_embeddings\": 8192,\n  \"mlp_bias\": false,\n  \"model_type\": \"llama\",\n  \"num_attention_heads\": 32,\n  \"num_hidden_layers\": 32,\n  \"num_key_value_heads\": 8,\n  \"output_attentions\": true,\n  \"output_hidden_states\": true,\n  \"pretraining_tp\": 1,\n  \"rms_norm_eps\": 1e-05,\n  \"rope_scaling\": null,\n  \"rope_theta\": 500000.0,\n  \"tie_word_embeddings\": false,\n  \"torch_dtype\": \"bfloat16\",\n  \"transformers_version\": \"4.42.3\",\n  \"use_cache\": false,\n  \"vocab_size\": 128256\n}"
          },
          "metadata": {}
        }
      ]
    },
    {
      "cell_type": "markdown",
      "source": [
        "# Model Architecture\n",
        "## AutoModel without Causal Head\n",
        "\n",
        "        LlamaModel(\n",
        "          (embed_tokens): Embedding(128256, 4096)\n",
        "          (layers): ModuleList(\n",
        "            (0-31): 32 x LlamaDecoderLayer(\n",
        "              (self_attn): LlamaSdpaAttention(\n",
        "                (q_proj): Linear(in_features=4096, out_features=4096, bias=False)\n",
        "                (k_proj): Linear(in_features=4096, out_features=1024, bias=False)\n",
        "                (v_proj): Linear(in_features=4096, out_features=1024, bias=False)\n",
        "                (o_proj): Linear(in_features=4096, out_features=4096, bias=False)\n",
        "                (rotary_emb): LlamaRotaryEmbedding()\n",
        "              )\n",
        "              (mlp): LlamaMLP(\n",
        "                (gate_proj): Linear(in_features=4096, out_features=14336, bias=False)\n",
        "                (up_proj): Linear(in_features=4096, out_features=14336, bias=False)\n",
        "                (down_proj): Linear(in_features=14336, out_features=4096, bias=False)\n",
        "                (act_fn): SiLU()\n",
        "              )\n",
        "              (input_layernorm): LlamaRMSNorm()\n",
        "              (post_attention_layernorm): LlamaRMSNorm()\n",
        "            )\n",
        "          )\n",
        "          (norm): LlamaRMSNorm()\n",
        "        )\n",
        "        \n",
        "        \n",
        "## now adding causal LM Head\n",
        "\n",
        "    LlamaForCausalLM(\n",
        "      (model): LlamaModel(...)\n",
        "      (lm_head): Linear(in_features=4096, out_features=128256, bias=False)\n",
        "    )\n",
        "    \n",
        "Here out_features = vocab_sz (128k)\n",
        "\n",
        "\"intermediate_size\"= 3.5 *  \"hidden_size\" = 3.5 * 4096 = 14336 , design choice\n",
        "\n"
      ],
      "metadata": {
        "id": "YekWkIUc09zF"
      }
    },
    {
      "cell_type": "markdown",
      "source": [
        "## Inference with Alpaca style Prompt\n",
        "\n",
        "```python\n",
        "\n",
        "# {\n",
        "#     \"description\": \"Template used by Alpaca-LoRA.\",\n",
        "#     \"prompt_input\": \"Below is an instruction that describes a task, paired with an input that provides further context. Write a response that appropriately completes the request.\\n\\n### Instruction:\\n{instruction}\\n\\n### Input:\\n{input}\\n\\n### Response:\\n\",\n",
        "#     \"prompt_no_input\": \"Below is an instruction that describes a task. Write a response that appropriately completes the request.\\n\\n### Instruction:\\n{instruction}\\n\\n### Response:\\n\",\n",
        "#     \"response_split\": \"### Response:\"    \n",
        "# }\n",
        "alpaca_prompt = \"\"\"Below is an instruction that describes a task, paired with an input that provides further context. Write a response that appropriately completes the request.\n",
        "\n",
        "### Instruction:\n",
        "{}\n",
        "\n",
        "### Input:\n",
        "{}\n",
        "\n",
        "### Response:\n",
        "{}\"\"\"\n",
        "EOS_TOKEN = tokenizer.eos_token\n",
        "def format_prompt(sample):\n",
        "    instructions=sample[\"instruction\"] # here system_prompt\n",
        "    inputs = sample[\"input\"]           # here user_prompt\n",
        "    responses = sample[\"output\"]        # here \"\" preset but will be in training dataset\n",
        "    texts = []\n",
        "    for instruction,input,response in zip(instructions,inputs,responses):\n",
        "        text = alpaca_prompt.format(instruction,input,response)+EOS_TOKEN\n",
        "        texts.append(text)\n",
        "    return {\"text\":texts,} # add data in 1 column for SFTTrainer\n",
        "    \n",
        "from datasets import load_dataset\n",
        "dataset = load_dataset(\"yahma/alpaca-cleaned\",split=\"train\")\n",
        "dataset = dataset.map(format_prompt,batched=True)\n",
        "\n",
        "\n",
        "def prepare_for_peft(model):\n",
        "    for param in model.parameters():\n",
        "        param.requires_grad = False  # freeze the model - train adapters later\n",
        "        if param.dim() == 1:\n",
        "            # cast the small parameters (e.g. layernorm) to fp32 for stability\n",
        "            param.data = param.data.to(torch.float32)\n",
        "\n",
        "    model.config.gradient_checkpointing = True  # enable gradient checkpointing\n",
        "    model.config.use_cache = False  # disable cache for memory efficiency\n",
        "    model.config.output_hidden_states = True  # set to True if you want hidden states\n",
        "    model.config.output_attentions = True  # set to True if you want attention weights\n",
        "\n",
        "    # No need to define a separate class, we can use nn.Sequential directly\n",
        "    model.lm_head = nn.Sequential(nn.Linear(model.config.hidden_size, model.config.vocab_size))\n",
        "    return model\n",
        "\n",
        "```"
      ],
      "metadata": {
        "id": "629jRFAf09zH"
      }
    },
    {
      "cell_type": "code",
      "source": [
        "\n",
        "system_prompt = \"You are an AI assistant knowledgeable in various fields.\"\n",
        "user_prompt = \"Tell me about continuous batching for faster inference in LLM\"\n",
        "output = \"\"\n",
        "\n",
        "alpaca_prompt = f\"\"\"Below is an instruction that describes a task, paired with an input that provides further context. Write a response that appropriately completes the request.\n",
        "\n",
        "### Instruction:\n",
        "{system_prompt}\n",
        "\n",
        "### Input:\n",
        "{user_prompt}\n",
        "\n",
        "### Response:\n",
        "{output}\"\"\"\n",
        "\n",
        "# print(alpaca_prompt)\n",
        "\n",
        "inputs = tokenizer(alpaca_prompt, return_tensors='pt',return_token_type_ids=False).to(\"cuda\")\n",
        "\n",
        "# Generate output\n",
        "with torch.no_grad():\n",
        "    outputs = model.generate(\n",
        "        **inputs,\n",
        "        do_sample=True,\n",
        "        temperature=0.7,\n",
        "        top_p=0.95,\n",
        "        top_k=40,\n",
        "        max_new_tokens=512\n",
        "    )\n",
        "\n",
        "# Decode and print the output\n",
        "output_text = tokenizer.decode(outputs[0], skip_special_tokens=True)\n",
        "print(\"Output:\", output_text)"
      ],
      "metadata": {
        "trusted": true,
        "id": "aWYZXAPx09zK"
      },
      "execution_count": null,
      "outputs": []
    },
    {
      "cell_type": "markdown",
      "source": [
        "### Inference with Chat Template & Text Streamer\n",
        "\n",
        "```python\n",
        "inputs = tokenizer(\n",
        "[\n",
        "   \"Who created Python?\"\n",
        "], return_tensors = \"pt\")\n",
        "\n",
        "inputs = tokenizer.apply_chat_template(\n",
        "    [\n",
        "        # {\"content\":\"\",\"role\":\"system\"},\n",
        "        {\"content\":\"\"\"Given the question: Read the article and select the best\n",
        "         answer. Article: Can you swim? Do you like swimming? Well, how can you\n",
        "         learn to swim? I think the best way is to go into the water and learn.\n",
        "        I'm afraid you'll never learn to swim just by reading books about\n",
        "        Swimming or looking at others swimming. It's the same with the English\n",
        "        study. We must practice, practice and practice. Listening and speaking\n",
        "        are very important for beginners. We can listen to English programs on radio.\n",
        "        You may just understand a few words. It doesn't matter. Just be relaxed,\n",
        "        try to catch every word. Somebody may be a good listener, but he is afraid\n",
        "        to speak because he's afraid of making mistakes. You know we sometimes\n",
        "        make mistakes when we speak Chinese. Don't be afraid. We must be brave.\n",
        "        If you really want to learn English well, you must try to speak with\n",
        "        everyone as long as he knows English. When there's nobody to talk with,\n",
        "        you can talk to yourself in English. It's interesting and also a good\n",
        "        way to practice your spoken English. Remember, the more you speak, the\n",
        "        fewer mistakes you'll make. Reading and writing are more important for\n",
        "        senior school students. First we must choose the books we're interested\n",
        "        in. A lot of reading will improve your language sense.\n",
        "        This is very important. It's easier said than done. Well, let's do\n",
        "        more practice from now on. I'm sure you'll learn English well in this\n",
        "        way. ,A, B, C, D,. (10)\n",
        "        Question: Which is the best title for the passage?\n",
        "        Options:\n",
        "            A: How to Learn English.\n",
        "            B: Easier Said Than Done.\n",
        "            C: Listen First, Speak Second.\n",
        "            D: How to learn to Swim.\\n\n",
        "        The answer is:\"\"\",\"role\":\"user\"}\n",
        "    ], add_generation_prompt=True, return_tensors='pt',\n",
        ")\n",
        "\n",
        "\n",
        "from transformers import TextStreamer\n",
        "text_streamer = TextStreamer(tokenizer)\n",
        "_ = target_model.generate(**inputs, streamer = text_streamer, max_new_tokens = 200)\n",
        "\n",
        "```"
      ],
      "metadata": {
        "id": "MNVAQjJo09zL"
      }
    },
    {
      "cell_type": "code",
      "source": [],
      "metadata": {
        "id": "JxZ4OwlE09zM"
      },
      "execution_count": null,
      "outputs": []
    },
    {
      "cell_type": "markdown",
      "source": [
        "## Load reference model\n",
        "\n",
        "```python\n",
        "\n",
        "def extract_model_weights(reference_model, n_layers):\n",
        "    params = {}\n",
        "    current_layer = 0  # To keep track of the main layer count\n",
        "\n",
        "    # Iterate over all named modules\n",
        "    for name, module in reference_model.named_modules():\n",
        "\n",
        "        # Check and store parameters\n",
        "        if hasattr(module, 'weight') and module.weight is not None:\n",
        "            params[name + '.weight'] = module.weight.data.clone()\n",
        "        if hasattr(module, 'bias') and module.bias is not None:\n",
        "            params[name + '.bias'] = module.bias.data.clone()\n",
        "\n",
        "        if 'model.layers.' in name:\n",
        "            # Check the layer index\n",
        "            layer_index = int(name.split('.')[2])  # This splits the name and gets the third element\n",
        "            if layer_index > current_layer:\n",
        "                current_layer = layer_index\n",
        "                if current_layer > n_layers-1:\n",
        "                    break  # Stop after reaching the specified main layer\n",
        "\n",
        "    norm_layer = model.model.norm  # Adjust this path based on your model's architecture\n",
        "    if hasattr(norm_layer, 'weight') and norm_layer.weight is not None:\n",
        "        params['model.norm.weight'] = norm_layer.weight.data.clone()\n",
        "    if hasattr(norm_layer, 'bias') and norm_layer.bias is not None:\n",
        "        params['model.norm.bias'] = norm_layer.bias.data.clone()\n",
        "\n",
        "    lm_head = reference_model.lm_head\n",
        "    if hasattr(lm_head, 'weight') and lm_head.weight is not None:\n",
        "        params[\"lm_head.weight\"] = lm_head.weight.data\n",
        "    if hasattr(lm_head, 'bias') and lm_head.bias is not None:\n",
        "        params[\"lm_head.bias\"] = lm_head.bias.data\n",
        "\n",
        "    return params\n",
        "\n",
        "\n",
        "\n",
        "config = AutoConfig.from_pretrained(model_name)\n",
        "config.num_hidden_layers = target_model_n_layers\n",
        "target_model = AutoModelForCausalLM.from_config(config)\n",
        "pretrained_weights = extract_model_weights(model, target_model_n_layers)\n",
        "target_model.load_state_dict(pretrained_weights)\n",
        "\n",
        "\n",
        "```"
      ],
      "metadata": {
        "id": "NVjUb0Sm09zN"
      }
    },
    {
      "cell_type": "markdown",
      "source": [
        "## Downcycling by getting the first X layers and last X layers\n",
        "\n",
        "```python\n",
        "\n",
        "weights_1 =  model.model.layers[:target_model_n_layers//2]\n",
        "weights_2 = model.model.layers[-target_model_n_layers//2:]\n",
        "\n",
        "# Assuming 'model' is your pre-existing large model\n",
        "# This part is conceptual, assuming the model is split into exactly 24 layers evenly.\n",
        "\n",
        "# Extract weights for the first 12 layers\n",
        "weights_1 = {f'model.layers.{k}': v.clone() for k, v in weights_1.state_dict().items() }\n",
        "\n",
        "# Extract weights for the last 12 layers\n",
        "weights_2 = {f'model.layers.{k}': v.clone() for k, v in weights_2.state_dict().items()}\n",
        "\n",
        "\n",
        "# Get remainder modules weights\n",
        "weights_1[\"model.embed_tokens.weight\"] = model.model.state_dict()['embed_tokens.weight']\n",
        "weights_2[\"model.norm.weight\"] = model.model.state_dict()['norm.weight']\n",
        "weights_2[\"lm_head.weight\"] = model.state_dict()['lm_head.weight']\n",
        "\n",
        "import re\n",
        "def update_layer_numbers(state_dict, x_size):\n",
        "    new_state_dict = {}\n",
        "    # Regular expression to find and manipulate the layer numbers\n",
        "    pattern = re.compile(r'model.layers.(\\d+)')\n",
        "\n",
        "    for key, value in state_dict.items():\n",
        "        # Search for the pattern and update\n",
        "        new_key = pattern.sub(lambda x: f\"model.layers.{int(x.group(1)) + x_size}\", key)\n",
        "        new_state_dict[new_key] = value\n",
        "\n",
        "    return new_state_dict\n",
        "\n",
        "\n",
        "weights_2 = update_layer_numbers(weights_2, target_model_n_layers//2)\n",
        "\n",
        "target_model.load_state_dict({**weights_1, **weights_2})\n",
        "\n",
        "\n",
        "```"
      ],
      "metadata": {
        "id": "g7AZq5Zv09zP"
      }
    },
    {
      "cell_type": "code",
      "source": [],
      "metadata": {
        "id": "FYwtD0uX09zQ"
      },
      "execution_count": null,
      "outputs": []
    },
    {
      "cell_type": "markdown",
      "source": [
        "# Training from scratch - only using pre-trained weights"
      ],
      "metadata": {
        "id": "PidXM1sA09zR"
      }
    },
    {
      "cell_type": "code",
      "source": [
        "!huggingface-cli download meta-llama/Meta-Llama-3-8B --include \"original/*\" --local-dir Meta-Llama-3-8B"
      ],
      "metadata": {
        "execution": {
          "iopub.status.busy": "2024-08-31T04:19:38.558876Z",
          "iopub.execute_input": "2024-08-31T04:19:38.559258Z",
          "iopub.status.idle": "2024-08-31T04:21:03.867288Z",
          "shell.execute_reply.started": "2024-08-31T04:19:38.559227Z",
          "shell.execute_reply": "2024-08-31T04:21:03.866299Z"
        },
        "trusted": true,
        "id": "f8uBB0w009zR",
        "outputId": "dd3f8cf0-934f-403b-ce6e-a40975f63631"
      },
      "execution_count": null,
      "outputs": [
        {
          "name": "stdout",
          "text": "Fetching 3 files:   0%|                                   | 0/3 [00:00<?, ?it/s]Downloading 'original/params.json' to 'Meta-Llama-3-8B/.huggingface/download/original/params.json.65f16bb074ab2ba456331a8ea3d50c3fdbf343bf.incomplete'\nDownloading 'original/consolidated.00.pth' to 'Meta-Llama-3-8B/.huggingface/download/original/consolidated.00.pth.66c4ca005b0ad6215f23591aefff712c08e87235457063ad387865ff6cc18f79.incomplete'\nDownloading 'original/tokenizer.model' to 'Meta-Llama-3-8B/.huggingface/download/original/tokenizer.model.82e9d31979e92ab929cd544440f129d9ecd797b69e327f80f17e1c50d5551b55.incomplete'\n\noriginal/params.json: 100%|████████████████████| 211/211 [00:00<00:00, 1.86MB/s]\u001b[A\nDownload complete. Moving file to Meta-Llama-3-8B/original/params.json\n\nconsolidated.00.pth:   0%|                          | 0.00/16.1G [00:00<?, ?B/s]\u001b[A\n\ntokenizer.model:   0%|                              | 0.00/2.18M [00:00<?, ?B/s]\u001b[A\u001b[A\ntokenizer.model: 100%|█████████████████████| 2.18M/2.18M [00:00<00:00, 29.1MB/s]\u001b[A\nDownload complete. Moving file to Meta-Llama-3-8B/original/tokenizer.model\n\nconsolidated.00.pth:   0%|                  | 31.5M/16.1G [00:00<02:13, 120MB/s]\u001b[A\nconsolidated.00.pth:   0%|                  | 62.9M/16.1G [00:00<01:33, 171MB/s]\u001b[A\nconsolidated.00.pth:   1%|                  | 94.4M/16.1G [00:00<01:16, 207MB/s]\u001b[A\nconsolidated.00.pth:   1%|▏                  | 126M/16.1G [00:00<01:09, 230MB/s]\u001b[A\nconsolidated.00.pth:   1%|▏                  | 157M/16.1G [00:00<01:04, 245MB/s]\u001b[A\nconsolidated.00.pth:   1%|▏                  | 189M/16.1G [00:00<01:03, 250MB/s]\u001b[A\nconsolidated.00.pth:   1%|▎                  | 220M/16.1G [00:00<01:02, 255MB/s]\u001b[A\nconsolidated.00.pth:   2%|▎                  | 252M/16.1G [00:01<01:01, 258MB/s]\u001b[A\nconsolidated.00.pth:   2%|▎                  | 283M/16.1G [00:01<01:00, 260MB/s]\u001b[A\nconsolidated.00.pth:   2%|▎                  | 315M/16.1G [00:01<00:59, 263MB/s]\u001b[A\nconsolidated.00.pth:   2%|▍                  | 346M/16.1G [00:01<00:58, 268MB/s]\u001b[A\nconsolidated.00.pth:   2%|▍                  | 377M/16.1G [00:01<00:57, 273MB/s]\u001b[A\nconsolidated.00.pth:   3%|▍                  | 409M/16.1G [00:01<00:56, 277MB/s]\u001b[A\nconsolidated.00.pth:   3%|▌                  | 440M/16.1G [00:01<00:55, 279MB/s]\u001b[A\nconsolidated.00.pth:   3%|▌                  | 472M/16.1G [00:01<00:55, 279MB/s]\u001b[A\nconsolidated.00.pth:   3%|▌                  | 503M/16.1G [00:02<00:55, 280MB/s]\u001b[A\nconsolidated.00.pth:   3%|▋                  | 535M/16.1G [00:02<00:56, 277MB/s]\u001b[A\nconsolidated.00.pth:   4%|▋                  | 566M/16.1G [00:02<00:56, 273MB/s]\u001b[A\nconsolidated.00.pth:   4%|▋                  | 598M/16.1G [00:02<00:57, 270MB/s]\u001b[A\nconsolidated.00.pth:   4%|▋                  | 629M/16.1G [00:02<00:57, 270MB/s]\u001b[A\nconsolidated.00.pth:   4%|▊                  | 661M/16.1G [00:02<00:56, 272MB/s]\u001b[A\nconsolidated.00.pth:   4%|▊                  | 692M/16.1G [00:02<00:56, 271MB/s]\u001b[A\nconsolidated.00.pth:   5%|▊                  | 724M/16.1G [00:02<00:56, 271MB/s]\u001b[A\nconsolidated.00.pth:   5%|▉                  | 755M/16.1G [00:02<00:56, 272MB/s]\u001b[A\nconsolidated.00.pth:   5%|▉                  | 786M/16.1G [00:03<00:55, 273MB/s]\u001b[A\nconsolidated.00.pth:   5%|▉                  | 818M/16.1G [00:03<00:55, 272MB/s]\u001b[A\nconsolidated.00.pth:   5%|█                  | 849M/16.1G [00:03<00:55, 272MB/s]\u001b[A\nconsolidated.00.pth:   5%|█                  | 881M/16.1G [00:03<00:55, 273MB/s]\u001b[A\nconsolidated.00.pth:   6%|█                  | 912M/16.1G [00:03<00:55, 273MB/s]\u001b[A\nconsolidated.00.pth:   6%|█                  | 944M/16.1G [00:03<00:55, 274MB/s]\u001b[A\nconsolidated.00.pth:   6%|█▏                 | 975M/16.1G [00:03<00:55, 272MB/s]\u001b[A\nconsolidated.00.pth:   6%|█▏                | 1.01G/16.1G [00:03<00:55, 272MB/s]\u001b[A\nconsolidated.00.pth:   6%|█▏                | 1.04G/16.1G [00:03<00:55, 273MB/s]\u001b[A\nconsolidated.00.pth:   7%|█▏                | 1.07G/16.1G [00:04<00:55, 272MB/s]\u001b[A\nconsolidated.00.pth:   7%|█▏                | 1.10G/16.1G [00:04<00:54, 275MB/s]\u001b[A\nconsolidated.00.pth:   7%|█▎                | 1.13G/16.1G [00:04<00:53, 279MB/s]\u001b[A\nconsolidated.00.pth:   7%|█▎                | 1.16G/16.1G [00:04<00:53, 281MB/s]\u001b[A\nconsolidated.00.pth:   7%|█▎                | 1.20G/16.1G [00:04<00:52, 280MB/s]\u001b[A\nconsolidated.00.pth:   8%|█▎                | 1.23G/16.1G [00:04<00:53, 278MB/s]\u001b[A\nconsolidated.00.pth:   8%|█▍                | 1.26G/16.1G [00:04<00:53, 275MB/s]\u001b[A\nconsolidated.00.pth:   8%|█▍                | 1.29G/16.1G [00:04<00:53, 274MB/s]\u001b[A\nconsolidated.00.pth:   8%|█▍                | 1.32G/16.1G [00:05<00:54, 272MB/s]\u001b[A\nconsolidated.00.pth:   8%|█▌                | 1.35G/16.1G [00:05<00:53, 273MB/s]\u001b[A\nconsolidated.00.pth:   9%|█▌                | 1.38G/16.1G [00:05<00:54, 272MB/s]\u001b[A\nconsolidated.00.pth:   9%|█▌                | 1.42G/16.1G [00:05<00:53, 272MB/s]\u001b[A\nconsolidated.00.pth:   9%|█▌                | 1.45G/16.1G [00:05<00:53, 274MB/s]\u001b[A\nconsolidated.00.pth:   9%|█▋                | 1.48G/16.1G [00:05<00:52, 276MB/s]\u001b[A\nconsolidated.00.pth:   9%|█▋                | 1.51G/16.1G [00:05<00:52, 275MB/s]\u001b[A\nconsolidated.00.pth:  10%|█▋                | 1.54G/16.1G [00:05<00:52, 274MB/s]\u001b[A\nconsolidated.00.pth:  10%|█▊                | 1.57G/16.1G [00:05<00:52, 274MB/s]\u001b[A\nconsolidated.00.pth:  10%|█▊                | 1.60G/16.1G [00:06<00:52, 275MB/s]\u001b[A\nconsolidated.00.pth:  10%|█▊                | 1.64G/16.1G [00:06<00:52, 273MB/s]\u001b[A\nconsolidated.00.pth:  10%|█▊                | 1.67G/16.1G [00:06<00:52, 274MB/s]\u001b[A\nconsolidated.00.pth:  11%|█▉                | 1.70G/16.1G [00:06<00:52, 274MB/s]\u001b[A\nconsolidated.00.pth:  11%|█▉                | 1.73G/16.1G [00:06<00:51, 276MB/s]\u001b[A\nconsolidated.00.pth:  11%|█▉                | 1.76G/16.1G [00:06<00:51, 276MB/s]\u001b[A\nconsolidated.00.pth:  11%|██                | 1.79G/16.1G [00:06<00:51, 275MB/s]\u001b[A\nconsolidated.00.pth:  11%|██                | 1.82G/16.1G [00:06<00:52, 273MB/s]\u001b[A\nconsolidated.00.pth:  12%|██                | 1.86G/16.1G [00:06<00:52, 272MB/s]\u001b[A\nconsolidated.00.pth:  12%|██                | 1.89G/16.1G [00:07<00:51, 274MB/s]\u001b[A\nconsolidated.00.pth:  12%|██▏               | 1.92G/16.1G [00:07<00:51, 274MB/s]\u001b[A\nconsolidated.00.pth:  12%|██▏               | 1.95G/16.1G [00:07<00:51, 275MB/s]\u001b[A\nconsolidated.00.pth:  12%|██▏               | 1.98G/16.1G [00:07<00:51, 275MB/s]\u001b[A\nconsolidated.00.pth:  13%|██▎               | 2.01G/16.1G [00:07<00:51, 273MB/s]\u001b[A\nconsolidated.00.pth:  13%|██▎               | 2.04G/16.1G [00:07<00:51, 274MB/s]\u001b[A\nconsolidated.00.pth:  13%|██▎               | 2.08G/16.1G [00:07<00:51, 271MB/s]\u001b[A\nconsolidated.00.pth:  13%|██▎               | 2.11G/16.1G [00:07<00:51, 270MB/s]\u001b[A\nconsolidated.00.pth:  13%|██▍               | 2.14G/16.1G [00:08<00:51, 269MB/s]\u001b[A\nconsolidated.00.pth:  14%|██▍               | 2.17G/16.1G [00:08<00:51, 271MB/s]\u001b[A\nconsolidated.00.pth:  14%|██▍               | 2.20G/16.1G [00:08<00:50, 273MB/s]\u001b[A\nconsolidated.00.pth:  14%|██▌               | 2.23G/16.1G [00:08<00:51, 271MB/s]\u001b[A\nconsolidated.00.pth:  14%|██▌               | 2.26G/16.1G [00:08<00:50, 271MB/s]\u001b[A\nconsolidated.00.pth:  14%|██▌               | 2.30G/16.1G [00:08<00:50, 271MB/s]\u001b[A\nconsolidated.00.pth:  14%|██▌               | 2.33G/16.1G [00:08<00:50, 272MB/s]\u001b[A\nconsolidated.00.pth:  15%|██▋               | 2.36G/16.1G [00:08<00:49, 275MB/s]\u001b[A\nconsolidated.00.pth:  15%|██▋               | 2.39G/16.1G [00:08<00:49, 278MB/s]\u001b[A\nconsolidated.00.pth:  15%|██▋               | 2.42G/16.1G [00:09<00:49, 277MB/s]\u001b[A\nconsolidated.00.pth:  15%|██▋               | 2.45G/16.1G [00:09<00:49, 275MB/s]\u001b[A\nconsolidated.00.pth:  15%|██▊               | 2.49G/16.1G [00:09<00:49, 273MB/s]\u001b[A\nconsolidated.00.pth:  16%|██▊               | 2.52G/16.1G [00:09<00:49, 273MB/s]\u001b[A\nconsolidated.00.pth:  16%|██▊               | 2.55G/16.1G [00:09<00:49, 274MB/s]\u001b[A\nconsolidated.00.pth:  16%|██▉               | 2.58G/16.1G [00:09<00:49, 275MB/s]\u001b[A\nconsolidated.00.pth:  16%|██▉               | 2.61G/16.1G [00:09<00:49, 273MB/s]\u001b[A\nconsolidated.00.pth:  16%|██▉               | 2.64G/16.1G [00:09<00:49, 272MB/s]\u001b[A\nconsolidated.00.pth:  17%|██▉               | 2.67G/16.1G [00:09<00:49, 271MB/s]\u001b[A\nconsolidated.00.pth:  17%|███               | 2.71G/16.1G [00:10<00:49, 270MB/s]\u001b[A\nconsolidated.00.pth:  17%|███               | 2.74G/16.1G [00:10<00:49, 268MB/s]\u001b[A\nconsolidated.00.pth:  17%|███               | 2.77G/16.1G [00:10<00:49, 270MB/s]\u001b[A\nconsolidated.00.pth:  17%|███▏              | 2.80G/16.1G [00:10<00:54, 242MB/s]\u001b[A\nconsolidated.00.pth:  18%|███▏              | 2.83G/16.1G [00:10<00:59, 223MB/s]\u001b[A\nconsolidated.00.pth:  18%|███▏              | 2.86G/16.1G [00:10<00:56, 234MB/s]\u001b[A\nconsolidated.00.pth:  18%|███▏              | 2.89G/16.1G [00:10<00:56, 234MB/s]\u001b[A\nconsolidated.00.pth:  18%|███▎              | 2.93G/16.1G [00:11<00:54, 240MB/s]\u001b[A\nconsolidated.00.pth:  18%|███▎              | 2.96G/16.1G [00:11<00:53, 244MB/s]\u001b[A\nconsolidated.00.pth:  19%|███▎              | 2.99G/16.1G [00:11<00:52, 250MB/s]\u001b[A\nconsolidated.00.pth:  19%|███▍              | 3.02G/16.1G [00:11<01:55, 113MB/s]\u001b[A\nconsolidated.00.pth:  19%|███▏             | 3.04G/16.1G [00:12<02:48, 77.4MB/s]\u001b[A\nconsolidated.00.pth:  19%|███▏             | 3.06G/16.1G [00:12<02:41, 80.4MB/s]\u001b[A\nconsolidated.00.pth:  19%|███▎             | 3.08G/16.1G [00:12<02:29, 86.9MB/s]\u001b[A\nconsolidated.00.pth:  19%|███▎             | 3.10G/16.1G [00:13<02:19, 93.1MB/s]\u001b[A\nconsolidated.00.pth:  20%|███▌              | 3.14G/16.1G [00:13<01:44, 123MB/s]\u001b[A\nconsolidated.00.pth:  20%|███▌              | 3.17G/16.1G [00:13<01:24, 153MB/s]\u001b[A\nconsolidated.00.pth:  20%|███▌              | 3.20G/16.1G [00:13<01:11, 181MB/s]\u001b[A\nconsolidated.00.pth:  20%|███▌              | 3.23G/16.1G [00:13<01:02, 204MB/s]\u001b[A\nconsolidated.00.pth:  20%|███▋              | 3.26G/16.1G [00:14<01:46, 120MB/s]\u001b[A\nconsolidated.00.pth:  20%|███▍             | 3.28G/16.1G [00:14<02:36, 81.7MB/s]\u001b[A\nconsolidated.00.pth:  21%|███▍             | 3.30G/16.1G [00:14<03:06, 68.3MB/s]\u001b[A\nconsolidated.00.pth:  21%|███▌             | 3.32G/16.1G [00:15<03:25, 61.9MB/s]\u001b[A\nconsolidated.00.pth:  21%|███▌             | 3.33G/16.1G [00:15<03:38, 58.3MB/s]\u001b[A\nconsolidated.00.pth:  21%|███▌             | 3.34G/16.1G [00:15<03:53, 54.5MB/s]\u001b[A\nconsolidated.00.pth:  21%|███▌             | 3.36G/16.1G [00:16<03:50, 55.1MB/s]\u001b[A\nconsolidated.00.pth:  21%|███▌             | 3.37G/16.1G [00:16<04:29, 47.0MB/s]\u001b[A\nconsolidated.00.pth:  21%|███▌             | 3.38G/16.1G [00:16<04:38, 45.5MB/s]\u001b[A\nconsolidated.00.pth:  21%|███▌             | 3.39G/16.1G [00:16<04:38, 45.6MB/s]\u001b[A\nconsolidated.00.pth:  21%|███▌             | 3.40G/16.1G [00:17<05:06, 41.3MB/s]\u001b[A\nconsolidated.00.pth:  21%|███▌             | 3.41G/16.1G [00:17<05:03, 41.7MB/s]\u001b[A\nconsolidated.00.pth:  21%|███▌             | 3.42G/16.1G [00:17<04:54, 43.0MB/s]\u001b[A\nconsolidated.00.pth:  21%|███▋             | 3.43G/16.1G [00:17<04:55, 42.7MB/s]\u001b[A\nconsolidated.00.pth:  21%|███▋             | 3.44G/16.1G [00:18<04:49, 43.6MB/s]\u001b[A\nconsolidated.00.pth:  21%|███▋             | 3.45G/16.1G [00:18<04:51, 43.3MB/s]\u001b[A\nconsolidated.00.pth:  22%|███▋             | 3.46G/16.1G [00:18<04:46, 44.0MB/s]\u001b[A\nconsolidated.00.pth:  22%|███▋             | 3.47G/16.1G [00:18<05:17, 39.6MB/s]\u001b[A\nconsolidated.00.pth:  22%|███▋             | 3.50G/16.1G [00:19<02:45, 75.9MB/s]\u001b[A\nconsolidated.00.pth:  22%|███▉              | 3.53G/16.1G [00:19<01:51, 113MB/s]\u001b[A\nconsolidated.00.pth:  22%|███▉              | 3.57G/16.1G [00:19<01:24, 147MB/s]\u001b[A\nconsolidated.00.pth:  22%|████              | 3.60G/16.1G [00:19<01:10, 178MB/s]\u001b[A\nconsolidated.00.pth:  23%|████              | 3.63G/16.1G [00:19<01:01, 202MB/s]\u001b[A\nconsolidated.00.pth:  23%|████              | 3.66G/16.1G [00:19<00:55, 222MB/s]\u001b[A\nconsolidated.00.pth:  23%|████▏             | 3.69G/16.1G [00:19<00:52, 234MB/s]\u001b[A\nconsolidated.00.pth:  23%|████▏             | 3.72G/16.1G [00:19<00:50, 245MB/s]\u001b[A\nconsolidated.00.pth:  23%|████▏             | 3.75G/16.1G [00:20<00:48, 251MB/s]\u001b[A\nconsolidated.00.pth:  24%|████▏             | 3.79G/16.1G [00:20<00:47, 256MB/s]\u001b[A\nconsolidated.00.pth:  24%|████▎             | 3.82G/16.1G [00:20<00:47, 259MB/s]\u001b[A\nconsolidated.00.pth:  24%|████▎             | 3.85G/16.1G [00:20<00:46, 262MB/s]\u001b[A\nconsolidated.00.pth:  24%|████▎             | 3.88G/16.1G [00:20<00:45, 267MB/s]\u001b[A\nconsolidated.00.pth:  24%|████▍             | 3.91G/16.1G [00:20<00:44, 272MB/s]\u001b[A\nconsolidated.00.pth:  25%|████▍             | 3.94G/16.1G [00:20<00:43, 276MB/s]\u001b[A\nconsolidated.00.pth:  25%|████▍             | 3.97G/16.1G [00:20<00:43, 279MB/s]\u001b[A\nconsolidated.00.pth:  25%|████▍             | 4.01G/16.1G [00:20<00:43, 280MB/s]\u001b[A\nconsolidated.00.pth:  25%|████▌             | 4.04G/16.1G [00:21<00:43, 278MB/s]\u001b[A\nconsolidated.00.pth:  25%|████▌             | 4.07G/16.1G [00:21<00:43, 275MB/s]\u001b[A\nconsolidated.00.pth:  26%|████▌             | 4.10G/16.1G [00:21<00:43, 274MB/s]\u001b[A\nconsolidated.00.pth:  26%|████▋             | 4.13G/16.1G [00:21<00:43, 273MB/s]\u001b[A\nconsolidated.00.pth:  26%|████▋             | 4.16G/16.1G [00:21<00:43, 271MB/s]\u001b[A\nconsolidated.00.pth:  26%|████▋             | 4.19G/16.1G [00:21<00:43, 272MB/s]\u001b[A\nconsolidated.00.pth:  26%|████▋             | 4.23G/16.1G [00:21<00:43, 271MB/s]\u001b[A\nconsolidated.00.pth:  27%|████▊             | 4.26G/16.1G [00:21<00:43, 270MB/s]\u001b[A\nconsolidated.00.pth:  27%|████▊             | 4.29G/16.1G [00:21<00:43, 270MB/s]\u001b[A\nconsolidated.00.pth:  27%|████▊             | 4.32G/16.1G [00:22<00:43, 270MB/s]\u001b[A\nconsolidated.00.pth:  27%|████▉             | 4.35G/16.1G [00:22<00:43, 270MB/s]\u001b[A\nconsolidated.00.pth:  27%|████▉             | 4.38G/16.1G [00:22<00:43, 270MB/s]\u001b[A\nconsolidated.00.pth:  27%|████▉             | 4.41G/16.1G [00:22<00:43, 270MB/s]\u001b[A\nconsolidated.00.pth:  28%|████▉             | 4.45G/16.1G [00:22<00:43, 270MB/s]\u001b[A\nconsolidated.00.pth:  28%|█████             | 4.48G/16.1G [00:22<00:42, 270MB/s]\u001b[A\nconsolidated.00.pth:  28%|█████             | 4.51G/16.1G [00:22<00:42, 271MB/s]\u001b[A\nconsolidated.00.pth:  28%|█████             | 4.54G/16.1G [00:23<01:05, 175MB/s]\u001b[A\nconsolidated.00.pth:  28%|█████             | 4.57G/16.1G [00:23<00:59, 195MB/s]\u001b[A\nconsolidated.00.pth:  29%|█████▏            | 4.60G/16.1G [00:23<00:53, 213MB/s]\u001b[A\nconsolidated.00.pth:  29%|█████▏            | 4.63G/16.1G [00:23<00:50, 227MB/s]\u001b[A\nconsolidated.00.pth:  29%|█████▏            | 4.67G/16.1G [00:23<00:47, 239MB/s]\u001b[A\nconsolidated.00.pth:  29%|█████▎            | 4.70G/16.1G [00:23<00:45, 248MB/s]\u001b[A\nconsolidated.00.pth:  29%|█████▎            | 4.73G/16.1G [00:23<00:44, 254MB/s]\u001b[A\nconsolidated.00.pth:  30%|█████▎            | 4.76G/16.1G [00:23<00:43, 259MB/s]\u001b[A\nconsolidated.00.pth:  30%|█████▎            | 4.79G/16.1G [00:24<00:43, 262MB/s]\u001b[A\nconsolidated.00.pth:  30%|█████▍            | 4.82G/16.1G [00:24<00:41, 268MB/s]\u001b[A\nconsolidated.00.pth:  30%|█████▍            | 4.85G/16.1G [00:24<00:41, 273MB/s]\u001b[A\nconsolidated.00.pth:  30%|█████▍            | 4.89G/16.1G [00:24<00:40, 275MB/s]\u001b[A\nconsolidated.00.pth:  31%|█████▌            | 4.92G/16.1G [00:24<00:40, 277MB/s]\u001b[A\nconsolidated.00.pth:  31%|█████▌            | 4.95G/16.1G [00:24<00:40, 276MB/s]\u001b[A\nconsolidated.00.pth:  31%|█████▌            | 4.98G/16.1G [00:24<00:40, 273MB/s]\u001b[A\nconsolidated.00.pth:  31%|█████▌            | 5.01G/16.1G [00:24<00:44, 251MB/s]\u001b[A\nconsolidated.00.pth:  31%|█████▋            | 5.04G/16.1G [00:24<00:42, 257MB/s]\u001b[A\nconsolidated.00.pth:  32%|█████▋            | 5.08G/16.1G [00:25<00:42, 260MB/s]\u001b[A\nconsolidated.00.pth:  32%|█████▋            | 5.11G/16.1G [00:25<00:41, 262MB/s]\u001b[A\nconsolidated.00.pth:  32%|█████▊            | 5.14G/16.1G [00:25<00:40, 268MB/s]\u001b[A\nconsolidated.00.pth:  32%|█████▊            | 5.17G/16.1G [00:25<00:40, 272MB/s]\u001b[A\nconsolidated.00.pth:  32%|█████▊            | 5.20G/16.1G [00:25<00:39, 273MB/s]\u001b[A\nconsolidated.00.pth:  33%|█████▊            | 5.23G/16.1G [00:25<00:39, 272MB/s]\u001b[A\nconsolidated.00.pth:  33%|█████▉            | 5.26G/16.1G [00:25<00:39, 270MB/s]\u001b[A\nconsolidated.00.pth:  33%|█████▉            | 5.30G/16.1G [00:25<00:39, 270MB/s]\u001b[A\nconsolidated.00.pth:  33%|█████▉            | 5.33G/16.1G [00:26<00:39, 270MB/s]\u001b[A\nconsolidated.00.pth:  33%|██████            | 5.36G/16.1G [00:26<00:39, 269MB/s]\u001b[A\nconsolidated.00.pth:  34%|██████            | 5.39G/16.1G [00:26<00:39, 268MB/s]\u001b[A\nconsolidated.00.pth:  34%|██████            | 5.42G/16.1G [00:26<00:39, 270MB/s]\u001b[A\nconsolidated.00.pth:  34%|██████            | 5.45G/16.1G [00:26<00:39, 270MB/s]\u001b[A\nconsolidated.00.pth:  34%|██████▏           | 5.48G/16.1G [00:26<00:39, 270MB/s]\u001b[A\nconsolidated.00.pth:  34%|██████▏           | 5.52G/16.1G [00:26<00:39, 270MB/s]\u001b[A\nconsolidated.00.pth:  35%|██████▏           | 5.55G/16.1G [00:26<00:38, 270MB/s]\u001b[A\nconsolidated.00.pth:  35%|██████▎           | 5.58G/16.1G [00:26<00:38, 270MB/s]\u001b[A\nconsolidated.00.pth:  35%|██████▎           | 5.61G/16.1G [00:27<00:38, 270MB/s]\u001b[A\nconsolidated.00.pth:  35%|██████▎           | 5.64G/16.1G [00:27<00:38, 272MB/s]\u001b[A\nconsolidated.00.pth:  35%|██████▎           | 5.67G/16.1G [00:27<00:37, 273MB/s]\u001b[A\nconsolidated.00.pth:  36%|██████▍           | 5.70G/16.1G [00:27<00:37, 276MB/s]\u001b[A\nconsolidated.00.pth:  36%|██████▍           | 5.74G/16.1G [00:27<00:37, 279MB/s]\u001b[A\nconsolidated.00.pth:  36%|██████▍           | 5.77G/16.1G [00:27<00:36, 280MB/s]\u001b[A\nconsolidated.00.pth:  36%|██████▍           | 5.80G/16.1G [00:27<00:36, 280MB/s]\u001b[A\nconsolidated.00.pth:  36%|██████▌           | 5.83G/16.1G [00:27<00:36, 279MB/s]\u001b[A\nconsolidated.00.pth:  36%|██████▌           | 5.86G/16.1G [00:27<00:38, 264MB/s]\u001b[A\nconsolidated.00.pth:  37%|██████▌           | 5.89G/16.1G [00:28<00:38, 267MB/s]\u001b[A\nconsolidated.00.pth:  37%|██████▋           | 5.92G/16.1G [00:28<00:37, 270MB/s]\u001b[A\nconsolidated.00.pth:  37%|██████▋           | 5.96G/16.1G [00:28<00:37, 273MB/s]\u001b[A\nconsolidated.00.pth:  37%|██████▋           | 5.99G/16.1G [00:28<00:36, 275MB/s]\u001b[A\nconsolidated.00.pth:  37%|██████▋           | 6.02G/16.1G [00:28<00:36, 272MB/s]\u001b[A\nconsolidated.00.pth:  38%|██████▊           | 6.05G/16.1G [00:28<00:36, 271MB/s]\u001b[A\nconsolidated.00.pth:  38%|██████▊           | 6.08G/16.1G [00:28<00:36, 275MB/s]\u001b[A\nconsolidated.00.pth:  38%|██████▊           | 6.11G/16.1G [00:28<00:35, 278MB/s]\u001b[A\nconsolidated.00.pth:  38%|██████▉           | 6.14G/16.1G [00:29<00:35, 279MB/s]\u001b[A\nconsolidated.00.pth:  38%|██████▉           | 6.18G/16.1G [00:29<00:37, 261MB/s]\u001b[A\nconsolidated.00.pth:  39%|██████▉           | 6.21G/16.1G [00:29<01:11, 137MB/s]\u001b[A\nconsolidated.00.pth:  39%|██████▉           | 6.24G/16.1G [00:29<01:06, 148MB/s]\u001b[A\nconsolidated.00.pth:  39%|███████           | 6.27G/16.1G [00:29<00:57, 171MB/s]\u001b[A\nconsolidated.00.pth:  39%|███████           | 6.30G/16.1G [00:30<01:02, 156MB/s]\u001b[A\nconsolidated.00.pth:  39%|███████           | 6.32G/16.1G [00:30<01:07, 145MB/s]\u001b[A\nconsolidated.00.pth:  40%|███████           | 6.35G/16.1G [00:30<00:56, 171MB/s]\u001b[A\nconsolidated.00.pth:  40%|███████▏          | 6.38G/16.1G [00:30<01:04, 149MB/s]\u001b[A\nconsolidated.00.pth:  40%|███████▏          | 6.41G/16.1G [00:30<01:02, 155MB/s]\u001b[A\nconsolidated.00.pth:  40%|███████▏          | 6.44G/16.1G [00:31<01:02, 154MB/s]\u001b[A\nconsolidated.00.pth:  40%|███████▎          | 6.47G/16.1G [00:31<00:53, 178MB/s]\u001b[A\nconsolidated.00.pth:  40%|███████▎          | 6.49G/16.1G [00:31<00:54, 174MB/s]\u001b[A\nconsolidated.00.pth:  41%|███████▎          | 6.52G/16.1G [00:31<00:48, 198MB/s]\u001b[A\nconsolidated.00.pth:  41%|███████▎          | 6.55G/16.1G [00:31<00:51, 186MB/s]\u001b[A\nconsolidated.00.pth:  41%|███████▎          | 6.57G/16.1G [00:31<00:54, 176MB/s]\u001b[A\nconsolidated.00.pth:  41%|███████▍          | 6.61G/16.1G [00:31<00:47, 199MB/s]\u001b[A\nconsolidated.00.pth:  41%|███████▍          | 6.63G/16.1G [00:32<00:55, 169MB/s]\u001b[A\nconsolidated.00.pth:  41%|███████▍          | 6.66G/16.1G [00:32<01:19, 119MB/s]\u001b[A\nconsolidated.00.pth:  42%|███████          | 6.68G/16.1G [00:32<01:50, 84.7MB/s]\u001b[A\nconsolidated.00.pth:  42%|███████▌          | 6.71G/16.1G [00:33<01:24, 111MB/s]\u001b[A\nconsolidated.00.pth:  42%|███████▌          | 6.73G/16.1G [00:33<01:25, 110MB/s]\u001b[A\nconsolidated.00.pth:  42%|███████▌          | 6.76G/16.1G [00:33<01:07, 138MB/s]\u001b[A\nconsolidated.00.pth:  42%|███████▌          | 6.78G/16.1G [00:33<01:19, 117MB/s]\u001b[A\nconsolidated.00.pth:  42%|███████▋          | 6.81G/16.1G [00:33<01:15, 123MB/s]\u001b[A\nconsolidated.00.pth:  43%|███████▋          | 6.83G/16.1G [00:33<01:15, 122MB/s]\u001b[A\nconsolidated.00.pth:  43%|███████▋          | 6.86G/16.1G [00:34<00:59, 154MB/s]\u001b[A\nconsolidated.00.pth:  43%|███████▋          | 6.89G/16.1G [00:34<00:50, 182MB/s]\u001b[A\nconsolidated.00.pth:  43%|███████▊          | 6.92G/16.1G [00:34<00:44, 206MB/s]\u001b[A\nconsolidated.00.pth:  43%|███████▊          | 6.95G/16.1G [00:34<00:40, 223MB/s]\u001b[A\nconsolidated.00.pth:  43%|███████▊          | 6.98G/16.1G [00:34<00:38, 236MB/s]\u001b[A\nconsolidated.00.pth:  44%|███████▊          | 7.01G/16.1G [00:34<00:36, 246MB/s]\u001b[A\nconsolidated.00.pth:  44%|███████▉          | 7.05G/16.1G [00:34<00:46, 192MB/s]\u001b[A\nconsolidated.00.pth:  44%|███████▉          | 7.08G/16.1G [00:35<01:18, 114MB/s]\u001b[A\nconsolidated.00.pth:  44%|███████▉          | 7.10G/16.1G [00:35<01:17, 115MB/s]\u001b[A\nconsolidated.00.pth:  44%|███████▉          | 7.12G/16.1G [00:35<01:27, 102MB/s]\u001b[A\nconsolidated.00.pth:  44%|████████          | 7.14G/16.1G [00:36<01:28, 101MB/s]\u001b[A\nconsolidated.00.pth:  45%|████████          | 7.16G/16.1G [00:36<01:24, 105MB/s]\u001b[A\nconsolidated.00.pth:  45%|████████          | 7.19G/16.1G [00:36<01:05, 136MB/s]\u001b[A\nconsolidated.00.pth:  45%|████████          | 7.22G/16.1G [00:36<00:53, 165MB/s]\u001b[A\nconsolidated.00.pth:  45%|████████          | 7.25G/16.1G [00:36<00:52, 166MB/s]\u001b[A\nconsolidated.00.pth:  45%|████████▏         | 7.27G/16.1G [00:36<01:10, 124MB/s]\u001b[A\nconsolidated.00.pth:  45%|████████▏         | 7.29G/16.1G [00:37<01:06, 133MB/s]\u001b[A\nconsolidated.00.pth:  46%|████████▏         | 7.32G/16.1G [00:37<01:04, 135MB/s]\u001b[A\nconsolidated.00.pth:  46%|████████▏         | 7.34G/16.1G [00:37<01:10, 123MB/s]\u001b[A\nconsolidated.00.pth:  46%|███████▊         | 7.36G/16.1G [00:37<01:41, 85.9MB/s]\u001b[A\nconsolidated.00.pth:  46%|███████▊         | 7.38G/16.1G [00:38<01:46, 81.2MB/s]\u001b[A\nconsolidated.00.pth:  46%|███████▊         | 7.40G/16.1G [00:38<01:45, 82.2MB/s]\u001b[A\nconsolidated.00.pth:  46%|███████▊         | 7.41G/16.1G [00:38<01:54, 75.6MB/s]\u001b[A\nconsolidated.00.pth:  46%|███████▊         | 7.42G/16.1G [00:38<02:12, 65.4MB/s]\u001b[A\nconsolidated.00.pth:  46%|███████▊         | 7.43G/16.1G [00:39<02:09, 66.8MB/s]\u001b[A\nconsolidated.00.pth:  46%|███████▉         | 7.46G/16.1G [00:39<01:52, 76.2MB/s]\u001b[A\nconsolidated.00.pth:  46%|███████▉         | 7.47G/16.1G [00:39<02:04, 69.1MB/s]\u001b[A\nconsolidated.00.pth:  47%|████████▍         | 7.50G/16.1G [00:39<01:19, 107MB/s]\u001b[A\nconsolidated.00.pth:  47%|███████▉         | 7.52G/16.1G [00:39<01:37, 87.3MB/s]\u001b[A\nconsolidated.00.pth:  47%|████████▍         | 7.55G/16.1G [00:40<01:11, 120MB/s]\u001b[A\nconsolidated.00.pth:  47%|████████▍         | 7.58G/16.1G [00:40<00:56, 150MB/s]\u001b[A\nconsolidated.00.pth:  47%|████████▌         | 7.61G/16.1G [00:40<00:47, 177MB/s]\u001b[A\nconsolidated.00.pth:  48%|████████▌         | 7.64G/16.1G [00:40<00:42, 199MB/s]\u001b[A\nconsolidated.00.pth:  48%|████████▌         | 7.68G/16.1G [00:40<00:44, 187MB/s]\u001b[A\nconsolidated.00.pth:  48%|████████▋         | 7.71G/16.1G [00:40<00:57, 146MB/s]\u001b[A\nconsolidated.00.pth:  48%|████████▋         | 7.74G/16.1G [00:41<00:49, 170MB/s]\u001b[A\nconsolidated.00.pth:  48%|████████▋         | 7.76G/16.1G [00:41<01:14, 111MB/s]\u001b[A\nconsolidated.00.pth:  49%|████████▋         | 7.79G/16.1G [00:41<00:59, 139MB/s]\u001b[A\nconsolidated.00.pth:  49%|████████▊         | 7.82G/16.1G [00:41<00:49, 165MB/s]\u001b[A\nconsolidated.00.pth:  49%|████████▊         | 7.85G/16.1G [00:41<00:50, 163MB/s]\u001b[A\nconsolidated.00.pth:  49%|████████▊         | 7.87G/16.1G [00:41<00:50, 163MB/s]\u001b[A\nconsolidated.00.pth:  49%|████████▊         | 7.91G/16.1G [00:42<00:43, 189MB/s]\u001b[A\nconsolidated.00.pth:  49%|████████▉         | 7.94G/16.1G [00:42<00:38, 212MB/s]\u001b[A\nconsolidated.00.pth:  50%|████████▉         | 7.97G/16.1G [00:42<00:35, 230MB/s]\u001b[A\nconsolidated.00.pth:  50%|████████▉         | 8.00G/16.1G [00:42<00:33, 242MB/s]\u001b[A\nconsolidated.00.pth:  50%|█████████         | 8.03G/16.1G [00:42<00:32, 247MB/s]\u001b[A\nconsolidated.00.pth:  50%|█████████         | 8.06G/16.1G [00:42<00:31, 254MB/s]\u001b[A\nconsolidated.00.pth:  50%|█████████         | 8.10G/16.1G [00:42<00:31, 256MB/s]\u001b[A\nconsolidated.00.pth:  51%|█████████         | 8.13G/16.1G [00:42<00:30, 257MB/s]\u001b[A\nconsolidated.00.pth:  51%|█████████▏        | 8.16G/16.1G [00:43<00:30, 257MB/s]\u001b[A\nconsolidated.00.pth:  51%|█████████▏        | 8.19G/16.1G [00:43<00:30, 255MB/s]\u001b[A\nconsolidated.00.pth:  51%|█████████▏        | 8.22G/16.1G [00:43<00:30, 257MB/s]\u001b[A\nconsolidated.00.pth:  51%|█████████▏        | 8.25G/16.1G [00:43<00:30, 257MB/s]\u001b[A\nconsolidated.00.pth:  52%|█████████▎        | 8.28G/16.1G [00:43<00:30, 259MB/s]\u001b[A\nconsolidated.00.pth:  52%|█████████▎        | 8.32G/16.1G [00:43<00:29, 258MB/s]\u001b[A\nconsolidated.00.pth:  52%|█████████▎        | 8.35G/16.1G [00:43<00:29, 260MB/s]\u001b[A\nconsolidated.00.pth:  52%|█████████▍        | 8.38G/16.1G [00:43<00:29, 261MB/s]\u001b[A\nconsolidated.00.pth:  52%|█████████▍        | 8.41G/16.1G [00:43<00:29, 263MB/s]\u001b[A\nconsolidated.00.pth:  53%|█████████▍        | 8.44G/16.1G [00:44<00:28, 266MB/s]\u001b[A\nconsolidated.00.pth:  53%|█████████▍        | 8.47G/16.1G [00:44<00:28, 265MB/s]\u001b[A\nconsolidated.00.pth:  53%|█████████▌        | 8.50G/16.1G [00:44<00:28, 268MB/s]\u001b[A\nconsolidated.00.pth:  53%|█████████▌        | 8.54G/16.1G [00:44<00:27, 269MB/s]\u001b[A\nconsolidated.00.pth:  53%|█████████▌        | 8.57G/16.1G [00:44<00:28, 263MB/s]\u001b[A\nconsolidated.00.pth:  54%|█████████▋        | 8.60G/16.1G [00:44<00:27, 267MB/s]\u001b[A\nconsolidated.00.pth:  54%|█████████▋        | 8.63G/16.1G [00:44<00:27, 269MB/s]\u001b[A\nconsolidated.00.pth:  54%|█████████▋        | 8.66G/16.1G [00:44<00:27, 269MB/s]\u001b[A\nconsolidated.00.pth:  54%|█████████▋        | 8.69G/16.1G [00:45<00:27, 271MB/s]\u001b[A\nconsolidated.00.pth:  54%|█████████▊        | 8.72G/16.1G [00:45<00:26, 272MB/s]\u001b[A\nconsolidated.00.pth:  55%|█████████▊        | 8.76G/16.1G [00:45<00:26, 276MB/s]\u001b[A\nconsolidated.00.pth:  55%|█████████▊        | 8.79G/16.1G [00:45<00:26, 278MB/s]\u001b[A\nconsolidated.00.pth:  55%|█████████▉        | 8.82G/16.1G [00:45<00:26, 276MB/s]\u001b[A\nconsolidated.00.pth:  55%|█████████▉        | 8.85G/16.1G [00:45<00:26, 277MB/s]\u001b[A\nconsolidated.00.pth:  55%|█████████▉        | 8.88G/16.1G [00:45<00:25, 280MB/s]\u001b[A\nconsolidated.00.pth:  55%|█████████▉        | 8.91G/16.1G [00:45<00:25, 282MB/s]\u001b[A\nconsolidated.00.pth:  56%|██████████        | 8.94G/16.1G [00:45<00:25, 283MB/s]\u001b[A\nconsolidated.00.pth:  56%|██████████        | 8.98G/16.1G [00:46<00:25, 283MB/s]\u001b[A\nconsolidated.00.pth:  56%|██████████        | 9.01G/16.1G [00:46<00:25, 281MB/s]\u001b[A\nconsolidated.00.pth:  56%|██████████▏       | 9.04G/16.1G [00:46<00:25, 278MB/s]\u001b[A\nconsolidated.00.pth:  56%|██████████▏       | 9.07G/16.1G [00:46<00:25, 276MB/s]\u001b[A\nconsolidated.00.pth:  57%|██████████▏       | 9.10G/16.1G [00:46<00:25, 275MB/s]\u001b[A\nconsolidated.00.pth:  57%|██████████▏       | 9.13G/16.1G [00:46<00:25, 274MB/s]\u001b[A\nconsolidated.00.pth:  57%|██████████▎       | 9.16G/16.1G [00:46<00:25, 271MB/s]\u001b[A\nconsolidated.00.pth:  57%|██████████▎       | 9.20G/16.1G [00:46<00:25, 266MB/s]\u001b[A\nconsolidated.00.pth:  57%|██████████▎       | 9.23G/16.1G [00:46<00:25, 264MB/s]\u001b[A\nconsolidated.00.pth:  58%|██████████▍       | 9.26G/16.1G [00:47<00:26, 252MB/s]\u001b[A\nconsolidated.00.pth:  58%|██████████▍       | 9.29G/16.1G [00:47<00:26, 256MB/s]\u001b[A\nconsolidated.00.pth:  58%|██████████▍       | 9.32G/16.1G [00:47<00:26, 254MB/s]\u001b[A\nconsolidated.00.pth:  58%|██████████▍       | 9.35G/16.1G [00:47<00:26, 255MB/s]\u001b[A\nconsolidated.00.pth:  58%|██████████▌       | 9.38G/16.1G [00:47<00:25, 261MB/s]\u001b[A\nconsolidated.00.pth:  59%|██████████▌       | 9.42G/16.1G [00:47<00:25, 264MB/s]\u001b[A\nconsolidated.00.pth:  59%|██████████▌       | 9.45G/16.1G [00:47<00:24, 269MB/s]\u001b[A\nconsolidated.00.pth:  59%|██████████▌       | 9.48G/16.1G [00:47<00:24, 269MB/s]\u001b[A\nconsolidated.00.pth:  59%|██████████▋       | 9.51G/16.1G [00:48<00:24, 269MB/s]\u001b[A\nconsolidated.00.pth:  59%|██████████▋       | 9.54G/16.1G [00:48<00:24, 268MB/s]\u001b[A\nconsolidated.00.pth:  60%|██████████▋       | 9.57G/16.1G [00:48<00:24, 270MB/s]\u001b[A\nconsolidated.00.pth:  60%|██████████▊       | 9.60G/16.1G [00:48<00:24, 269MB/s]\u001b[A\nconsolidated.00.pth:  60%|██████████▊       | 9.64G/16.1G [00:48<00:23, 270MB/s]\u001b[A\nconsolidated.00.pth:  60%|██████████▊       | 9.67G/16.1G [00:48<00:23, 269MB/s]\u001b[A\nconsolidated.00.pth:  60%|██████████▊       | 9.70G/16.1G [00:48<00:23, 268MB/s]\u001b[A\nconsolidated.00.pth:  61%|██████████▉       | 9.73G/16.1G [00:48<00:23, 268MB/s]\u001b[A\nconsolidated.00.pth:  61%|██████████▉       | 9.76G/16.1G [00:48<00:23, 267MB/s]\u001b[A\nconsolidated.00.pth:  61%|██████████▉       | 9.79G/16.1G [00:49<00:23, 267MB/s]\u001b[A\nconsolidated.00.pth:  61%|███████████       | 9.83G/16.1G [00:49<00:23, 267MB/s]\u001b[A\nconsolidated.00.pth:  61%|███████████       | 9.86G/16.1G [00:49<00:23, 267MB/s]\u001b[A\nconsolidated.00.pth:  62%|███████████       | 9.89G/16.1G [00:49<00:23, 268MB/s]\u001b[A\nconsolidated.00.pth:  62%|███████████       | 9.92G/16.1G [00:49<00:22, 268MB/s]\u001b[A\nconsolidated.00.pth:  62%|███████████▏      | 9.95G/16.1G [00:49<00:22, 268MB/s]\u001b[A\nconsolidated.00.pth:  62%|███████████▏      | 9.98G/16.1G [00:49<00:22, 268MB/s]\u001b[A\nconsolidated.00.pth:  62%|███████████▏      | 10.0G/16.1G [00:49<00:22, 267MB/s]\u001b[A\nconsolidated.00.pth:  63%|███████████▎      | 10.0G/16.1G [00:50<00:22, 267MB/s]\u001b[A\nconsolidated.00.pth:  63%|███████████▎      | 10.1G/16.1G [00:50<00:22, 267MB/s]\u001b[A\nconsolidated.00.pth:  63%|███████████▎      | 10.1G/16.1G [00:50<00:22, 267MB/s]\u001b[A\nconsolidated.00.pth:  63%|███████████▎      | 10.1G/16.1G [00:50<00:22, 268MB/s]\u001b[A\nconsolidated.00.pth:  63%|███████████▍      | 10.2G/16.1G [00:50<00:21, 268MB/s]\u001b[A\nconsolidated.00.pth:  64%|███████████▍      | 10.2G/16.1G [00:50<00:21, 268MB/s]\u001b[A\nconsolidated.00.pth:  64%|███████████▍      | 10.2G/16.1G [00:50<00:21, 268MB/s]\u001b[A\nconsolidated.00.pth:  64%|███████████▌      | 10.3G/16.1G [00:50<00:21, 269MB/s]\u001b[A\nconsolidated.00.pth:  64%|███████████▌      | 10.3G/16.1G [00:50<00:21, 273MB/s]\u001b[A\nconsolidated.00.pth:  64%|███████████▌      | 10.3G/16.1G [00:51<00:20, 274MB/s]\u001b[A\nconsolidated.00.pth:  65%|███████████▌      | 10.4G/16.1G [00:51<00:20, 277MB/s]\u001b[A\nconsolidated.00.pth:  65%|███████████▋      | 10.4G/16.1G [00:51<00:20, 278MB/s]\u001b[A\nconsolidated.00.pth:  65%|███████████▋      | 10.4G/16.1G [00:51<00:20, 278MB/s]\u001b[A\nconsolidated.00.pth:  65%|███████████▋      | 10.5G/16.1G [00:51<00:20, 274MB/s]\u001b[A\nconsolidated.00.pth:  65%|███████████▊      | 10.5G/16.1G [00:51<00:20, 275MB/s]\u001b[A\nconsolidated.00.pth:  65%|███████████▊      | 10.5G/16.1G [00:51<00:20, 275MB/s]\u001b[A\nconsolidated.00.pth:  66%|███████████▊      | 10.5G/16.1G [00:51<00:20, 272MB/s]\u001b[A\nconsolidated.00.pth:  66%|███████████▊      | 10.6G/16.1G [00:52<00:29, 185MB/s]\u001b[A\nconsolidated.00.pth:  66%|███████████▉      | 10.6G/16.1G [00:52<00:41, 130MB/s]\u001b[A\nconsolidated.00.pth:  66%|███████████▉      | 10.6G/16.1G [00:52<00:39, 138MB/s]\u001b[A\nconsolidated.00.pth:  66%|███████████▉      | 10.7G/16.1G [00:52<00:37, 145MB/s]\u001b[A\nconsolidated.00.pth:  67%|███████████▉      | 10.7G/16.1G [00:53<00:36, 149MB/s]\u001b[A\nconsolidated.00.pth:  67%|████████████      | 10.7G/16.1G [00:53<00:31, 168MB/s]\u001b[A\nconsolidated.00.pth:  67%|████████████      | 10.8G/16.1G [00:53<00:27, 192MB/s]\u001b[A\nconsolidated.00.pth:  67%|████████████      | 10.8G/16.1G [00:53<00:37, 142MB/s]\u001b[A\nconsolidated.00.pth:  67%|████████████      | 10.8G/16.1G [00:53<00:37, 139MB/s]\u001b[A\nconsolidated.00.pth:  68%|████████████▏     | 10.8G/16.1G [00:54<00:37, 140MB/s]\u001b[A\nconsolidated.00.pth:  68%|████████████▏     | 10.9G/16.1G [00:54<00:39, 130MB/s]\u001b[A\nconsolidated.00.pth:  68%|████████████▏     | 10.9G/16.1G [00:54<00:34, 149MB/s]\u001b[A\nconsolidated.00.pth:  68%|████████████▏     | 10.9G/16.1G [00:54<00:29, 176MB/s]\u001b[A\nconsolidated.00.pth:  68%|████████████▎     | 10.9G/16.1G [00:54<00:30, 167MB/s]\u001b[A\nconsolidated.00.pth:  68%|████████████▎     | 11.0G/16.1G [00:54<00:34, 148MB/s]\u001b[A\nconsolidated.00.pth:  68%|████████████▎     | 11.0G/16.1G [00:55<00:43, 118MB/s]\u001b[A\nconsolidated.00.pth:  69%|████████████▎     | 11.0G/16.1G [00:55<00:33, 148MB/s]\u001b[A\nconsolidated.00.pth:  69%|████████████▎     | 11.0G/16.1G [00:55<00:41, 120MB/s]\u001b[A\nconsolidated.00.pth:  69%|████████████▍     | 11.1G/16.1G [00:55<00:43, 115MB/s]\u001b[A\nconsolidated.00.pth:  69%|████████████▍     | 11.1G/16.1G [00:55<00:34, 143MB/s]\u001b[A\nconsolidated.00.pth:  69%|████████████▍     | 11.1G/16.1G [00:56<00:34, 142MB/s]\u001b[A\nconsolidated.00.pth:  69%|████████████▍     | 11.1G/16.1G [00:56<00:33, 149MB/s]\u001b[A\nconsolidated.00.pth:  70%|████████████▌     | 11.2G/16.1G [00:56<00:27, 175MB/s]\u001b[A\nconsolidated.00.pth:  70%|████████████▌     | 11.2G/16.1G [00:56<00:35, 138MB/s]\u001b[A\nconsolidated.00.pth:  70%|████████████▌     | 11.2G/16.1G [00:56<00:35, 137MB/s]\u001b[A\nconsolidated.00.pth:  70%|████████████▌     | 11.2G/16.1G [00:56<00:37, 128MB/s]\u001b[A\nconsolidated.00.pth:  70%|████████████▌     | 11.3G/16.1G [00:57<00:39, 121MB/s]\u001b[A\nconsolidated.00.pth:  70%|███████████▉     | 11.3G/16.1G [00:57<00:50, 95.5MB/s]\u001b[A\nconsolidated.00.pth:  70%|███████████▉     | 11.3G/16.1G [00:57<01:07, 70.8MB/s]\u001b[A\nconsolidated.00.pth:  71%|███████████▉     | 11.3G/16.1G [00:58<00:54, 86.0MB/s]\u001b[A\nconsolidated.00.pth:  71%|████████████▋     | 11.4G/16.1G [00:58<00:41, 114MB/s]\u001b[A\nconsolidated.00.pth:  71%|████████████▊     | 11.4G/16.1G [00:58<00:40, 117MB/s]\u001b[A\nconsolidated.00.pth:  71%|████████████▊     | 11.4G/16.1G [00:58<00:37, 124MB/s]\u001b[A\nconsolidated.00.pth:  71%|████████████▊     | 11.5G/16.1G [00:59<00:40, 114MB/s]\u001b[A\nconsolidated.00.pth:  71%|████████████▊     | 11.5G/16.1G [00:59<00:32, 141MB/s]\u001b[A\nconsolidated.00.pth:  72%|████████████▉     | 11.5G/16.1G [00:59<00:41, 109MB/s]\u001b[A\nconsolidated.00.pth:  72%|████████████▉     | 11.5G/16.1G [00:59<00:41, 110MB/s]\u001b[A\nconsolidated.00.pth:  72%|████████████▉     | 11.5G/16.1G [00:59<00:40, 111MB/s]\u001b[A\nconsolidated.00.pth:  72%|████████████▉     | 11.6G/16.1G [01:00<00:35, 126MB/s]\u001b[A\nconsolidated.00.pth:  72%|████████████▉     | 11.6G/16.1G [01:00<00:41, 109MB/s]\u001b[A\nconsolidated.00.pth:  72%|████████████▎    | 11.6G/16.1G [01:00<00:46, 95.0MB/s]\u001b[A\nconsolidated.00.pth:  73%|█████████████     | 11.6G/16.1G [01:00<00:35, 125MB/s]\u001b[A\nconsolidated.00.pth:  73%|█████████████     | 11.7G/16.1G [01:00<00:36, 122MB/s]\u001b[A\nconsolidated.00.pth:  73%|█████████████     | 11.7G/16.1G [01:01<00:42, 103MB/s]\u001b[A\nconsolidated.00.pth:  73%|████████████▍    | 11.7G/16.1G [01:01<00:52, 82.9MB/s]\u001b[A\nconsolidated.00.pth:  73%|█████████████▏    | 11.7G/16.1G [01:01<00:38, 112MB/s]\u001b[A\nconsolidated.00.pth:  73%|█████████████▏    | 11.8G/16.1G [01:01<00:30, 141MB/s]\u001b[A\nconsolidated.00.pth:  74%|█████████████▏    | 11.8G/16.1G [01:01<00:25, 167MB/s]\u001b[A\nconsolidated.00.pth:  74%|█████████████▎    | 11.8G/16.1G [01:02<00:22, 190MB/s]\u001b[A\nconsolidated.00.pth:  74%|█████████████▎    | 11.9G/16.1G [01:02<00:20, 209MB/s]\u001b[A\nconsolidated.00.pth:  74%|█████████████▎    | 11.9G/16.1G [01:02<00:18, 227MB/s]\u001b[A\nconsolidated.00.pth:  74%|█████████████▎    | 11.9G/16.1G [01:02<00:17, 242MB/s]\u001b[A\nconsolidated.00.pth:  74%|█████████████▍    | 12.0G/16.1G [01:02<00:21, 189MB/s]\u001b[A\nconsolidated.00.pth:  75%|█████████████▍    | 12.0G/16.1G [01:02<00:19, 210MB/s]\u001b[A\nconsolidated.00.pth:  75%|█████████████▍    | 12.0G/16.1G [01:02<00:17, 226MB/s]\u001b[A\nconsolidated.00.pth:  75%|█████████████▌    | 12.1G/16.1G [01:02<00:16, 238MB/s]\u001b[A\nconsolidated.00.pth:  75%|█████████████▌    | 12.1G/16.1G [01:03<00:16, 247MB/s]\u001b[A\nconsolidated.00.pth:  75%|█████████████▌    | 12.1G/16.1G [01:03<00:17, 219MB/s]\u001b[A\nconsolidated.00.pth:  76%|█████████████▌    | 12.2G/16.1G [01:03<00:22, 170MB/s]\u001b[A\nconsolidated.00.pth:  76%|█████████████▋    | 12.2G/16.1G [01:03<00:25, 155MB/s]\u001b[A\nconsolidated.00.pth:  76%|█████████████▋    | 12.2G/16.1G [01:03<00:25, 153MB/s]\u001b[A\nconsolidated.00.pth:  76%|████████████▉    | 12.2G/16.1G [01:04<00:40, 94.8MB/s]\u001b[A\nconsolidated.00.pth:  76%|████████████▉    | 12.2G/16.1G [01:04<00:42, 90.4MB/s]\u001b[A\nconsolidated.00.pth:  76%|█████████████▋    | 12.3G/16.1G [01:04<00:31, 119MB/s]\u001b[A\nconsolidated.00.pth:  77%|█████████████▊    | 12.3G/16.1G [01:04<00:36, 104MB/s]\u001b[A\nconsolidated.00.pth:  77%|█████████████▊    | 12.3G/16.1G [01:05<00:35, 107MB/s]\u001b[A\nconsolidated.00.pth:  77%|█████████████▊    | 12.3G/16.1G [01:05<00:27, 137MB/s]\u001b[A\nconsolidated.00.pth:  77%|█████████████    | 12.4G/16.1G [01:05<00:38, 95.8MB/s]\u001b[A\nconsolidated.00.pth:  77%|█████████████▉    | 12.4G/16.1G [01:05<00:29, 125MB/s]\u001b[A\nconsolidated.00.pth:  77%|█████████████▉    | 12.4G/16.1G [01:05<00:23, 154MB/s]\u001b[A\nconsolidated.00.pth:  78%|█████████████▉    | 12.5G/16.1G [01:06<00:20, 179MB/s]\u001b[A\nconsolidated.00.pth:  78%|█████████████▉    | 12.5G/16.1G [01:06<00:17, 203MB/s]\u001b[A\nconsolidated.00.pth:  78%|██████████████    | 12.5G/16.1G [01:06<00:15, 222MB/s]\u001b[A\nconsolidated.00.pth:  78%|██████████████    | 12.6G/16.1G [01:06<00:18, 191MB/s]\u001b[A\nconsolidated.00.pth:  78%|██████████████    | 12.6G/16.1G [01:06<00:16, 209MB/s]\u001b[A\nconsolidated.00.pth:  79%|██████████████▏   | 12.6G/16.1G [01:06<00:15, 225MB/s]\u001b[A\nconsolidated.00.pth:  79%|██████████████▏   | 12.6G/16.1G [01:06<00:14, 236MB/s]\u001b[A\nconsolidated.00.pth:  79%|██████████████▏   | 12.7G/16.1G [01:06<00:13, 244MB/s]\u001b[A\nconsolidated.00.pth:  79%|██████████████▏   | 12.7G/16.1G [01:07<00:13, 250MB/s]\u001b[A\nconsolidated.00.pth:  79%|██████████████▎   | 12.7G/16.1G [01:07<00:13, 255MB/s]\u001b[A\nconsolidated.00.pth:  80%|██████████████▎   | 12.8G/16.1G [01:07<00:12, 261MB/s]\u001b[A\nconsolidated.00.pth:  80%|██████████████▎   | 12.8G/16.1G [01:07<00:12, 265MB/s]\u001b[A\nconsolidated.00.pth:  80%|██████████████▍   | 12.8G/16.1G [01:07<00:12, 265MB/s]\u001b[A\nconsolidated.00.pth:  80%|██████████████▍   | 12.9G/16.1G [01:07<00:12, 266MB/s]\u001b[A\nconsolidated.00.pth:  80%|██████████████▍   | 12.9G/16.1G [01:07<00:11, 268MB/s]\u001b[A\nconsolidated.00.pth:  81%|██████████████▍   | 12.9G/16.1G [01:07<00:11, 266MB/s]\u001b[A\nconsolidated.00.pth:  81%|██████████████▌   | 13.0G/16.1G [01:08<00:11, 266MB/s]\u001b[A\nconsolidated.00.pth:  81%|██████████████▌   | 13.0G/16.1G [01:08<00:11, 266MB/s]\u001b[A\nconsolidated.00.pth:  81%|██████████████▌   | 13.0G/16.1G [01:08<00:11, 267MB/s]\u001b[A\nconsolidated.00.pth:  81%|██████████████▋   | 13.1G/16.1G [01:08<00:11, 271MB/s]\u001b[A\nconsolidated.00.pth:  81%|██████████████▋   | 13.1G/16.1G [01:08<00:10, 271MB/s]\u001b[A\nconsolidated.00.pth:  82%|██████████████▋   | 13.1G/16.1G [01:08<00:10, 275MB/s]\u001b[A\nconsolidated.00.pth:  82%|██████████████▋   | 13.1G/16.1G [01:08<00:10, 277MB/s]\u001b[A\nconsolidated.00.pth:  82%|██████████████▊   | 13.2G/16.1G [01:08<00:10, 278MB/s]\u001b[A\nconsolidated.00.pth:  82%|██████████████▊   | 13.2G/16.1G [01:08<00:10, 278MB/s]\u001b[A\nconsolidated.00.pth:  82%|██████████████▊   | 13.2G/16.1G [01:09<00:10, 266MB/s]\u001b[A\nconsolidated.00.pth:  83%|██████████████▉   | 13.3G/16.1G [01:09<00:10, 266MB/s]\u001b[A\nconsolidated.00.pth:  83%|██████████████▉   | 13.3G/16.1G [01:09<00:10, 264MB/s]\u001b[A\nconsolidated.00.pth:  83%|██████████████   | 13.3G/16.1G [01:10<00:48, 56.5MB/s]\u001b[A\nconsolidated.00.pth:  83%|██████████████▏  | 13.4G/16.1G [01:10<00:36, 74.0MB/s]\u001b[A\nconsolidated.00.pth:  83%|██████████████▏  | 13.4G/16.1G [01:11<00:28, 94.5MB/s]\u001b[A\nconsolidated.00.pth:  84%|███████████████   | 13.4G/16.1G [01:11<00:22, 117MB/s]\u001b[A\nconsolidated.00.pth:  84%|███████████████   | 13.5G/16.1G [01:11<00:18, 141MB/s]\u001b[A\nconsolidated.00.pth:  84%|███████████████   | 13.5G/16.1G [01:11<00:15, 164MB/s]\u001b[A\nconsolidated.00.pth:  84%|███████████████▏  | 13.5G/16.1G [01:11<00:13, 186MB/s]\u001b[A\nconsolidated.00.pth:  84%|███████████████▏  | 13.6G/16.1G [01:11<00:12, 205MB/s]\u001b[A\nconsolidated.00.pth:  85%|███████████████▏  | 13.6G/16.1G [01:11<00:11, 221MB/s]\u001b[A\nconsolidated.00.pth:  85%|███████████████▎  | 13.6G/16.1G [01:11<00:10, 233MB/s]\u001b[A\nconsolidated.00.pth:  85%|███████████████▎  | 13.7G/16.1G [01:12<00:09, 243MB/s]\u001b[A\nconsolidated.00.pth:  85%|███████████████▎  | 13.7G/16.1G [01:12<00:09, 249MB/s]\u001b[A\nconsolidated.00.pth:  85%|███████████████▎  | 13.7G/16.1G [01:12<00:09, 254MB/s]\u001b[A\nconsolidated.00.pth:  86%|███████████████▍  | 13.7G/16.1G [01:12<00:08, 261MB/s]\u001b[A\nconsolidated.00.pth:  86%|███████████████▍  | 13.8G/16.1G [01:12<00:08, 265MB/s]\u001b[A\nconsolidated.00.pth:  86%|███████████████▍  | 13.8G/16.1G [01:12<00:08, 267MB/s]\u001b[A\nconsolidated.00.pth:  86%|███████████████▌  | 13.8G/16.1G [01:12<00:08, 271MB/s]\u001b[A\nconsolidated.00.pth:  86%|███████████████▌  | 13.9G/16.1G [01:12<00:07, 273MB/s]\u001b[A\nconsolidated.00.pth:  87%|███████████████▌  | 13.9G/16.1G [01:12<00:07, 276MB/s]\u001b[A\nconsolidated.00.pth:  87%|███████████████▌  | 13.9G/16.1G [01:13<00:12, 176MB/s]\u001b[A\nconsolidated.00.pth:  87%|███████████████▋  | 14.0G/16.1G [01:13<00:10, 198MB/s]\u001b[A\nconsolidated.00.pth:  87%|███████████████▋  | 14.0G/16.1G [01:13<00:09, 217MB/s]\u001b[A\nconsolidated.00.pth:  87%|███████████████▋  | 14.0G/16.1G [01:13<00:08, 230MB/s]\u001b[A\nconsolidated.00.pth:  88%|███████████████▊  | 14.1G/16.1G [01:13<00:08, 241MB/s]\u001b[A\nconsolidated.00.pth:  88%|███████████████▊  | 14.1G/16.1G [01:13<00:07, 248MB/s]\u001b[A\nconsolidated.00.pth:  88%|███████████████▊  | 14.1G/16.1G [01:13<00:07, 254MB/s]\u001b[A\nconsolidated.00.pth:  88%|███████████████▊  | 14.2G/16.1G [01:14<00:07, 261MB/s]\u001b[A\nconsolidated.00.pth:  88%|███████████████▉  | 14.2G/16.1G [01:14<00:07, 267MB/s]\u001b[A\nconsolidated.00.pth:  89%|███████████████▉  | 14.2G/16.1G [01:14<00:06, 268MB/s]\u001b[A\nconsolidated.00.pth:  89%|███████████████▉  | 14.3G/16.1G [01:14<00:06, 272MB/s]\u001b[A\nconsolidated.00.pth:  89%|████████████████  | 14.3G/16.1G [01:14<00:06, 271MB/s]\u001b[A\nconsolidated.00.pth:  89%|████████████████  | 14.3G/16.1G [01:14<00:06, 273MB/s]\u001b[A\nconsolidated.00.pth:  89%|████████████████  | 14.3G/16.1G [01:14<00:06, 271MB/s]\u001b[A\nconsolidated.00.pth:  90%|████████████████  | 14.4G/16.1G [01:14<00:06, 270MB/s]\u001b[A\nconsolidated.00.pth:  90%|████████████████▏ | 14.4G/16.1G [01:15<00:06, 269MB/s]\u001b[A\nconsolidated.00.pth:  90%|████████████████▏ | 14.4G/16.1G [01:15<00:06, 268MB/s]\u001b[A\nconsolidated.00.pth:  90%|████████████████▏ | 14.5G/16.1G [01:15<00:05, 266MB/s]\u001b[A\nconsolidated.00.pth:  90%|████████████████▎ | 14.5G/16.1G [01:15<00:05, 269MB/s]\u001b[A\nconsolidated.00.pth:  90%|████████████████▎ | 14.5G/16.1G [01:15<00:05, 268MB/s]\u001b[A\nconsolidated.00.pth:  91%|████████████████▎ | 14.6G/16.1G [01:15<00:05, 267MB/s]\u001b[A\nconsolidated.00.pth:  91%|████████████████▎ | 14.6G/16.1G [01:15<00:05, 266MB/s]\u001b[A\nconsolidated.00.pth:  91%|████████████████▍ | 14.6G/16.1G [01:15<00:05, 267MB/s]\u001b[A\nconsolidated.00.pth:  91%|████████████████▍ | 14.7G/16.1G [01:15<00:05, 267MB/s]\u001b[A\nconsolidated.00.pth:  91%|████████████████▍ | 14.7G/16.1G [01:16<00:05, 266MB/s]\u001b[A\nconsolidated.00.pth:  92%|████████████████▍ | 14.7G/16.1G [01:16<00:05, 266MB/s]\u001b[A\nconsolidated.00.pth:  92%|████████████████▌ | 14.8G/16.1G [01:16<00:04, 266MB/s]\u001b[A\nconsolidated.00.pth:  92%|████████████████▌ | 14.8G/16.1G [01:16<00:04, 267MB/s]\u001b[A\nconsolidated.00.pth:  92%|████████████████▌ | 14.8G/16.1G [01:16<00:04, 268MB/s]\u001b[A\nconsolidated.00.pth:  92%|████████████████▋ | 14.8G/16.1G [01:16<00:05, 206MB/s]\u001b[A\nconsolidated.00.pth:  93%|████████████████▋ | 14.9G/16.1G [01:16<00:05, 221MB/s]\u001b[A\nconsolidated.00.pth:  93%|████████████████▋ | 14.9G/16.1G [01:17<00:05, 206MB/s]\u001b[A\nconsolidated.00.pth:  93%|████████████████▋ | 14.9G/16.1G [01:17<00:06, 161MB/s]\u001b[A\nconsolidated.00.pth:  93%|████████████████▊ | 15.0G/16.1G [01:17<00:05, 183MB/s]\u001b[A\nconsolidated.00.pth:  93%|████████████████▊ | 15.0G/16.1G [01:17<00:06, 172MB/s]\u001b[A\nconsolidated.00.pth:  94%|████████████████▊ | 15.0G/16.1G [01:17<00:05, 193MB/s]\u001b[A\nconsolidated.00.pth:  94%|████████████████▉ | 15.1G/16.1G [01:18<00:05, 180MB/s]\u001b[A\nconsolidated.00.pth:  94%|████████████████▉ | 15.1G/16.1G [01:18<00:04, 201MB/s]\u001b[A\nconsolidated.00.pth:  94%|████████████████▉ | 15.1G/16.1G [01:18<00:04, 219MB/s]\u001b[A\nconsolidated.00.pth:  94%|████████████████▉ | 15.2G/16.1G [01:18<00:04, 191MB/s]\u001b[A\nconsolidated.00.pth:  95%|█████████████████ | 15.2G/16.1G [01:18<00:04, 210MB/s]\u001b[A\nconsolidated.00.pth:  95%|█████████████████ | 15.2G/16.1G [01:18<00:03, 216MB/s]\u001b[A\nconsolidated.00.pth:  95%|█████████████████ | 15.3G/16.1G [01:18<00:03, 230MB/s]\u001b[A\nconsolidated.00.pth:  95%|█████████████████▏| 15.3G/16.1G [01:18<00:03, 240MB/s]\u001b[A\nconsolidated.00.pth:  95%|█████████████████▏| 15.3G/16.1G [01:19<00:03, 247MB/s]\u001b[A\nconsolidated.00.pth:  96%|█████████████████▏| 15.4G/16.1G [01:19<00:03, 187MB/s]\u001b[A\nconsolidated.00.pth:  96%|█████████████████▏| 15.4G/16.1G [01:19<00:04, 161MB/s]\u001b[A\nconsolidated.00.pth:  96%|█████████████████▎| 15.4G/16.1G [01:19<00:04, 158MB/s]\u001b[A\nconsolidated.00.pth:  96%|█████████████████▎| 15.4G/16.1G [01:20<00:05, 118MB/s]\u001b[A\nconsolidated.00.pth:  96%|█████████████████▎| 15.5G/16.1G [01:20<00:04, 144MB/s]\u001b[A\nconsolidated.00.pth:  96%|█████████████████▎| 15.5G/16.1G [01:20<00:04, 138MB/s]\u001b[A\nconsolidated.00.pth:  97%|█████████████████▍| 15.5G/16.1G [01:20<00:03, 165MB/s]\u001b[A\nconsolidated.00.pth:  97%|█████████████████▍| 15.5G/16.1G [01:20<00:03, 147MB/s]\u001b[A\nconsolidated.00.pth:  97%|█████████████████▍| 15.6G/16.1G [01:20<00:03, 158MB/s]\u001b[A\nconsolidated.00.pth:  97%|█████████████████▍| 15.6G/16.1G [01:21<00:03, 142MB/s]\u001b[A\nconsolidated.00.pth:  97%|█████████████████▍| 15.6G/16.1G [01:21<00:03, 140MB/s]\u001b[A\nconsolidated.00.pth:  97%|█████████████████▌| 15.6G/16.1G [01:21<00:02, 165MB/s]\u001b[A\nconsolidated.00.pth:  98%|█████████████████▌| 15.7G/16.1G [01:21<00:02, 187MB/s]\u001b[A\nconsolidated.00.pth:  98%|█████████████████▌| 15.7G/16.1G [01:21<00:01, 203MB/s]\u001b[A\nconsolidated.00.pth:  98%|█████████████████▋| 15.7G/16.1G [01:21<00:01, 217MB/s]\u001b[A\nconsolidated.00.pth:  98%|█████████████████▋| 15.8G/16.1G [01:22<00:01, 159MB/s]\u001b[A\nconsolidated.00.pth:  98%|█████████████████▋| 15.8G/16.1G [01:22<00:01, 168MB/s]\u001b[A\nconsolidated.00.pth:  98%|█████████████████▋| 15.8G/16.1G [01:22<00:02, 124MB/s]\u001b[A\nconsolidated.00.pth:  99%|█████████████████▊| 15.8G/16.1G [01:22<00:01, 152MB/s]\u001b[A\nconsolidated.00.pth:  99%|█████████████████▊| 15.9G/16.1G [01:22<00:01, 173MB/s]\u001b[A\nconsolidated.00.pth:  99%|█████████████████▊| 15.9G/16.1G [01:22<00:00, 195MB/s]\u001b[A\nconsolidated.00.pth:  99%|█████████████████▊| 15.9G/16.1G [01:22<00:00, 213MB/s]\u001b[A\nconsolidated.00.pth:  99%|█████████████████▉| 16.0G/16.1G [01:23<00:00, 228MB/s]\u001b[A\nconsolidated.00.pth: 100%|█████████████████▉| 16.0G/16.1G [01:23<00:00, 234MB/s]\u001b[A\nconsolidated.00.pth: 100%|█████████████████▉| 16.0G/16.1G [01:23<00:00, 221MB/s]\u001b[A\nconsolidated.00.pth: 100%|██████████████████| 16.1G/16.1G [01:23<00:00, 192MB/s]\u001b[A\nDownload complete. Moving file to Meta-Llama-3-8B/original/consolidated.00.pth\nFetching 3 files: 100%|███████████████████████████| 3/3 [01:23<00:00, 27.89s/it]\n/kaggle/working/Meta-Llama-3-8B\n",
          "output_type": "stream"
        }
      ]
    },
    {
      "cell_type": "markdown",
      "source": [
        "consolidated.00.pth  -> containing the model’s weights , .pth means pytorch\n",
        "\n",
        "params.json  -> configuration or metadata about the model\n",
        "\n",
        "tokenizer.model -> tokenizer associated with the model, ,model means it's SentencePiece or similar library compatible format\n"
      ],
      "metadata": {
        "id": "LjVTzyY-09zS"
      }
    },
    {
      "cell_type": "markdown",
      "source": [
        "### Convert text to tokens - Test BPE tokenizer"
      ],
      "metadata": {
        "id": "kO4HJ7jy09zS"
      }
    },
    {
      "cell_type": "code",
      "source": [
        "from pathlib import Path\n",
        "import tiktoken\n",
        "from tiktoken.load import load_tiktoken_bpe\n",
        "import torch\n",
        "import json\n",
        "import matplotlib.pyplot as plt\n",
        "\n",
        "tokenizer_path = \"/kaggle/working/Meta-Llama-3-8B/original/tokenizer.model\"\n",
        "\n",
        "special_tokens = [\n",
        "            \"<|begin_of_text|>\",\n",
        "            \"<|end_of_text|>\",\n",
        "            \"<|reserved_special_token_0|>\",\n",
        "            \"<|reserved_special_token_1|>\",\n",
        "            \"<|reserved_special_token_2|>\",\n",
        "            \"<|reserved_special_token_3|>\",\n",
        "            \"<|start_header_id|>\",\n",
        "            \"<|end_header_id|>\",\n",
        "            \"<|reserved_special_token_4|>\",\n",
        "            \"<|eot_id|>\",  # end of turn\n",
        "        ] + [f\"<|reserved_special_token_{i}|>\" for i in range(5, 256 - 5)]\n",
        "mergeable_ranks = load_tiktoken_bpe(tokenizer_path)\n",
        "tokenizer = tiktoken.Encoding(\n",
        "    name=Path(tokenizer_path).name,\n",
        "    pat_str=r\"(?i:'s|'t|'re|'ve|'m|'ll|'d)|[^\\r\\n\\p{L}\\p{N}]?\\p{L}+|\\p{N}{1,3}| ?[^\\s\\p{L}\\p{N}]+[\\r\\n]*|\\s*[\\r\\n]+|\\s+(?!\\S)|\\s+\",\n",
        "    mergeable_ranks=mergeable_ranks,\n",
        "    special_tokens={token: len(mergeable_ranks) + i for i, token in enumerate(special_tokens)},\n",
        ")\n",
        "\n",
        "prompt = \"the answer to the ultimate question of life, the universe, and everything is \"\n",
        "tokens = [128000] + tokenizer.encode(prompt)\n",
        "print(\"Encoded token \",tokens)\n",
        "tokens = torch.tensor(tokens)\n",
        "prompt_split_as_tokens = [tokenizer.decode([token.item()]) for token in tokens]\n",
        "print(\"Decoded token\",prompt_split_as_tokens)\n"
      ],
      "metadata": {
        "execution": {
          "iopub.status.busy": "2024-08-31T04:21:20.665685Z",
          "iopub.execute_input": "2024-08-31T04:21:20.66633Z",
          "iopub.status.idle": "2024-08-31T04:21:21.608939Z",
          "shell.execute_reply.started": "2024-08-31T04:21:20.666298Z",
          "shell.execute_reply": "2024-08-31T04:21:21.607949Z"
        },
        "trusted": true,
        "id": "zvNlnbZ409zT",
        "outputId": "35659172-ae0b-4f38-c989-d8585aa4d5ef"
      },
      "execution_count": null,
      "outputs": [
        {
          "name": "stdout",
          "text": "Encoded token  [128000, 1820, 4320, 311, 279, 17139, 3488, 315, 2324, 11, 279, 15861, 11, 323, 4395, 374, 220]\nDecoded token ['<|begin_of_text|>', 'the', ' answer', ' to', ' the', ' ultimate', ' question', ' of', ' life', ',', ' the', ' universe', ',', ' and', ' everything', ' is', ' ']\n",
          "output_type": "stream"
        }
      ]
    },
    {
      "cell_type": "markdown",
      "source": [
        "### Load pretrained model weights & configarations"
      ],
      "metadata": {
        "id": "QwIIZ8PZ09zT"
      }
    },
    {
      "cell_type": "code",
      "source": [
        "model = torch.load(\"/kaggle/working/Meta-Llama-3-8B/original/consolidated.00.pth\")\n",
        "print(json.dumps(list(model.keys())[:30], indent=4))"
      ],
      "metadata": {
        "execution": {
          "iopub.status.busy": "2024-08-31T04:22:08.199056Z",
          "iopub.execute_input": "2024-08-31T04:22:08.199651Z",
          "iopub.status.idle": "2024-08-31T04:22:57.225514Z",
          "shell.execute_reply.started": "2024-08-31T04:22:08.199619Z",
          "shell.execute_reply": "2024-08-31T04:22:57.224588Z"
        },
        "trusted": true,
        "id": "5M_jGWY209zT",
        "outputId": "ff7f5c33-672d-464c-ec09-7da2c21d5a61"
      },
      "execution_count": null,
      "outputs": [
        {
          "name": "stdout",
          "text": "[\n    \"tok_embeddings.weight\",\n    \"layers.0.attention.wq.weight\",\n    \"layers.0.attention.wk.weight\",\n    \"layers.0.attention.wv.weight\",\n    \"layers.0.attention.wo.weight\",\n    \"layers.0.feed_forward.w1.weight\",\n    \"layers.0.feed_forward.w3.weight\",\n    \"layers.0.feed_forward.w2.weight\",\n    \"layers.0.attention_norm.weight\",\n    \"layers.0.ffn_norm.weight\",\n    \"layers.1.attention.wq.weight\",\n    \"layers.1.attention.wk.weight\",\n    \"layers.1.attention.wv.weight\",\n    \"layers.1.attention.wo.weight\",\n    \"layers.1.feed_forward.w1.weight\",\n    \"layers.1.feed_forward.w3.weight\",\n    \"layers.1.feed_forward.w2.weight\",\n    \"layers.1.attention_norm.weight\",\n    \"layers.1.ffn_norm.weight\",\n    \"layers.2.attention.wq.weight\",\n    \"layers.2.attention.wk.weight\",\n    \"layers.2.attention.wv.weight\",\n    \"layers.2.attention.wo.weight\",\n    \"layers.2.feed_forward.w1.weight\",\n    \"layers.2.feed_forward.w3.weight\",\n    \"layers.2.feed_forward.w2.weight\",\n    \"layers.2.attention_norm.weight\",\n    \"layers.2.ffn_norm.weight\",\n    \"layers.3.attention.wq.weight\",\n    \"layers.3.attention.wk.weight\"\n]\n",
          "output_type": "stream"
        }
      ]
    },
    {
      "cell_type": "code",
      "source": [
        "print(json.dumps(list(model.keys())[-30:], indent=4))"
      ],
      "metadata": {
        "execution": {
          "iopub.status.busy": "2024-08-31T04:23:03.868655Z",
          "iopub.execute_input": "2024-08-31T04:23:03.869254Z",
          "iopub.status.idle": "2024-08-31T04:23:03.874103Z",
          "shell.execute_reply.started": "2024-08-31T04:23:03.869223Z",
          "shell.execute_reply": "2024-08-31T04:23:03.873203Z"
        },
        "trusted": true,
        "id": "x0fIDtVn09zU",
        "outputId": "762c14a6-8481-4b81-8683-25c2565fa2d6"
      },
      "execution_count": null,
      "outputs": [
        {
          "name": "stdout",
          "text": "[\n    \"layers.28.ffn_norm.weight\",\n    \"layers.29.attention.wq.weight\",\n    \"layers.29.attention.wk.weight\",\n    \"layers.29.attention.wv.weight\",\n    \"layers.29.attention.wo.weight\",\n    \"layers.29.feed_forward.w1.weight\",\n    \"layers.29.feed_forward.w3.weight\",\n    \"layers.29.feed_forward.w2.weight\",\n    \"layers.29.attention_norm.weight\",\n    \"layers.29.ffn_norm.weight\",\n    \"layers.30.attention.wq.weight\",\n    \"layers.30.attention.wk.weight\",\n    \"layers.30.attention.wv.weight\",\n    \"layers.30.attention.wo.weight\",\n    \"layers.30.feed_forward.w1.weight\",\n    \"layers.30.feed_forward.w3.weight\",\n    \"layers.30.feed_forward.w2.weight\",\n    \"layers.30.attention_norm.weight\",\n    \"layers.30.ffn_norm.weight\",\n    \"layers.31.attention.wq.weight\",\n    \"layers.31.attention.wk.weight\",\n    \"layers.31.attention.wv.weight\",\n    \"layers.31.attention.wo.weight\",\n    \"layers.31.feed_forward.w1.weight\",\n    \"layers.31.feed_forward.w3.weight\",\n    \"layers.31.feed_forward.w2.weight\",\n    \"layers.31.attention_norm.weight\",\n    \"layers.31.ffn_norm.weight\",\n    \"norm.weight\",\n    \"output.weight\"\n]\n",
          "output_type": "stream"
        }
      ]
    },
    {
      "cell_type": "markdown",
      "source": [
        "> \"attention_norm.weight\" ----> [LlamaModel.(layers).ModuleList(32 x LlamaDecoderLayer()).(post_attention_layernorm)] used on final_embedding to get layer_embedding_norm\n",
        "\n",
        "final_embedding we get from previous  LlamaDecoderLayer() = embedding_after_edit + output_after_feedforward i.e embedding_after_edit_normalized passed through [LlamaModel.(layers).ModuleList(32 x LlamaDecoderLayer().(mlp)] \"feed_forward.w1.weight\", \"feed_forward.w3.weight\",\"feed_forward.w2.weight\",\n",
        "\n",
        "> \"ffn_norm.weight\" ----> [LlamaModel.(layers).ModuleList(32 x LlamaDecoderLayer()).(input_layernorm)] used on embedding_after_edit to get embedding_after_edit_normalized\n",
        "\n",
        "embedding_after_edit = final_embedding + embedding_delta i.e all n_heads=32 stacked in stacked_qkv_attention and passed through \"attention.wo.weight\"\n",
        "\n",
        "> \"norm.weight\" ----> [LlamaModel.(norm)]\n",
        "\n",
        "> \"output.weight\" ---> [LlamaForCausalLM.(lm_head)]"
      ],
      "metadata": {
        "id": "gsUSad8P09zU"
      }
    },
    {
      "cell_type": "code",
      "source": [
        "# model"
      ],
      "metadata": {
        "id": "OoHAZjgx09zU"
      },
      "execution_count": null,
      "outputs": []
    },
    {
      "cell_type": "code",
      "source": [
        "with open(\"/kaggle/working/Meta-Llama-3-8B/original/params.json\", \"r\") as f:\n",
        "    config = json.load(f)\n",
        "config"
      ],
      "metadata": {
        "execution": {
          "iopub.status.busy": "2024-08-31T04:29:36.69226Z",
          "iopub.execute_input": "2024-08-31T04:29:36.692892Z",
          "iopub.status.idle": "2024-08-31T04:29:36.700789Z",
          "shell.execute_reply.started": "2024-08-31T04:29:36.69286Z",
          "shell.execute_reply": "2024-08-31T04:29:36.699828Z"
        },
        "trusted": true,
        "id": "YBCng-ED09zV",
        "outputId": "7ef6df34-2e25-4290-e6f4-9e88c157ff43"
      },
      "execution_count": null,
      "outputs": [
        {
          "execution_count": 9,
          "output_type": "execute_result",
          "data": {
            "text/plain": "{'dim': 4096,\n 'n_layers': 32,\n 'n_heads': 32,\n 'n_kv_heads': 8,\n 'vocab_size': 128256,\n 'multiple_of': 1024,\n 'ffn_dim_multiplier': 1.3,\n 'norm_eps': 1e-05,\n 'rope_theta': 500000.0}"
          },
          "metadata": {}
        }
      ]
    },
    {
      "cell_type": "markdown",
      "source": [
        "### Assign configaration details to be used later\n",
        "\n",
        "        embed_dim = 4096\n",
        "        n_layers = 32\n",
        "        n_heads = 32\n",
        "        n_kv_heads = 8\n",
        "        vocab_size = 128256\n",
        "        multiple_of = 256  # make SwiGLU hidden layer size multiple of large power of 2 or can be 1024\n",
        "        ffn_dim_multiplier = 1.3\n",
        "        norm_eps = 1e-5\n",
        "        rope_theta = 500000.0\n",
        "\n",
        "        max_batch_size = 32\n",
        "        max_seq_len = 2048\n",
        "\n",
        "        head_dim = embed_dim // n_heads # here it's 4096//32 = 128"
      ],
      "metadata": {
        "id": "-Q_DSDi009zV"
      }
    },
    {
      "cell_type": "code",
      "source": [
        "embed_dim = config[\"dim\"]\n",
        "n_layers = config[\"n_layers\"]\n",
        "n_heads = config[\"n_heads\"]\n",
        "n_kv_heads = config[\"n_kv_heads\"]\n",
        "vocab_size = config[\"vocab_size\"]\n",
        "multiple_of = config[\"multiple_of\"]\n",
        "ffn_dim_multiplier = config[\"ffn_dim_multiplier\"]\n",
        "norm_eps = config[\"norm_eps\"]\n",
        "rope_theta = torch.tensor(config[\"rope_theta\"])\n",
        "\n",
        "\n",
        "max_batch_size = 32\n",
        "max_seq_len = 2048\n",
        "\n",
        "head_dim = embed_dim // n_heads # here it's 4096//32 = 128\n"
      ],
      "metadata": {
        "execution": {
          "iopub.status.busy": "2024-08-30T15:32:39.355855Z",
          "iopub.execute_input": "2024-08-30T15:32:39.356208Z",
          "iopub.status.idle": "2024-08-30T15:32:39.362661Z",
          "shell.execute_reply.started": "2024-08-30T15:32:39.35618Z",
          "shell.execute_reply": "2024-08-30T15:32:39.361594Z"
        },
        "trusted": true,
        "id": "j0a8qd6o09zV"
      },
      "execution_count": null,
      "outputs": []
    },
    {
      "cell_type": "markdown",
      "source": [
        "## Embedding layer"
      ],
      "metadata": {
        "id": "fs_X7-Ys09zW"
      }
    },
    {
      "cell_type": "code",
      "source": [
        "embedding_layer = torch.nn.Embedding(vocab_size, embed_dim) # [vocab_sz,embed_dim]\n",
        "embedding_layer.weight.data.copy_(model[\"tok_embeddings.weight\"])\n",
        "token_embeddings_unnormalized = embedding_layer(tokens).to(torch.bfloat16) #  [batch_sz,seq_len,embed_dim]\n",
        "print(\"hidden_states  [batch_sz,seq_len,embed_dim]:\\t\", token_embeddings_unnormalized.size())\n",
        "\n",
        "seq_len = token_embeddings_unnormalized.size(1)\n",
        "print(\"Seq length (no. of tokens in input)\", seq_len)\n",
        "\n",
        "mask = torch.full((seq_len, seq_len),float(\"-inf\"),device=device)\n",
        "mask = torch.triu(mask, diagonal=1)\n",
        "print(\"Mask [seq_len,seq_len] : \\n\",mask)"
      ],
      "metadata": {
        "execution": {
          "iopub.status.busy": "2024-08-30T15:33:30.286034Z",
          "iopub.execute_input": "2024-08-30T15:33:30.28643Z",
          "iopub.status.idle": "2024-08-30T15:33:35.995771Z",
          "shell.execute_reply.started": "2024-08-30T15:33:30.286387Z",
          "shell.execute_reply": "2024-08-30T15:33:35.99363Z"
        },
        "trusted": true,
        "id": "J-J6SDmv09zX",
        "outputId": "1b78c9c5-fd89-4c07-91fd-7cd9c0dcf8f1"
      },
      "execution_count": null,
      "outputs": [
        {
          "name": "stdout",
          "text": "hidden_states  [batch_sz,seq_len,embed_dim]:\t torch.Size([17, 4096])\nSeq length (no. of tokens in input) 4096\nMask [seq_len,seq_len] : \n tensor([[0., -inf, -inf,  ..., -inf, -inf, -inf],\n        [0., 0., -inf,  ..., -inf, -inf, -inf],\n        [0., 0., 0.,  ..., -inf, -inf, -inf],\n        ...,\n        [0., 0., 0.,  ..., 0., -inf, -inf],\n        [0., 0., 0.,  ..., 0., 0., -inf],\n        [0., 0., 0.,  ..., 0., 0., 0.]], device='cuda:0')\n",
          "output_type": "stream"
        }
      ]
    },
    {
      "cell_type": "markdown",
      "source": [
        "### Normalize the embedding using rms normalization\n",
        "\n",
        "we need a norm_eps (from config) because we dont want to accidently set rms to 0 and divide by 0\n",
        "\n",
        "\n",
        "\\begin{equation}\n",
        "\\text{rms_norm}(\\mathbf{X}, \\mathbf{W}) = \\left(\\mathbf{X} \\cdot \\frac{1}{\\sqrt{\\frac{1}{D} \\sum_{i=1}^{D} x_i^2 + \\epsilon}}\\right) \\cdot \\mathbf{W}\n",
        "\\end{equation}\n",
        "\n",
        "\n",
        "Where:\n",
        "\n",
        "       X represents the input tensor.\n",
        "       W represents the normalization weights.\n",
        "       D is the dimensionality of the tensor along the dimension for which the mean is computed.\n",
        "       \\epsilon\\ is a small constant added for numerical stability, typically denoted as `norm_eps`.\n",
        "\n"
      ],
      "metadata": {
        "id": "hHqHF2dx09zX"
      }
    },
    {
      "cell_type": "code",
      "source": [
        "def rms_norm(tensor, norm_weights):\n",
        "    return (tensor * torch.rsqrt(tensor.pow(2).mean(-1, keepdim=True) + norm_eps)) * norm_weights"
      ],
      "metadata": {
        "execution": {
          "iopub.status.busy": "2024-08-30T15:33:45.864294Z",
          "iopub.execute_input": "2024-08-30T15:33:45.864674Z",
          "iopub.status.idle": "2024-08-30T15:33:45.869734Z",
          "shell.execute_reply.started": "2024-08-30T15:33:45.864636Z",
          "shell.execute_reply": "2024-08-30T15:33:45.868716Z"
        },
        "trusted": true,
        "id": "ftkwR8xp09zX"
      },
      "execution_count": null,
      "outputs": []
    },
    {
      "cell_type": "code",
      "source": [
        "token_embeddings = rms_norm(token_embeddings_unnormalized, model[\"layers.0.attention_norm.weight\"]) # [17x4096]\n",
        "token_embeddings.shape"
      ],
      "metadata": {
        "execution": {
          "iopub.status.busy": "2024-08-30T15:33:52.216171Z",
          "iopub.execute_input": "2024-08-30T15:33:52.216805Z",
          "iopub.status.idle": "2024-08-30T15:33:52.253145Z",
          "shell.execute_reply.started": "2024-08-30T15:33:52.216774Z",
          "shell.execute_reply": "2024-08-30T15:33:52.252284Z"
        },
        "trusted": true,
        "id": "XEFzEi-v09zY",
        "outputId": "58f8f32e-d01d-4aa3-f63e-5d75afcd36ed"
      },
      "execution_count": null,
      "outputs": [
        {
          "execution_count": 13,
          "output_type": "execute_result",
          "data": {
            "text/plain": "torch.Size([17, 4096])"
          },
          "metadata": {}
        }
      ]
    },
    {
      "cell_type": "markdown",
      "source": [
        "# Attention Implementation\n",
        "\n",
        "**output dimension per head = n_kv_heads * head_dim = 8 * 128 = 1024**\n",
        "\n",
        "**embed_dim = n_heads * head_dim = 32 * 128 = 4096**\n",
        "\n",
        "```python\n",
        "    model[\"layers.0.attention.wq.weight\"].shape, # query : [4096x4096]\n",
        "    model[\"layers.0.attention.wk.weight\"].shape, # key : [1024x4096]\n",
        "    model[\"layers.0.attention.wv.weight\"].shape, # value : [1024x4096]\n",
        "    model[\"layers.0.attention.wo.weight\"].shape # output : [4096x4096]\n",
        "```\n",
        "\n",
        "here these shapes represent what type of projection we're expecting\n",
        "\n",
        "> Query (wq): [4096, 4096] projects the embeddings to a space suitable for each head before splitting.\n",
        "\n",
        "> Key (wk) and Value (wv): [1024, 4096] project to a smaller space that aligns with the dimensions of each key and value per head (8 heads × 128 dimension per head).\n",
        "\n",
        "> Output (wo): [4096, 4096] projects the concatenated output from all heads back to the original embedding space."
      ],
      "metadata": {
        "id": "OmvEfuOU09zY"
      }
    },
    {
      "cell_type": "markdown",
      "source": [
        "#### unwrapping query\n",
        "\n",
        "> q_layer0 : multiple attention head before splitting [4096,4096]\n",
        "\n",
        "> after splitting the heads, q_layer0 : [no. of attention head, size of the query vector,  size of the token embedding] : [32x128x4096]\n",
        "\n",
        "> query weight matrix first head of the first layer, the size of this query weight matrix is [128x4096]\n",
        "\n",
        "> we now multiply the query weights with the token embedding, to recive a query for the token\n",
        "here you can see the resulting shape is [17x128], this is because we have 17 tokens and for each token there is a 128 length query.\n",
        "\n",
        "\n"
      ],
      "metadata": {
        "id": "HlP0zGES09zY"
      }
    },
    {
      "cell_type": "code",
      "source": [
        "q_layer0 = model[\"layers.0.attention.wq.weight\"]     # [4096, 4096]\n",
        "q_layer0 = q_layer0.view(n_heads, head_dim, embed_dim)       #  [32x128x4096]\n",
        "q_layer0_head0 = q_layer0[0]    # [128x4096]\n",
        "q_per_token = torch.matmul(token_embeddings, q_layer0_head0.T)  # [17x128]\n",
        "q_per_token.shape"
      ],
      "metadata": {
        "execution": {
          "iopub.status.busy": "2024-08-30T15:34:35.518019Z",
          "iopub.execute_input": "2024-08-30T15:34:35.518411Z",
          "iopub.status.idle": "2024-08-30T15:34:35.66659Z",
          "shell.execute_reply.started": "2024-08-30T15:34:35.518381Z",
          "shell.execute_reply": "2024-08-30T15:34:35.665471Z"
        },
        "trusted": true,
        "id": "cHYh5iwr09zg",
        "outputId": "300ff53a-14ce-43cd-f8bf-58dec19664e7"
      },
      "execution_count": null,
      "outputs": [
        {
          "execution_count": 14,
          "output_type": "execute_result",
          "data": {
            "text/plain": "torch.Size([17, 128])"
          },
          "metadata": {}
        }
      ]
    },
    {
      "cell_type": "markdown",
      "source": [
        "### RoPE\n",
        "\n",
        "**query: \"the answer to the ultimate question of life, the universe, and everything is \"**\n",
        "\n",
        "> In our prompt we have used \"the\" three times, we need the query vectors of all 3 \"the\" tokens to have different query vectors (each of size [1x128]) based on their positions in the query. we perform these rotations using RoPE (rotory positional embedding).\n",
        "\n",
        "> we split the query vectors into pairs, we apply a rotational angle shift to each pair!\n",
        "\n",
        "we now have a vector of size [17x64x2], this is 17 tokens each with the 128 length queries split into 64 pairs for each token in the prompt! each of those 64 pairs will be rotated by m*(theta) where m is the position of the token for which we are rotating the query!\n",
        "\n",
        "> Normalized tensor (between 0 & 1) used to calculate frequencies in 64-dimensional space : zero_to_one_split_into_64_parts\n",
        "\n",
        "> computes the actual frequency values for each position in the 64-dimensional space : freqs\n",
        "\n",
        "> freqs_for_each_token : tensor where each row corresponds to the frequencies for a specific token, extending the frequencies to each token\n",
        "\n",
        "> freqs_cis :  complex numbers representing the frequencies, with real parts as cosines and imaginary parts as sines of the frequencies\n",
        "\n",
        "plot visualizes the complex frequencies for the 4th token, showing the relationship between the real and imaginary parts.\n"
      ],
      "metadata": {
        "id": "DaOxzGvc09zh"
      }
    },
    {
      "cell_type": "code",
      "source": [
        "q_per_token_split_into_pairs = q_per_token.float().view(q_per_token.shape[0], -1, 2) # [17, 64, 2]\n",
        "zero_to_one_split_into_64_parts = torch.tensor(range(head_dim//2))/(64) # head_dim // 2 = 64\n",
        "print(\"zero_to_one_split_into_64_parts\\n\",zero_to_one_split_into_64_parts)\n",
        "print(\"=\"*100)\n",
        "\n",
        "freqs = 1.0 / (rope_theta ** zero_to_one_split_into_64_parts)\n",
        "print(\"freqs\\n\",freqs)\n",
        "print(\"=\"*100)\n",
        "\n",
        "freqs_for_each_token = torch.outer(torch.arange(seq_len), freqs)\n",
        "freqs_cis = torch.polar(torch.ones_like(freqs_for_each_token), freqs_for_each_token)\n",
        "print(\"freqs_cis\\n\",freqs_cis)\n",
        "print(\"=\"*100)\n",
        "\n",
        "\n",
        "# viewing the third row of freqs_cis\n",
        "value = freqs_cis[3]\n",
        "plt.figure()\n",
        "for i, element in enumerate(value[:seq_len]):\n",
        "    plt.plot([0, element.real], [0, element.imag], color='blue', linewidth=1, label=f\"Index: {i}\")\n",
        "    plt.annotate(f\"{i}\", xy=(element.real, element.imag), color='red')\n",
        "plt.xlabel('Real')\n",
        "plt.ylabel('Imaginary')\n",
        "plt.title('Plot of one row of freqs_cis')\n",
        "plt.show()"
      ],
      "metadata": {
        "execution": {
          "iopub.status.busy": "2024-08-30T15:34:44.434281Z",
          "iopub.execute_input": "2024-08-30T15:34:44.434834Z",
          "iopub.status.idle": "2024-08-30T15:34:44.935135Z",
          "shell.execute_reply.started": "2024-08-30T15:34:44.434795Z",
          "shell.execute_reply": "2024-08-30T15:34:44.934266Z"
        },
        "trusted": true,
        "id": "UVbgd0cG09zh",
        "outputId": "ba108adb-e745-4767-abb7-3c011b70bfb5"
      },
      "execution_count": null,
      "outputs": [
        {
          "name": "stdout",
          "text": "zero_to_one_split_into_64_parts\n tensor([0.0000, 0.0156, 0.0312, 0.0469, 0.0625, 0.0781, 0.0938, 0.1094, 0.1250,\n        0.1406, 0.1562, 0.1719, 0.1875, 0.2031, 0.2188, 0.2344, 0.2500, 0.2656,\n        0.2812, 0.2969, 0.3125, 0.3281, 0.3438, 0.3594, 0.3750, 0.3906, 0.4062,\n        0.4219, 0.4375, 0.4531, 0.4688, 0.4844, 0.5000, 0.5156, 0.5312, 0.5469,\n        0.5625, 0.5781, 0.5938, 0.6094, 0.6250, 0.6406, 0.6562, 0.6719, 0.6875,\n        0.7031, 0.7188, 0.7344, 0.7500, 0.7656, 0.7812, 0.7969, 0.8125, 0.8281,\n        0.8438, 0.8594, 0.8750, 0.8906, 0.9062, 0.9219, 0.9375, 0.9531, 0.9688,\n        0.9844])\n====================================================================================================\nfreqs\n tensor([1.0000e+00, 8.1462e-01, 6.6360e-01, 5.4058e-01, 4.4037e-01, 3.5873e-01,\n        2.9223e-01, 2.3805e-01, 1.9392e-01, 1.5797e-01, 1.2869e-01, 1.0483e-01,\n        8.5397e-02, 6.9566e-02, 5.6670e-02, 4.6164e-02, 3.7606e-02, 3.0635e-02,\n        2.4955e-02, 2.0329e-02, 1.6560e-02, 1.3490e-02, 1.0990e-02, 8.9523e-03,\n        7.2927e-03, 5.9407e-03, 4.8394e-03, 3.9423e-03, 3.2114e-03, 2.6161e-03,\n        2.1311e-03, 1.7360e-03, 1.4142e-03, 1.1520e-03, 9.3847e-04, 7.6450e-04,\n        6.2277e-04, 5.0732e-04, 4.1327e-04, 3.3666e-04, 2.7425e-04, 2.2341e-04,\n        1.8199e-04, 1.4825e-04, 1.2077e-04, 9.8381e-05, 8.0143e-05, 6.5286e-05,\n        5.3183e-05, 4.3324e-05, 3.5292e-05, 2.8750e-05, 2.3420e-05, 1.9078e-05,\n        1.5542e-05, 1.2660e-05, 1.0313e-05, 8.4015e-06, 6.8440e-06, 5.5752e-06,\n        4.5417e-06, 3.6997e-06, 3.0139e-06, 2.4551e-06])\n====================================================================================================\nfreqs_cis\n tensor([[ 1.0000+0.0000e+00j,  1.0000+0.0000e+00j,  1.0000+0.0000e+00j,\n          ...,  1.0000+0.0000e+00j,  1.0000+0.0000e+00j,\n          1.0000+0.0000e+00j],\n        [ 0.5403+8.4147e-01j,  0.6861+7.2746e-01j,  0.7878+6.1596e-01j,\n          ...,  1.0000+3.6997e-06j,  1.0000+3.0139e-06j,\n          1.0000+2.4551e-06j],\n        [-0.4161+9.0930e-01j, -0.0584+9.9829e-01j,  0.2412+9.7048e-01j,\n          ...,  1.0000+7.3994e-06j,  1.0000+6.0277e-06j,\n          1.0000+4.9103e-06j],\n        ...,\n        [ 0.1367+9.9061e-01j,  0.3978-9.1749e-01j, -0.9910+1.3396e-01j,\n          ...,  1.0000+5.1796e-05j,  1.0000+4.2194e-05j,\n          1.0000+3.4372e-05j],\n        [-0.7597+6.5029e-01j,  0.9404-3.4018e-01j, -0.8632-5.0488e-01j,\n          ...,  1.0000+5.5496e-05j,  1.0000+4.5208e-05j,\n          1.0000+3.6827e-05j],\n        [-0.9577-2.8790e-01j,  0.8927+4.5066e-01j, -0.3690-9.2942e-01j,\n          ...,  1.0000+5.9196e-05j,  1.0000+4.8222e-05j,\n          1.0000+3.9282e-05j]])\n====================================================================================================\n",
          "output_type": "stream"
        },
        {
          "output_type": "display_data",
          "data": {
            "text/plain": "<Figure size 640x480 with 1 Axes>",
            "image/png": "[encoded data removed]"
          },
          "metadata": {}
        }
      ]
    },
    {
      "cell_type": "markdown",
      "source": [
        "#### now that we have a complex number (the angle change vector) for every token's query element\n",
        "\n",
        "> we can convert our queries (the one we split into pairs) as complex numbers and then dot product to rotate the query based on the position : q_per_token_as_complex_numbers & q_per_token_as_complex_numbers_rotated [17, 64]\n",
        "\n",
        "> we can get back our the queries as pairs by viewing the complex numbers as real numbers again : q_per_token_split_into_pairs_rotated [17, 64, 2]\n",
        "\n",
        "> the rotated pairs are now merged, we now have a new query vector (rotated query vector) that is of the shape [17x128] where 17 is the number of tokens and the 128 is the dim of the query vector : q_per_token_rotated [17, 128]"
      ],
      "metadata": {
        "id": "okQZEGWO09zi"
      }
    },
    {
      "cell_type": "code",
      "source": [
        "q_per_token_as_complex_numbers = torch.view_as_complex(q_per_token_split_into_pairs) # [17, 64]\n",
        "print(\"q_per_token_as_complex_numbers\\n\",q_per_token_as_complex_numbers)\n",
        "print(\"=\"*100)\n",
        "\n",
        "q_per_token_as_complex_numbers_rotated = q_per_token_as_complex_numbers * freqs_cis        # [17, 64]\n",
        "print(\"q_per_token_as_complex_numbers_rotated\\n\",q_per_token_as_complex_numbers_rotated)\n",
        "print(\"=\"*100)\n",
        "\n",
        "q_per_token_split_into_pairs_rotated = torch.view_as_real(q_per_token_as_complex_numbers_rotated) # [17, 64, 2]\n",
        "print(\"q_per_token_split_into_pairs_rotated\\n\",q_per_token_split_into_pairs_rotated)\n",
        "print(\"=\"*100)\n",
        "\n",
        "q_per_token_rotated = q_per_token_split_into_pairs_rotated.view(q_per_token.shape) # [17, 128]\n",
        "print(\"q_per_token_rotated\\n\",q_per_token_rotated)\n",
        "print(\"=\"*100)"
      ],
      "metadata": {
        "execution": {
          "iopub.status.busy": "2024-08-30T15:34:56.649554Z",
          "iopub.execute_input": "2024-08-30T15:34:56.650402Z",
          "iopub.status.idle": "2024-08-30T15:34:56.668855Z",
          "shell.execute_reply.started": "2024-08-30T15:34:56.65037Z",
          "shell.execute_reply": "2024-08-30T15:34:56.66792Z"
        },
        "trusted": true,
        "id": "44_L-GGy09zj",
        "outputId": "18892365-1b09-47df-94b1-bb35bdf88898"
      },
      "execution_count": null,
      "outputs": [
        {
          "name": "stdout",
          "text": "q_per_token_as_complex_numbers\n tensor([[-0.0757-0.1094j,  0.2734-0.2119j,  0.2656-0.3750j,  ...,\n          0.1943-0.1729j,  0.1768+0.5117j,  0.1758+0.0845j],\n        [ 0.1660-0.2773j,  0.3652-0.5156j,  0.3809-0.8008j,  ...,\n          0.5859+0.0767j,  0.5156+0.6875j,  0.5156+0.6562j],\n        [ 1.0781+0.0549j,  2.4844-1.3906j,  1.8594-2.1719j,  ...,\n          0.4629-0.5898j,  0.3086+1.4453j,  0.8086+0.3066j],\n        ...,\n        [ 1.1406+0.1196j,  2.6250-1.1953j,  1.7422-2.2031j,  ...,\n          0.4492-0.1885j, -0.0052+1.6484j,  0.5664+0.0273j],\n        [ 0.7266+0.1553j,  2.3125-0.9844j,  1.6250-2.1875j,  ...,\n          0.6719-0.4746j,  0.7500+1.1875j,  0.4863+0.0140j],\n        [ 0.6445-0.0413j,  1.5312-0.9570j,  1.1562-1.6250j,  ...,\n          0.3926-0.4727j,  0.5391+1.1719j,  0.6875+0.2598j]],\n       grad_fn=<ViewAsComplexBackward0>)\n====================================================================================================\nq_per_token_as_complex_numbers_rotated\n tensor([[-0.0757-0.1094j,  0.2734-0.2119j,  0.2656-0.3750j,  ...,\n          0.1943-0.1729j,  0.1768+0.5117j,  0.1758+0.0845j],\n        [ 0.3231-0.0102j,  0.6257-0.0881j,  0.7933-0.3962j,  ...,\n          0.5859+0.0767j,  0.5156+0.6875j,  0.5156+0.6563j],\n        [-0.4986+0.9575j,  1.2432+2.5614j,  2.5562+1.2806j,  ...,\n          0.4629-0.5898j,  0.3086+1.4453j,  0.8086+0.3066j],\n        ...,\n        [ 0.0375+1.1463j, -0.0526-2.8839j, -1.4314+2.4166j,  ...,\n          0.4492-0.1885j, -0.0053+1.6484j,  0.5664+0.0274j],\n        [-0.6529+0.3545j,  1.8397-1.7123j, -2.5071+1.0678j,  ...,\n          0.6719-0.4746j,  0.7499+1.1875j,  0.4863+0.0140j],\n        [-0.6291-0.1460j,  1.7982-0.1643j, -1.9370-0.4750j,  ...,\n          0.3926-0.4726j,  0.5390+1.1719j,  0.6875+0.2598j]],\n       grad_fn=<MulBackward0>)\n====================================================================================================\nq_per_token_split_into_pairs_rotated\n tensor([[[-0.0757, -0.1094],\n         [ 0.2734, -0.2119],\n         [ 0.2656, -0.3750],\n         ...,\n         [ 0.1943, -0.1729],\n         [ 0.1768,  0.5117],\n         [ 0.1758,  0.0845]],\n\n        [[ 0.3231, -0.0102],\n         [ 0.6257, -0.0881],\n         [ 0.7933, -0.3962],\n         ...,\n         [ 0.5859,  0.0767],\n         [ 0.5156,  0.6875],\n         [ 0.5156,  0.6563]],\n\n        [[-0.4986,  0.9575],\n         [ 1.2432,  2.5614],\n         [ 2.5562,  1.2806],\n         ...,\n         [ 0.4629, -0.5898],\n         [ 0.3086,  1.4453],\n         [ 0.8086,  0.3066]],\n\n        ...,\n\n        [[ 0.0375,  1.1463],\n         [-0.0526, -2.8839],\n         [-1.4314,  2.4166],\n         ...,\n         [ 0.4492, -0.1885],\n         [-0.0053,  1.6484],\n         [ 0.5664,  0.0274]],\n\n        [[-0.6529,  0.3545],\n         [ 1.8397, -1.7123],\n         [-2.5071,  1.0678],\n         ...,\n         [ 0.6719, -0.4746],\n         [ 0.7499,  1.1875],\n         [ 0.4863,  0.0140]],\n\n        [[-0.6291, -0.1460],\n         [ 1.7982, -0.1643],\n         [-1.9370, -0.4750],\n         ...,\n         [ 0.3926, -0.4726],\n         [ 0.5390,  1.1719],\n         [ 0.6875,  0.2598]]], grad_fn=<ViewAsRealBackward0>)\n====================================================================================================\nq_per_token_rotated\n tensor([[-0.0757, -0.1094,  0.2734,  ...,  0.5117,  0.1758,  0.0845],\n        [ 0.3231, -0.0102,  0.6257,  ...,  0.6875,  0.5156,  0.6563],\n        [-0.4986,  0.9575,  1.2432,  ...,  1.4453,  0.8086,  0.3066],\n        ...,\n        [ 0.0375,  1.1463, -0.0526,  ...,  1.6484,  0.5664,  0.0274],\n        [-0.6529,  0.3545,  1.8397,  ...,  1.1875,  0.4863,  0.0140],\n        [-0.6291, -0.1460,  1.7982,  ...,  1.1719,  0.6875,  0.2598]],\n       grad_fn=<ViewBackward0>)\n====================================================================================================\n",
          "output_type": "stream"
        }
      ]
    },
    {
      "cell_type": "markdown",
      "source": [
        "### same for keys"
      ],
      "metadata": {
        "id": "cMHSFxR409zj"
      }
    },
    {
      "cell_type": "code",
      "source": [
        "k_layer0 = model[\"layers.0.attention.wk.weight\"]\n",
        "k_layer0 = k_layer0.view(n_kv_heads, k_layer0.shape[0] // n_kv_heads, embed_dim) # [8, 128, 4096]\n",
        "k_layer0_head0 = k_layer0[0]                                     # [128, 4096]\n",
        "k_per_token = torch.matmul(token_embeddings, k_layer0_head0.T)    # [17, 128]\n",
        "k_per_token_split_into_pairs = k_per_token.float().view(k_per_token.shape[0], -1, 2) # [17, 64, 2]\n",
        "k_per_token_as_complex_numbers = torch.view_as_complex(k_per_token_split_into_pairs)  # [17, 64]\n",
        "k_per_token_split_into_pairs_rotated = torch.view_as_real(k_per_token_as_complex_numbers * freqs_cis) # [17, 64, 2]\n",
        "k_per_token_rotated = k_per_token_split_into_pairs_rotated.view(k_per_token.shape) # [17, 128]\n",
        "k_per_token_rotated"
      ],
      "metadata": {
        "execution": {
          "iopub.status.busy": "2024-08-30T15:36:05.261613Z",
          "iopub.execute_input": "2024-08-30T15:36:05.261989Z",
          "iopub.status.idle": "2024-08-30T15:36:05.273835Z",
          "shell.execute_reply.started": "2024-08-30T15:36:05.26196Z",
          "shell.execute_reply": "2024-08-30T15:36:05.272785Z"
        },
        "trusted": true,
        "id": "dsmQEtOT09zk",
        "outputId": "dfa88b64-bbb6-4cdd-a736-4c416102d782"
      },
      "execution_count": null,
      "outputs": [
        {
          "execution_count": 19,
          "output_type": "execute_result",
          "data": {
            "text/plain": "tensor([[ 0.5078, -0.3242,  0.9375,  ..., -0.2080,  0.0583,  0.2412],\n        [ 0.8619,  6.8369, -0.6786,  ..., -1.4531, -1.2734, -1.0547],\n        [-4.7781,  4.9960, -2.8142,  ..., -1.0625, -1.1953, -0.8281],\n        ...,\n        [-1.4398,  7.7383,  3.6386,  ..., -0.7618, -1.4843, -1.1641],\n        [-4.5773,  2.1493,  3.6660,  ..., -1.4531, -0.9414, -1.1250],\n        [-2.6795, -1.5071,  1.6741,  ..., -0.7500, -0.6328, -1.0469]],\n       grad_fn=<ViewBackward0>)"
          },
          "metadata": {}
        }
      ]
    },
    {
      "cell_type": "markdown",
      "source": [
        "### at this stage now have both the rotated values of queries and keys, for each token\n",
        "\n",
        "> doing this will give us a score mapping each token with one another\n",
        "\n",
        "> this score describes how well each token's query relates to the each tokens's key. THIS IS SELF ATTENTION :)\n",
        "\n",
        "> the shape of the attention score matrix (qk_per_token) is [17x17] where 17 is the number of tokens in the promptoing this will give us a score mapping each token with one another\n",
        "\n",
        "we now have to mask query key scores\n",
        "\n",
        "during the training process of llama3, the future token qk scores are masked.\n",
        "why? because during training we only learn to predict tokens using past tokens.\n",
        "as a result, during inference we set the future tokens to zero.we now have to mask query key scores\n",
        "\n"
      ],
      "metadata": {
        "id": "JJO0xQVw09zk"
      }
    },
    {
      "cell_type": "code",
      "source": [
        "qk_per_token = torch.matmul(q_per_token_rotated, k_per_token_rotated.T)/(head_dim)**0.5\n",
        "\n",
        "def display_qk_heatmap(qk_per_token):\n",
        "    _, ax = plt.subplots()\n",
        "    im = ax.imshow(qk_per_token.to(float).detach(), cmap='YlOrBr')\n",
        "    ax.set_xticks(range(len(prompt_split_as_tokens)))\n",
        "    ax.set_yticks(range(len(prompt_split_as_tokens)))\n",
        "    ax.set_xticklabels(prompt_split_as_tokens)\n",
        "    ax.set_xticklabels(prompt_split_as_tokens, rotation=90)\n",
        "    ax.set_yticklabels(prompt_split_as_tokens)\n",
        "    ax.figure.colorbar(im, ax=ax)\n",
        "\n",
        "display_qk_heatmap(qk_per_token)"
      ],
      "metadata": {
        "execution": {
          "iopub.status.busy": "2024-08-30T15:38:27.149012Z",
          "iopub.execute_input": "2024-08-30T15:38:27.149774Z",
          "iopub.status.idle": "2024-08-30T15:38:27.536176Z",
          "shell.execute_reply.started": "2024-08-30T15:38:27.149739Z",
          "shell.execute_reply": "2024-08-30T15:38:27.5353Z"
        },
        "trusted": true,
        "id": "_3LM27jY09zl",
        "outputId": "22dbca53-a268-4862-8178-9d003975e083"
      },
      "execution_count": null,
      "outputs": [
        {
          "output_type": "display_data",
          "data": {
            "text/plain": "<Figure size 640x480 with 2 Axes>",
            "image/png": "[encoded data removed]"
          },
          "metadata": {}
        }
      ]
    },
    {
      "cell_type": "code",
      "source": [
        "mask = torch.full((len(tokens), len(tokens)), float(\"-inf\"), device=tokens.device)\n",
        "mask = torch.triu(mask, diagonal=1) # [17, 17]\n",
        "mask"
      ],
      "metadata": {
        "execution": {
          "iopub.status.busy": "2024-08-30T15:38:39.727771Z",
          "iopub.execute_input": "2024-08-30T15:38:39.728414Z",
          "iopub.status.idle": "2024-08-30T15:38:39.738191Z",
          "shell.execute_reply.started": "2024-08-30T15:38:39.728382Z",
          "shell.execute_reply": "2024-08-30T15:38:39.73727Z"
        },
        "trusted": true,
        "id": "fUq2oERa09zl",
        "outputId": "f81e17f5-16c2-4cab-f8b0-150e5a2d721e"
      },
      "execution_count": null,
      "outputs": [
        {
          "execution_count": 23,
          "output_type": "execute_result",
          "data": {
            "text/plain": "tensor([[0., -inf, -inf, -inf, -inf, -inf, -inf, -inf, -inf, -inf, -inf, -inf, -inf, -inf, -inf, -inf, -inf],\n        [0., 0., -inf, -inf, -inf, -inf, -inf, -inf, -inf, -inf, -inf, -inf, -inf, -inf, -inf, -inf, -inf],\n        [0., 0., 0., -inf, -inf, -inf, -inf, -inf, -inf, -inf, -inf, -inf, -inf, -inf, -inf, -inf, -inf],\n        [0., 0., 0., 0., -inf, -inf, -inf, -inf, -inf, -inf, -inf, -inf, -inf, -inf, -inf, -inf, -inf],\n        [0., 0., 0., 0., 0., -inf, -inf, -inf, -inf, -inf, -inf, -inf, -inf, -inf, -inf, -inf, -inf],\n        [0., 0., 0., 0., 0., 0., -inf, -inf, -inf, -inf, -inf, -inf, -inf, -inf, -inf, -inf, -inf],\n        [0., 0., 0., 0., 0., 0., 0., -inf, -inf, -inf, -inf, -inf, -inf, -inf, -inf, -inf, -inf],\n        [0., 0., 0., 0., 0., 0., 0., 0., -inf, -inf, -inf, -inf, -inf, -inf, -inf, -inf, -inf],\n        [0., 0., 0., 0., 0., 0., 0., 0., 0., -inf, -inf, -inf, -inf, -inf, -inf, -inf, -inf],\n        [0., 0., 0., 0., 0., 0., 0., 0., 0., 0., -inf, -inf, -inf, -inf, -inf, -inf, -inf],\n        [0., 0., 0., 0., 0., 0., 0., 0., 0., 0., 0., -inf, -inf, -inf, -inf, -inf, -inf],\n        [0., 0., 0., 0., 0., 0., 0., 0., 0., 0., 0., 0., -inf, -inf, -inf, -inf, -inf],\n        [0., 0., 0., 0., 0., 0., 0., 0., 0., 0., 0., 0., 0., -inf, -inf, -inf, -inf],\n        [0., 0., 0., 0., 0., 0., 0., 0., 0., 0., 0., 0., 0., 0., -inf, -inf, -inf],\n        [0., 0., 0., 0., 0., 0., 0., 0., 0., 0., 0., 0., 0., 0., 0., -inf, -inf],\n        [0., 0., 0., 0., 0., 0., 0., 0., 0., 0., 0., 0., 0., 0., 0., 0., -inf],\n        [0., 0., 0., 0., 0., 0., 0., 0., 0., 0., 0., 0., 0., 0., 0., 0., 0.]])"
          },
          "metadata": {}
        }
      ]
    },
    {
      "cell_type": "code",
      "source": [
        "qk_per_token_after_masking = qk_per_token + mask\n",
        "display_qk_heatmap(qk_per_token_after_masking)"
      ],
      "metadata": {
        "execution": {
          "iopub.status.busy": "2024-08-30T15:39:37.286901Z",
          "iopub.execute_input": "2024-08-30T15:39:37.287287Z",
          "iopub.status.idle": "2024-08-30T15:39:37.680183Z",
          "shell.execute_reply.started": "2024-08-30T15:39:37.287257Z",
          "shell.execute_reply": "2024-08-30T15:39:37.67931Z"
        },
        "trusted": true,
        "id": "3WupfUHB09zm",
        "outputId": "c4b932cc-0399-437e-8672-f34cd2e6e6c7"
      },
      "execution_count": null,
      "outputs": [
        {
          "output_type": "display_data",
          "data": {
            "text/plain": "<Figure size 640x480 with 2 Axes>",
            "image/png": "[encoded data removed]"
          },
          "metadata": {}
        }
      ]
    },
    {
      "cell_type": "code",
      "source": [
        "qk_per_token_after_masking_after_softmax = torch.nn.functional.softmax(qk_per_token_after_masking, dim=1).to(torch.bfloat16)\n",
        "display_qk_heatmap(qk_per_token_after_masking_after_softmax)"
      ],
      "metadata": {
        "execution": {
          "iopub.status.busy": "2024-08-30T15:39:57.211053Z",
          "iopub.execute_input": "2024-08-30T15:39:57.211953Z",
          "iopub.status.idle": "2024-08-30T15:39:57.609129Z",
          "shell.execute_reply.started": "2024-08-30T15:39:57.21192Z",
          "shell.execute_reply": "2024-08-30T15:39:57.60829Z"
        },
        "trusted": true,
        "id": "VgOwpS7k09zm",
        "outputId": "872ffc12-8df6-4613-c774-033de7ae1bd4"
      },
      "execution_count": null,
      "outputs": [
        {
          "output_type": "display_data",
          "data": {
            "text/plain": "<Figure size 640x480 with 2 Axes>",
            "image/png": "[encoded data removed]"
          },
          "metadata": {}
        }
      ]
    },
    {
      "cell_type": "markdown",
      "source": [
        "### values (almost the end of attention)\n",
        "\n",
        "> these scores (0-1) are used to determine how much of value matrix is used per token\n",
        "\n",
        "> just like keys, value weights are also shared acorss every 4 attention heads (to save computation)\n",
        "\n",
        "> as a result, the shape of the value weight matrix below is [8x128x4096]\n",
        "\n",
        "> the first layer, first head value weight matrix is given below [128x4096]\n",
        "\n",
        "> we now use the value weghts to get the attention values per token, this is of size [17x128] where 17 is the number of tokens in the prompt and 128 is the dim of the value vector per token\n",
        "\n",
        "> the resultant attention vector after multipying with the values per token is of shape [17x128]"
      ],
      "metadata": {
        "id": "Fd82rFUH09zn"
      }
    },
    {
      "cell_type": "code",
      "source": [
        "v_layer0 = model[\"layers.0.attention.wv.weight\"]\n",
        "v_layer0 = v_layer0.view(n_kv_heads, v_layer0.shape[0] // n_kv_heads, embed_dim) # [8x128x4096]\n",
        "v_layer0_head0 = v_layer0[0]  # [128x4096]\n",
        "v_per_token = torch.matmul(token_embeddings, v_layer0_head0.T) # [17x128]\n",
        "qkv_attention = torch.matmul(qk_per_token_after_masking_after_softmax, v_per_token) # [17x128]\n",
        "qkv_attention"
      ],
      "metadata": {
        "execution": {
          "iopub.status.busy": "2024-08-30T15:40:44.416767Z",
          "iopub.execute_input": "2024-08-30T15:40:44.417737Z",
          "iopub.status.idle": "2024-08-30T15:40:44.432205Z",
          "shell.execute_reply.started": "2024-08-30T15:40:44.417697Z",
          "shell.execute_reply": "2024-08-30T15:40:44.430927Z"
        },
        "trusted": true,
        "id": "OklCbpi909zn",
        "outputId": "e0f52098-be74-46e9-a875-1e4154e8e14a"
      },
      "execution_count": null,
      "outputs": [
        {
          "execution_count": 28,
          "output_type": "execute_result",
          "data": {
            "text/plain": "tensor([[ 1.5442e-02,  8.0872e-04,  3.3447e-02,  ..., -2.4780e-02,\n         -2.8076e-03,  6.4941e-02],\n        [ 1.4648e-02,  3.4523e-04,  3.4424e-02,  ..., -2.3682e-02,\n         -4.3335e-03,  5.7617e-02],\n        [ 1.3733e-02, -9.0122e-05,  3.4912e-02,  ..., -2.2339e-02,\n         -5.6152e-03,  4.9805e-02],\n        ...,\n        [-9.7656e-03, -6.4392e-03,  2.8320e-02,  ...,  7.1411e-03,\n         -8.9722e-03,  1.9775e-02],\n        [-8.6060e-03, -1.1215e-03,  2.7832e-02,  ...,  7.8125e-03,\n         -1.2817e-02,  2.3682e-02],\n        [ 4.6997e-03,  9.4414e-05,  2.3193e-02,  ...,  7.2861e-04,\n         -1.2451e-02,  2.1362e-02]], dtype=torch.bfloat16,\n       grad_fn=<MmBackward0>)"
          },
          "metadata": {}
        }
      ]
    },
    {
      "cell_type": "markdown",
      "source": [
        "### Multi-head attention\n",
        "\n",
        "> we now have a the qkv_attention matrix for all 32 heads on the first layer, next im going to merge all attention scores into one large matrix of size [17x4096]\n",
        "\n",
        "> one of the last things to do for a layer 0 attention is, is to multiply the weight matrix of the [4096x4096]\n",
        "\n",
        "> we now have the change in the embedding value after attention, that should be adding to the original token embeddings  [17x4096]\n",
        "\n",
        "> we normalize and then run a feed forward neural network through the embedding delta\n"
      ],
      "metadata": {
        "id": "vfcu6bXE09zo"
      }
    },
    {
      "cell_type": "code",
      "source": [
        "qkv_attention_store = []\n",
        "\n",
        "for head in range(n_heads):\n",
        "    q_layer0_head = q_layer0[head]\n",
        "    k_layer0_head = k_layer0[head//4] # key weights are shared across 4 heads\n",
        "    v_layer0_head = v_layer0[head//4] # value weights are shared across 4 heads\n",
        "    q_per_token = torch.matmul(token_embeddings, q_layer0_head.T)\n",
        "    k_per_token = torch.matmul(token_embeddings, k_layer0_head.T)\n",
        "    v_per_token = torch.matmul(token_embeddings, v_layer0_head.T)\n",
        "\n",
        "    q_per_token_split_into_pairs = q_per_token.float().view(q_per_token.shape[0], -1, 2)\n",
        "    q_per_token_as_complex_numbers = torch.view_as_complex(q_per_token_split_into_pairs)\n",
        "    q_per_token_split_into_pairs_rotated = torch.view_as_real(q_per_token_as_complex_numbers * freqs_cis[:len(tokens)])\n",
        "    q_per_token_rotated = q_per_token_split_into_pairs_rotated.view(q_per_token.shape)\n",
        "\n",
        "    k_per_token_split_into_pairs = k_per_token.float().view(k_per_token.shape[0], -1, 2)\n",
        "    k_per_token_as_complex_numbers = torch.view_as_complex(k_per_token_split_into_pairs)\n",
        "    k_per_token_split_into_pairs_rotated = torch.view_as_real(k_per_token_as_complex_numbers * freqs_cis[:len(tokens)])\n",
        "    k_per_token_rotated = k_per_token_split_into_pairs_rotated.view(k_per_token.shape)\n",
        "\n",
        "    qk_per_token = torch.matmul(q_per_token_rotated, k_per_token_rotated.T)/(128)**0.5\n",
        "    mask = torch.full((len(tokens), len(tokens)), float(\"-inf\"), device=tokens.device)\n",
        "    mask = torch.triu(mask, diagonal=1)\n",
        "    qk_per_token_after_masking = qk_per_token + mask\n",
        "    qk_per_token_after_masking_after_softmax = torch.nn.functional.softmax(qk_per_token_after_masking, dim=1).to(torch.bfloat16)\n",
        "    qkv_attention = torch.matmul(qk_per_token_after_masking_after_softmax, v_per_token)\n",
        "    qkv_attention_store.append(qkv_attention)\n",
        "\n",
        "print(len(qkv_attention_store)) # 32\n",
        "stacked_qkv_attention = torch.cat(qkv_attention_store, dim=-1) # [17x4096]\n",
        "w_layer0 = model[\"layers.0.attention.wo.weight\"]   # [4096x4096]\n",
        "embedding_delta = torch.matmul(stacked_qkv_attention, w_layer0.T) # [17x4096]\n",
        "embedding_after_edit = token_embeddings_unnormalized + embedding_delta  # [17x4096]\n",
        "embedding_after_edit_normalized = rms_norm(embedding_after_edit, model[\"layers.0.ffn_norm.weight\"]) # [17x4096]\n",
        "embedding_after_edit_normalized.shape"
      ],
      "metadata": {
        "execution": {
          "iopub.status.busy": "2024-08-30T15:41:04.970061Z",
          "iopub.execute_input": "2024-08-30T15:41:04.97103Z",
          "iopub.status.idle": "2024-08-30T15:41:05.093045Z",
          "shell.execute_reply.started": "2024-08-30T15:41:04.970994Z",
          "shell.execute_reply": "2024-08-30T15:41:05.092039Z"
        },
        "trusted": true,
        "id": "ZGOfV5s709zo",
        "outputId": "ac17d3f1-9c29-4e38-f22e-3b8e9b34874b"
      },
      "execution_count": null,
      "outputs": [
        {
          "name": "stdout",
          "text": "32\n",
          "output_type": "stream"
        },
        {
          "execution_count": 29,
          "output_type": "execute_result",
          "data": {
            "text/plain": "torch.Size([17, 4096])"
          },
          "metadata": {}
        }
      ]
    },
    {
      "cell_type": "markdown",
      "source": [
        "> loading the ff weights and implementing the feed forward network\n",
        "\n",
        "in llama3, they used a SwiGLU feedforward network, this network architecture is really good at adding non linearity when needed by the model. [17x4096]\n",
        "\n",
        "> Now that we've edited embedding as having information about all queries asked on the first layer now each layer will encode more and more complex queries on the quesions asked, until we have an embedding that knows everything about the next token that we need."
      ],
      "metadata": {
        "id": "zTu-Kj4809zp"
      }
    },
    {
      "cell_type": "code",
      "source": [
        "w1 = model[\"layers.0.feed_forward.w1.weight\"]\n",
        "w2 = model[\"layers.0.feed_forward.w2.weight\"]\n",
        "w3 = model[\"layers.0.feed_forward.w3.weight\"]\n",
        "output_after_feedforward = torch.matmul(torch.functional.F.silu(torch.matmul(embedding_after_edit_normalized, w1.T)) * torch.matmul(embedding_after_edit_normalized, w3.T), w2.T)\n",
        "layer_0_embedding = embedding_after_edit+output_after_feedforward # same as embedding_after_edit_normalized i.e [17, 4096]\n",
        "layer_0_embedding.shape"
      ],
      "metadata": {
        "execution": {
          "iopub.status.busy": "2024-08-30T15:41:35.031947Z",
          "iopub.execute_input": "2024-08-30T15:41:35.032348Z",
          "iopub.status.idle": "2024-08-30T15:41:35.262216Z",
          "shell.execute_reply.started": "2024-08-30T15:41:35.032314Z",
          "shell.execute_reply": "2024-08-30T15:41:35.261245Z"
        },
        "trusted": true,
        "id": "ePtGreei09zq",
        "outputId": "2354190e-edc6-41e5-d40b-1ae12655930f"
      },
      "execution_count": null,
      "outputs": [
        {
          "execution_count": 30,
          "output_type": "execute_result",
          "data": {
            "text/plain": "torch.Size([17, 4096])"
          },
          "metadata": {}
        }
      ]
    },
    {
      "cell_type": "code",
      "source": [
        "down_cycled_n_layers = 32 # only works for 32 not less that that"
      ],
      "metadata": {
        "execution": {
          "iopub.status.busy": "2024-08-30T15:48:40.626572Z",
          "iopub.execute_input": "2024-08-30T15:48:40.627323Z",
          "iopub.status.idle": "2024-08-30T15:48:40.631431Z",
          "shell.execute_reply.started": "2024-08-30T15:48:40.627292Z",
          "shell.execute_reply": "2024-08-30T15:48:40.630463Z"
        },
        "trusted": true,
        "id": "0FeXPo4x09zr"
      },
      "execution_count": null,
      "outputs": []
    },
    {
      "cell_type": "code",
      "source": [
        "final_embedding = token_embeddings_unnormalized\n",
        "for layer in range(down_cycled_n_layers):\n",
        "    qkv_attention_store = []\n",
        "    layer_embedding_norm = rms_norm(final_embedding, model[f\"layers.{layer}.attention_norm.weight\"])\n",
        "    q_layer = model[f\"layers.{layer}.attention.wq.weight\"]\n",
        "    q_layer = q_layer.view(n_heads, q_layer.shape[0] // n_heads, embed_dim)\n",
        "    k_layer = model[f\"layers.{layer}.attention.wk.weight\"]\n",
        "    k_layer = k_layer.view(n_kv_heads, k_layer.shape[0] // n_kv_heads, embed_dim)\n",
        "    v_layer = model[f\"layers.{layer}.attention.wv.weight\"]\n",
        "    v_layer = v_layer.view(n_kv_heads, v_layer.shape[0] // n_kv_heads, embed_dim)\n",
        "    w_layer = model[f\"layers.{layer}.attention.wo.weight\"]\n",
        "    for head in range(n_heads):\n",
        "        q_layer_head = q_layer[head]\n",
        "        k_layer_head = k_layer[head//4]\n",
        "        v_layer_head = v_layer[head//4]\n",
        "        q_per_token = torch.matmul(layer_embedding_norm, q_layer_head.T)\n",
        "        k_per_token = torch.matmul(layer_embedding_norm, k_layer_head.T)\n",
        "        v_per_token = torch.matmul(layer_embedding_norm, v_layer_head.T)\n",
        "        q_per_token_split_into_pairs = q_per_token.float().view(q_per_token.shape[0], -1, 2)\n",
        "        q_per_token_as_complex_numbers = torch.view_as_complex(q_per_token_split_into_pairs)\n",
        "        q_per_token_split_into_pairs_rotated = torch.view_as_real(q_per_token_as_complex_numbers * freqs_cis)\n",
        "        q_per_token_rotated = q_per_token_split_into_pairs_rotated.view(q_per_token.shape)\n",
        "        k_per_token_split_into_pairs = k_per_token.float().view(k_per_token.shape[0], -1, 2)\n",
        "        k_per_token_as_complex_numbers = torch.view_as_complex(k_per_token_split_into_pairs)\n",
        "        k_per_token_split_into_pairs_rotated = torch.view_as_real(k_per_token_as_complex_numbers * freqs_cis)\n",
        "        k_per_token_rotated = k_per_token_split_into_pairs_rotated.view(k_per_token.shape)\n",
        "        qk_per_token = torch.matmul(q_per_token_rotated, k_per_token_rotated.T)/(128)**0.5\n",
        "        mask = torch.full((len(token_embeddings_unnormalized), len(token_embeddings_unnormalized)), float(\"-inf\"))\n",
        "        mask = torch.triu(mask, diagonal=1)\n",
        "        qk_per_token_after_masking = qk_per_token + mask\n",
        "        qk_per_token_after_masking_after_softmax = torch.nn.functional.softmax(qk_per_token_after_masking, dim=1).to(torch.bfloat16)\n",
        "        qkv_attention = torch.matmul(qk_per_token_after_masking_after_softmax, v_per_token)\n",
        "        qkv_attention_store.append(qkv_attention)\n",
        "\n",
        "    stacked_qkv_attention = torch.cat(qkv_attention_store, dim=-1)\n",
        "    w_layer = model[f\"layers.{layer}.attention.wo.weight\"]\n",
        "    embedding_delta = torch.matmul(stacked_qkv_attention, w_layer.T)\n",
        "    embedding_after_edit = final_embedding + embedding_delta\n",
        "    embedding_after_edit_normalized = rms_norm(embedding_after_edit, model[f\"layers.{layer}.ffn_norm.weight\"])\n",
        "    w1 = model[f\"layers.{layer}.feed_forward.w1.weight\"]\n",
        "    w2 = model[f\"layers.{layer}.feed_forward.w2.weight\"]\n",
        "    w3 = model[f\"layers.{layer}.feed_forward.w3.weight\"]\n",
        "    output_after_feedforward = torch.matmul(torch.functional.F.silu(torch.matmul(embedding_after_edit_normalized, w1.T)) * torch.matmul(embedding_after_edit_normalized, w3.T), w2.T)\n",
        "    final_embedding = embedding_after_edit+output_after_feedforward\n",
        "\n",
        "final_embedding.shape"
      ],
      "metadata": {
        "execution": {
          "iopub.status.busy": "2024-08-30T15:48:44.031033Z",
          "iopub.execute_input": "2024-08-30T15:48:44.03166Z",
          "iopub.status.idle": "2024-08-30T15:48:53.90276Z",
          "shell.execute_reply.started": "2024-08-30T15:48:44.031628Z",
          "shell.execute_reply": "2024-08-30T15:48:53.901756Z"
        },
        "trusted": true,
        "id": "_YN9D2eT09zr",
        "outputId": "554ac98b-2b67-4b03-e91c-8d51bc1064bf"
      },
      "execution_count": null,
      "outputs": [
        {
          "execution_count": 54,
          "output_type": "execute_result",
          "data": {
            "text/plain": "torch.Size([17, 4096])"
          },
          "metadata": {}
        }
      ]
    },
    {
      "cell_type": "markdown",
      "source": [
        "> now have the final embedding, the best guess the model could make about the next token\n",
        "\n",
        "> we will use the output decoder to convert the final embedding into a token"
      ],
      "metadata": {
        "id": "uhd5Yl6S09zs"
      }
    },
    {
      "cell_type": "code",
      "source": [
        "final_embedding = rms_norm(final_embedding, model[\"norm.weight\"]) # [17x4096]\n",
        "print(model[\"output.weight\"].shape)    # [128256x4096]\n",
        "logits = torch.matmul(final_embedding[-1], model[\"output.weight\"].T) # [128256]\n",
        "logits"
      ],
      "metadata": {
        "execution": {
          "iopub.status.busy": "2024-08-30T15:48:59.505848Z",
          "iopub.execute_input": "2024-08-30T15:48:59.506209Z",
          "iopub.status.idle": "2024-08-30T15:48:59.562442Z",
          "shell.execute_reply.started": "2024-08-30T15:48:59.506179Z",
          "shell.execute_reply": "2024-08-30T15:48:59.561528Z"
        },
        "trusted": true,
        "id": "ohzTrHfK09zt",
        "outputId": "96e890d6-d01b-45f3-cdcd-6c665b525b33"
      },
      "execution_count": null,
      "outputs": [
        {
          "name": "stdout",
          "text": "torch.Size([128256, 4096])\n",
          "output_type": "stream"
        },
        {
          "execution_count": 55,
          "output_type": "execute_result",
          "data": {
            "text/plain": "tensor([ 1.3359, -1.5859, -0.1104,  ..., -4.2500, -4.2500, -4.2500],\n       dtype=torch.bfloat16, grad_fn=<SqueezeBackward4>)"
          },
          "metadata": {}
        }
      ]
    },
    {
      "cell_type": "markdown",
      "source": [
        "\n",
        "we use the embedding of the last token to predict the next value\n",
        "\n",
        "hopefully in our case, 42 :) note: 42 is the answer to \"the answer to the ultimate question of life, the universe, and everything is \", according to the book \"hitchhiker's guide to the galaxy\", most mordern llms would answer with 42 here, which should validate our entire code!  :)\n",
        "\n",
        "\n",
        "the model predicted token number 2983 as the next token, is this the token number for 42?\n"
      ],
      "metadata": {
        "id": "u2tc7dpp09zt"
      }
    },
    {
      "cell_type": "code",
      "source": [
        "logits = torch.matmul(final_embedding[-1], model[\"output.weight\"].T)  # [128256]\n",
        "next_token = torch.argmax(logits, dim=-1)\n",
        "print(tokenizer.decode([next_token.item()]))\n"
      ],
      "metadata": {
        "execution": {
          "iopub.status.busy": "2024-08-30T15:49:03.05472Z",
          "iopub.execute_input": "2024-08-30T15:49:03.055072Z",
          "iopub.status.idle": "2024-08-30T15:49:03.114912Z",
          "shell.execute_reply.started": "2024-08-30T15:49:03.055048Z",
          "shell.execute_reply": "2024-08-30T15:49:03.113947Z"
        },
        "trusted": true,
        "id": "OD70_m3V09zt",
        "outputId": "6cf19be1-c2a5-4d36-8b4e-e85ed1bcec2a"
      },
      "execution_count": null,
      "outputs": [
        {
          "name": "stdout",
          "text": "42\n",
          "output_type": "stream"
        }
      ]
    },
    {
      "cell_type": "code",
      "source": [],
      "metadata": {
        "id": "vYSOj4MG09zt"
      },
      "execution_count": null,
      "outputs": []
    },
    {
      "cell_type": "code",
      "source": [],
      "metadata": {
        "id": "jIoxE7c509zu"
      },
      "execution_count": null,
      "outputs": []
    },
    {
      "cell_type": "markdown",
      "source": [
        "## Testing standalone Ateention mechanism"
      ],
      "metadata": {
        "id": "_hC8_YkS09zu"
      }
    },
    {
      "cell_type": "code",
      "source": [
        "model_parallel_size = 2 # I've 2XT4 GPU\n",
        "n_local_heads = n_heads // model_parallel_size\n",
        "n_local_kv_heads = n_kv_heads // model_parallel_size\n",
        "n_rep = n_local_heads // n_local_kv_heads\n",
        "head_dim = embed_dim // n_heads"
      ],
      "metadata": {
        "execution": {
          "iopub.status.busy": "2024-08-30T15:47:21.820118Z",
          "iopub.execute_input": "2024-08-30T15:47:21.821011Z",
          "iopub.status.idle": "2024-08-30T15:47:21.825406Z",
          "shell.execute_reply.started": "2024-08-30T15:47:21.82098Z",
          "shell.execute_reply": "2024-08-30T15:47:21.824453Z"
        },
        "trusted": true,
        "id": "cpEQs5In09zu"
      },
      "execution_count": null,
      "outputs": []
    },
    {
      "cell_type": "markdown",
      "source": [
        "    LlamaSdpaAttention(\n",
        "      (q_proj): Linear(in_features=4096, out_features=4096, bias=False)\n",
        "      (k_proj): Linear(in_features=4096, out_features=1024, bias=False)\n",
        "      (v_proj): Linear(in_features=4096, out_features=1024, bias=False)\n",
        "      (o_proj): Linear(in_features=4096, out_features=4096, bias=False)\n",
        "      (rotary_emb): LlamaRotaryEmbedding()\n",
        "    )\n"
      ],
      "metadata": {
        "id": "1L0dExvM09zu"
      }
    },
    {
      "cell_type": "code",
      "source": [
        "# Extract the attention layer\n",
        "attention_layer = model.model.layers[0].self_attn\n",
        "\n",
        "num_heads = 8 # number_attn_heads\n",
        "batch_size = embed_input.size(0)\n",
        "seq_len = embed_input.size(1)\n",
        "embed_dim = embed_input.size(2)\n",
        "head_dim =  embed_dim// num_heads\n",
        "# Shape: [batch_size, seq_len]\n",
        "position_ids = torch.arange(seq_len).unsqueeze(0).expand(batch_size, -1).to(embed_input.device)\n",
        "# Adjusted to shape [seq_len, head_dim]\n",
        "freqs_cis = torch.ones(seq_len, head_dim).to(embed_input.device)\n",
        "\n",
        "\n",
        "# Prepare attention mask\n",
        "attention_mask = inputs[\"attention_mask\"]\n",
        "attention_mask = attention_mask.unsqueeze(1).unsqueeze(2)  # Shape: [batch_sz, 1, 1, seq_len]\n",
        "attention_mask = attention_mask.to(torch.bool)  # Ensure mask is of boolean type\n",
        "\n",
        "# Call the forward method of the attention layer\n",
        "with torch.no_grad():\n",
        "    # Adjust the call to match the attention layer's expected arguments\n",
        "    attn_output = attention_layer(\n",
        "        hidden_states=embed_input,\n",
        "        attention_mask=attention_mask,\n",
        "        position_ids=position_ids,\n",
        "        output_attentions=True  # To get attention weights\n",
        "    )\n",
        "\n",
        "# Print the results\n",
        "print(\"Hidden States [batch_sz,seq,embed_dim]:\", embed_input.size())\n",
        "print(\"Attention Output [batch_sz,seq,embed_dim]:\", attn_output[0].size())  # Output is a tuple (attn_output, attention_weights)\n",
        "print(\"Attention Weights [batch_sz,n_heads,q_len,k_len]:\", attn_output[1].size())  # Assuming output_attentions=True returns attention weights"
      ],
      "metadata": {
        "execution": {
          "iopub.status.busy": "2024-08-30T15:47:33.21784Z",
          "iopub.execute_input": "2024-08-30T15:47:33.218634Z",
          "iopub.status.idle": "2024-08-30T15:47:33.266528Z",
          "shell.execute_reply.started": "2024-08-30T15:47:33.218584Z",
          "shell.execute_reply": "2024-08-30T15:47:33.265188Z"
        },
        "trusted": true,
        "id": "XimUDao009zv",
        "outputId": "727bbabe-7b85-4d1d-9b4f-21da23d50197"
      },
      "execution_count": null,
      "outputs": [
        {
          "traceback": [
            "\u001b[0;31m---------------------------------------------------------------------------\u001b[0m",
            "\u001b[0;31mAttributeError\u001b[0m                            Traceback (most recent call last)",
            "Cell \u001b[0;32mIn[50], line 2\u001b[0m\n\u001b[1;32m      1\u001b[0m \u001b[38;5;66;03m# Extract the attention layer\u001b[39;00m\n\u001b[0;32m----> 2\u001b[0m attention_layer \u001b[38;5;241m=\u001b[39m \u001b[43mmodel\u001b[49m\u001b[38;5;241;43m.\u001b[39;49m\u001b[43mmodel\u001b[49m\u001b[38;5;241m.\u001b[39mlayers[\u001b[38;5;241m0\u001b[39m]\u001b[38;5;241m.\u001b[39mself_attn\n\u001b[1;32m      4\u001b[0m num_heads \u001b[38;5;241m=\u001b[39m \u001b[38;5;241m8\u001b[39m \u001b[38;5;66;03m# number_attn_heads\u001b[39;00m\n\u001b[1;32m      5\u001b[0m batch_size \u001b[38;5;241m=\u001b[39m embed_input\u001b[38;5;241m.\u001b[39msize(\u001b[38;5;241m0\u001b[39m)\n",
            "\u001b[0;31mAttributeError\u001b[0m: 'dict' object has no attribute 'model'"
          ],
          "ename": "AttributeError",
          "evalue": "'dict' object has no attribute 'model'",
          "output_type": "error"
        }
      ]
    },
    {
      "cell_type": "code",
      "source": [
        "# Run a forward pass\n",
        "outputs = model(**inputs)\n",
        "hidden_states = outputs.hidden_states\n",
        "attentions = outputs.attentions\n",
        "\n",
        "print(\"\\nHidden States:\", len(hidden_states))\n",
        "for i, state in enumerate(hidden_states):\n",
        "    print(f\"Layer {i} shape[batch_size,seq_len, embed_dim]: {state.shape}\")\n",
        "    break\n",
        "\n",
        "print(\"\\nAttention Weights:\",len(attentions))\n",
        "for i, attn in enumerate(attentions):\n",
        "    print(f\"Layer {i} shape [batch_size, num_heads, seq_len_q, seq_len_k]: {attn.shape}\")\n",
        "    break"
      ],
      "metadata": {
        "trusted": true,
        "id": "RJEiDADA09zw"
      },
      "execution_count": null,
      "outputs": []
    },
    {
      "cell_type": "markdown",
      "source": [
        "# Extracting output using hookmodel[\"output.weight\"].shape"
      ],
      "metadata": {
        "id": "dthqzB7209zw"
      }
    },
    {
      "cell_type": "code",
      "source": [
        "model.eval()\n",
        "\n",
        "# Define a hook function to capture rotary embeddings\n",
        "def get_rotary_embeddings_hook(module, input_x, output):\n",
        "    global rotary_embeddings\n",
        "    # rotary embeddings are calculated inside the forward method\n",
        "    # input_x : [[batch_sz,n_heads,seq_len,head_dim],[batch_sz,seq_len]],rotary embeddings are applied to xq and xk,\n",
        "    print(f\"Shape of input_x: {[x.shape for x in input_x]}\")\n",
        "    rotary_embeddings = input_x[0]  # Adjust based on the actual input tensor\n",
        "\n",
        "\n",
        "\n",
        "def register_rotary_embed_hooks(model):\n",
        "    for name, module in model.named_modules():\n",
        "        # 1st layer -> self_attn -> rotary_embed (apply freqs_cis)\n",
        "        attn_layer_0_rotary = module.model.layers[0].self_attn.rotary_emb\n",
        "        attn_layer_0_rotary.register_forward_hook(get_rotary_embeddings_hook)\n",
        "        break\n",
        "\n",
        "register_rotary_embed_hooks(model)\n",
        "\n",
        "with torch.no_grad():\n",
        "    _ = model(**inputs)\n",
        "\n",
        "# Print the captured rotary embeddings\n",
        "print(\"\\nRotary Embeddings Shape[batch_sz,seq_len]:\", rotary_embeddings.shape)"
      ],
      "metadata": {
        "trusted": true,
        "id": "ityZqWAt09zx"
      },
      "execution_count": null,
      "outputs": []
    },
    {
      "cell_type": "code",
      "source": [
        "# Define a hook function to capture MLP outputs\n",
        "def get_mlp_outputs_hook(module, input_x, output):\n",
        "    # Hook function to save MLP outputs\n",
        "    global mlp_outputs\n",
        "    mlp_outputs = output  # This captures the output of the MLP layer\n",
        "\n",
        "\n",
        "def register_mlp_hooks(model):\n",
        "    for name, module in model.named_modules():\n",
        "        # 1st layer -> mlp (apply freqs_cis)\n",
        "        layer_mlp = module.model.layers[0].mlp\n",
        "        layer_mlp.register_forward_hook(get_mlp_outputs_hook)\n",
        "        break\n",
        "\n",
        "register_mlp_hooks(model)\n",
        "\n",
        "with torch.no_grad():\n",
        "    _ = model(**inputs)\n",
        "\n",
        "# Print the captured MLP outputs\n",
        "print(\"\\nMLP Outputs Shape[batch_sz,seq_len,embed_dim]:\", mlp_outputs.shape)"
      ],
      "metadata": {
        "trusted": true,
        "id": "d4wTS2nT09zx"
      },
      "execution_count": null,
      "outputs": []
    },
    {
      "cell_type": "code",
      "source": [
        "#"
      ],
      "metadata": {
        "trusted": true,
        "id": "VBvgE7W209zy"
      },
      "execution_count": null,
      "outputs": []
    },
    {
      "cell_type": "code",
      "source": [],
      "metadata": {
        "trusted": true,
        "id": "-gglgF_Z09zy"
      },
      "execution_count": null,
      "outputs": []
    }
  ]
}