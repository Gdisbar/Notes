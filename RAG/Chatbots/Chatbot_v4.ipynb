{
 "cells": [
  {
   "cell_type": "code",
   "execution_count": 39,
   "id": "b4497b09",
   "metadata": {},
   "outputs": [],
   "source": [
    "import os\n",
    "from typing import Annotated\n",
    "from typing import TypedDict, Annotated, Sequence\n",
    "from typing_extensions import TypedDict\n",
    "from pydantic import BaseModel\n",
    "from langgraph.checkpoint.memory import InMemorySaver\n",
    "from langgraph.graph import StateGraph,END,START\n",
    "from langgraph.graph.message import add_messages\n",
    "from langchain_core.messages import HumanMessage, AIMessage,SystemMessage, ToolMessage\n",
    "from langgraph.types import Command, interrupt\n",
    "from langgraph.prebuilt import ToolNode\n",
    "from langchain_core.tools import tool\n",
    "from langchain_community.tools.tavily_search import TavilySearchResults\n",
    "from langchain_groq import ChatGroq\n",
    "from dotenv import load_dotenv"
   ]
  },
  {
   "cell_type": "code",
   "execution_count": 40,
   "id": "515b6d17",
   "metadata": {},
   "outputs": [],
   "source": [
    "load_dotenv()\n",
    "os.environ[\"GROQ_API_KEY\"] = os.getenv('Groq') # type: ignore\n",
    "os.environ[\"TAVILY_API_KEY\"] = os.getenv('Tavily') # type: ignore"
   ]
  },
  {
   "cell_type": "code",
   "execution_count": 41,
   "id": "bccf504b",
   "metadata": {},
   "outputs": [],
   "source": [
    "class State(TypedDict):\n",
    "    messages: Annotated[list, add_messages]\n",
    "\n",
    "# We have the ACTUAL tools from above, but we also need a mock tool to ask a human\n",
    "# Since `bind_tools` takes in tools but also just tool definitions,\n",
    "# We can define a tool definition for `ask_human`\n",
    "class AskHuman(BaseModel):\n",
    "    \"\"\"Ask the human a question\"\"\"\n",
    "    question: str"
   ]
  },
  {
   "cell_type": "code",
   "execution_count": 42,
   "id": "436f81e8",
   "metadata": {},
   "outputs": [],
   "source": [
    "@tool\n",
    "def search(query: str):\n",
    "    \"\"\"Call to surf the web.\"\"\"\n",
    "    tavily=TavilySearchResults()\n",
    "    result=tavily.invoke(query)\n",
    "    formatted_results = []\n",
    "    if isinstance(result, list): \n",
    "        for item in result:\n",
    "            if isinstance(item, dict): \n",
    "                title = item.get('title', 'No Title')\n",
    "                url = item.get('url', 'No URL')\n",
    "                content = item.get('content', 'No Content')\n",
    "                # Truncate content for brevity\n",
    "                truncated_content = (content[:200] + '...') if len(content) > 200 else content\n",
    "                formatted_results.append(f\"Title: {title}\\nURL: {url}\\nContent: {truncated_content}\\n---\")\n",
    "            else:\n",
    "                formatted_results.append(f\"Unexpected item type: {item}\")\n",
    "        formatted_output = \"\\n\".join(formatted_results)\n",
    "    else:\n",
    "        formatted_output = str(result) \n",
    "\n",
    "    return f\"I looked up: {query}.\\n\\nResults:\\n{formatted_output}\\n\\nBut you better look out if you're a Gemini 😈.\"\n"
   ]
  },
  {
   "cell_type": "code",
   "execution_count": 43,
   "id": "c4f0c1b9",
   "metadata": {},
   "outputs": [],
   "source": [
    "tools = [search]\n",
    "tool_node = ToolNode(tools)\n",
    "memory = InMemorySaver()\n",
    "llm = ChatGroq(model=\"llama3-8b-8192\",temperature=0.5,)\n",
    "llm_with_tool = llm.bind_tools(tools + [AskHuman])"
   ]
  },
  {
   "cell_type": "code",
   "execution_count": 44,
   "id": "41e291ea",
   "metadata": {},
   "outputs": [],
   "source": [
    "\n",
    "# chatbot\n",
    "def call_model(state: State):\n",
    "    messages = state[\"messages\"]\n",
    "    response = llm_with_tool.invoke(messages)\n",
    "    # We return a list, because this will get added to the existing list\n",
    "    return {\"messages\": [response]}\n",
    "\n",
    "\n",
    "def should_continue(state: State):\n",
    "    messages = state[\"messages\"]\n",
    "    last_message = messages[-1]\n",
    "    if not last_message.tool_calls:\n",
    "        return END\n",
    "    elif last_message.tool_calls[0][\"name\"] == \"AskHuman\":\n",
    "        return \"ask_human\"\n",
    "    # No human feedback needed,continue using tool call\n",
    "    else:\n",
    "        return \"action\"\n",
    "    \n",
    "def ask_human(state):\n",
    "    tool_call_id = state[\"messages\"][-1].tool_calls[0][\"id\"]\n",
    "    # Below line will raise model validation error - if Field in tool_call is \"query\"\n",
    "    # Since AskHuman has Field \"question\", while testing with mock tool_call data\n",
    "    # it has to refect the same - check test_ask_human_returns_tool_message()\n",
    "    ask = AskHuman.model_validate(state[\"messages\"][-1].tool_calls[0][\"args\"])\n",
    "    # The interrupt should return the question, not store it in a variable\n",
    "    human_response = interrupt(ask.question)\n",
    "    # Create tool message with human response\n",
    "    tool_message = ToolMessage(\n",
    "        content=human_response,\n",
    "        tool_call_id=tool_call_id\n",
    "    )\n",
    "    return {\"messages\": [tool_message]}\n"
   ]
  },
  {
   "cell_type": "code",
   "execution_count": 45,
   "id": "220d66f4",
   "metadata": {},
   "outputs": [],
   "source": [
    "\n",
    "workflow =  StateGraph(State)\n",
    "\n",
    "workflow.add_node(\"agent\", call_model) # chatbot\n",
    "workflow.add_node(\"action\", tool_node)\n",
    "workflow.add_node(\"ask_human\", ask_human)\n",
    "workflow.add_edge(START, \"agent\")\n",
    "workflow.add_conditional_edges(\n",
    "    \"agent\",\n",
    "    should_continue,\n",
    "    path_map=[\"ask_human\", \"action\", END],\n",
    ")\n",
    "# This means that after `tools` is called, `agent` node is called next.\n",
    "workflow.add_edge(\"action\", \"agent\")\n",
    "# After we get back the human response, we go back to the agent\n",
    "workflow.add_edge(\"ask_human\", \"agent\")\n",
    "\n",
    "app = workflow.compile(checkpointer=memory, interrupt_after=[\"action\"])"
   ]
  },
  {
   "cell_type": "code",
   "execution_count": null,
   "id": "6af4c094",
   "metadata": {},
   "outputs": [],
   "source": [
    "config = {\"configurable\": {\"thread_id\": \"3\"}}\n",
    "\n",
    "def stream_graph_updates(user_input: str):\n",
    "    try:\n",
    "        events = app.stream(\n",
    "            {\"messages\": [HumanMessage(content=user_input)]},\n",
    "            config,\n",
    "            stream_mode=\"values\",\n",
    "        )\n",
    "        \n",
    "        for event in events:\n",
    "            if \"messages\" in event and event[\"messages\"]:\n",
    "                print(event[\"messages\"][-1].pretty_print())\n",
    "        \n",
    "        # Check if we're interrupted after search/action\n",
    "        state_snapshot = app.get_state(config)\n",
    "        if state_snapshot.next and state_snapshot.next != [END]:\n",
    "            # We're interrupted after search - ask human for feedback\n",
    "            print(\"\\n\" + \"=\"*50)\n",
    "            print(\"Search completed! What would you like me to do next?\")\n",
    "            print(\"=\"*50)\n",
    "            human_feedback = input(\" Your guidance: \")\n",
    "            # Add human feedback as a new message\n",
    "            app.update_state(config, {\n",
    "                \"messages\": [HumanMessage(content=f\"Human feedback: {human_feedback}\")]\n",
    "            })\n",
    "            # Resume execution\n",
    "            resumed_events = app.stream(\n",
    "                None,  # No new input, just resume\n",
    "                config,\n",
    "                stream_mode=\"values\"\n",
    "            )\n",
    "            for resumed_event in resumed_events:\n",
    "                if \"messages\" in resumed_event and resumed_event[\"messages\"]:\n",
    "                    print(resumed_event[\"messages\"][-1].pretty_print())\n",
    "\n",
    "    except Exception as e:\n",
    "        print(f\"Error in stream_graph_updates: {e}\")\n",
    "        import traceback\n",
    "        traceback.print_exc()"
   ]
  },
  {
   "cell_type": "code",
   "execution_count": null,
   "id": "946b8c4d",
   "metadata": {},
   "outputs": [],
   "source": [
    "\n",
    "# while True:\n",
    "#     try:\n",
    "#         user_input = input(\"User: \")\n",
    "#         if user_input.lower() in [\"quit\", \"exit\", \"q\"]:\n",
    "#             break\n",
    "#         stream_graph_updates(user_input)\n",
    "                \n",
    "#     except KeyboardInterrupt:\n",
    "#         print(\"\\nExiting...\")\n",
    "#         break\n",
    "#     except Exception as e:\n",
    "#         print(f\"Error in main loop: {e}\")\n",
    "#         import traceback\n",
    "#         traceback.print_exc()\n",
    "#         break"
   ]
  },
  {
   "cell_type": "code",
   "execution_count": 47,
   "id": "9da78fed",
   "metadata": {},
   "outputs": [
    {
     "data": {
      "image/png": "[encoded data removed]",
      "text/plain": [
       "<IPython.core.display.Image object>"
      ]
     },
     "metadata": {},
     "output_type": "display_data"
    }
   ],
   "source": [
    "from IPython.display import Image, display\n",
    "\n",
    "try:\n",
    "    display(Image(app.get_graph().draw_mermaid_png()))\n",
    "except Exception:\n",
    "    pass"
   ]
  },
  {
   "cell_type": "markdown",
   "id": "b26d6b72",
   "metadata": {},
   "source": [
    "## Testing"
   ]
  },
  {
   "cell_type": "code",
   "execution_count": 65,
   "id": "8aaaf80f",
   "metadata": {},
   "outputs": [],
   "source": [
    "import unittest\n",
    "from unittest.mock import patch, MagicMock\n",
    "from langchain_core.messages import AIMessage, ToolMessage,HumanMessage\n",
    "import builtins"
   ]
  },
  {
   "cell_type": "markdown",
   "id": "fd568917",
   "metadata": {},
   "source": [
    "#### Model response"
   ]
  },
  {
   "cell_type": "code",
   "execution_count": 49,
   "id": "b491b6c4",
   "metadata": {},
   "outputs": [
    {
     "name": "stdout",
     "output_type": "stream",
     "text": [
      "ai_message(type) :  <class 'dict'>\n",
      "------\n",
      "content :  \n",
      "------\n",
      "additional_kwargs :  {'tool_calls': [{'id': '6h0qnxbem', 'function': {'arguments': '{\"query\":\"capital of India\"}', 'name': 'search'}, 'type': 'function'}]}\n",
      "------\n",
      "response_metadata :  {'token_usage': {'completion_tokens': 67, 'prompt_tokens': 975, 'total_tokens': 1042, 'completion_time': 0.059784414, 'prompt_time': 0.108849734, 'queue_time': 0.268808056, 'total_time': 0.168634148}, 'model_name': 'llama3-8b-8192', 'system_fingerprint': 'fp_5b339000ab', 'service_tier': 'on_demand', 'finish_reason': 'tool_calls', 'logprobs': None}\n",
      "------\n",
      "id :  run--4a1a4f8f-4f5a-49e3-9685-26a69766d880-0\n",
      "------\n",
      "tool_calls :  [{'name': 'search', 'args': {'query': 'capital of India'}, 'id': '6h0qnxbem', 'type': 'tool_call'}]\n",
      "------\n",
      "usage_metadata :  {'input_tokens': 975, 'output_tokens': 67, 'total_tokens': 1042}\n"
     ]
    }
   ],
   "source": [
    "def test_call_model_response(user_input):\n",
    "    state: State = {\n",
    "        \"messages\": [HumanMessage(content=user_input)]\n",
    "    }\n",
    "    result = call_model(state)\n",
    "    assert \"messages\" in result\n",
    "    assert isinstance(result[\"messages\"][0], AIMessage)\n",
    "    # assert any(keyword in result[\"messages\"][0].content.lower() for keyword in [\"new delhi\", \"capital\"])\n",
    "    return result\n",
    "\n",
    "# AIMessage\n",
    "ai_message = test_call_model_response(\"What is the capital of India?\")\n",
    "\n",
    "print(\"ai_message(type) : \",type(ai_message))\n",
    "print('------')\n",
    "print(\"content : \",ai_message[\"messages\"][-1].content)\n",
    "print('------')\n",
    "print(\"additional_kwargs : \",ai_message[\"messages\"][-1].additional_kwargs)\n",
    "print('------')\n",
    "print(\"response_metadata : \",ai_message[\"messages\"][-1].response_metadata)\n",
    "print('------')\n",
    "print(\"id : \",ai_message[\"messages\"][-1].id)\n",
    "print('------')\n",
    "print(\"tool_calls : \",ai_message[\"messages\"][-1].tool_calls)\n",
    "print('------')\n",
    "print(\"usage_metadata : \",ai_message[\"messages\"][-1].usage_metadata)"
   ]
  },
  {
   "cell_type": "code",
   "execution_count": 50,
   "id": "c59837cd",
   "metadata": {},
   "outputs": [
    {
     "data": {
      "text/plain": [
       "'6h0qnxbem'"
      ]
     },
     "execution_count": 50,
     "metadata": {},
     "output_type": "execute_result"
    }
   ],
   "source": [
    "tool_call_id = ai_message[\"messages\"][-1].tool_calls[-1][\"id\"]\n",
    "tool_call_id"
   ]
  },
  {
   "cell_type": "markdown",
   "id": "4a9a8033",
   "metadata": {},
   "source": [
    "#### Model + Tool response"
   ]
  },
  {
   "cell_type": "code",
   "execution_count": 51,
   "id": "ed170974",
   "metadata": {},
   "outputs": [],
   "source": [
    "\n",
    "def test_call_model_generates_ai_response():\n",
    "    state = {\n",
    "        \"messages\": [HumanMessage(content=\"What is the capital of India?\")]\n",
    "    }\n",
    "\n",
    "    with patch.object(llm_with_tool.__class__, \"invoke\") as mock_invoke:\n",
    "        mock_invoke.return_value = AIMessage(content=\"New Delhi is the capital of India.\")\n",
    "\n",
    "        result = call_model(state)\n",
    "\n",
    "        assert \"messages\" in result\n",
    "        assert isinstance(result[\"messages\"][0], AIMessage)\n",
    "        assert result[\"messages\"][0].content == \"New Delhi is the capital of India.\"\n",
    "        mock_invoke.assert_called_once_with(state[\"messages\"])\n",
    "        return result"
   ]
  },
  {
   "cell_type": "code",
   "execution_count": 52,
   "id": "89db3fcf",
   "metadata": {},
   "outputs": [
    {
     "data": {
      "text/plain": [
       "{'messages': [AIMessage(content='New Delhi is the capital of India.', additional_kwargs={}, response_metadata={})]}"
      ]
     },
     "execution_count": 52,
     "metadata": {},
     "output_type": "execute_result"
    }
   ],
   "source": [
    "ai_message_2 = test_call_model_generates_ai_response()\n",
    "ai_message_2"
   ]
  },
  {
   "cell_type": "markdown",
   "id": "9781578c",
   "metadata": {},
   "source": [
    "#### AskHuman response"
   ]
  },
  {
   "cell_type": "code",
   "execution_count": 53,
   "id": "d50044ab",
   "metadata": {},
   "outputs": [],
   "source": [
    "\n",
    "def test_ask_human_returns_tool_message():\n",
    "\n",
    "    tool_call = {\n",
    "        \"name\": \"AskHuman\",\n",
    "        \"id\": tool_call_id,\n",
    "        \"args\": {\"question\": \"Please confirm?\"}  # not \"query\" – since AskHuman has question\n",
    "    }\n",
    "\n",
    "    mock_message = AIMessage(content=\"Waiting on you\", tool_calls=[tool_call])\n",
    "    state = {\"messages\": [mock_message]}\n",
    "\n",
    "    with patch(\"__main__.interrupt\", return_value=\"Test Response\") as mock_interrupt:\n",
    "        result = ask_human(state)\n",
    "        assert \"messages\" in result\n",
    "        assert isinstance(result[\"messages\"][0], ToolMessage)\n",
    "        assert result[\"messages\"][0].tool_call_id == tool_call_id\n",
    "        assert result[\"messages\"][0].content == \"Test Response\"\n",
    "        mock_interrupt.assert_called_once_with(\"Please confirm?\")\n",
    "\n",
    "    return result"
   ]
  },
  {
   "cell_type": "code",
   "execution_count": 54,
   "id": "3a6469fe",
   "metadata": {},
   "outputs": [
    {
     "data": {
      "text/plain": [
       "{'messages': [ToolMessage(content='Test Response', tool_call_id='6h0qnxbem')]}"
      ]
     },
     "execution_count": 54,
     "metadata": {},
     "output_type": "execute_result"
    }
   ],
   "source": [
    "tool_message = test_ask_human_returns_tool_message()\n",
    "tool_message"
   ]
  },
  {
   "cell_type": "markdown",
   "id": "b07c8836",
   "metadata": {},
   "source": [
    "#### Routing response"
   ]
  },
  {
   "cell_type": "code",
   "execution_count": 55,
   "id": "ff7d010e",
   "metadata": {},
   "outputs": [],
   "source": [
    "def test_should_continue_end():\n",
    "    state = {\"messages\": [AIMessage(content=\"All done!\")]}\n",
    "    assert should_continue(state)==END\n",
    "\n",
    "def test_should_continue_ask_human():\n",
    "    tool_call = {\"name\": \"AskHuman\", \"id\": tool_call_id, \"args\": {\"question\": \"Confirm?\"}}\n",
    "    state = {\"messages\": [AIMessage(content=\"Need human\", tool_calls=[tool_call])]}\n",
    "    assert should_continue(state)==\"ask_human\"\n",
    "\n",
    "def test_should_continue_action():\n",
    "    tool_call = {\"name\": \"search\", \"id\": tool_call_id, \"args\": {\"query\": \"LangChain\"}}\n",
    "    state = {\"messages\": [AIMessage(content=\"Using search\", tool_calls=[tool_call])]}\n",
    "    assert should_continue(state)==\"action\""
   ]
  },
  {
   "cell_type": "code",
   "execution_count": 56,
   "id": "01cd34df",
   "metadata": {},
   "outputs": [],
   "source": [
    "test_should_continue_end()\n",
    "test_should_continue_ask_human()\n",
    "test_should_continue_action()"
   ]
  },
  {
   "cell_type": "markdown",
   "id": "6760b005",
   "metadata": {},
   "source": [
    "#### Test stream"
   ]
  },
  {
   "cell_type": "code",
   "execution_count": 58,
   "id": "990aea82",
   "metadata": {},
   "outputs": [],
   "source": [
    "def test_stream_graph_updates_with_feedback():\n",
    "    user_input = \"Tell me about India\"\n",
    "    \n",
    "    # Mocked streaming events\n",
    "    stream_events = [\n",
    "        {\"messages\": [MagicMock(pretty_print=lambda: \"First AI message\")]}\n",
    "    ]\n",
    "    resumed_events = [\n",
    "        {\"messages\": [MagicMock(pretty_print=lambda: \"Resumed AI message after feedback\")]}\n",
    "    ]\n",
    "    \n",
    "    # Mocked state snapshot (with next ≠ [END])\n",
    "    mock_state_snapshot = MagicMock()\n",
    "    mock_state_snapshot.next = [\"something_else\"]\n",
    "\n",
    "    with patch(\"builtins.input\", return_value=\"Continue with more details\"), \\\n",
    "         patch.object(app, \"stream\", side_effect=[stream_events, resumed_events]), \\\n",
    "         patch.object(app, \"get_state\", return_value=mock_state_snapshot), \\\n",
    "         patch.object(app, \"update_state\") as mock_update:\n",
    "\n",
    "        stream_graph_updates(user_input)\n",
    "        # # Ensure app.stream was called twice (initial + resumed)\n",
    "        # assert app.stream.call_count == 2\n",
    "\n",
    "        # Check update_state was called with human feedback\n",
    "        mock_update.assert_called_once()\n",
    "        args, kwargs = mock_update.call_args\n",
    "        assert \"Human feedback: Continue with more details\" in str(args[1][\"messages\"][0].content)\n",
    "        return args,kwargs,app\n"
   ]
  },
  {
   "cell_type": "code",
   "execution_count": 59,
   "id": "4881ae84",
   "metadata": {},
   "outputs": [
    {
     "name": "stdout",
     "output_type": "stream",
     "text": [
      "First AI message\n",
      "\n",
      "==================================================\n",
      "Search completed! What would you like me to do next?\n",
      "==================================================\n",
      "Resumed AI message after feedback\n"
     ]
    }
   ],
   "source": [
    "args,kwargs,app = test_stream_graph_updates_with_feedback()"
   ]
  },
  {
   "cell_type": "code",
   "execution_count": 60,
   "id": "6553aa81",
   "metadata": {},
   "outputs": [
    {
     "name": "stdout",
     "output_type": "stream",
     "text": [
      "{}\n"
     ]
    },
    {
     "data": {
      "text/plain": [
       "({'configurable': {'thread_id': '3'}},\n",
       " {'messages': [HumanMessage(content='Human feedback: Continue with more details', additional_kwargs={}, response_metadata={})]})"
      ]
     },
     "execution_count": 60,
     "metadata": {},
     "output_type": "execute_result"
    }
   ],
   "source": [
    "print(kwargs)\n",
    "args"
   ]
  },
  {
   "cell_type": "markdown",
   "id": "2c3563be",
   "metadata": {},
   "source": [
    "#### Graph state checking"
   ]
  },
  {
   "cell_type": "code",
   "execution_count": null,
   "id": "660dddb1",
   "metadata": {},
   "outputs": [],
   "source": [
    "class TestGraphStreaming(unittest.TestCase):\n",
    "    @patch(\"__main__.app.update_state\")\n",
    "    @patch(\"__main__.app.get_state\")\n",
    "    @patch(\"__main__.app.stream\")\n",
    "    def test_stream_graph_updates(self, mock_stream, mock_get_state, mock_update_state):\n",
    "        mock_stream.side_effect = [\n",
    "            iter([{\"messages\": [MagicMock(content=\"First response\", pretty_print=lambda: \"First response\")]}]),\n",
    "            iter([{\"messages\": [MagicMock(content=\"Second response\", pretty_print=lambda: \"Second response\")]}]),\n",
    "        ]\n",
    "        mock_get_state.return_value = MagicMock(next=[\"search_complete\"])\n",
    "\n",
    "        with patch(\"builtins.input\", return_value=\"Continue\"):\n",
    "            stream_graph_updates(\"What is the capital of India?\")\n",
    "\n",
    "        self.assertEqual(mock_stream.call_count, 2)\n",
    "        mock_update_state.assert_called_once()"
   ]
  },
  {
   "cell_type": "code",
   "execution_count": 62,
   "id": "6041c949",
   "metadata": {},
   "outputs": [
    {
     "name": "stdout",
     "output_type": "stream",
     "text": [
      "First response\n",
      "\n",
      "==================================================\n",
      "Search completed! What would you like me to do next?\n",
      "==================================================\n",
      "Second response\n"
     ]
    }
   ],
   "source": [
    "test_case = TestGraphStreaming()\n",
    "test_case.test_stream_graph_updates()"
   ]
  },
  {
   "cell_type": "code",
   "execution_count": 63,
   "id": "a3382f28",
   "metadata": {},
   "outputs": [
    {
     "name": "stdout",
     "output_type": "stream",
     "text": [
      "<bound method Pregel.stream of <langgraph.graph.state.CompiledStateGraph object at 0x00000234A59D4C90>>\n",
      "<bound method Pregel.get_subgraphs of <langgraph.graph.state.CompiledStateGraph object at 0x00000234A59D4C90>>\n",
      "<bound method Pregel.with_config of <langgraph.graph.state.CompiledStateGraph object at 0x00000234A59D4C90>>\n",
      "None\n",
      "<class 'langgraph.utils.pydantic.LangGraphOutput'>\n",
      "['messages']\n",
      "<bound method Pregel.get_state_history of <langgraph.graph.state.CompiledStateGraph object at 0x00000234A59D4C90>>\n"
     ]
    }
   ],
   "source": [
    "print(app.stream)\n",
    "print(app.get_subgraphs)\n",
    "print(app.with_config)\n",
    "print(app.OutputType)\n",
    "print(app.output_schema)\n",
    "print(app.output_channels)\n",
    "print(app.get_state_history)"
   ]
  },
  {
   "cell_type": "code",
   "execution_count": null,
   "id": "9947d3e5",
   "metadata": {},
   "outputs": [],
   "source": [
    "#"
   ]
  }
 ],
 "metadata": {
  "kernelspec": {
   "display_name": "virtualenv",
   "language": "python",
   "name": "python3"
  },
  "language_info": {
   "codemirror_mode": {
    "name": "ipython",
    "version": 3
   },
   "file_extension": ".py",
   "mimetype": "text/x-python",
   "name": "python",
   "nbconvert_exporter": "python",
   "pygments_lexer": "ipython3",
   "version": "3.11.9"
  }
 },
 "nbformat": 4,
 "nbformat_minor": 5
}
