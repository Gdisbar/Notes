{
 "cells": [
  {
   "cell_type": "code",
   "execution_count": 18,
   "id": "26d89c54",
   "metadata": {},
   "outputs": [],
   "source": [
    "from langchain_groq import ChatGroq\n",
    "from langchain.agents import tool, create_react_agent\n",
    "import datetime\n",
    "from langchain_community.tools import TavilySearchResults\n",
    "from langchain import hub\n",
    "import operator\n",
    "from typing import Annotated, TypedDict, Union\n",
    "from typing import List\n",
    "from langchain_core.prompts import PromptTemplate\n",
    "from langchain_core.agents import AgentAction, AgentFinish\n",
    "from langgraph.graph import END, StateGraph\n",
    "from langchain_core.agents import AgentAction, AgentFinish\n",
    "\n",
    "from dotenv import load_dotenv\n",
    "import os"
   ]
  },
  {
   "cell_type": "code",
   "execution_count": 19,
   "id": "4a18e243",
   "metadata": {},
   "outputs": [],
   "source": [
    "load_dotenv()\n",
    "os.environ[\"GROQ_API_KEY\"] = os.getenv('Groq') # type: ignore\n",
    "os.environ[\"TAVILY_API_KEY\"] = os.getenv('Tavily') # type: ignore\n",
    "\n",
    "llm = ChatGroq(model=\"llama3-8b-8192\",temperature=0.5,)"
   ]
  },
  {
   "cell_type": "code",
   "execution_count": 20,
   "id": "89ca1310",
   "metadata": {},
   "outputs": [],
   "source": [
    "class AgentState(TypedDict):\n",
    "    input: str\n",
    "    agent_outcome: Union[AgentAction, AgentFinish, None]\n",
    "    intermediate_steps: Annotated[list[tuple[AgentAction, str]], operator.add]\n",
    "    loop_counter:int\n"
   ]
  },
  {
   "cell_type": "code",
   "execution_count": 21,
   "id": "c2229e7b",
   "metadata": {},
   "outputs": [],
   "source": [
    "\n",
    "@tool\n",
    "def web_search(query: str)->str:\n",
    "    \"\"\"Search the web for current information and news.\"\"\"\n",
    "    tavily = TavilySearchResults()\n",
    "    result = tavily.invoke(query)\n",
    "    formatted_results = []\n",
    "    if isinstance(result, list): \n",
    "        for item in result:\n",
    "            if isinstance(item, dict): \n",
    "                title = item.get('title', 'No Title')\n",
    "                url = item.get('url', 'No URL')\n",
    "                content = item.get('content', 'No Content')\n",
    "                truncated_content = (content[:200] + '...') if len(content) > 200 else content\n",
    "                formatted_results.append(f\"Title: {title}\\nURL: {url}\\nContent: {truncated_content}\\n---\")\n",
    "            else:\n",
    "                formatted_results.append(f\"Unexpected item type: {item}\")\n",
    "        formatted_output = \"\\n\".join(formatted_results)\n",
    "    else:\n",
    "        formatted_output = str(result) \n",
    "\n",
    "    return formatted_output\n",
    "\n"
   ]
  },
  {
   "cell_type": "code",
   "execution_count": 22,
   "id": "2efe2af1",
   "metadata": {},
   "outputs": [],
   "source": [
    "@tool\n",
    "def get_system_time(format: str = \"%Y-%m-%d %H:%M:%S\"):\n",
    "    \"\"\" Returns the current date and time in the specified format \"\"\"\n",
    "\n",
    "    current_time = datetime.datetime.now()\n",
    "    formatted_time = current_time.strftime(format)\n",
    "    return formatted_time"
   ]
  },
  {
   "cell_type": "code",
   "execution_count": 23,
   "id": "3e77b86e",
   "metadata": {},
   "outputs": [],
   "source": [
    "\n",
    "\n",
    "# Fixed custom prompt\n",
    "REACT_PROMPT_TEMPLATE = \"\"\"Answer the following questions as best you can. You have access to the following tools:\n",
    "\n",
    "{tools}\n",
    "\n",
    "Use the following format:\n",
    "\n",
    "Question: the input question you must answer\n",
    "Thought: you should always think about what to do\n",
    "Action: the action to take, should be one of [{tool_names}]\n",
    "Action Input: the input to the action\n",
    "Observation: the result of the action\n",
    "... (this Thought/Action/Action Input/Observation can repeat N times)\n",
    "Thought: I now know the final answer\n",
    "Final Answer: the final answer to the original input question\n",
    "\n",
    "Begin!\n",
    "\n",
    "Question: {input}\n",
    "Thought:{agent_scratchpad}\"\"\"\n",
    "\n",
    "tools = [get_system_time, web_search]\n",
    "\n",
    "# Create the prompt template\n",
    "react_prompt = PromptTemplate(\n",
    "    template=REACT_PROMPT_TEMPLATE,\n",
    "    input_variables=['input', 'agent_scratchpad'],\n",
    "    partial_variables={\n",
    "        'tools': '\\n'.join([f\"{tool.name}: {tool.description}\" for tool in tools]),\n",
    "        'tool_names': ', '.join([tool.name for tool in tools])\n",
    "    }\n",
    ")"
   ]
  },
  {
   "cell_type": "code",
   "execution_count": 24,
   "id": "8138857d",
   "metadata": {},
   "outputs": [],
   "source": [
    "REACT_PROMPT = \"\"\"\n",
    "Answer the following questions as best you can using the tools available.\n",
    "\n",
    "You have access to the following tools:\n",
    "{tool_names}\n",
    "\n",
    "In every step, follow this strict format:\n",
    "\n",
    "Question: the question you are answering\n",
    "Thought: think about what to do first, do not jump to tools without reasoning.\n",
    "Action: the action to take, must be one of [{tool_names}]\n",
    "Action Input: the input to the action\n",
    "\n",
    "When you get the final answer, respond with:\n",
    "\n",
    "Final Answer: the final answer to the original question.\n",
    "\n",
    "Additional guidelines:\n",
    "- If the question involves \"how many days ago\", \"how many days after\", or \"X days between two events\", you may need to use the system time.\n",
    "- But DO NOT call get_system_time unless you already have another known date (like from web_search).\n",
    "- If the date of an event is available on the web, retrieve it first, then compute time difference ONLY IF the question demands it.\n",
    "- Avoid calling get_system_time repeatedly. Use it only once and only when absolutely required.\n",
    "- If the user's question does not involve dates or durations, you must not use get_system_time.\n",
    "- Always use the minimum number of steps to answer the question accurately.\n",
    "\n",
    "Begin!\n",
    "\n",
    "Question: {input}\n",
    "Thought:\n",
    "\"\"\"\n"
   ]
  },
  {
   "cell_type": "code",
   "execution_count": 25,
   "id": "4d65e099",
   "metadata": {},
   "outputs": [
    {
     "name": "stderr",
     "output_type": "stream",
     "text": [
      "e:\\Python_PIP\\RAG\\virtualenv\\Lib\\site-packages\\langsmith\\client.py:272: LangSmithMissingAPIKeyWarning: API key must be provided when using hosted LangSmith API\n",
      "  warnings.warn(\n"
     ]
    }
   ],
   "source": [
    "\n",
    "tools = [get_system_time,web_search]\n",
    "\n",
    "react_prompt = hub.pull(\"hwchase17/react\")\n",
    "\n",
    "react_agent_runnable = create_react_agent(\n",
    "    llm=llm,\n",
    "    tools=tools,\n",
    "    prompt=react_prompt,\n",
    ")\n",
    "\n",
    "\n"
   ]
  },
  {
   "cell_type": "code",
   "execution_count": 26,
   "id": "3180f204",
   "metadata": {},
   "outputs": [
    {
     "name": "stdout",
     "output_type": "stream",
     "text": [
      "input_variables=['agent_scratchpad', 'input', 'tool_names', 'tools'] input_types={} partial_variables={} metadata={'lc_hub_owner': 'hwchase17', 'lc_hub_repo': 'react', 'lc_hub_commit_hash': 'd15fe3c426f1c4b3f37c9198853e4a86e20c425ca7f4752ec0c9b0e97ca7ea4d'} template='Answer the following questions as best you can. You have access to the following tools:\\n\\n{tools}\\n\\nUse the following format:\\n\\nQuestion: the input question you must answer\\nThought: you should always think about what to do\\nAction: the action to take, should be one of [{tool_names}]\\nAction Input: the input to the action\\nObservation: the result of the action\\n... (this Thought/Action/Action Input/Observation can repeat N times)\\nThought: I now know the final answer\\nFinal Answer: the final answer to the original input question\\n\\nBegin!\\n\\nQuestion: {input}\\nThought:{agent_scratchpad}'\n",
      "---------\n",
      "{'name': None, 'first': RunnableAssign(mapper={\n",
      "  agent_scratchpad: RunnableLambda(lambda x: format_log_to_str(x['intermediate_steps']))\n",
      "}), 'middle': [PromptTemplate(input_variables=['agent_scratchpad', 'input'], input_types={}, partial_variables={'tools': \"get_system_time(format: str = '%Y-%m-%d %H:%M:%S') - Returns the current date and time in the specified format\\nweb_search(query: str) -> str - Search the web for current information and news.\", 'tool_names': 'get_system_time, web_search'}, metadata={'lc_hub_owner': 'hwchase17', 'lc_hub_repo': 'react', 'lc_hub_commit_hash': 'd15fe3c426f1c4b3f37c9198853e4a86e20c425ca7f4752ec0c9b0e97ca7ea4d'}, template='Answer the following questions as best you can. You have access to the following tools:\\n\\n{tools}\\n\\nUse the following format:\\n\\nQuestion: the input question you must answer\\nThought: you should always think about what to do\\nAction: the action to take, should be one of [{tool_names}]\\nAction Input: the input to the action\\nObservation: the result of the action\\n... (this Thought/Action/Action Input/Observation can repeat N times)\\nThought: I now know the final answer\\nFinal Answer: the final answer to the original input question\\n\\nBegin!\\n\\nQuestion: {input}\\nThought:{agent_scratchpad}'), RunnableBinding(bound=ChatGroq(client=<groq.resources.chat.completions.Completions object at 0x000002BB78BDF050>, async_client=<groq.resources.chat.completions.AsyncCompletions object at 0x000002BB78BE1390>, model_name='llama3-8b-8192', temperature=0.5, model_kwargs={}, groq_api_key=SecretStr('**********')), kwargs={'stop': ['\\nObservation']}, config={}, config_factories=[])], 'last': ReActSingleInputOutputParser()}\n"
     ]
    }
   ],
   "source": [
    "print(react_prompt)\n",
    "print(\"---------\")\n",
    "print(react_agent_runnable.__dict__)"
   ]
  },
  {
   "cell_type": "code",
   "execution_count": 27,
   "id": "a4be1c76",
   "metadata": {},
   "outputs": [],
   "source": [
    "def reason_node(state: AgentState):\n",
    "    agent_outcome = react_agent_runnable.invoke(state)\n",
    "    print(\"__reason_node__.state\",state)\n",
    "    print(\"---------\")\n",
    "    print(\"__reason_node__.agent_outcome\",agent_outcome)\n",
    "    print(\"---------\")\n",
    "    return {\"agent_outcome\": agent_outcome,\n",
    "            \"loop_counter\": state[\"loop_counter\"] + 1\n",
    "            }\n"
   ]
  },
  {
   "cell_type": "code",
   "execution_count": 28,
   "id": "d5182e30",
   "metadata": {},
   "outputs": [],
   "source": [
    "def act_node(state: AgentState):\n",
    "    agent_action = state[\"agent_outcome\"]\n",
    "    print(\"__act_node__.state\", state)\n",
    "    \n",
    "    # Extract tool name and input from AgentAction\n",
    "    tool_name = agent_action.tool\n",
    "    tool_input = agent_action.tool_input\n",
    "    \n",
    "    # Find the matching tool function\n",
    "    tool_function = None\n",
    "    for tool in tools:\n",
    "        if tool.name == tool_name:\n",
    "            tool_function = tool\n",
    "            break\n",
    "    \n",
    "    # Execute the tool with the input - FIXED LOGIC\n",
    "    if tool_function:\n",
    "        try:\n",
    "            # Handle different input types properly\n",
    "            if tool_input is None or tool_input == 'None' or tool_input == '':\n",
    "                # Call with no arguments (use defaults)\n",
    "                output = tool_function.invoke({})\n",
    "            elif isinstance(tool_input, dict):\n",
    "                # Call with dictionary unpacking\n",
    "                output = tool_function.invoke(**tool_input)\n",
    "            elif isinstance(tool_input, str):\n",
    "                # For string inputs, determine the parameter name\n",
    "                if tool_name == 'web_search':\n",
    "                    output = tool_function.invoke({\"query\": tool_input})\n",
    "                elif tool_name == 'get_system_time':\n",
    "                    output = tool_function.invoke({\"format\": tool_input})\n",
    "                else:\n",
    "                    output = tool_function.invoke(tool_input)\n",
    "            else:\n",
    "                # Direct invocation for other types\n",
    "                output = tool_function.invoke(tool_input)\n",
    "        except Exception as e:\n",
    "            output = f\"Error executing tool '{tool_name}': {str(e)}\"\n",
    "    else:\n",
    "        output = f\"Tool '{tool_name}' not found\"\n",
    "    \n",
    "    return {\"intermediate_steps\": [(agent_action, str(output))]}"
   ]
  },
  {
   "cell_type": "code",
   "execution_count": 29,
   "id": "1dffc80d",
   "metadata": {},
   "outputs": [],
   "source": [
    "def should_continue(state: AgentState) -> str:\n",
    "    state[\"loop_counter\"] += 1\n",
    "    if state[\"loop_counter\"] > 5:\n",
    "        return \"end\"\n",
    "    if isinstance(state[\"agent_outcome\"], AgentFinish):\n",
    "        return \"end\"\n",
    "    else:\n",
    "        return \"act_node\""
   ]
  },
  {
   "cell_type": "code",
   "execution_count": 30,
   "id": "714c69e0",
   "metadata": {},
   "outputs": [],
   "source": [
    "graph = StateGraph(AgentState)\n",
    "\n",
    "graph.add_node(\"reason_node\", reason_node)\n",
    "graph.set_entry_point(\"reason_node\")\n",
    "graph.add_node(\"act_node\", act_node)\n",
    "\n",
    "\n",
    "graph.add_conditional_edges(\n",
    "    \"reason_node\",\n",
    "    should_continue,\n",
    "    {\"end\":END,\"act_node\":\"act_node\"}\n",
    ")\n",
    "\n",
    "graph.add_edge(\"act_node\", \"reason_node\")\n",
    "\n",
    "app = graph.compile()\n",
    "\n"
   ]
  },
  {
   "cell_type": "code",
   "execution_count": 31,
   "id": "974df7df",
   "metadata": {},
   "outputs": [
    {
     "data": {
      "image/png": "[encoded data removed]",
      "text/plain": [
       "<IPython.core.display.Image object>"
      ]
     },
     "metadata": {},
     "output_type": "display_data"
    }
   ],
   "source": [
    "from IPython.display import Image, display\n",
    "\n",
    "try:\n",
    "    display(Image(app.get_graph().draw_mermaid_png()))\n",
    "except Exception:\n",
    "    pass"
   ]
  },
  {
   "cell_type": "code",
   "execution_count": 32,
   "id": "dbe2f5d3",
   "metadata": {},
   "outputs": [
    {
     "name": "stdout",
     "output_type": "stream",
     "text": [
      "__reason_node__.state {'input': 'How many days ago DRDO tested latest Pralay missile according to news from public domain?', 'agent_outcome': None, 'intermediate_steps': [], 'loop_counter': 0}\n",
      "---------\n",
      "__reason_node__.agent_outcome tool='web_search' tool_input='DRDO Pralay missile test' log='Thought: I need to find out when the DRDO tested the latest Pralay missile. I can use the web search tool to get the latest information.\\n\\nAction: web_search\\nAction Input: \"DRDO Pralay missile test\"'\n",
      "---------\n",
      "__act_node__.state {'input': 'How many days ago DRDO tested latest Pralay missile according to news from public domain?', 'agent_outcome': AgentAction(tool='web_search', tool_input='DRDO Pralay missile test', log='Thought: I need to find out when the DRDO tested the latest Pralay missile. I can use the web search tool to get the latest information.\\n\\nAction: web_search\\nAction Input: \"DRDO Pralay missile test\"'), 'intermediate_steps': [], 'loop_counter': 1}\n",
      "__reason_node__.state {'input': 'How many days ago DRDO tested latest Pralay missile according to news from public domain?', 'agent_outcome': AgentAction(tool='web_search', tool_input='DRDO Pralay missile test', log='Thought: I need to find out when the DRDO tested the latest Pralay missile. I can use the web search tool to get the latest information.\\n\\nAction: web_search\\nAction Input: \"DRDO Pralay missile test\"'), 'intermediate_steps': [(AgentAction(tool='web_search', tool_input='DRDO Pralay missile test', log='Thought: I need to find out when the DRDO tested the latest Pralay missile. I can use the web search tool to get the latest information.\\n\\nAction: web_search\\nAction Input: \"DRDO Pralay missile test\"'), 'Title: India completes tests of Pralay ballistic missiles clearing final step ...\\nURL: https://armyrecognition.com/news/army-news/2025/india-completes-tests-of-pralay-ballistic-missiles-clearing-final-step-toward-mass-production\\nContent: On July 29, 2025, the Indian Ministry of Defence confirmed that the Defence Research and Development Organisation (DRDO) had carried out two consecutive flight tests of the Pralay surface-to-surface m...\\n---\\nTitle: Pralay: DRDO tests 5,000 kg radar-evading ballistic missile that can ...\\nURL: https://m.economictimes.com/news/defence/drdos-pralay-quasi-ballistic-missile-with-high-precision-tested-successfully-on-2829-july/articleshow/122970493.cms\\nContent: The Defence Research and Development Organisation (DRDO) successfully conducted two Pralay missile flight tests in July 2025. The missile, designed for tactical battlefield use, followed a quasi-balli...\\n---\\nTitle: India concludes first phase tests of Pralay missiles - Army Technology\\nURL: https://www.army-technology.com/news/india-concludes-first-phase-tests-of-pralay-missiles/\\nContent: India’s Defence Research and Development Organisation (DRDO) conducted two consecutive flight tests, proving, it is said, all the objectives for the successful launch of the Pralay surface-to-surface ...\\n---\\nTitle: DRDO successfully tests quasi-ballistic tactical missile Pralay as part ...\\nURL: https://indianexpress.com/article/india/india-test-fires-tactical-missile-pralay-10156993/\\nContent: THE Defence Research and Development Organisation (DRDO) conducted two consecutive successful tests of quasi-ballistic missile Pralay from Dr APJ Abdul Kalam island off the coast of Odisha on Monday a...\\n---\\nTitle: Pralay (missile) - Wikipedia\\nURL: https://en.wikipedia.org/wiki/Pralay_(missile)\\nContent: On 22 December 2021, DRDO conducted the maiden test of Pralay from Abdul Kalam Island.( The missile followed quasi ballistic trajectory reaching the designated target at 400 km with high degree of acc...\\n---')], 'loop_counter': 1}\n",
      "---------\n",
      "__reason_node__.agent_outcome tool='get_system_time' tool_input='None' log='Thought: I have gathered multiple sources of information about the DRDO testing the Pralay missile. I need to find the date of the latest test mentioned in the news. The date of the latest test is July 29, 2025.\\n\\nAction: get_system_time\\nAction Input: None'\n",
      "---------\n",
      "__act_node__.state {'input': 'How many days ago DRDO tested latest Pralay missile according to news from public domain?', 'agent_outcome': AgentAction(tool='get_system_time', tool_input='None', log='Thought: I have gathered multiple sources of information about the DRDO testing the Pralay missile. I need to find the date of the latest test mentioned in the news. The date of the latest test is July 29, 2025.\\n\\nAction: get_system_time\\nAction Input: None'), 'intermediate_steps': [(AgentAction(tool='web_search', tool_input='DRDO Pralay missile test', log='Thought: I need to find out when the DRDO tested the latest Pralay missile. I can use the web search tool to get the latest information.\\n\\nAction: web_search\\nAction Input: \"DRDO Pralay missile test\"'), 'Title: India completes tests of Pralay ballistic missiles clearing final step ...\\nURL: https://armyrecognition.com/news/army-news/2025/india-completes-tests-of-pralay-ballistic-missiles-clearing-final-step-toward-mass-production\\nContent: On July 29, 2025, the Indian Ministry of Defence confirmed that the Defence Research and Development Organisation (DRDO) had carried out two consecutive flight tests of the Pralay surface-to-surface m...\\n---\\nTitle: Pralay: DRDO tests 5,000 kg radar-evading ballistic missile that can ...\\nURL: https://m.economictimes.com/news/defence/drdos-pralay-quasi-ballistic-missile-with-high-precision-tested-successfully-on-2829-july/articleshow/122970493.cms\\nContent: The Defence Research and Development Organisation (DRDO) successfully conducted two Pralay missile flight tests in July 2025. The missile, designed for tactical battlefield use, followed a quasi-balli...\\n---\\nTitle: India concludes first phase tests of Pralay missiles - Army Technology\\nURL: https://www.army-technology.com/news/india-concludes-first-phase-tests-of-pralay-missiles/\\nContent: India’s Defence Research and Development Organisation (DRDO) conducted two consecutive flight tests, proving, it is said, all the objectives for the successful launch of the Pralay surface-to-surface ...\\n---\\nTitle: DRDO successfully tests quasi-ballistic tactical missile Pralay as part ...\\nURL: https://indianexpress.com/article/india/india-test-fires-tactical-missile-pralay-10156993/\\nContent: THE Defence Research and Development Organisation (DRDO) conducted two consecutive successful tests of quasi-ballistic missile Pralay from Dr APJ Abdul Kalam island off the coast of Odisha on Monday a...\\n---\\nTitle: Pralay (missile) - Wikipedia\\nURL: https://en.wikipedia.org/wiki/Pralay_(missile)\\nContent: On 22 December 2021, DRDO conducted the maiden test of Pralay from Abdul Kalam Island.( The missile followed quasi ballistic trajectory reaching the designated target at 400 km with high degree of acc...\\n---')], 'loop_counter': 2}\n",
      "__reason_node__.state {'input': 'How many days ago DRDO tested latest Pralay missile according to news from public domain?', 'agent_outcome': AgentAction(tool='get_system_time', tool_input='None', log='Thought: I have gathered multiple sources of information about the DRDO testing the Pralay missile. I need to find the date of the latest test mentioned in the news. The date of the latest test is July 29, 2025.\\n\\nAction: get_system_time\\nAction Input: None'), 'intermediate_steps': [(AgentAction(tool='web_search', tool_input='DRDO Pralay missile test', log='Thought: I need to find out when the DRDO tested the latest Pralay missile. I can use the web search tool to get the latest information.\\n\\nAction: web_search\\nAction Input: \"DRDO Pralay missile test\"'), 'Title: India completes tests of Pralay ballistic missiles clearing final step ...\\nURL: https://armyrecognition.com/news/army-news/2025/india-completes-tests-of-pralay-ballistic-missiles-clearing-final-step-toward-mass-production\\nContent: On July 29, 2025, the Indian Ministry of Defence confirmed that the Defence Research and Development Organisation (DRDO) had carried out two consecutive flight tests of the Pralay surface-to-surface m...\\n---\\nTitle: Pralay: DRDO tests 5,000 kg radar-evading ballistic missile that can ...\\nURL: https://m.economictimes.com/news/defence/drdos-pralay-quasi-ballistic-missile-with-high-precision-tested-successfully-on-2829-july/articleshow/122970493.cms\\nContent: The Defence Research and Development Organisation (DRDO) successfully conducted two Pralay missile flight tests in July 2025. The missile, designed for tactical battlefield use, followed a quasi-balli...\\n---\\nTitle: India concludes first phase tests of Pralay missiles - Army Technology\\nURL: https://www.army-technology.com/news/india-concludes-first-phase-tests-of-pralay-missiles/\\nContent: India’s Defence Research and Development Organisation (DRDO) conducted two consecutive flight tests, proving, it is said, all the objectives for the successful launch of the Pralay surface-to-surface ...\\n---\\nTitle: DRDO successfully tests quasi-ballistic tactical missile Pralay as part ...\\nURL: https://indianexpress.com/article/india/india-test-fires-tactical-missile-pralay-10156993/\\nContent: THE Defence Research and Development Organisation (DRDO) conducted two consecutive successful tests of quasi-ballistic missile Pralay from Dr APJ Abdul Kalam island off the coast of Odisha on Monday a...\\n---\\nTitle: Pralay (missile) - Wikipedia\\nURL: https://en.wikipedia.org/wiki/Pralay_(missile)\\nContent: On 22 December 2021, DRDO conducted the maiden test of Pralay from Abdul Kalam Island.( The missile followed quasi ballistic trajectory reaching the designated target at 400 km with high degree of acc...\\n---'), (AgentAction(tool='get_system_time', tool_input='None', log='Thought: I have gathered multiple sources of information about the DRDO testing the Pralay missile. I need to find the date of the latest test mentioned in the news. The date of the latest test is July 29, 2025.\\n\\nAction: get_system_time\\nAction Input: None'), '2025-07-31 13:20:19')], 'loop_counter': 2}\n",
      "---------\n",
      "__reason_node__.agent_outcome return_values={'output': 'The DRDO tested the latest Pralay missile on July 29, 2025, which is 2 days ago as of the current system time (2025-07-31 13:20:19).'} log='Here is the continuation of the answer:\\n\\nThought: I now know the final answer.\\n\\nFinal Answer: The DRDO tested the latest Pralay missile on July 29, 2025, which is 2 days ago as of the current system time (2025-07-31 13:20:19).'\n",
      "---------\n"
     ]
    }
   ],
   "source": [
    "result = app.invoke(\n",
    "    {\n",
    "        \"input\": \"How many days ago DRDO tested latest Pralay missile according to news from public domain?\", \n",
    "        \"agent_outcome\": None, \n",
    "        \"intermediate_steps\": [],\n",
    "        \"loop_counter\":0\n",
    "    }\n",
    ")\n"
   ]
  },
  {
   "cell_type": "code",
   "execution_count": 33,
   "id": "6fb4b58a",
   "metadata": {},
   "outputs": [
    {
     "name": "stdout",
     "output_type": "stream",
     "text": [
      "{'input': 'How many days ago DRDO tested latest Pralay missile according to news from public domain?', 'agent_outcome': AgentFinish(return_values={'output': 'The DRDO tested the latest Pralay missile on July 29, 2025, which is 2 days ago as of the current system time (2025-07-31 13:20:19).'}, log='Here is the continuation of the answer:\\n\\nThought: I now know the final answer.\\n\\nFinal Answer: The DRDO tested the latest Pralay missile on July 29, 2025, which is 2 days ago as of the current system time (2025-07-31 13:20:19).'), 'intermediate_steps': [(AgentAction(tool='web_search', tool_input='DRDO Pralay missile test', log='Thought: I need to find out when the DRDO tested the latest Pralay missile. I can use the web search tool to get the latest information.\\n\\nAction: web_search\\nAction Input: \"DRDO Pralay missile test\"'), 'Title: India completes tests of Pralay ballistic missiles clearing final step ...\\nURL: https://armyrecognition.com/news/army-news/2025/india-completes-tests-of-pralay-ballistic-missiles-clearing-final-step-toward-mass-production\\nContent: On July 29, 2025, the Indian Ministry of Defence confirmed that the Defence Research and Development Organisation (DRDO) had carried out two consecutive flight tests of the Pralay surface-to-surface m...\\n---\\nTitle: Pralay: DRDO tests 5,000 kg radar-evading ballistic missile that can ...\\nURL: https://m.economictimes.com/news/defence/drdos-pralay-quasi-ballistic-missile-with-high-precision-tested-successfully-on-2829-july/articleshow/122970493.cms\\nContent: The Defence Research and Development Organisation (DRDO) successfully conducted two Pralay missile flight tests in July 2025. The missile, designed for tactical battlefield use, followed a quasi-balli...\\n---\\nTitle: India concludes first phase tests of Pralay missiles - Army Technology\\nURL: https://www.army-technology.com/news/india-concludes-first-phase-tests-of-pralay-missiles/\\nContent: India’s Defence Research and Development Organisation (DRDO) conducted two consecutive flight tests, proving, it is said, all the objectives for the successful launch of the Pralay surface-to-surface ...\\n---\\nTitle: DRDO successfully tests quasi-ballistic tactical missile Pralay as part ...\\nURL: https://indianexpress.com/article/india/india-test-fires-tactical-missile-pralay-10156993/\\nContent: THE Defence Research and Development Organisation (DRDO) conducted two consecutive successful tests of quasi-ballistic missile Pralay from Dr APJ Abdul Kalam island off the coast of Odisha on Monday a...\\n---\\nTitle: Pralay (missile) - Wikipedia\\nURL: https://en.wikipedia.org/wiki/Pralay_(missile)\\nContent: On 22 December 2021, DRDO conducted the maiden test of Pralay from Abdul Kalam Island.( The missile followed quasi ballistic trajectory reaching the designated target at 400 km with high degree of acc...\\n---'), (AgentAction(tool='get_system_time', tool_input='None', log='Thought: I have gathered multiple sources of information about the DRDO testing the Pralay missile. I need to find the date of the latest test mentioned in the news. The date of the latest test is July 29, 2025.\\n\\nAction: get_system_time\\nAction Input: None'), '2025-07-31 13:20:19')], 'loop_counter': 3}\n"
     ]
    }
   ],
   "source": [
    "print(result)"
   ]
  },
  {
   "cell_type": "code",
   "execution_count": 35,
   "id": "b19b0f0a",
   "metadata": {},
   "outputs": [
    {
     "name": "stdout",
     "output_type": "stream",
     "text": [
      "How many days ago DRDO tested latest Pralay missile according to news from public domain?\n",
      "------\n",
      "tool='web_search' tool_input='DRDO Pralay missile test' log='Thought: I need to find out when the DRDO tested the latest Pralay missile. I can use the web search tool to get the latest information.\\n\\nAction: web_search\\nAction Input: \"DRDO Pralay missile test\"'\n",
      "------\n",
      "The DRDO tested the latest Pralay missile on July 29, 2025, which is 2 days ago as of the current system time (2025-07-31 13:20:19).\n"
     ]
    }
   ],
   "source": [
    "print(result[\"input\"])\n",
    "print(\"------\")\n",
    "print(result[\"intermediate_steps\"][0][0])\n",
    "print(\"------\")\n",
    "print(result[\"agent_outcome\"].return_values[\"output\"])# "
   ]
  },
  {
   "cell_type": "code",
   "execution_count": null,
   "id": "1e122ccd",
   "metadata": {},
   "outputs": [],
   "source": [
    "#"
   ]
  }
 ],
 "metadata": {
  "kernelspec": {
   "display_name": "virtualenv",
   "language": "python",
   "name": "python3"
  },
  "language_info": {
   "codemirror_mode": {
    "name": "ipython",
    "version": 3
   },
   "file_extension": ".py",
   "mimetype": "text/x-python",
   "name": "python",
   "nbconvert_exporter": "python",
   "pygments_lexer": "ipython3",
   "version": "3.11.9"
  }
 },
 "nbformat": 4,
 "nbformat_minor": 5
}
