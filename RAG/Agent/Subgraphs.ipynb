{
 "cells": [
  {
   "cell_type": "code",
   "execution_count": 13,
   "id": "46b8130c",
   "metadata": {},
   "outputs": [],
   "source": [
    "from typing import TypedDict, Annotated,Dict\n",
    "from langgraph.graph import add_messages, StateGraph, END,START\n",
    "from langchain_groq import ChatGroq\n",
    "from langchain_core.messages import AIMessage, HumanMessage\n",
    "from dotenv import load_dotenv\n",
    "from langchain_community.tools.tavily_search import TavilySearchResults\n",
    "from langgraph.prebuilt import ToolNode, tools_condition\n",
    "import os\n",
    "\n",
    "load_dotenv()\n",
    "os.environ[\"GROQ_API_KEY\"] = os.getenv('Groq') # type: ignore\n",
    "os.environ[\"TAVILY_API_KEY\"] = os.getenv('Tavily') # type: ignore"
   ]
  },
  {
   "cell_type": "code",
   "execution_count": 2,
   "id": "4124d77b",
   "metadata": {},
   "outputs": [],
   "source": [
    "from langchain_core.tools import tool\n",
    "\n",
    "@tool\n",
    "def web_search(query: str) -> str:\n",
    "    \"\"\"Search the web for current information and news.\"\"\"\n",
    "    tavily = TavilySearchResults(max_results=3)\n",
    "    result = tavily.invoke(f\"query: {query}\")\n",
    "    formatted_results = []\n",
    "    \n",
    "    if isinstance(result, list): \n",
    "        for item in result:\n",
    "            if isinstance(item, dict): \n",
    "                title = item.get('title', 'No Title')\n",
    "                url = item.get('url', 'No URL')\n",
    "                content = item.get('content', 'No Content')\n",
    "                truncated_content = (content[:200] + '...') if len(content) > 200 else content\n",
    "                formatted_results.append(f\"Title: {title}\\nURL: {url}\\nContent: {truncated_content}\\n---\")\n",
    "    \n",
    "    return f\"Search Results:\\n\" + \"\\n\".join(formatted_results)\n"
   ]
  },
  {
   "cell_type": "code",
   "execution_count": null,
   "id": "35695ef1",
   "metadata": {},
   "outputs": [],
   "source": [
    "\n",
    "class ChildState(TypedDict):\n",
    "    messages: Annotated[list, add_messages]\n",
    "\n",
    "# meta-llama/Llama-3.2-3B-Instruct-Turbo\n",
    "llm = ChatGroq(model=\"llama-3.1-8b-instant\")\n",
    "tools = [web_search]\n",
    "tool_node = ToolNode(tools=tools)\n",
    "llm_with_tools = llm.bind_tools(tools=tools)\n",
    "\n",
    "def agent(state: ChildState):\n",
    "    response = llm_with_tools.invoke(state[\"messages\"])\n",
    "    print(\"-----------\")\n",
    "    if hasattr(response, 'tool_calls'):\n",
    "        print(f\"__agent__.Tool calls: {response.tool_calls}\")\n",
    "    print(\"-----------\")\n",
    "    state[\"messages\"] = response\n",
    "    return {\n",
    "        \"messages\": [response], \n",
    "    }\n",
    "\n",
    "def tools_router(state: ChildState):\n",
    "    last_message = state[\"messages\"][-1]\n",
    "\n",
    "    if(hasattr(last_message, \"tool_calls\") and len(last_message.tool_calls) > 0):\n",
    "        tool_calls = getattr(last_message, \"tool_calls\", None)\n",
    "        print(\"-----------\")\n",
    "        print(f\"__tools_router__.Tool calls: {tool_calls}\")\n",
    "        print(\"-----------\")\n",
    "        # return \"tool_node\"\n",
    "        return \"tools\"\n",
    "    else: \n",
    "        return END\n",
    "    "
   ]
  },
  {
   "cell_type": "code",
   "execution_count": 4,
   "id": "fc90c0bf",
   "metadata": {},
   "outputs": [],
   "source": [
    "\n",
    "\n",
    "\n",
    "subgraph = StateGraph(ChildState)\n",
    "\n",
    "subgraph.add_node(\"agent\", agent)\n",
    "subgraph.add_node(\"tools\", tool_node) \n",
    "subgraph.add_edge(START,\"agent\")\n",
    "\n",
    "subgraph.add_edge(\"tools\", \"agent\")\n",
    "subgraph.add_conditional_edges(\"agent\", tools_router,{\"tools\":\"tools\",END:END})\n",
    "# subgraph.add_conditional_edges(\"agent\", tools_condition)\n",
    "\n",
    "search_app = subgraph.compile()"
   ]
  },
  {
   "cell_type": "code",
   "execution_count": 5,
   "id": "2dc21ead",
   "metadata": {},
   "outputs": [
    {
     "data": {
      "image/png": "[encoded data removed]",
      "text/plain": [
       "<IPython.core.display.Image object>"
      ]
     },
     "metadata": {},
     "output_type": "display_data"
    }
   ],
   "source": [
    "from IPython.display import Image, display\n",
    "\n",
    "try:\n",
    "    display(Image(search_app.get_graph().draw_mermaid_png()))\n",
    "except Exception:\n",
    "    pass"
   ]
  },
  {
   "cell_type": "code",
   "execution_count": 6,
   "id": "0304d59c",
   "metadata": {},
   "outputs": [
    {
     "name": "stdout",
     "output_type": "stream",
     "text": [
      "-----------\n",
      "__agent__.Tool calls: [{'name': 'web_search', 'args': {'query': 'Kolkata weather today'}, 'id': 'hehc8q36k', 'type': 'tool_call'}]\n",
      "-----------\n",
      "-----------\n",
      "__tools_router__.Tool calls: [{'name': 'web_search', 'args': {'query': 'Kolkata weather today'}, 'id': 'hehc8q36k', 'type': 'tool_call'}]\n",
      "-----------\n"
     ]
    },
    {
     "name": "stderr",
     "output_type": "stream",
     "text": [
      "C:\\Users\\User\\AppData\\Local\\Temp\\ipykernel_3116\\534120192.py:6: LangChainDeprecationWarning: The class `TavilySearchResults` was deprecated in LangChain 0.3.25 and will be removed in 1.0. An updated version of the class exists in the :class:`~langchain-tavily package and should be used instead. To use it run `pip install -U :class:`~langchain-tavily` and import as `from :class:`~langchain_tavily import TavilySearch``.\n",
      "  tavily = TavilySearchResults(max_results=3)\n"
     ]
    },
    {
     "name": "stdout",
     "output_type": "stream",
     "text": [
      "-----------\n",
      "__agent__.Tool calls: []\n",
      "-----------\n"
     ]
    },
    {
     "data": {
      "text/plain": [
       "{'messages': [HumanMessage(content='How is the weather in Kolkata today?', additional_kwargs={}, response_metadata={}, id='5472ddad-fbc6-41bc-9fb5-ea4785e60043'),\n",
       "  AIMessage(content='', additional_kwargs={'tool_calls': [{'id': 'hehc8q36k', 'function': {'arguments': '{\"query\":\"Kolkata weather today\"}', 'name': 'web_search'}, 'type': 'function'}]}, response_metadata={'token_usage': {'completion_tokens': 18, 'prompt_tokens': 224, 'total_tokens': 242, 'completion_time': 0.337171922, 'prompt_time': 0.052463295, 'queue_time': 0.044279579000000006, 'total_time': 0.389635217}, 'model_name': 'llama-3.1-8b-instant', 'system_fingerprint': 'fp_510c177af0', 'service_tier': 'on_demand', 'finish_reason': 'tool_calls', 'logprobs': None}, id='run--035df2af-3148-423a-9082-3ef6ee5738d8-0', tool_calls=[{'name': 'web_search', 'args': {'query': 'Kolkata weather today'}, 'id': 'hehc8q36k', 'type': 'tool_call'}], usage_metadata={'input_tokens': 224, 'output_tokens': 18, 'total_tokens': 242}),\n",
       "  ToolMessage(content='Search Results:\\nTitle: Kolkata, West Bengal, India Monthly Weather - AccuWeather\\nURL: https://www.accuweather.com/en/in/kolkata/206690/august-weather/206690\\nContent: Get the monthly weather forecast for Kolkata, West Bengal, India, including daily high/low, historical averages, to help you plan ahead.\\n---\\nTitle: Kolkata, West Bengal, India Weather Forecast - AccuWeather\\nURL: https://www.accuweather.com/en/in/kolkata/206690/weather-forecast/206690\\nContent: 10-Day Weather Forecast. Today. 8/4. 92° 81°. A little afternoon rain. Night: Cloudy with a thunderstorm. 63% · Tue. 8/5. 93° 81°. Cloudy with a thunderstorm.\\n---\\nTitle: Kolkata, West Bengal, India Monthly Weather - AccuWeather\\nURL: https://www.accuweather.com/en/in/kolkata/206690/april-weather/206690\\nContent: Kolkata, West Bengal. 79°F · settings. Kolkata, West Bengal Weather. Today WinterCast Local {stormName} ... Temperature Graph. °F. 110° 100° 90° 80° 70° Apr.\\n---', name='web_search', id='60be2301-713b-4ad6-966b-5d9b0eb165aa', tool_call_id='hehc8q36k'),\n",
       "  AIMessage(content='The weather in Kolkata today is expected to be partly cloudy with a thunderstorm and a high of 92°F (33°C) and a low of 81°F (27°C).', additional_kwargs={}, response_metadata={'token_usage': {'completion_tokens': 38, 'prompt_tokens': 517, 'total_tokens': 555, 'completion_time': 0.047171758, 'prompt_time': 0.212197496, 'queue_time': 0.04572102399999997, 'total_time': 0.259369254}, 'model_name': 'llama-3.1-8b-instant', 'system_fingerprint': 'fp_510c177af0', 'service_tier': 'on_demand', 'finish_reason': 'stop', 'logprobs': None}, id='run--b7325b5b-8487-45b3-8ac9-27dcdee63b49-0', usage_metadata={'input_tokens': 517, 'output_tokens': 38, 'total_tokens': 555})]}"
      ]
     },
     "execution_count": 6,
     "metadata": {},
     "output_type": "execute_result"
    }
   ],
   "source": [
    "search_app.invoke({\"messages\": [HumanMessage(content=\"How is the weather in Kolkata today?\")]})"
   ]
  },
  {
   "cell_type": "markdown",
   "id": "a3c2da1f",
   "metadata": {},
   "source": [
    "Shared Schema (Direct Embedding)"
   ]
  },
  {
   "cell_type": "code",
   "execution_count": 7,
   "id": "8a6b6849",
   "metadata": {},
   "outputs": [],
   "source": [
    "\n",
    "\n",
    "# Define parent graph with the same schema\n",
    "class ParentState(TypedDict):\n",
    "    messages: Annotated[list, add_messages]\n",
    "\n",
    "# Create parent graph\n",
    "parent_graph = StateGraph(ParentState)\n",
    "\n",
    "# Add the subgraph as a node\n",
    "parent_graph.add_node(\"search_agent\", search_app)\n",
    "\n",
    "# Connect the flow\n",
    "parent_graph.add_edge(START, \"search_agent\")\n",
    "parent_graph.add_edge(\"search_agent\", END)\n",
    "\n",
    "# Compile parent graph\n",
    "parent_app = parent_graph.compile()"
   ]
  },
  {
   "cell_type": "code",
   "execution_count": 8,
   "id": "923eec20",
   "metadata": {},
   "outputs": [
    {
     "data": {
      "image/png": "[encoded data removed]",
      "text/plain": [
       "<IPython.core.display.Image object>"
      ]
     },
     "metadata": {},
     "output_type": "display_data"
    }
   ],
   "source": [
    "from IPython.display import Image, display\n",
    "\n",
    "try:\n",
    "    display(Image(parent_app.get_graph().draw_mermaid_png()))\n",
    "except Exception:\n",
    "    pass"
   ]
  },
  {
   "cell_type": "code",
   "execution_count": 12,
   "id": "d0697b55",
   "metadata": {},
   "outputs": [
    {
     "name": "stdout",
     "output_type": "stream",
     "text": [
      "-----------\n",
      "__agent__.Tool calls: [{'name': 'web_search', 'args': {'query': 'Rishra,West Bengal weather today and rainfall chances'}, 'id': 'r1tyfq090', 'type': 'tool_call'}]\n",
      "-----------\n",
      "-----------\n",
      "__tools_router__.Tool calls: [{'name': 'web_search', 'args': {'query': 'Rishra,West Bengal weather today and rainfall chances'}, 'id': 'r1tyfq090', 'type': 'tool_call'}]\n",
      "-----------\n",
      "-----------\n",
      "__agent__.Tool calls: []\n",
      "-----------\n"
     ]
    },
    {
     "data": {
      "text/plain": [
       "{'messages': [HumanMessage(content='How is the weather in Rishra,West Bengal today ? Any chances of rainfall ?', additional_kwargs={}, response_metadata={}, id='64113628-bd82-4717-ae25-823ae1d1d916'),\n",
       "  AIMessage(content='', additional_kwargs={'tool_calls': [{'id': 'r1tyfq090', 'function': {'arguments': '{\"query\":\"Rishra,West Bengal weather today and rainfall chances\"}', 'name': 'web_search'}, 'type': 'function'}]}, response_metadata={'token_usage': {'completion_tokens': 25, 'prompt_tokens': 234, 'total_tokens': 259, 'completion_time': 0.034207385, 'prompt_time': 1.085386836, 'queue_time': 0.045731554999999924, 'total_time': 1.119594221}, 'model_name': 'llama-3.1-8b-instant', 'system_fingerprint': 'fp_510c177af0', 'service_tier': 'on_demand', 'finish_reason': 'tool_calls', 'logprobs': None}, id='run--02f5b537-6df5-483d-b67a-bc784c5502e5-0', tool_calls=[{'name': 'web_search', 'args': {'query': 'Rishra,West Bengal weather today and rainfall chances'}, 'id': 'r1tyfq090', 'type': 'tool_call'}], usage_metadata={'input_tokens': 234, 'output_tokens': 25, 'total_tokens': 259}),\n",
       "  ToolMessage(content='Search Results:\\nTitle: Rishra, West Bengal, India Weather Forecast - AccuWeather\\nURL: https://www.accuweather.com/en/in/rishra/191526/weather-forecast/191526\\nContent: Current Weather. 1:38 AM. 81°F. Thundershower. RealFeel® 92° · MINUTECAST™. Rain and a thunderstorm for at least 60 min. Now. 2:38 AM. Rishra Weather Radar.\\n---\\nTitle: 2025 - Rishra, West Bengal, India Monthly Weather | AccuWeather\\nURL: https://www.accuweather.com/en/in/rishra/191526/august-weather/191526\\nContent: Get the monthly weather forecast for Rishra, West Bengal, India, including daily high/low, historical averages, to help you plan ahead.\\n---\\nTitle: 2025 - Rishra, West Bengal, India Monthly Weather | AccuWeather\\nURL: https://www.accuweather.com/en/in/rishra/191526/april-weather/191526\\nContent: Rishra, West Bengal 84°F Hourly Daily Radar MinuteCast Monthly Air Quality Health & Activities April 2025\\n---', name='web_search', id='07ef48d9-1b73-4816-be60-fd42508faf7a', tool_call_id='r1tyfq090'),\n",
       "  AIMessage(content='The search results show that it is currently 81°F in Rishra, West Bengal, with thundershower forecasted. The MinuteCast suggests that there is a chance of rain for at least 60 minutes.', additional_kwargs={}, response_metadata={'token_usage': {'completion_tokens': 45, 'prompt_tokens': 526, 'total_tokens': 571, 'completion_time': 0.163149747, 'prompt_time': 0.102457788, 'queue_time': 0.04425758200000002, 'total_time': 0.265607535}, 'model_name': 'llama-3.1-8b-instant', 'system_fingerprint': 'fp_510c177af0', 'service_tier': 'on_demand', 'finish_reason': 'stop', 'logprobs': None}, id='run--8f6de707-0922-45b0-8d34-b45397b8cc9b-0', usage_metadata={'input_tokens': 526, 'output_tokens': 45, 'total_tokens': 571})]}"
      ]
     },
     "execution_count": 12,
     "metadata": {},
     "output_type": "execute_result"
    }
   ],
   "source": [
    "parent_app.invoke({\"messages\": [HumanMessage(content=\"How is the weather in Rishra,West Bengal today ? Any chances of rainfall ?\")]})"
   ]
  },
  {
   "cell_type": "markdown",
   "id": "a7ccfb3f",
   "metadata": {},
   "source": [
    "Different Schema (Invoke with Transformation)"
   ]
  },
  {
   "cell_type": "code",
   "execution_count": 14,
   "id": "a0561ed1",
   "metadata": {},
   "outputs": [],
   "source": [
    "class QueryState(TypedDict):\n",
    "    query: str\n",
    "    response: str\n",
    "\n",
    "# Function to invoke subgraph\n",
    "def search_agent(state: QueryState) -> Dict:\n",
    "    # Transform from parent schema to subgraph schema\n",
    "    subgraph_input = {\n",
    "        \"messages\": [HumanMessage(content=state[\"query\"])]\n",
    "    }\n",
    "    subgraph_result = search_app.invoke(subgraph_input)\n",
    "    assistant_message = subgraph_result[\"messages\"][-1]\n",
    "    return {\"response\": assistant_message.content}"
   ]
  },
  {
   "cell_type": "code",
   "execution_count": 15,
   "id": "30e5469e",
   "metadata": {},
   "outputs": [],
   "source": [
    "transformed_parent_graph = StateGraph(QueryState)\n",
    "\n",
    "transformed_parent_graph.add_node(\"search_agent\", search_agent)\n",
    "transformed_parent_graph.add_edge(START, \"search_agent\")\n",
    "transformed_parent_graph.add_edge(\"search_agent\", END)\n",
    "\n",
    "transformed_parent_app = transformed_parent_graph.compile()"
   ]
  },
  {
   "cell_type": "code",
   "execution_count": 16,
   "id": "cff8f5e9",
   "metadata": {},
   "outputs": [
    {
     "data": {
      "image/png": "[encoded data removed]",
      "text/plain": [
       "<IPython.core.display.Image object>"
      ]
     },
     "metadata": {},
     "output_type": "display_data"
    }
   ],
   "source": [
    "from IPython.display import Image, display\n",
    "\n",
    "try:\n",
    "    display(Image(transformed_parent_app.get_graph().draw_mermaid_png()))\n",
    "except Exception:\n",
    "    pass"
   ]
  },
  {
   "cell_type": "code",
   "execution_count": 17,
   "id": "3392679e",
   "metadata": {},
   "outputs": [
    {
     "name": "stdout",
     "output_type": "stream",
     "text": [
      "-----------\n",
      "__agent__.Tool calls: [{'name': 'web_search', 'args': {'query': 'Belghoria Expressway road condition today'}, 'id': 'h1n5rv3gg', 'type': 'tool_call'}]\n",
      "-----------\n",
      "-----------\n",
      "__tools_router__.Tool calls: [{'name': 'web_search', 'args': {'query': 'Belghoria Expressway road condition today'}, 'id': 'h1n5rv3gg', 'type': 'tool_call'}]\n",
      "-----------\n",
      "-----------\n",
      "__agent__.Tool calls: []\n",
      "-----------\n"
     ]
    },
    {
     "data": {
      "text/plain": [
       "{'query': 'How is the road condition in Belghoria Expressway today?',\n",
       " 'response': \"Based on the search results, it appears that there are some issues with the road condition on the Belghoria Expressway today. There are reports of craters on the road, which are causing delays and making the commute difficult. However, it's not clear if the road condition is hazardous or just rough. It's always a good idea to check for real-time traffic updates or contact local authorities for the most up-to-date information.\"}"
      ]
     },
     "execution_count": 17,
     "metadata": {},
     "output_type": "execute_result"
    }
   ],
   "source": [
    "transformed_parent_app.invoke({\"query\": \"How is the road condition in Belghoria Expressway today?\", \"response\": \"\"})"
   ]
  }
 ],
 "metadata": {
  "kernelspec": {
   "display_name": "virtualenv",
   "language": "python",
   "name": "python3"
  },
  "language_info": {
   "codemirror_mode": {
    "name": "ipython",
    "version": 3
   },
   "file_extension": ".py",
   "mimetype": "text/x-python",
   "name": "python",
   "nbconvert_exporter": "python",
   "pygments_lexer": "ipython3",
   "version": "3.11.9"
  }
 },
 "nbformat": 4,
 "nbformat_minor": 5
}
