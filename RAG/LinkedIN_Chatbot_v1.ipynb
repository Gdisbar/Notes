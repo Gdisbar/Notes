{
 "cells": [
  {
   "cell_type": "code",
   "execution_count": null,
   "id": "c45fae2e",
   "metadata": {},
   "outputs": [],
   "source": [
    "import os\n",
    "from typing import TypedDict, Annotated\n",
    "from langchain_core.messages import HumanMessage\n",
    "from langgraph.graph import add_messages, StateGraph, END\n",
    "from langchain_groq import ChatGroq\n",
    "from dotenv import load_dotenv"
   ]
  },
  {
   "cell_type": "code",
   "execution_count": 2,
   "id": "eb1ee6ed",
   "metadata": {},
   "outputs": [],
   "source": [
    "load_dotenv()\n",
    "os.environ[\"GROQ_API_KEY\"] = os.getenv('Groq') # type: ignore\n"
   ]
  },
  {
   "cell_type": "code",
   "execution_count": null,
   "id": "f02c01a8",
   "metadata": {},
   "outputs": [],
   "source": [
    "class State(TypedDict): \n",
    "    messages: Annotated[list, add_messages]\n"
   ]
  },
  {
   "cell_type": "code",
   "execution_count": 7,
   "id": "e36ac437",
   "metadata": {},
   "outputs": [],
   "source": [
    "llm = ChatGroq(model=\"llama-3.1-8b-instant\")"
   ]
  },
  {
   "cell_type": "code",
   "execution_count": null,
   "id": "e9790573",
   "metadata": {},
   "outputs": [],
   "source": [
    "def generate_post(state: State):  \n",
    "    return { \n",
    "        \"messages\": [llm.invoke(state[\"messages\"])] \n",
    "    } \n",
    " \n",
    "def get_review_decision(state: State):   \n",
    "    post_content = state[\"messages\"][-1].content  \n",
    "    print(\"\\n==================Current LinkedIn Post:=====================\\n\") \n",
    "    print(post_content) \n",
    "    print(\"\\n\") \n",
    "    decision = input(\"Post to LinkedIn? (yes/no): \") \n",
    "    # Store the decision in state for the router to use\n",
    "    return {\n",
    "        \"messages\": state[\"messages\"] + [HumanMessage(content=f\"User decision: {decision}\")]\n",
    "    }\n",
    "\n",
    "def route_after_review(state: State):\n",
    "    # Extract the decision from the last message\n",
    "    last_message = state[\"messages\"][-1].content\n",
    "    if \"User decision: yes\" in last_message:\n",
    "        return \"post\"\n",
    "    else:\n",
    "        return \"collect_feedback\"\n",
    " \n",
    "def post(state: State):   \n",
    "    final_post = state[\"messages\"][-1].content   \n",
    "    print(\"\\n-----------------Final LinkedIn Post:--------------\\n\") \n",
    "    print(final_post) \n",
    "    print(\"\\n✅-----------------Post has been approved and is now live on LinkedIn!-----------------\") \n",
    "    return final_post  # Return state to maintain consistency\n",
    " \n",
    "def collect_feedback(state: State):   \n",
    "    feedback = input(\"How can I improve this post? \") \n",
    "    return { \n",
    "        \"messages\": [HumanMessage(content=feedback)] \n",
    "    } "
   ]
  },
  {
   "cell_type": "code",
   "execution_count": null,
   "id": "ca5cece1",
   "metadata": {},
   "outputs": [],
   "source": [
    "\n",
    "graph = StateGraph(State) \n",
    " \n",
    "graph.add_node(\"generate_post\", generate_post) \n",
    "graph.add_node(\"get_review_decision\", get_review_decision) \n",
    "graph.add_node(\"collect_feedback\", collect_feedback) \n",
    "graph.add_node(\"post\", post) \n",
    " \n",
    "graph.set_entry_point(\"generate_post\") \n",
    "graph.add_edge(\"generate_post\", \"get_review_decision\") \n",
    "graph.add_conditional_edges(\n",
    "    \"get_review_decision\",  \n",
    "    route_after_review,  # Use the separate routing function\n",
    "    {\"post\": \"post\", \"collect_feedback\": \"collect_feedback\"}\n",
    ") \n",
    "graph.add_edge(\"post\", END) \n",
    "graph.add_edge(\"collect_feedback\", \"generate_post\") \n",
    " \n",
    "app = graph.compile() \n",
    "\n"
   ]
  },
  {
   "cell_type": "code",
   "execution_count": 15,
   "id": "fbe5c5bc",
   "metadata": {},
   "outputs": [
    {
     "data": {
      "image/png": "[encoded data removed]",
      "text/plain": [
       "<IPython.core.display.Image object>"
      ]
     },
     "metadata": {},
     "output_type": "display_data"
    }
   ],
   "source": [
    "from IPython.display import Image, display\n",
    "\n",
    "try:\n",
    "    display(Image(app.get_graph().draw_mermaid_png()))\n",
    "except Exception:\n",
    "    pass"
   ]
  },
  {
   "cell_type": "code",
   "execution_count": 19,
   "id": "e4807303",
   "metadata": {},
   "outputs": [
    {
     "name": "stdout",
     "output_type": "stream",
     "text": [
      "\n",
      "📢 Current LinkedIn Post:\n",
      "\n",
      "**The Future of Work: AI Agents Taking Center Stage**\n",
      "\n",
      "As we navigate the ever-evolving landscape of technology, one thing is becoming increasingly clear: AI agents are revolutionizing the way we work.\n",
      "\n",
      "From healthcare to finance, manufacturing to customer service, AI is rapidly automating jobs and transforming industries. But what does this mean for the future of work?\n",
      "\n",
      "**Recent examples:**\n",
      "\n",
      "* **Google's AI-powered chatbots**: Just last month, Google announced the launch of its new AI-powered chatbots, designed to assist customers with simple queries. This move is poised to replace thousands of customer service jobs worldwide.\n",
      "* **Amazon's AI-driven warehouses**: Amazon is pushing the boundaries of automation in its warehouses, using AI-powered robots to sort and package orders. This technology has already reduced staffing needs by up to 50%.\n",
      "* **UK's AI-powered job centre**: The UK government has announced plans to introduce AI-powered job centres, designed to match job seekers with available positions. While this may seem like a positive development, it raises questions about the role of human recruitment agents.\n",
      "\n",
      "**The benefits:**\n",
      "\n",
      "* Increased efficiency and productivity\n",
      "* Enhanced customer experience\n",
      "* Improved accuracy and reduced errors\n",
      "\n",
      "**The challenges:**\n",
      "\n",
      "* Job displacement and unemployment\n",
      "* Skills obsolescence\n",
      "* Potential biases in AI decision-making\n",
      "\n",
      "**What can we do?**\n",
      "\n",
      "As AI agents continue to take center stage, it's essential that we focus on upskilling and reskilling workers to adapt to this new reality. We must also prioritize education and training programs that emphasize the skills that AI can't replicate, such as creativity, empathy, and critical thinking.\n",
      "\n",
      "The future of work is uncertain, but one thing is clear: AI agents are here to stay. Let's work together to ensure that this revolution benefits everyone, not just a select few.\n",
      "\n",
      "**Share your thoughts:** What are your thoughts on the impact of AI agents on the future of work? How do you see this trend unfolding in your industry? Let's start a conversation!\n",
      "\n",
      "**#AI #Automation #FutureOfWork #Upskilling #Reskilling #JobDisplacement #SkillsObsolescence**\n",
      "\n",
      "\n",
      "\n",
      "📢 Current LinkedIn Post:\n",
      "\n",
      "**Indian Companies Embracing AI and Automation**\n",
      "\n",
      "As the world grapples with the impact of AI and automation on the workforce, Indian companies are taking proactive steps to stay ahead of the curve.\n",
      "\n",
      "**Adoption of AI and Automation:**\n",
      "\n",
      "* **IT and ITeS:**\n",
      "\t+ Tata Consultancy Services (TCS) has invested heavily in AI and automation, with a focus on developing AI-powered chatbots and robotic process automation (RPA) solutions.\n",
      "\t+ Infosys has launched its own AI platform, Nia, which enables businesses to automate processes and improve customer experience.\n",
      "* **Banking and Finance:**\n",
      "\t+ ICICI Bank has introduced AI-powered chatbots to assist customers with simple queries and transactions.\n",
      "\t+ HDFC Bank has implemented AI-driven systems to detect fraud and improve risk management.\n",
      "* **Manufacturing and Logistics:**\n",
      "\t+ Tata Motors has adopted AI and automation in its manufacturing processes, leading to increased efficiency and reduced costs.\n",
      "\t+ Mahindra & Mahindra has launched its own AI-powered logistics platform, which enables real-time tracking and optimization of supply chains.\n",
      "\n",
      "**Key Initiatives:**\n",
      "\n",
      "* **India's National Policy on AI:** The Indian government has launched a comprehensive policy on AI, which aims to promote research, development, and adoption of AI across various sectors.\n",
      "* **AI-focused education and training programs:** Many Indian companies, including TCS and Infosys, are investing in education and training programs that focus on AI and automation skills.\n",
      "* **Collaborations and partnerships:** Indian companies are partnering with global AI players to stay ahead of the curve and leverage best practices.\n",
      "\n",
      "**Challenges and Opportunities:**\n",
      "\n",
      "* **Job displacement and unemployment:** Indian companies must address the potential job displacement and unemployment caused by AI and automation.\n",
      "* **Skills gap:** There is a growing need for skilled professionals who can work with AI and automation technologies.\n",
      "* **Data security and governance:** Indian companies must prioritize data security and governance to ensure that AI and automation systems are used responsibly.\n",
      "\n",
      "**Conclusion:**\n",
      "\n",
      "Indian companies are taking proactive steps to adapt to the changing landscape of AI and automation. By investing in AI and automation, education and training programs, and collaborations with global players, Indian companies can stay ahead of the curve and capitalize on the opportunities presented by these technologies.\n",
      "\n",
      "**Share your thoughts:** What do you think are the key challenges and opportunities for Indian companies in the context of AI and automation? How do you see Indian companies adapting to this changing landscape? Let's start a conversation!\n",
      "\n",
      "**#AI #Automation #IndianCompanies #Adoption #Education #Training #Collaborations #Partnerships**\n",
      "\n",
      "\n",
      "\n",
      "📢 Final LinkedIn Post:\n",
      "\n",
      "User decision: yes\n",
      "\n",
      "✅ Post has been approved and is now live on LinkedIn!\n"
     ]
    }
   ],
   "source": [
    "response = app.invoke({\n",
    "    \"messages\": [HumanMessage(content=\"Write me a LinkedIn post on AI Agents taking over Jobs, use latest examples from news\")]\n",
    "})\n"
   ]
  },
  {
   "cell_type": "code",
   "execution_count": null,
   "id": "15807a2f",
   "metadata": {},
   "outputs": [
    {
     "name": "stdout",
     "output_type": "stream",
     "text": [
      "**Indian Companies Embracing AI and Automation**\n",
      "\n",
      "As the world grapples with the impact of AI and automation on the workforce, Indian companies are taking proactive steps to stay ahead of the curve.\n",
      "\n",
      "**Adoption of AI and Automation:**\n",
      "\n",
      "* **IT and ITeS:**\n",
      "\t+ Tata Consultancy Services (TCS) has invested heavily in AI and automation, with a focus on developing AI-powered chatbots and robotic process automation (RPA) solutions.\n",
      "\t+ Infosys has launched its own AI platform, Nia, which enables businesses to automate processes and improve customer experience.\n",
      "* **Banking and Finance:**\n",
      "\t+ ICICI Bank has introduced AI-powered chatbots to assist customers with simple queries and transactions.\n",
      "\t+ HDFC Bank has implemented AI-driven systems to detect fraud and improve risk management.\n",
      "* **Manufacturing and Logistics:**\n",
      "\t+ Tata Motors has adopted AI and automation in its manufacturing processes, leading to increased efficiency and reduced costs.\n",
      "\t+ Mahindra & Mahindra has launched its own AI-powered logistics platform, which enables real-time tracking and optimization of supply chains.\n",
      "\n",
      "**Key Initiatives:**\n",
      "\n",
      "* **India's National Policy on AI:** The Indian government has launched a comprehensive policy on AI, which aims to promote research, development, and adoption of AI across various sectors.\n",
      "* **AI-focused education and training programs:** Many Indian companies, including TCS and Infosys, are investing in education and training programs that focus on AI and automation skills.\n",
      "* **Collaborations and partnerships:** Indian companies are partnering with global AI players to stay ahead of the curve and leverage best practices.\n",
      "\n",
      "**Challenges and Opportunities:**\n",
      "\n",
      "* **Job displacement and unemployment:** Indian companies must address the potential job displacement and unemployment caused by AI and automation.\n",
      "* **Skills gap:** There is a growing need for skilled professionals who can work with AI and automation technologies.\n",
      "* **Data security and governance:** Indian companies must prioritize data security and governance to ensure that AI and automation systems are used responsibly.\n",
      "\n",
      "**Conclusion:**\n",
      "\n",
      "Indian companies are taking proactive steps to adapt to the changing landscape of AI and automation. By investing in AI and automation, education and training programs, and collaborations with global players, Indian companies can stay ahead of the curve and capitalize on the opportunities presented by these technologies.\n",
      "\n",
      "**Share your thoughts:** What do you think are the key challenges and opportunities for Indian companies in the context of AI and automation? How do you see Indian companies adapting to this changing landscape? Let's start a conversation!\n",
      "\n",
      "**#AI #Automation #IndianCompanies #Adoption #Education #Training #Collaborations #Partnerships**\n"
     ]
    }
   ],
   "source": [
    "# Entire conversation is present in result\n",
    "print(response[\"messages\"][-2].content)"
   ]
  },
  {
   "cell_type": "code",
   "execution_count": null,
   "id": "d75c7332",
   "metadata": {},
   "outputs": [],
   "source": [
    "#"
   ]
  }
 ],
 "metadata": {
  "kernelspec": {
   "display_name": "virtualenv",
   "language": "python",
   "name": "python3"
  },
  "language_info": {
   "codemirror_mode": {
    "name": "ipython",
    "version": 3
   },
   "file_extension": ".py",
   "mimetype": "text/x-python",
   "name": "python",
   "nbconvert_exporter": "python",
   "pygments_lexer": "ipython3",
   "version": "3.11.9"
  }
 },
 "nbformat": 4,
 "nbformat_minor": 5
}
