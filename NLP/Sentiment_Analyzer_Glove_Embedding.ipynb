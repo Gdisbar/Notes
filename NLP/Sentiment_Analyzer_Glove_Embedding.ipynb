{
  "nbformat": 4,
  "nbformat_minor": 0,
  "metadata": {
    "colab": {
      "provenance": []
    },
    "kernelspec": {
      "name": "python3",
      "display_name": "Python 3"
    },
    "language_info": {
      "name": "python"
    }
  },
  "cells": [
    {
      "cell_type": "code",
      "execution_count": null,
      "metadata": {
        "id": "Kxh-zpkv04CG"
      },
      "outputs": [],
      "source": []
    },
    {
      "cell_type": "code",
      "source": [
        "from google.colab import drive\n",
        "drive.mount('/content/drive')"
      ],
      "metadata": {
        "colab": {
          "base_uri": "https://localhost:8080/"
        },
        "id": "EQz322In2R4i",
        "outputId": "b1958501-a05b-442f-db6b-094aae4d72de"
      },
      "execution_count": 1,
      "outputs": [
        {
          "output_type": "stream",
          "name": "stdout",
          "text": [
            "Drive already mounted at /content/drive; to attempt to forcibly remount, call drive.mount(\"/content/drive\", force_remount=True).\n"
          ]
        }
      ]
    },
    {
      "cell_type": "code",
      "source": [
        "!pip install -q emoji"
      ],
      "metadata": {
        "colab": {
          "base_uri": "https://localhost:8080/"
        },
        "id": "PB9Ui6pC0-_8",
        "outputId": "d58a0751-e7b9-4d0c-a9c1-016cce3a44b7"
      },
      "execution_count": 2,
      "outputs": [
        {
          "output_type": "stream",
          "name": "stdout",
          "text": [
            "\u001b[?25l     \u001b[90m━━━━━━━━━━━━━━━━━━━━━━━━━━━━━━━━━━━━━━━━\u001b[0m \u001b[32m0.0/433.8 kB\u001b[0m \u001b[31m?\u001b[0m eta \u001b[36m-:--:--\u001b[0m\r\u001b[2K     \u001b[91m━━━━━━━━━━━━━━━━━━━━━━━━━━\u001b[0m\u001b[90m╺\u001b[0m\u001b[90m━━━━━━━━━━━━━\u001b[0m \u001b[32m286.7/433.8 kB\u001b[0m \u001b[31m8.4 MB/s\u001b[0m eta \u001b[36m0:00:01\u001b[0m\r\u001b[2K     \u001b[90m━━━━━━━━━━━━━━━━━━━━━━━━━━━━━━━━━━━━━━━━\u001b[0m \u001b[32m433.8/433.8 kB\u001b[0m \u001b[31m8.2 MB/s\u001b[0m eta \u001b[36m0:00:00\u001b[0m\n",
            "\u001b[?25h"
          ]
        }
      ]
    },
    {
      "cell_type": "markdown",
      "source": [
        "### emo_utils.py"
      ],
      "metadata": {
        "id": "UWHCBv9Z1Ptj"
      }
    },
    {
      "cell_type": "code",
      "source": [
        "import csv\n",
        "import numpy as np\n",
        "import emoji\n",
        "import pandas as pd\n",
        "import matplotlib.pyplot as plt\n",
        "from sklearn.metrics import confusion_matrix\n",
        "\n",
        "def read_glove_vecs(glove_file):\n",
        "    with open(glove_file, 'r') as f:\n",
        "        words = set()\n",
        "        word_to_vec_map = {}\n",
        "        for line in f:\n",
        "            line = line.strip().split()\n",
        "            curr_word = line[0]\n",
        "            words.add(curr_word)\n",
        "            word_to_vec_map[curr_word] = np.array(line[1:], dtype=np.float64)\n",
        "\n",
        "        i = 1\n",
        "        words_to_index = {}\n",
        "        index_to_words = {}\n",
        "        for w in sorted(words):\n",
        "            words_to_index[w] = i\n",
        "            index_to_words[i] = w\n",
        "            i = i + 1\n",
        "    return words_to_index, index_to_words, word_to_vec_map\n",
        "\n",
        "def softmax(x):\n",
        "    \"\"\"Compute softmax values for each sets of scores in x.\"\"\"\n",
        "    e_x = np.exp(x - np.max(x))\n",
        "    return e_x / e_x.sum()\n",
        "\n",
        "\n",
        "def read_csv(filename = 'data/emojify_data.csv'):\n",
        "    phrase = []\n",
        "    emoji = []\n",
        "\n",
        "    with open (filename) as csvDataFile:\n",
        "        csvReader = csv.reader(csvDataFile)\n",
        "\n",
        "        for row in csvReader:\n",
        "            phrase.append(row[0])\n",
        "            emoji.append(row[1])\n",
        "\n",
        "    X = np.asarray(phrase)\n",
        "    Y = np.asarray(emoji, dtype=int)\n",
        "\n",
        "    return X, Y\n",
        "\n",
        "def convert_to_one_hot(Y, C):\n",
        "    Y = np.eye(C)[Y.reshape(-1)]\n",
        "    return Y\n",
        "\n",
        "\n",
        "emoji_dictionary = {#\"0\": \":red_heart:\",    # :heart: prints a black instead of red heart depending on the font\n",
        "                    \"0\": \"\\u2764\\ufe0f\",\n",
        "                    \"1\": \":baseball:\",\n",
        "                    \"2\": \":smile:\",\n",
        "                    \"3\": \":disappointed:\",\n",
        "                    \"4\": \":fork_and_knife:\"}\n",
        "\n",
        "def label_to_emoji(label):\n",
        "    \"\"\"\n",
        "    Converts a label (int or string) into the corresponding emoji code (string) ready to be printed\n",
        "    \"\"\"\n",
        "    return emoji.emojize(emoji_dictionary[str(label)])\n",
        "\n",
        "\n",
        "def print_predictions(X, pred):\n",
        "    print()\n",
        "    for i in range(X.shape[0]):\n",
        "        print(X[i], label_to_emoji(int(pred[i])))\n",
        "\n",
        "\n",
        "def plot_confusion_matrix(y_actu, y_pred, title='Confusion matrix', cmap=plt.cm.gray_r):\n",
        "\n",
        "    df_confusion = pd.crosstab(y_actu, y_pred.reshape(y_pred.shape[0],), rownames=['Actual'], colnames=['Predicted'], margins=True)\n",
        "\n",
        "    df_conf_norm = df_confusion / df_confusion.sum(axis=1)\n",
        "\n",
        "    plt.matshow(df_confusion, cmap=cmap) # imshow\n",
        "    #plt.title(title)\n",
        "    plt.colorbar()\n",
        "    tick_marks = np.arange(len(df_confusion.columns))\n",
        "    plt.xticks(tick_marks, df_confusion.columns, rotation=45)\n",
        "    plt.yticks(tick_marks, df_confusion.index)\n",
        "    #plt.tight_layout()\n",
        "    plt.ylabel(df_confusion.index.name)\n",
        "    plt.xlabel(df_confusion.columns.name)\n",
        "\n",
        "\n",
        "\n",
        "def predict(X, Y, W, b, word_to_vec_map):\n",
        "    \"\"\"\n",
        "    Given X (sentences) and Y (emoji indices), predict emojis and compute the accuracy of your model over the given set.\n",
        "\n",
        "    Arguments:\n",
        "    X -- input data containing sentences, numpy array of shape (m, None)\n",
        "    Y -- labels, containing index of the label emoji, numpy array of shape (m, 1)\n",
        "\n",
        "    Returns:\n",
        "    pred -- numpy array of shape (m, 1) with your predictions\n",
        "    \"\"\"\n",
        "    m = X.shape[0]\n",
        "    pred = np.zeros((m, 1))\n",
        "    any_word = list(word_to_vec_map.keys())[0]\n",
        "    # number of classes\n",
        "    n_h = word_to_vec_map[any_word].shape[0]\n",
        "\n",
        "    for j in range(m):                       # Loop over training examples\n",
        "\n",
        "        # Split jth test example (sentence) into list of lower case words\n",
        "        words = X[j].lower().split()\n",
        "\n",
        "        # Average words' vectors\n",
        "        avg = np.zeros((n_h,))\n",
        "        count = 0\n",
        "        for w in words:\n",
        "            if w in word_to_vec_map:\n",
        "                avg += word_to_vec_map[w]\n",
        "                count += 1\n",
        "\n",
        "        if count > 0:\n",
        "            avg = avg / count\n",
        "\n",
        "        # Forward propagation\n",
        "        Z = np.dot(W, avg) + b\n",
        "        A = softmax(Z)\n",
        "        pred[j] = np.argmax(A)\n",
        "\n",
        "    print(\"Accuracy: \"  + str(np.mean((pred[:] == Y.reshape(Y.shape[0],1)[:]))))\n",
        "\n",
        "    return pred\n"
      ],
      "metadata": {
        "id": "0lRm5Gpo0_F4"
      },
      "execution_count": 2,
      "outputs": []
    },
    {
      "cell_type": "markdown",
      "source": [
        "### test_utils.py"
      ],
      "metadata": {
        "id": "BHgWZwcU19YQ"
      }
    },
    {
      "cell_type": "code",
      "source": [
        "\n",
        "\n",
        "from tensorflow.keras.layers import Input\n",
        "from tensorflow.keras.layers import Conv2D\n",
        "from tensorflow.keras.layers import MaxPooling2D\n",
        "from tensorflow.keras.layers import Dropout\n",
        "from tensorflow.keras.layers import Conv2DTranspose\n",
        "from tensorflow.keras.layers import concatenate\n",
        "from tensorflow.keras.layers import ZeroPadding2D\n",
        "from tensorflow.keras.layers import Dense\n",
        "from tensorflow.keras.layers import LSTM\n",
        "from tensorflow.keras.layers import RepeatVector\n",
        "\n",
        "\n",
        "# Compare the two inputs\n",
        "def comparator(learner, instructor):\n",
        "    for a, b in zip(learner, instructor):\n",
        "        if tuple(a) != tuple(b):\n",
        "            print(colored(\"Test failed\", attrs=['bold']),\n",
        "                  \"\\n Expected value \\n\\n\", colored(f\"{b}\", \"green\"),\n",
        "                  \"\\n\\n does not match the input value: \\n\\n\",\n",
        "                  colored(f\"{a}\", \"red\"))\n",
        "            raise AssertionError(\"Error in test\")\n",
        "    print(colored(\"All tests passed!\", \"green\"))\n",
        "\n",
        "# extracts the description of a given model\n",
        "def summary(model):\n",
        "    model.compile(optimizer='adam',\n",
        "                  loss='categorical_crossentropy',\n",
        "                  metrics=['accuracy'])\n",
        "    result = []\n",
        "    for layer in model.layers:\n",
        "        descriptors = [layer.__class__.__name__, layer.output_shape, layer.count_params()]\n",
        "        if (type(layer) == Conv2D):\n",
        "            descriptors.append(layer.padding)\n",
        "            descriptors.append(layer.activation.__name__)\n",
        "            descriptors.append(layer.kernel_initializer.__class__.__name__)\n",
        "        if (type(layer) == MaxPooling2D):\n",
        "            descriptors.append(layer.pool_size)\n",
        "            descriptors.append(layer.strides)\n",
        "            descriptors.append(layer.padding)\n",
        "        if (type(layer) == Dropout):\n",
        "            descriptors.append(layer.rate)\n",
        "        if (type(layer) == ZeroPadding2D):\n",
        "            descriptors.append(layer.padding)\n",
        "        if (type(layer) == Dense):\n",
        "            descriptors.append(layer.activation.__name__)\n",
        "        if (type(layer) == LSTM):\n",
        "            descriptors.append(layer.input_shape)\n",
        "            descriptors.append(layer.activation.__name__)\n",
        "            descriptors.append(layer.return_sequences)\n",
        "        if (type(layer) == RepeatVector):\n",
        "            descriptors.append(layer.n)\n",
        "        result.append(descriptors)\n",
        "    return result"
      ],
      "metadata": {
        "id": "7RtmGOqZ1-pj"
      },
      "execution_count": 4,
      "outputs": []
    },
    {
      "cell_type": "markdown",
      "source": [
        "# Utility Function"
      ],
      "metadata": {
        "id": "bp9Z8PcpNdJC"
      }
    },
    {
      "cell_type": "code",
      "source": [
        "path=\"/content/drive/MyDrive/NLP/glove.6B.100d.txt\""
      ],
      "metadata": {
        "id": "Q4_rm_qbNsCH"
      },
      "execution_count": 3,
      "outputs": []
    },
    {
      "cell_type": "code",
      "source": [
        "import numpy as np\n",
        "\n",
        "def read_glove_vecs(path):\n",
        "  words = set()\n",
        "  word_to_vec_map = {}\n",
        "  with open(path,'r', encoding='utf-8') as f:\n",
        "    for line in f:\n",
        "      values = line.split()\n",
        "      word = values[0]\n",
        "      coefs = np.asarray(values[1:], dtype='float32')\n",
        "      words.add(word)\n",
        "      word_to_vec_map[word] = coefs\n",
        "\n",
        "  i = 1\n",
        "  words_to_index = {}\n",
        "  index_to_words = {}\n",
        "  for word in words:\n",
        "    words_to_index[word] = i\n",
        "    index_to_words[i] = word\n",
        "\n",
        "  return words,word_to_vec_map,words_to_index, index_to_words,\n",
        "\n",
        "words, word_to_vec_map,word_to_index, index_to_word = read_glove_vecs(path)"
      ],
      "metadata": {
        "id": "o0DVJ0Nm056d"
      },
      "execution_count": 4,
      "outputs": []
    },
    {
      "cell_type": "code",
      "source": [
        "# Define sentences_to_indices function\n",
        "def sentences_to_indices(X, word_to_index, max_len):\n",
        "    m = len(X)\n",
        "    X_indices = np.zeros((m, max_len))\n",
        "    for i in range(m):\n",
        "        sentence_words = X[i].lower().split()\n",
        "        j = 0\n",
        "        for w in sentence_words:\n",
        "            if w in word_to_index:\n",
        "                X_indices[i, j] = word_to_index[w]\n",
        "                j += 1\n",
        "    return X_indices\n"
      ],
      "metadata": {
        "id": "Duhvnau83F-t"
      },
      "execution_count": 5,
      "outputs": []
    },
    {
      "cell_type": "markdown",
      "source": [
        "# tensorflow Version"
      ],
      "metadata": {
        "id": "G4bzeeuu5qmI"
      }
    },
    {
      "cell_type": "code",
      "source": [
        "import numpy as np\n",
        "import tensorflow\n",
        "np.random.seed(0)\n",
        "from tensorflow.keras.models import Model\n",
        "from tensorflow.keras.layers import Dense, Input, Dropout, LSTM, Activation\n",
        "from tensorflow.keras.layers import Embedding\n",
        "from tensorflow.keras.preprocessing import sequence\n",
        "from tensorflow.keras.initializers import glorot_uniform\n",
        "np.random.seed(1)\n",
        "\n",
        "\n",
        "\n",
        "from tensorflow.keras.layers import Input\n",
        "from tensorflow.keras.layers import Conv2D\n",
        "from tensorflow.keras.layers import MaxPooling2D\n",
        "from tensorflow.keras.layers import Dropout\n",
        "from tensorflow.keras.layers import Conv2DTranspose\n",
        "from tensorflow.keras.layers import concatenate\n",
        "from tensorflow.keras.layers import ZeroPadding2D\n",
        "from tensorflow.keras.layers import Dense\n",
        "from tensorflow.keras.layers import LSTM\n",
        "from tensorflow.keras.layers import RepeatVector"
      ],
      "metadata": {
        "id": "bgnj5pdt5wjf"
      },
      "execution_count": 6,
      "outputs": []
    },
    {
      "cell_type": "code",
      "source": [
        "def pretrained_embedding_layer(word_to_vec_map, word_to_index):\n",
        "    \"\"\"\n",
        "    Creates a Keras Embedding() layer and loads in pre-trained GloVe 50-dimensional vectors.\n",
        "\n",
        "    Arguments:\n",
        "    word_to_vec_map -- dictionary mapping words to their GloVe vector representation.\n",
        "    word_to_index -- dictionary mapping from words to their indices in the vocabulary (400,001 words)\n",
        "\n",
        "    Returns:\n",
        "    embedding_layer -- pretrained layer Keras instance\n",
        "    \"\"\"\n",
        "\n",
        "    vocab_size = len(word_to_index) + 1              # adding 1 to fit Keras embedding (requirement)\n",
        "    any_word = list(word_to_vec_map.keys())[0]\n",
        "    emb_dim = word_to_vec_map[any_word].shape[0]    # define dimensionality of your GloVe word vectors (= 50)\n",
        "\n",
        "    ### START CODE HERE ###\n",
        "    # Step 1\n",
        "    # Initialize the embedding matrix as a numpy array of zeros.\n",
        "    # See instructions above to choose the correct shape.\n",
        "    emb_matrix = np.zeros((vocab_size, emb_dim))\n",
        "\n",
        "    # Step 2\n",
        "    # Set each row \"idx\" of the embedding matrix to be\n",
        "    # the word vector representation of the idx'th word of the vocabulary\n",
        "    for word, idx in word_to_index.items():\n",
        "        emb_matrix[idx, :] = word_to_vec_map[word]\n",
        "\n",
        "    # Step 3\n",
        "    # Define Keras embedding layer with the correct input and output sizes\n",
        "    # Make it non-trainable.\n",
        "    embedding_layer = Embedding(vocab_size, emb_dim)\n",
        "    ### END CODE HERE ###\n",
        "\n",
        "    # Step 4 (already done for you; please do not modify)\n",
        "    # Build the embedding layer, it is required before setting the weights of the embedding layer.\n",
        "    embedding_layer.build((None,)) # Do not modify the \"None\".  This line of code is complete as-is.\n",
        "\n",
        "    # Set the weights of the embedding layer to the embedding matrix. Your layer is now pretrained.\n",
        "    embedding_layer.set_weights([emb_matrix])\n",
        "\n",
        "    return embedding_layer"
      ],
      "metadata": {
        "id": "2K7t0pu75wp9"
      },
      "execution_count": 8,
      "outputs": []
    },
    {
      "cell_type": "code",
      "source": [
        "def Emojify_V2(input_shape, word_to_vec_map, word_to_index):\n",
        "    \"\"\"\n",
        "    Function creating the Emojify-v2 model's graph.\n",
        "\n",
        "    Arguments:\n",
        "    input_shape -- shape of the input, usually (max_len,)\n",
        "    word_to_vec_map -- dictionary mapping every word in a vocabulary into its 50-dimensional vector representation\n",
        "    word_to_index -- dictionary mapping from words to their indices in the vocabulary (400,001 words)\n",
        "\n",
        "    Returns:\n",
        "    model -- a model instance in Keras\n",
        "    \"\"\"\n",
        "\n",
        "    ### START CODE HERE ###\n",
        "    # Define sentence_indices as the input of the graph.\n",
        "    # It should be of shape input_shape and dtype 'int32' (as it contains indices, which are integers).\n",
        "    sentence_indices = Input(shape=input_shape, dtype='int32')\n",
        "\n",
        "    # Create the embedding layer pretrained with GloVe Vectors (≈1 line)\n",
        "    embedding_layer = pretrained_embedding_layer(word_to_vec_map, word_to_index)\n",
        "\n",
        "    # Propagate sentence_indices through your embedding layer\n",
        "    # (See additional hints in the instructions).\n",
        "    embeddings = embedding_layer(sentence_indices)\n",
        "\n",
        "    # Propagate the embeddings through an LSTM layer with 128-dimensional hidden state\n",
        "    # The returned output should be a batch of sequences.\n",
        "    X = LSTM(128, return_sequences=True)(embeddings)\n",
        "    # Add dropout with a probability of 0.5\n",
        "    X = Dropout(0.5)(X)\n",
        "    # Propagate X trough another LSTM layer with 128-dimensional hidden state\n",
        "    # The returned output should be a single hidden state, not a batch of sequences.\n",
        "    X = LSTM(128)(X)\n",
        "    # Add dropout with a probability of 0.5\n",
        "    X = Dropout(0.5)(X)\n",
        "    # Propagate X through a Dense layer with 5 units\n",
        "    X = Dense(5)(X)\n",
        "    # Add a softmax activation\n",
        "    X = Activation('softmax')(X)\n",
        "\n",
        "    # Create Model instance which converts sentence_indices into X.\n",
        "    model = Model(inputs=sentence_indices, outputs=X)\n",
        "\n",
        "    ### END CODE HERE ###\n",
        "\n",
        "    return model"
      ],
      "metadata": {
        "id": "rGmpDEME6KD6"
      },
      "execution_count": 9,
      "outputs": []
    },
    {
      "cell_type": "code",
      "source": [
        "import pandas as pd\n",
        "\n",
        "df = pd.read_csv('/content/drive/MyDrive/NLP/train_emoji.csv')\n",
        "X_train, Y_train = df.iloc[:,0].values,df.iloc[:,1].values\n",
        "\n",
        "df = pd.read_csv('/content/drive/MyDrive/NLP/tesss.csv')\n",
        "X_test, Y_test = df.iloc[:,0].values,df.iloc[:,1].values\n",
        "\n",
        "maxLen = len(max(X_train, key=len).split())\n",
        "print(f\"maxLen : {maxLen}\")\n",
        "\n",
        "X_train_indices = sentences_to_indices(X_train, word_to_index, maxLen)\n",
        "Y_train_oh = np.eye(5)[Y_train.reshape(-1)] # 5 classes , 1D array"
      ],
      "metadata": {
        "colab": {
          "base_uri": "https://localhost:8080/"
        },
        "id": "jVmazGkU5wtx",
        "outputId": "a41ff02a-155b-46ac-e1de-20cb948b4bb0"
      },
      "execution_count": 10,
      "outputs": [
        {
          "output_type": "stream",
          "name": "stdout",
          "text": [
            "<class 'numpy.ndarray'> 131\n",
            "<class 'numpy.ndarray'> 131\n",
            "<class 'numpy.ndarray'> 55\n",
            "<class 'numpy.ndarray'> 55\n",
            "maxLen : 10\n"
          ]
        }
      ]
    },
    {
      "cell_type": "code",
      "source": [
        "model = Emojify_V2((maxLen,), word_to_vec_map, word_to_index)\n",
        "\n",
        "model.compile(loss='categorical_crossentropy', optimizer='adam', metrics=['accuracy'])\n",
        "\n",
        "model.fit(X_train_indices, Y_train_oh, epochs = 50, batch_size = 32, shuffle=True)"
      ],
      "metadata": {
        "colab": {
          "base_uri": "https://localhost:8080/"
        },
        "id": "lCt9QZBY6KJ8",
        "outputId": "a979d71d-5655-416f-9be5-5ab84e865cd7"
      },
      "execution_count": 11,
      "outputs": [
        {
          "output_type": "stream",
          "name": "stdout",
          "text": [
            "Epoch 1/50\n",
            "5/5 [==============================] - 12s 1s/step - loss: 1.5821 - accuracy: 0.2519\n",
            "Epoch 2/50\n",
            "5/5 [==============================] - 5s 982ms/step - loss: 1.5918 - accuracy: 0.2901\n",
            "Epoch 3/50\n",
            "5/5 [==============================] - 7s 1s/step - loss: 1.5696 - accuracy: 0.3282\n",
            "Epoch 4/50\n",
            "5/5 [==============================] - 5s 958ms/step - loss: 1.5997 - accuracy: 0.2443\n",
            "Epoch 5/50\n",
            "5/5 [==============================] - 5s 962ms/step - loss: 1.5995 - accuracy: 0.2290\n",
            "Epoch 6/50\n",
            "5/5 [==============================] - 7s 1s/step - loss: 1.5630 - accuracy: 0.3435\n",
            "Epoch 7/50\n",
            "5/5 [==============================] - 5s 1s/step - loss: 1.5593 - accuracy: 0.2977\n",
            "Epoch 8/50\n",
            "5/5 [==============================] - 7s 1s/step - loss: 1.5917 - accuracy: 0.2748\n",
            "Epoch 9/50\n",
            "5/5 [==============================] - 5s 961ms/step - loss: 1.6180 - accuracy: 0.2901\n",
            "Epoch 10/50\n",
            "5/5 [==============================] - 5s 1s/step - loss: 1.5916 - accuracy: 0.2901\n",
            "Epoch 11/50\n",
            "5/5 [==============================] - 7s 1s/step - loss: 1.5816 - accuracy: 0.2748\n",
            "Epoch 12/50\n",
            "5/5 [==============================] - 5s 1s/step - loss: 1.5572 - accuracy: 0.2977\n",
            "Epoch 13/50\n",
            "5/5 [==============================] - 7s 1s/step - loss: 1.5551 - accuracy: 0.3435\n",
            "Epoch 14/50\n",
            "5/5 [==============================] - 6s 1s/step - loss: 1.5596 - accuracy: 0.3282\n",
            "Epoch 15/50\n",
            "5/5 [==============================] - 5s 973ms/step - loss: 1.5400 - accuracy: 0.3130\n",
            "Epoch 16/50\n",
            "5/5 [==============================] - 6s 1s/step - loss: 1.5524 - accuracy: 0.3130\n",
            "Epoch 17/50\n",
            "5/5 [==============================] - 5s 1s/step - loss: 1.5711 - accuracy: 0.2443\n",
            "Epoch 18/50\n",
            "5/5 [==============================] - 7s 1s/step - loss: 1.5457 - accuracy: 0.3282\n",
            "Epoch 19/50\n",
            "5/5 [==============================] - 5s 996ms/step - loss: 1.5618 - accuracy: 0.2901\n",
            "Epoch 20/50\n",
            "5/5 [==============================] - 5s 1s/step - loss: 1.5726 - accuracy: 0.2824\n",
            "Epoch 21/50\n",
            "5/5 [==============================] - 6s 1s/step - loss: 1.5748 - accuracy: 0.2748\n",
            "Epoch 22/50\n",
            "5/5 [==============================] - 5s 1s/step - loss: 1.5726 - accuracy: 0.3053\n",
            "Epoch 23/50\n",
            "5/5 [==============================] - 6s 1s/step - loss: 1.5633 - accuracy: 0.2977\n",
            "Epoch 24/50\n",
            "5/5 [==============================] - 5s 894ms/step - loss: 1.5587 - accuracy: 0.3359\n",
            "Epoch 25/50\n",
            "5/5 [==============================] - 5s 1s/step - loss: 1.5701 - accuracy: 0.2824\n",
            "Epoch 26/50\n",
            "5/5 [==============================] - 7s 1s/step - loss: 1.5929 - accuracy: 0.2748\n",
            "Epoch 27/50\n",
            "5/5 [==============================] - 5s 900ms/step - loss: 1.5690 - accuracy: 0.2595\n",
            "Epoch 28/50\n",
            "5/5 [==============================] - 6s 1s/step - loss: 1.5621 - accuracy: 0.3359\n",
            "Epoch 29/50\n",
            "5/5 [==============================] - 5s 994ms/step - loss: 1.5590 - accuracy: 0.2977\n",
            "Epoch 30/50\n",
            "5/5 [==============================] - 5s 1s/step - loss: 1.5570 - accuracy: 0.3053\n",
            "Epoch 31/50\n",
            "5/5 [==============================] - 7s 1s/step - loss: 1.5741 - accuracy: 0.3053\n",
            "Epoch 32/50\n",
            "5/5 [==============================] - 5s 960ms/step - loss: 1.5542 - accuracy: 0.2672\n",
            "Epoch 33/50\n",
            "5/5 [==============================] - 5s 927ms/step - loss: 1.5518 - accuracy: 0.2901\n",
            "Epoch 34/50\n",
            "5/5 [==============================] - 7s 1s/step - loss: 1.5518 - accuracy: 0.3282\n",
            "Epoch 35/50\n",
            "5/5 [==============================] - 4s 882ms/step - loss: 1.5474 - accuracy: 0.3130\n",
            "Epoch 36/50\n",
            "5/5 [==============================] - 6s 1s/step - loss: 1.5510 - accuracy: 0.2519\n",
            "Epoch 37/50\n",
            "5/5 [==============================] - 22s 4s/step - loss: 1.5517 - accuracy: 0.2901\n",
            "Epoch 38/50\n",
            "5/5 [==============================] - 5s 1s/step - loss: 1.5625 - accuracy: 0.3053\n",
            "Epoch 39/50\n",
            "5/5 [==============================] - 6s 1s/step - loss: 1.5670 - accuracy: 0.3130\n",
            "Epoch 40/50\n",
            "5/5 [==============================] - 6s 1s/step - loss: 1.5539 - accuracy: 0.3282\n",
            "Epoch 41/50\n",
            "5/5 [==============================] - 6s 1s/step - loss: 1.5666 - accuracy: 0.2901\n",
            "Epoch 42/50\n",
            "5/5 [==============================] - 7s 1s/step - loss: 1.5677 - accuracy: 0.2824\n",
            "Epoch 43/50\n",
            "5/5 [==============================] - 6s 1s/step - loss: 1.5535 - accuracy: 0.2901\n",
            "Epoch 44/50\n",
            "5/5 [==============================] - 7s 1s/step - loss: 1.5565 - accuracy: 0.2748\n",
            "Epoch 45/50\n",
            "5/5 [==============================] - 5s 1s/step - loss: 1.5639 - accuracy: 0.3053\n",
            "Epoch 46/50\n",
            "5/5 [==============================] - 5s 1s/step - loss: 1.5379 - accuracy: 0.3206\n",
            "Epoch 47/50\n",
            "5/5 [==============================] - 7s 1s/step - loss: 1.5509 - accuracy: 0.3130\n",
            "Epoch 48/50\n",
            "5/5 [==============================] - 5s 1s/step - loss: 1.5494 - accuracy: 0.3053\n",
            "Epoch 49/50\n",
            "5/5 [==============================] - 7s 1s/step - loss: 1.5487 - accuracy: 0.3206\n",
            "Epoch 50/50\n",
            "5/5 [==============================] - 6s 1s/step - loss: 1.5222 - accuracy: 0.3206\n"
          ]
        },
        {
          "output_type": "execute_result",
          "data": {
            "text/plain": [
              "<keras.src.callbacks.History at 0x78e8ad52dcc0>"
            ]
          },
          "metadata": {},
          "execution_count": 11
        }
      ]
    },
    {
      "cell_type": "code",
      "source": [
        "\n",
        "X_test_indices = sentences_to_indices(X_test, word_to_index, max_len = maxLen)\n",
        "Y_test_oh = np.eye(5)[Y_test.reshape(-1)]\n",
        "loss, acc = model.evaluate(X_test_indices, Y_test_oh)\n",
        "print()\n",
        "print(\"Test accuracy = \", acc)"
      ],
      "metadata": {
        "colab": {
          "base_uri": "https://localhost:8080/"
        },
        "id": "B9iTXtZP6hrT",
        "outputId": "b774132d-22d9-4cc4-eebf-9f948b2151a5"
      },
      "execution_count": 12,
      "outputs": [
        {
          "output_type": "stream",
          "name": "stdout",
          "text": [
            "2/2 [==============================] - 5s 37ms/step - loss: 1.5515 - accuracy: 0.2909\n",
            "\n",
            "Test accuracy =  0.290909081697464\n"
          ]
        }
      ]
    },
    {
      "cell_type": "code",
      "source": [
        "C = 5\n",
        "y_test_oh = np.eye(C)[Y_test.reshape(-1)]\n",
        "X_test_indices = sentences_to_indices(X_test, word_to_index, maxLen)\n",
        "pred = model.predict(X_test_indices)\n",
        "for i in range(len(X_test)):\n",
        "    x = X_test_indices\n",
        "    num = np.argmax(pred[i])\n",
        "    if(num != Y_test[i]):\n",
        "        print('Expected emoji:'+ label_to_emoji(Y_test[i]) + ' prediction: '+ X_test[i] + label_to_emoji(num).strip())"
      ],
      "metadata": {
        "colab": {
          "base_uri": "https://localhost:8080/"
        },
        "id": "IWKhvF2L6hxo",
        "outputId": "f7aca12e-2a61-41eb-d2b1-fd81ebc1c8fc"
      },
      "execution_count": 13,
      "outputs": [
        {
          "output_type": "stream",
          "name": "stdout",
          "text": [
            "2/2 [==============================] - 2s 18ms/step\n",
            "Expected emoji::disappointed: prediction: he did not answer\t:smile:\n",
            "Expected emoji::smile: prediction: he got a very nice raise\t:disappointed:\n",
            "Expected emoji::smile: prediction: she got me a nice present\t:disappointed:\n",
            "Expected emoji::smile: prediction: ha ha ha it was so funny\t:disappointed:\n",
            "Expected emoji::disappointed: prediction: I am upset\t:smile:\n",
            "Expected emoji::smile: prediction: We had such a lovely dinner tonight\t:disappointed:\n",
            "Expected emoji:🍴 prediction: where is the food\t:smile:\n",
            "Expected emoji::smile: prediction: Stop making this joke ha ha ha\t:disappointed:\n",
            "Expected emoji:⚾ prediction: where is the ball\t:smile:\n",
            "Expected emoji::disappointed: prediction: work is hard\t:smile:\n",
            "Expected emoji::disappointed: prediction: are you serious:smile:\n",
            "Expected emoji:⚾ prediction: Let us go play baseball\t:smile:\n",
            "Expected emoji::disappointed: prediction: work is horrible\t:smile:\n",
            "Expected emoji::disappointed: prediction: stop pissing me off:smile:\n",
            "Expected emoji:🍴 prediction: any suggestions for dinner\t:smile:\n",
            "Expected emoji:❤️ prediction: I love taking breaks\t:smile:\n",
            "Expected emoji:🍴 prediction: I boiled rice\t:smile:\n",
            "Expected emoji::disappointed: prediction: she is a bully\t:smile:\n",
            "Expected emoji::disappointed: prediction: Why are you feeling bad\t:smile:\n",
            "Expected emoji::disappointed: prediction: I am upset\t:smile:\n",
            "Expected emoji:⚾ prediction: give me the ball:smile:\n",
            "Expected emoji:❤️ prediction: My grandmother is the love of my life\t:disappointed:\n",
            "Expected emoji:⚾ prediction: enjoy your game:smile:\n",
            "Expected emoji:❤️ prediction: I miss you so much\t:smile:\n",
            "Expected emoji:⚾ prediction: throw the ball\t:smile:\n",
            "Expected emoji::disappointed: prediction: My life is so boring\t:smile:\n",
            "Expected emoji:⚾ prediction: he can pitch really well\t:smile:\n",
            "Expected emoji:🍴 prediction: I am hungry:smile:\n",
            "Expected emoji:🍴 prediction: See you at the restaurant\t:smile:\n",
            "Expected emoji:⚾ prediction: I will  run:smile:\n",
            "Expected emoji:❤️ prediction: I like your jacket \t:smile:\n",
            "Expected emoji:❤️ prediction: i miss her\t:smile:\n",
            "Expected emoji:⚾ prediction: what is your favorite baseball game\t:disappointed:\n",
            "Expected emoji:❤️ prediction: I love you to the stars and back\t:disappointed:\n",
            "Expected emoji::disappointed: prediction: go away\t:smile:\n",
            "Expected emoji::disappointed: prediction: yesterday we lost again\t:smile:\n",
            "Expected emoji:❤️ prediction: family is all I have\t:smile:\n",
            "Expected emoji::disappointed: prediction: you are failing this exercise\t:smile:\n",
            "Expected emoji:🍴 prediction: I did not have breakfast :smile:\n"
          ]
        }
      ]
    },
    {
      "cell_type": "code",
      "source": [
        "# Change the sentence below to see your prediction. Make sure all the words are in the Glove embeddings.\n",
        "x_test = np.array(['I cannot play'])\n",
        "X_test_indices = sentences_to_indices(x_test, word_to_index, maxLen)\n",
        "print(x_test[0] +' '+  label_to_emoji(np.argmax(model.predict(X_test_indices))))"
      ],
      "metadata": {
        "colab": {
          "base_uri": "https://localhost:8080/"
        },
        "id": "ecvIx6QF6k4m",
        "outputId": "05c2f051-8fa9-419c-9504-44dd893c6633"
      },
      "execution_count": 14,
      "outputs": [
        {
          "output_type": "stream",
          "name": "stdout",
          "text": [
            "1/1 [==============================] - 0s 46ms/step\n",
            "I cannot play :smile:\n"
          ]
        }
      ]
    },
    {
      "cell_type": "markdown",
      "source": [
        "# pytorch version"
      ],
      "metadata": {
        "id": "YSsRb3vFdCyn"
      }
    },
    {
      "cell_type": "code",
      "source": [
        "import gc\n",
        "\n",
        "gc.collect()"
      ],
      "metadata": {
        "colab": {
          "base_uri": "https://localhost:8080/"
        },
        "id": "736D6MBX6pJX",
        "outputId": "3c9629f0-074b-4039-9c69-943800307db5"
      },
      "execution_count": 20,
      "outputs": [
        {
          "output_type": "execute_result",
          "data": {
            "text/plain": [
              "264"
            ]
          },
          "metadata": {},
          "execution_count": 20
        }
      ]
    },
    {
      "cell_type": "code",
      "source": [
        "import torch\n",
        "import torch.nn as nn\n",
        "import torch.optim as optim\n",
        "import pandas as pd\n",
        "import numpy as np"
      ],
      "metadata": {
        "id": "LTuUxyUv-Mcj"
      },
      "execution_count": 19,
      "outputs": []
    },
    {
      "cell_type": "code",
      "source": [
        "# Loading data\n",
        "df = pd.read_csv('/content/drive/MyDrive/NLP/train_emoji.csv')\n",
        "X_train, Y_train = df.iloc[:,0].values, df.iloc[:,1].values\n",
        "\n",
        "\n",
        "df = pd.read_csv('/content/drive/MyDrive/NLP/tesss.csv')\n",
        "X_test, Y_test = df.iloc[:,0].values, df.iloc[:,1].values\n",
        "\n",
        "\n",
        "# Preprocessing\n",
        "maxLen = len(max(X_train, key=len).split())\n",
        "print(f\"maxLen : {maxLen}\")\n",
        "\n",
        "X_train_indices = torch.from_numpy(sentences_to_indices(X_train, word_to_index, maxLen)).long()\n",
        "Y_train_oh = torch.from_numpy(np.eye(5)[Y_train.reshape(-1)]).float()  # 5 classes, 1D array\n"
      ],
      "metadata": {
        "colab": {
          "base_uri": "https://localhost:8080/"
        },
        "id": "hkq0tXi4-Mie",
        "outputId": "baf77809-ea69-411c-84cb-bdaef75db3aa"
      },
      "execution_count": 20,
      "outputs": [
        {
          "output_type": "stream",
          "name": "stdout",
          "text": [
            "maxLen : 10\n"
          ]
        }
      ]
    },
    {
      "cell_type": "code",
      "source": [
        "# Embedding layer\n",
        "class EmbeddingLayer(nn.Module):\n",
        "    def __init__(self, word_to_vec_map, word_to_index):\n",
        "        super(EmbeddingLayer, self).__init__()\n",
        "        vocab_size = len(word_to_index) + 1\n",
        "        any_word = list(word_to_vec_map.keys())[0]\n",
        "        emb_dim = word_to_vec_map[any_word].shape[0]\n",
        "\n",
        "        emb_matrix = np.zeros((vocab_size, emb_dim))\n",
        "        for word, idx in word_to_index.items():\n",
        "            emb_matrix[idx, :] = word_to_vec_map[word]\n",
        "\n",
        "        self.embedding = nn.Embedding(vocab_size, emb_dim)\n",
        "        self.embedding.weight.data.copy_(torch.from_numpy(emb_matrix))\n",
        "        self.embedding.weight.requires_grad = False\n",
        "\n",
        "    def forward(self, inputs):\n",
        "        return self.embedding(inputs)\n"
      ],
      "metadata": {
        "id": "WIlnTRDv-MkQ"
      },
      "execution_count": 34,
      "outputs": []
    },
    {
      "cell_type": "code",
      "source": [
        "class Emojify(nn.Module):\n",
        "    def __init__(self, input_size, embedding_layer):\n",
        "        super(Emojify, self).__init__()\n",
        "        self.embedding = embedding_layer\n",
        "        self.lstm1 = nn.LSTM(input_size, 128, batch_first=True, bidirectional=True)\n",
        "        self.dropout1 = nn.Dropout(0.5)\n",
        "        self.lstm2 = nn.LSTM(256, 128, batch_first=True, bidirectional=True)\n",
        "        self.dropout2 = nn.Dropout(0.5)\n",
        "        self.lstm3 = nn.LSTM(256, 128, batch_first=True)\n",
        "        self.dropout3 = nn.Dropout(0.5)\n",
        "        self.fc = nn.Linear(128, 5) # output has 5 classes C=5\n",
        "\n",
        "    def forward(self, inputs):\n",
        "        embeddings = self.embedding(inputs)\n",
        "        output, _ = self.lstm1(embeddings)\n",
        "        output = self.dropout1(output)\n",
        "        output, _ = self.lstm2(output)\n",
        "        output = self.dropout2(output)\n",
        "        output, (hidden, _) = self.lstm3(output)\n",
        "        output = self.dropout3(hidden.squeeze(0))\n",
        "        output = self.fc(output)\n",
        "        return output\n"
      ],
      "metadata": {
        "id": "FiRWAtvx-jOs"
      },
      "execution_count": 32,
      "outputs": []
    },
    {
      "cell_type": "code",
      "source": [
        "# Instantiate model\n",
        "embedding_layer = EmbeddingLayer(word_to_vec_map, word_to_index)\n",
        "model = Emojify(word_to_vec_map[list(word_to_vec_map.keys())[0]].shape[0],\n",
        "                embedding_layer)\n",
        "\n",
        "# Model Details\n",
        "print(model)"
      ],
      "metadata": {
        "colab": {
          "base_uri": "https://localhost:8080/"
        },
        "id": "XuOD1ylc-jVJ",
        "outputId": "5cd28e9f-e198-4802-8e8d-bed7b5323598"
      },
      "execution_count": 35,
      "outputs": [
        {
          "output_type": "stream",
          "name": "stdout",
          "text": [
            "Emojify(\n",
            "  (embedding): EmbeddingLayer(\n",
            "    (embedding): Embedding(400001, 100)\n",
            "  )\n",
            "  (lstm1): LSTM(100, 128, batch_first=True, bidirectional=True)\n",
            "  (dropout1): Dropout(p=0.5, inplace=False)\n",
            "  (lstm2): LSTM(256, 128, batch_first=True, bidirectional=True)\n",
            "  (dropout2): Dropout(p=0.5, inplace=False)\n",
            "  (lstm3): LSTM(256, 128, batch_first=True)\n",
            "  (dropout3): Dropout(p=0.5, inplace=False)\n",
            "  (fc): Linear(in_features=128, out_features=5, bias=True)\n",
            ")\n"
          ]
        }
      ]
    },
    {
      "cell_type": "code",
      "source": [
        "# Training\n",
        "criterion = nn.CrossEntropyLoss()\n",
        "optimizer = optim.Adam(model.parameters())\n",
        "\n",
        "for epoch in range(50):\n",
        "    optimizer.zero_grad()\n",
        "    outputs = model(X_train_indices)\n",
        "    loss = criterion(outputs, Y_train_oh.argmax(dim=1))\n",
        "    loss.backward()\n",
        "    optimizer.step()\n",
        "\n",
        "    if (epoch + 1) % 10 == 0:\n",
        "        print(f'Epoch [{epoch+1}/50], Loss: {loss.item():.4f}')"
      ],
      "metadata": {
        "id": "WnHz18p1O6OB"
      },
      "execution_count": null,
      "outputs": []
    },
    {
      "cell_type": "code",
      "source": [
        "\n",
        "# Testing\n",
        "X_test_indices = torch.from_numpy(sentences_to_indices(X_test, word_to_index, maxLen)).long()\n",
        "Y_test_oh = torch.from_numpy(np.eye(5)[Y_test.reshape(-1)]).float()\n",
        "Y_test_tensor = torch.from_numpy(Y_test)  # Convert Y_test to a PyTorch Tensor\n",
        "\n",
        "model.eval()\n",
        "with torch.no_grad():\n",
        "    outputs = model(X_test_indices)\n",
        "    loss = criterion(outputs, Y_test_oh.argmax(dim=1))\n",
        "    _, predicted = torch.max(outputs.data, 1)\n",
        "    total = Y_test_tensor.size(0)  # Use Y_test_tensor instead of Y_test\n",
        "    correct = (predicted == Y_test_oh.argmax(dim=1)).sum().item()\n",
        "    acc = correct / total\n",
        "\n",
        "print(f'Test Accuracy: {acc:.4f}')"
      ],
      "metadata": {
        "colab": {
          "base_uri": "https://localhost:8080/"
        },
        "id": "8ZA3mZYI-3fj",
        "outputId": "62dda0a4-4a8b-496c-948b-9a21eb6e6d8e"
      },
      "execution_count": 24,
      "outputs": [
        {
          "output_type": "stream",
          "name": "stdout",
          "text": [
            "Test Accuracy: 0.2545\n"
          ]
        }
      ]
    },
    {
      "cell_type": "code",
      "source": [
        "\n",
        "C = 5\n",
        "y_test_oh = torch.from_numpy(np.eye(C)[Y_test.reshape(-1)]).float()\n",
        "\n",
        "X_test_indices = torch.from_numpy(sentences_to_indices(X_test, word_to_index, maxLen)).long()\n",
        "\n",
        "model.eval()\n",
        "with torch.no_grad():\n",
        "    pred = model(X_test_indices)\n",
        "    _, predicted = torch.max(pred.data, 1)\n",
        "\n",
        "for i in range(len(X_test)):\n",
        "    if predicted[i] != Y_test[i]:\n",
        "        print('Expected emoji: ' + label_to_emoji(Y_test[i]) + ' prediction: ' + X_test[i] + label_to_emoji(predicted[i].item()).strip())"
      ],
      "metadata": {
        "colab": {
          "base_uri": "https://localhost:8080/"
        },
        "id": "vlH8NWnV-3nT",
        "outputId": "8bceb0f7-f052-4cce-c9ea-c04005ac0859"
      },
      "execution_count": 26,
      "outputs": [
        {
          "output_type": "stream",
          "name": "stdout",
          "text": [
            "Expected emoji: :smile: prediction: he got a very nice raise\t:disappointed:\n",
            "Expected emoji: :smile: prediction: she got me a nice present\t:disappointed:\n",
            "Expected emoji: :smile: prediction: ha ha ha it was so funny\t:disappointed:\n",
            "Expected emoji: :smile: prediction: he is a good friend\t:disappointed:\n",
            "Expected emoji: :disappointed: prediction: I am upset\t:smile:\n",
            "Expected emoji: :smile: prediction: We had such a lovely dinner tonight\t:disappointed:\n",
            "Expected emoji: 🍴 prediction: where is the food\t:disappointed:\n",
            "Expected emoji: :smile: prediction: Stop making this joke ha ha ha\t:disappointed:\n",
            "Expected emoji: ⚾ prediction: where is the ball\t:disappointed:\n",
            "Expected emoji: :disappointed: prediction: work is hard\t:smile:\n",
            "Expected emoji: :disappointed: prediction: are you serious:smile:\n",
            "Expected emoji: ⚾ prediction: Let us go play baseball\t:disappointed:\n",
            "Expected emoji: :disappointed: prediction: work is horrible\t:smile:\n",
            "Expected emoji: :smile: prediction: Congratulation for having a baby\t:disappointed:\n",
            "Expected emoji: 🍴 prediction: any suggestions for dinner\t:disappointed:\n",
            "Expected emoji: ❤️ prediction: I love taking breaks\t:disappointed:\n",
            "Expected emoji: :smile: prediction: you brighten my day\t:disappointed:\n",
            "Expected emoji: 🍴 prediction: I boiled rice\t:smile:\n",
            "Expected emoji: :disappointed: prediction: I am upset\t:smile:\n",
            "Expected emoji: ⚾ prediction: give me the ball:disappointed:\n",
            "Expected emoji: ❤️ prediction: My grandmother is the love of my life\t:smile:\n",
            "Expected emoji: ⚾ prediction: enjoy your game:smile:\n",
            "Expected emoji: :smile: prediction: valentine day is near\t:disappointed:\n",
            "Expected emoji: ❤️ prediction: I miss you so much\t:disappointed:\n",
            "Expected emoji: ⚾ prediction: throw the ball\t:smile:\n",
            "Expected emoji: :smile: prediction: will you be my valentine\t:disappointed:\n",
            "Expected emoji: ⚾ prediction: he can pitch really well\t:disappointed:\n",
            "Expected emoji: 🍴 prediction: I am hungry:smile:\n",
            "Expected emoji: 🍴 prediction: See you at the restaurant\t:disappointed:\n",
            "Expected emoji: :smile: prediction: I like to laugh\t:disappointed:\n",
            "Expected emoji: ⚾ prediction: I will  run:smile:\n",
            "Expected emoji: ❤️ prediction: I like your jacket \t:disappointed:\n",
            "Expected emoji: ❤️ prediction: i miss her\t:smile:\n",
            "Expected emoji: ⚾ prediction: what is your favorite baseball game\t:disappointed:\n",
            "Expected emoji: ❤️ prediction: I love you to the stars and back\t:smile:\n",
            "Expected emoji: :smile: prediction: What you did was awesome\t:disappointed:\n",
            "Expected emoji: :smile: prediction: ha ha ha lol\t:disappointed:\n",
            "Expected emoji: :disappointed: prediction: go away\t:smile:\n",
            "Expected emoji: ❤️ prediction: family is all I have\t:disappointed:\n",
            "Expected emoji: :smile: prediction: You deserve this nice prize\t:disappointed:\n",
            "Expected emoji: 🍴 prediction: I did not have breakfast :disappointed:\n"
          ]
        }
      ]
    },
    {
      "cell_type": "code",
      "source": [
        "# Prediction\n",
        "x_test = np.array(['I cannot play'])\n",
        "X_test_indices = torch.from_numpy(sentences_to_indices(x_test, word_to_index, maxLen)).long()\n",
        "\n",
        "with torch.no_grad():\n",
        "    output = model(X_test_indices)\n",
        "    _, predicted = torch.max(output.data, 1)\n",
        "    print(x_test[0] + ' ' + label_to_emoji(predicted.item()))"
      ],
      "metadata": {
        "colab": {
          "base_uri": "https://localhost:8080/"
        },
        "id": "TXgJHz0I_E_T",
        "outputId": "7b938eb7-2591-4378-9c97-8262c977f30c"
      },
      "execution_count": 27,
      "outputs": [
        {
          "output_type": "stream",
          "name": "stdout",
          "text": [
            "I cannot play :smile:\n"
          ]
        }
      ]
    },
    {
      "cell_type": "code",
      "source": [
        "#"
      ],
      "metadata": {
        "id": "7oI_5ovT6pQK"
      },
      "execution_count": null,
      "outputs": []
    }
  ]
}