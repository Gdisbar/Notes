{
  "cells": [
    {
      "metadata": {
        "_cell_guid": "4d5be342-abe9-4c95-98fd-c904762ecca9",
        "_uuid": "47570c242f4774c5d670093b822cf6a3f3a91ba9",
        "trusted": true,
        "colab": {
          "base_uri": "https://localhost:8080/"
        },
        "id": "P192ySo47mCj",
        "outputId": "ffe807c3-68ac-4056-df37-20631348a97a"
      },
      "cell_type": "code",
      "source": [
        "from google.colab import drive \n",
        "drive.mount('content/')\n"
      ],
      "execution_count": 1,
      "outputs": [
        {
          "output_type": "stream",
          "name": "stdout",
          "text": [
            "Mounted at content/\n"
          ]
        }
      ]
    },
    {
      "cell_type": "code",
      "source": [
        "!unzip /content/content/MyDrive/NER_Data/archive_2.zip\n"
      ],
      "metadata": {
        "colab": {
          "base_uri": "https://localhost:8080/"
        },
        "id": "CNOB_IG5ycvr",
        "outputId": "64398013-d5ba-4a36-afca-9e7b1b816b1d"
      },
      "execution_count": 2,
      "outputs": [
        {
          "output_type": "stream",
          "name": "stdout",
          "text": [
            "Archive:  /content/content/MyDrive/NER_Data/archive_2.zip\n",
            "  inflating: ner.csv                 \n",
            "  inflating: ner_dataset.csv         \n"
          ]
        }
      ]
    },
    {
      "metadata": {
        "_cell_guid": "46eeeccc-37ad-4d58-b0c5-71dcbb4b935b",
        "_uuid": "64d208ee42a7c5919fc1f7f0937b7b6fcb9c3ea7",
        "id": "Btm3PhXf7mC0"
      },
      "cell_type": "markdown",
      "source": [
        "\n",
        "**Importing the dataset for named entity recognition model**"
      ]
    },
    {
      "cell_type": "markdown",
      "source": [
        "The goal of a named entity recognition (NER) system is to identify all textual mentions of the named entities. \n",
        "\n",
        "This can be broken down into two sub-tasks: \n",
        "\n",
        "    1. identifying the boundaries of the NE\n",
        "    2. identifying its type.\n",
        "\n",
        "**Named entity recognition** is a task that is well-suited to the type of classifier-based approach. In particular, a tagger can be built that labels each word in a sentence using the IOB format, where chunks are labelled by their appropriate type.\n",
        "\n",
        "\n",
        "The IOB Tagging system contains tags of the form:\n",
        "\n",
        "    B - {CHUNK_TYPE} – for the word in the Beginning chunk\n",
        "    I - {CHUNK_TYPE} – for words Inside the chunk\n",
        "    O – Outside any chunk\n",
        "    The IOB tags are further classified into the following classes –\n",
        "\n",
        "    geo = Geographical Entity\n",
        "    org = Organization\n",
        "    per = Person\n",
        "    gpe = Geopolitical Entity\n",
        "    tim = Time indicator\n",
        "    art = Artifact\n",
        "    eve = Event\n",
        "    nat = Natural Phenomenon"
      ],
      "metadata": {
        "id": "Xu-Ww_lb_68o"
      }
    },
    {
      "cell_type": "code",
      "source": [
        "!pip install -q sklearn-crfsuite"
      ],
      "metadata": {
        "colab": {
          "base_uri": "https://localhost:8080/"
        },
        "id": "nbRPEtDFD1QO",
        "outputId": "2116cdf7-6e22-458a-ecbc-1b409931c8b8"
      },
      "execution_count": null,
      "outputs": [
        {
          "output_type": "stream",
          "name": "stdout",
          "text": [
            "\u001b[?25l     \u001b[90m━━━━━━━━━━━━━━━━━━━━━━━━━━━━━━━━━━━━━━━━\u001b[0m \u001b[32m0.0/993.5 kB\u001b[0m \u001b[31m?\u001b[0m eta \u001b[36m-:--:--\u001b[0m\r\u001b[2K     \u001b[90m━━━━━━━━━━━━━━━━━━━━━━━━━━━━━━━━━━━━━━\u001b[0m \u001b[32m993.5/993.5 kB\u001b[0m \u001b[31m44.0 MB/s\u001b[0m eta \u001b[36m0:00:00\u001b[0m\n",
            "\u001b[?25h"
          ]
        }
      ]
    },
    {
      "cell_type": "code",
      "source": [
        "import pandas as pd\n",
        "import numpy as np\n",
        "\n",
        "#Data visualisation\n",
        "import matplotlib.pyplot as plt\n",
        "import seaborn as sns\n",
        "sns.set(color_codes=True)\n",
        "sns.set(font_scale=1)\n",
        "%matplotlib inline\n",
        "plt.style.use(\"ggplot\")\n",
        "%config InlineBackend.figure_format = 'svg'\n",
        "\n",
        "#Modeling\n",
        "from sklearn.model_selection import cross_val_predict, cross_val_score\n",
        "from sklearn.ensemble import RandomForestClassifier\n",
        "from sklearn.metrics import classification_report, make_scorer\n",
        "from sklearn.model_selection import GridSearchCV\n",
        "\n",
        "# from sklearn_crfsuite import CRF, scorers, metrics\n",
        "# import sklearn_crfsuite\n",
        "# from sklearn_crfsuite import scorers\n",
        "# from sklearn_crfsuite import metrics\n",
        "# from sklearn_crfsuite.metrics import flat_classification_report"
      ],
      "metadata": {
        "id": "GB-X4758AkAr"
      },
      "execution_count": 4,
      "outputs": []
    },
    {
      "cell_type": "code",
      "source": [
        "df = pd.read_csv('ner_dataset.csv', encoding=\"latin1\")\n",
        "df.columns = df.iloc[0]\n",
        "df = df[1:]\n",
        "df.columns = ['Sentence #','Word','POS','Tag']\n",
        "df = df.rename(columns={\"Sentence #\": \"Sentence\"})\n",
        "df = df.reset_index(drop=True)\n",
        "#so we are basically having only those rows where sentence column is not null\n",
        "#so we are basically having only those rows where sentence column is not null\n",
        "data = df[df['Sentence'].notnull()]\n",
        "data.head()"
      ],
      "metadata": {
        "colab": {
          "base_uri": "https://localhost:8080/",
          "height": 206
        },
        "id": "0EEgwnHNIXTf",
        "outputId": "c51837c5-2171-4537-b997-8ae80355f7fa"
      },
      "execution_count": null,
      "outputs": [
        {
          "output_type": "execute_result",
          "data": {
            "text/plain": [
              "        Sentence      Word  POS Tag\n",
              "23   Sentence: 2  Families  NNS   O\n",
              "53   Sentence: 3      They  PRP   O\n",
              "67   Sentence: 4    Police  NNS   O\n",
              "82   Sentence: 5       The   DT   O\n",
              "107  Sentence: 6       The   DT   O"
            ],
            "text/html": [
              "\n",
              "  <div id=\"df-4d56c743-b8f6-4bc2-9974-43b84ee43438\">\n",
              "    <div class=\"colab-df-container\">\n",
              "      <div>\n",
              "<style scoped>\n",
              "    .dataframe tbody tr th:only-of-type {\n",
              "        vertical-align: middle;\n",
              "    }\n",
              "\n",
              "    .dataframe tbody tr th {\n",
              "        vertical-align: top;\n",
              "    }\n",
              "\n",
              "    .dataframe thead th {\n",
              "        text-align: right;\n",
              "    }\n",
              "</style>\n",
              "<table border=\"1\" class=\"dataframe\">\n",
              "  <thead>\n",
              "    <tr style=\"text-align: right;\">\n",
              "      <th></th>\n",
              "      <th>Sentence</th>\n",
              "      <th>Word</th>\n",
              "      <th>POS</th>\n",
              "      <th>Tag</th>\n",
              "    </tr>\n",
              "  </thead>\n",
              "  <tbody>\n",
              "    <tr>\n",
              "      <th>23</th>\n",
              "      <td>Sentence: 2</td>\n",
              "      <td>Families</td>\n",
              "      <td>NNS</td>\n",
              "      <td>O</td>\n",
              "    </tr>\n",
              "    <tr>\n",
              "      <th>53</th>\n",
              "      <td>Sentence: 3</td>\n",
              "      <td>They</td>\n",
              "      <td>PRP</td>\n",
              "      <td>O</td>\n",
              "    </tr>\n",
              "    <tr>\n",
              "      <th>67</th>\n",
              "      <td>Sentence: 4</td>\n",
              "      <td>Police</td>\n",
              "      <td>NNS</td>\n",
              "      <td>O</td>\n",
              "    </tr>\n",
              "    <tr>\n",
              "      <th>82</th>\n",
              "      <td>Sentence: 5</td>\n",
              "      <td>The</td>\n",
              "      <td>DT</td>\n",
              "      <td>O</td>\n",
              "    </tr>\n",
              "    <tr>\n",
              "      <th>107</th>\n",
              "      <td>Sentence: 6</td>\n",
              "      <td>The</td>\n",
              "      <td>DT</td>\n",
              "      <td>O</td>\n",
              "    </tr>\n",
              "  </tbody>\n",
              "</table>\n",
              "</div>\n",
              "      <button class=\"colab-df-convert\" onclick=\"convertToInteractive('df-4d56c743-b8f6-4bc2-9974-43b84ee43438')\"\n",
              "              title=\"Convert this dataframe to an interactive table.\"\n",
              "              style=\"display:none;\">\n",
              "        \n",
              "  <svg xmlns=\"http://www.w3.org/2000/svg\" height=\"24px\"viewBox=\"0 0 24 24\"\n",
              "       width=\"24px\">\n",
              "    <path d=\"M0 0h24v24H0V0z\" fill=\"none\"/>\n",
              "    <path d=\"M18.56 5.44l.94 2.06.94-2.06 2.06-.94-2.06-.94-.94-2.06-.94 2.06-2.06.94zm-11 1L8.5 8.5l.94-2.06 2.06-.94-2.06-.94L8.5 2.5l-.94 2.06-2.06.94zm10 10l.94 2.06.94-2.06 2.06-.94-2.06-.94-.94-2.06-.94 2.06-2.06.94z\"/><path d=\"M17.41 7.96l-1.37-1.37c-.4-.4-.92-.59-1.43-.59-.52 0-1.04.2-1.43.59L10.3 9.45l-7.72 7.72c-.78.78-.78 2.05 0 2.83L4 21.41c.39.39.9.59 1.41.59.51 0 1.02-.2 1.41-.59l7.78-7.78 2.81-2.81c.8-.78.8-2.07 0-2.86zM5.41 20L4 18.59l7.72-7.72 1.47 1.35L5.41 20z\"/>\n",
              "  </svg>\n",
              "      </button>\n",
              "      \n",
              "  <style>\n",
              "    .colab-df-container {\n",
              "      display:flex;\n",
              "      flex-wrap:wrap;\n",
              "      gap: 12px;\n",
              "    }\n",
              "\n",
              "    .colab-df-convert {\n",
              "      background-color: #E8F0FE;\n",
              "      border: none;\n",
              "      border-radius: 50%;\n",
              "      cursor: pointer;\n",
              "      display: none;\n",
              "      fill: #1967D2;\n",
              "      height: 32px;\n",
              "      padding: 0 0 0 0;\n",
              "      width: 32px;\n",
              "    }\n",
              "\n",
              "    .colab-df-convert:hover {\n",
              "      background-color: #E2EBFA;\n",
              "      box-shadow: 0px 1px 2px rgba(60, 64, 67, 0.3), 0px 1px 3px 1px rgba(60, 64, 67, 0.15);\n",
              "      fill: #174EA6;\n",
              "    }\n",
              "\n",
              "    [theme=dark] .colab-df-convert {\n",
              "      background-color: #3B4455;\n",
              "      fill: #D2E3FC;\n",
              "    }\n",
              "\n",
              "    [theme=dark] .colab-df-convert:hover {\n",
              "      background-color: #434B5C;\n",
              "      box-shadow: 0px 1px 3px 1px rgba(0, 0, 0, 0.15);\n",
              "      filter: drop-shadow(0px 1px 2px rgba(0, 0, 0, 0.3));\n",
              "      fill: #FFFFFF;\n",
              "    }\n",
              "  </style>\n",
              "\n",
              "      <script>\n",
              "        const buttonEl =\n",
              "          document.querySelector('#df-4d56c743-b8f6-4bc2-9974-43b84ee43438 button.colab-df-convert');\n",
              "        buttonEl.style.display =\n",
              "          google.colab.kernel.accessAllowed ? 'block' : 'none';\n",
              "\n",
              "        async function convertToInteractive(key) {\n",
              "          const element = document.querySelector('#df-4d56c743-b8f6-4bc2-9974-43b84ee43438');\n",
              "          const dataTable =\n",
              "            await google.colab.kernel.invokeFunction('convertToInteractive',\n",
              "                                                     [key], {});\n",
              "          if (!dataTable) return;\n",
              "\n",
              "          const docLinkHtml = 'Like what you see? Visit the ' +\n",
              "            '<a target=\"_blank\" href=https://colab.research.google.com/notebooks/data_table.ipynb>data table notebook</a>'\n",
              "            + ' to learn more about interactive tables.';\n",
              "          element.innerHTML = '';\n",
              "          dataTable['output_type'] = 'display_data';\n",
              "          await google.colab.output.renderOutput(dataTable, element);\n",
              "          const docLink = document.createElement('div');\n",
              "          docLink.innerHTML = docLinkHtml;\n",
              "          element.appendChild(docLink);\n",
              "        }\n",
              "      </script>\n",
              "    </div>\n",
              "  </div>\n",
              "  "
            ]
          },
          "metadata": {},
          "execution_count": 4
        }
      ]
    },
    {
      "cell_type": "markdown",
      "source": [
        "The dataset has the following columns or features -\n",
        "\n",
        "    Index - Index numbers for each word [Numeric type]\n",
        "    Sentence # - The number of sentences in the dataset (We will find the number of sentences below) [Numeric type]\n",
        "    Word - The words in the sentence [Character type]\n",
        "    POS - Parts Of Speech tags, these are tags given to the type of words as per the Penn TreeBank Tagset [Categorical type]\n",
        "    Tag -The tags given to each word based on the IOB tagging system described above (Target variable) [Categorical type]"
      ],
      "metadata": {
        "id": "UeeyRY3bBS4t"
      }
    },
    {
      "cell_type": "code",
      "source": [
        "# A class to retrieve the sentences from the dataset\n",
        "class getsentence(object):\n",
        "    \n",
        "    def __init__(self, data):\n",
        "        self.n_sent = 1.0\n",
        "        self.data = data\n",
        "        self.empty = False\n",
        "        agg_func = lambda s: [(w, p, t) for w, p, t in zip(s[\"Word\"].values.tolist(),\n",
        "                                                           s[\"POS\"].values.tolist(),\n",
        "                                                           s[\"Tag\"].values.tolist())]\n",
        "        self.grouped = self.data.groupby(\"Sentence\").apply(agg_func)\n",
        "        self.sentences = [s for s in self.grouped]"
      ],
      "metadata": {
        "id": "USBe-hEtAq9o"
      },
      "execution_count": null,
      "outputs": []
    },
    {
      "cell_type": "code",
      "source": [
        "getter = getsentence(data)\n",
        "sentences = getter.sentences\n",
        "print(f\"Stentence looks like : {sentences[5]}\")\n",
        "maxlen = max([len(s) for s in sentences])\n",
        "print ('Maximum sequence length:', maxlen)\n",
        "\n",
        "# Check how long sentences are so that we can pad them\n",
        "plt.hist([len(s) for s in sentences], bins=50)\n",
        "plt.show()"
      ],
      "metadata": {
        "colab": {
          "base_uri": "https://localhost:8080/",
          "height": 459
        },
        "id": "GocpfKjwAq_4",
        "outputId": "c594fd58-a1d2-4c4f-f684-4b787b6a1944"
      },
      "execution_count": null,
      "outputs": [
        {
          "output_type": "stream",
          "name": "stdout",
          "text": [
            "Stentence looks like : [('He', 'PRP', 'O')]\n",
            "Maximum sequence length: 1\n"
          ]
        },
        {
          "output_type": "display_data",
          "data": {
            "text/plain": [
              "<Figure size 640x480 with 1 Axes>"
            ],
            "image/svg+xml": "<?xml version=\"1.0\" encoding=\"utf-8\" standalone=\"no\"?>\n<!DOCTYPE svg PUBLIC \"-//W3C//DTD SVG 1.1//EN\"\n  \"http://www.w3.org/Graphics/SVG/1.1/DTD/svg11.dtd\">\n<svg xmlns:xlink=\"http://www.w3.org/1999/xlink\" width=\"416.01375pt\" height=\"302.95628pt\" viewBox=\"0 0 416.01375 302.95628\" xmlns=\"http://www.w3.org/2000/svg\" version=\"1.1\">\n <metadata>\n  <rdf:RDF xmlns:dc=\"http://purl.org/dc/elements/1.1/\" xmlns:cc=\"http://creativecommons.org/ns#\" xmlns:rdf=\"http://www.w3.org/1999/02/22-rdf-syntax-ns#\">\n   <cc:Work>\n    <dc:type rdf:resource=\"http://purl.org/dc/dcmitype/StillImage\"/>\n    <dc:date>2023-05-08T19:42:13.187751</dc:date>\n    <dc:format>image/svg+xml</dc:format>\n    <dc:creator>\n     <cc:Agent>\n      <dc:title>Matplotlib v3.7.1, https://matplotlib.org/</dc:title>\n     </cc:Agent>\n    </dc:creator>\n   </cc:Work>\n  </rdf:RDF>\n </metadata>\n <defs>\n  <style type=\"text/css\">*{stroke-linejoin: round; stroke-linecap: butt}</style>\n </defs>\n <g id=\"figure_1\">\n  <g id=\"patch_1\">\n   <path d=\"M 0 302.95628 \nL 416.01375 302.95628 \nL 416.01375 0 \nL 0 0 \nz\n\" style=\"fill: #ffffff\"/>\n  </g>\n  <g id=\"axes_1\">\n   <g id=\"patch_2\">\n    <path d=\"M 51.69375 275.610343 \nL 408.81375 275.610343 \nL 408.81375 9.498343 \nL 51.69375 9.498343 \nz\n\" style=\"fill: #e5e5e5\"/>\n   </g>\n   <g id=\"matplotlib.axis_1\">\n    <g id=\"xtick_1\">\n     <g id=\"line2d_1\">\n      <path d=\"M 100.391932 275.610343 \nL 100.391932 9.498343 \n\" clip-path=\"url(#p487bd8fb0d)\" style=\"fill: none; stroke: #ffffff; stroke-linecap: round\"/>\n     </g>\n     <g id=\"text_1\">\n      <!-- 0.6 -->\n      <g style=\"fill: #555555\" transform=\"translate(91.645213 293.468624) scale(0.11 -0.11)\">\n       <defs>\n        <path id=\"DejaVuSans-30\" d=\"M 2034 4250 \nQ 1547 4250 1301 3770 \nQ 1056 3291 1056 2328 \nQ 1056 1369 1301 889 \nQ 1547 409 2034 409 \nQ 2525 409 2770 889 \nQ 3016 1369 3016 2328 \nQ 3016 3291 2770 3770 \nQ 2525 4250 2034 4250 \nz\nM 2034 4750 \nQ 2819 4750 3233 4129 \nQ 3647 3509 3647 2328 \nQ 3647 1150 3233 529 \nQ 2819 -91 2034 -91 \nQ 1250 -91 836 529 \nQ 422 1150 422 2328 \nQ 422 3509 836 4129 \nQ 1250 4750 2034 4750 \nz\n\" transform=\"scale(0.015625)\"/>\n        <path id=\"DejaVuSans-2e\" d=\"M 684 794 \nL 1344 794 \nL 1344 0 \nL 684 0 \nL 684 794 \nz\n\" transform=\"scale(0.015625)\"/>\n        <path id=\"DejaVuSans-36\" d=\"M 2113 2584 \nQ 1688 2584 1439 2293 \nQ 1191 2003 1191 1497 \nQ 1191 994 1439 701 \nQ 1688 409 2113 409 \nQ 2538 409 2786 701 \nQ 3034 994 3034 1497 \nQ 3034 2003 2786 2293 \nQ 2538 2584 2113 2584 \nz\nM 3366 4563 \nL 3366 3988 \nQ 3128 4100 2886 4159 \nQ 2644 4219 2406 4219 \nQ 1781 4219 1451 3797 \nQ 1122 3375 1075 2522 \nQ 1259 2794 1537 2939 \nQ 1816 3084 2150 3084 \nQ 2853 3084 3261 2657 \nQ 3669 2231 3669 1497 \nQ 3669 778 3244 343 \nQ 2819 -91 2113 -91 \nQ 1303 -91 875 529 \nQ 447 1150 447 2328 \nQ 447 3434 972 4092 \nQ 1497 4750 2381 4750 \nQ 2619 4750 2861 4703 \nQ 3103 4656 3366 4563 \nz\n\" transform=\"scale(0.015625)\"/>\n       </defs>\n       <use xlink:href=\"#DejaVuSans-30\"/>\n       <use xlink:href=\"#DejaVuSans-2e\" x=\"63.623047\"/>\n       <use xlink:href=\"#DejaVuSans-36\" x=\"95.410156\"/>\n      </g>\n     </g>\n    </g>\n    <g id=\"xtick_2\">\n     <g id=\"line2d_2\">\n      <path d=\"M 165.322841 275.610343 \nL 165.322841 9.498343 \n\" clip-path=\"url(#p487bd8fb0d)\" style=\"fill: none; stroke: #ffffff; stroke-linecap: round\"/>\n     </g>\n     <g id=\"text_2\">\n      <!-- 0.8 -->\n      <g style=\"fill: #555555\" transform=\"translate(156.576122 293.468624) scale(0.11 -0.11)\">\n       <defs>\n        <path id=\"DejaVuSans-38\" d=\"M 2034 2216 \nQ 1584 2216 1326 1975 \nQ 1069 1734 1069 1313 \nQ 1069 891 1326 650 \nQ 1584 409 2034 409 \nQ 2484 409 2743 651 \nQ 3003 894 3003 1313 \nQ 3003 1734 2745 1975 \nQ 2488 2216 2034 2216 \nz\nM 1403 2484 \nQ 997 2584 770 2862 \nQ 544 3141 544 3541 \nQ 544 4100 942 4425 \nQ 1341 4750 2034 4750 \nQ 2731 4750 3128 4425 \nQ 3525 4100 3525 3541 \nQ 3525 3141 3298 2862 \nQ 3072 2584 2669 2484 \nQ 3125 2378 3379 2068 \nQ 3634 1759 3634 1313 \nQ 3634 634 3220 271 \nQ 2806 -91 2034 -91 \nQ 1263 -91 848 271 \nQ 434 634 434 1313 \nQ 434 1759 690 2068 \nQ 947 2378 1403 2484 \nz\nM 1172 3481 \nQ 1172 3119 1398 2916 \nQ 1625 2713 2034 2713 \nQ 2441 2713 2670 2916 \nQ 2900 3119 2900 3481 \nQ 2900 3844 2670 4047 \nQ 2441 4250 2034 4250 \nQ 1625 4250 1398 4047 \nQ 1172 3844 1172 3481 \nz\n\" transform=\"scale(0.015625)\"/>\n       </defs>\n       <use xlink:href=\"#DejaVuSans-30\"/>\n       <use xlink:href=\"#DejaVuSans-2e\" x=\"63.623047\"/>\n       <use xlink:href=\"#DejaVuSans-38\" x=\"95.410156\"/>\n      </g>\n     </g>\n    </g>\n    <g id=\"xtick_3\">\n     <g id=\"line2d_3\">\n      <path d=\"M 230.25375 275.610343 \nL 230.25375 9.498343 \n\" clip-path=\"url(#p487bd8fb0d)\" style=\"fill: none; stroke: #ffffff; stroke-linecap: round\"/>\n     </g>\n     <g id=\"text_3\">\n      <!-- 1.0 -->\n      <g style=\"fill: #555555\" transform=\"translate(221.507031 293.468624) scale(0.11 -0.11)\">\n       <defs>\n        <path id=\"DejaVuSans-31\" d=\"M 794 531 \nL 1825 531 \nL 1825 4091 \nL 703 3866 \nL 703 4441 \nL 1819 4666 \nL 2450 4666 \nL 2450 531 \nL 3481 531 \nL 3481 0 \nL 794 0 \nL 794 531 \nz\n\" transform=\"scale(0.015625)\"/>\n       </defs>\n       <use xlink:href=\"#DejaVuSans-31\"/>\n       <use xlink:href=\"#DejaVuSans-2e\" x=\"63.623047\"/>\n       <use xlink:href=\"#DejaVuSans-30\" x=\"95.410156\"/>\n      </g>\n     </g>\n    </g>\n    <g id=\"xtick_4\">\n     <g id=\"line2d_4\">\n      <path d=\"M 295.184659 275.610343 \nL 295.184659 9.498343 \n\" clip-path=\"url(#p487bd8fb0d)\" style=\"fill: none; stroke: #ffffff; stroke-linecap: round\"/>\n     </g>\n     <g id=\"text_4\">\n      <!-- 1.2 -->\n      <g style=\"fill: #555555\" transform=\"translate(286.43794 293.468624) scale(0.11 -0.11)\">\n       <defs>\n        <path id=\"DejaVuSans-32\" d=\"M 1228 531 \nL 3431 531 \nL 3431 0 \nL 469 0 \nL 469 531 \nQ 828 903 1448 1529 \nQ 2069 2156 2228 2338 \nQ 2531 2678 2651 2914 \nQ 2772 3150 2772 3378 \nQ 2772 3750 2511 3984 \nQ 2250 4219 1831 4219 \nQ 1534 4219 1204 4116 \nQ 875 4013 500 3803 \nL 500 4441 \nQ 881 4594 1212 4672 \nQ 1544 4750 1819 4750 \nQ 2544 4750 2975 4387 \nQ 3406 4025 3406 3419 \nQ 3406 3131 3298 2873 \nQ 3191 2616 2906 2266 \nQ 2828 2175 2409 1742 \nQ 1991 1309 1228 531 \nz\n\" transform=\"scale(0.015625)\"/>\n       </defs>\n       <use xlink:href=\"#DejaVuSans-31\"/>\n       <use xlink:href=\"#DejaVuSans-2e\" x=\"63.623047\"/>\n       <use xlink:href=\"#DejaVuSans-32\" x=\"95.410156\"/>\n      </g>\n     </g>\n    </g>\n    <g id=\"xtick_5\">\n     <g id=\"line2d_5\">\n      <path d=\"M 360.115568 275.610343 \nL 360.115568 9.498343 \n\" clip-path=\"url(#p487bd8fb0d)\" style=\"fill: none; stroke: #ffffff; stroke-linecap: round\"/>\n     </g>\n     <g id=\"text_5\">\n      <!-- 1.4 -->\n      <g style=\"fill: #555555\" transform=\"translate(351.368849 293.468624) scale(0.11 -0.11)\">\n       <defs>\n        <path id=\"DejaVuSans-34\" d=\"M 2419 4116 \nL 825 1625 \nL 2419 1625 \nL 2419 4116 \nz\nM 2253 4666 \nL 3047 4666 \nL 3047 1625 \nL 3713 1625 \nL 3713 1100 \nL 3047 1100 \nL 3047 0 \nL 2419 0 \nL 2419 1100 \nL 313 1100 \nL 313 1709 \nL 2253 4666 \nz\n\" transform=\"scale(0.015625)\"/>\n       </defs>\n       <use xlink:href=\"#DejaVuSans-31\"/>\n       <use xlink:href=\"#DejaVuSans-2e\" x=\"63.623047\"/>\n       <use xlink:href=\"#DejaVuSans-34\" x=\"95.410156\"/>\n      </g>\n     </g>\n    </g>\n   </g>\n   <g id=\"matplotlib.axis_2\">\n    <g id=\"ytick_1\">\n     <g id=\"line2d_6\">\n      <path d=\"M 51.69375 275.610343 \nL 408.81375 275.610343 \n\" clip-path=\"url(#p487bd8fb0d)\" style=\"fill: none; stroke: #ffffff; stroke-linecap: round\"/>\n     </g>\n     <g id=\"text_6\">\n      <!-- 0 -->\n      <g style=\"fill: #555555\" transform=\"translate(35.195 279.789484) scale(0.11 -0.11)\">\n       <use xlink:href=\"#DejaVuSans-30\"/>\n      </g>\n     </g>\n    </g>\n    <g id=\"ytick_2\">\n     <g id=\"line2d_7\">\n      <path d=\"M 51.69375 222.764102 \nL 408.81375 222.764102 \n\" clip-path=\"url(#p487bd8fb0d)\" style=\"fill: none; stroke: #ffffff; stroke-linecap: round\"/>\n     </g>\n     <g id=\"text_7\">\n      <!-- 10000 -->\n      <g style=\"fill: #555555\" transform=\"translate(7.2 226.943243) scale(0.11 -0.11)\">\n       <use xlink:href=\"#DejaVuSans-31\"/>\n       <use xlink:href=\"#DejaVuSans-30\" x=\"63.623047\"/>\n       <use xlink:href=\"#DejaVuSans-30\" x=\"127.246094\"/>\n       <use xlink:href=\"#DejaVuSans-30\" x=\"190.869141\"/>\n       <use xlink:href=\"#DejaVuSans-30\" x=\"254.492188\"/>\n      </g>\n     </g>\n    </g>\n    <g id=\"ytick_3\">\n     <g id=\"line2d_8\">\n      <path d=\"M 51.69375 169.917862 \nL 408.81375 169.917862 \n\" clip-path=\"url(#p487bd8fb0d)\" style=\"fill: none; stroke: #ffffff; stroke-linecap: round\"/>\n     </g>\n     <g id=\"text_8\">\n      <!-- 20000 -->\n      <g style=\"fill: #555555\" transform=\"translate(7.2 174.097003) scale(0.11 -0.11)\">\n       <use xlink:href=\"#DejaVuSans-32\"/>\n       <use xlink:href=\"#DejaVuSans-30\" x=\"63.623047\"/>\n       <use xlink:href=\"#DejaVuSans-30\" x=\"127.246094\"/>\n       <use xlink:href=\"#DejaVuSans-30\" x=\"190.869141\"/>\n       <use xlink:href=\"#DejaVuSans-30\" x=\"254.492188\"/>\n      </g>\n     </g>\n    </g>\n    <g id=\"ytick_4\">\n     <g id=\"line2d_9\">\n      <path d=\"M 51.69375 117.071622 \nL 408.81375 117.071622 \n\" clip-path=\"url(#p487bd8fb0d)\" style=\"fill: none; stroke: #ffffff; stroke-linecap: round\"/>\n     </g>\n     <g id=\"text_9\">\n      <!-- 30000 -->\n      <g style=\"fill: #555555\" transform=\"translate(7.2 121.250762) scale(0.11 -0.11)\">\n       <defs>\n        <path id=\"DejaVuSans-33\" d=\"M 2597 2516 \nQ 3050 2419 3304 2112 \nQ 3559 1806 3559 1356 \nQ 3559 666 3084 287 \nQ 2609 -91 1734 -91 \nQ 1441 -91 1130 -33 \nQ 819 25 488 141 \nL 488 750 \nQ 750 597 1062 519 \nQ 1375 441 1716 441 \nQ 2309 441 2620 675 \nQ 2931 909 2931 1356 \nQ 2931 1769 2642 2001 \nQ 2353 2234 1838 2234 \nL 1294 2234 \nL 1294 2753 \nL 1863 2753 \nQ 2328 2753 2575 2939 \nQ 2822 3125 2822 3475 \nQ 2822 3834 2567 4026 \nQ 2313 4219 1838 4219 \nQ 1578 4219 1281 4162 \nQ 984 4106 628 3988 \nL 628 4550 \nQ 988 4650 1302 4700 \nQ 1616 4750 1894 4750 \nQ 2613 4750 3031 4423 \nQ 3450 4097 3450 3541 \nQ 3450 3153 3228 2886 \nQ 3006 2619 2597 2516 \nz\n\" transform=\"scale(0.015625)\"/>\n       </defs>\n       <use xlink:href=\"#DejaVuSans-33\"/>\n       <use xlink:href=\"#DejaVuSans-30\" x=\"63.623047\"/>\n       <use xlink:href=\"#DejaVuSans-30\" x=\"127.246094\"/>\n       <use xlink:href=\"#DejaVuSans-30\" x=\"190.869141\"/>\n       <use xlink:href=\"#DejaVuSans-30\" x=\"254.492188\"/>\n      </g>\n     </g>\n    </g>\n    <g id=\"ytick_5\">\n     <g id=\"line2d_10\">\n      <path d=\"M 51.69375 64.225381 \nL 408.81375 64.225381 \n\" clip-path=\"url(#p487bd8fb0d)\" style=\"fill: none; stroke: #ffffff; stroke-linecap: round\"/>\n     </g>\n     <g id=\"text_10\">\n      <!-- 40000 -->\n      <g style=\"fill: #555555\" transform=\"translate(7.2 68.404522) scale(0.11 -0.11)\">\n       <use xlink:href=\"#DejaVuSans-34\"/>\n       <use xlink:href=\"#DejaVuSans-30\" x=\"63.623047\"/>\n       <use xlink:href=\"#DejaVuSans-30\" x=\"127.246094\"/>\n       <use xlink:href=\"#DejaVuSans-30\" x=\"190.869141\"/>\n       <use xlink:href=\"#DejaVuSans-30\" x=\"254.492188\"/>\n      </g>\n     </g>\n    </g>\n    <g id=\"ytick_6\">\n     <g id=\"line2d_11\">\n      <path d=\"M 51.69375 11.379141 \nL 408.81375 11.379141 \n\" clip-path=\"url(#p487bd8fb0d)\" style=\"fill: none; stroke: #ffffff; stroke-linecap: round\"/>\n     </g>\n     <g id=\"text_11\">\n      <!-- 50000 -->\n      <g style=\"fill: #555555\" transform=\"translate(7.2 15.558281) scale(0.11 -0.11)\">\n       <defs>\n        <path id=\"DejaVuSans-35\" d=\"M 691 4666 \nL 3169 4666 \nL 3169 4134 \nL 1269 4134 \nL 1269 2991 \nQ 1406 3038 1543 3061 \nQ 1681 3084 1819 3084 \nQ 2600 3084 3056 2656 \nQ 3513 2228 3513 1497 \nQ 3513 744 3044 326 \nQ 2575 -91 1722 -91 \nQ 1428 -91 1123 -41 \nQ 819 9 494 109 \nL 494 744 \nQ 775 591 1075 516 \nQ 1375 441 1709 441 \nQ 2250 441 2565 725 \nQ 2881 1009 2881 1497 \nQ 2881 1984 2565 2268 \nQ 2250 2553 1709 2553 \nQ 1456 2553 1204 2497 \nQ 953 2441 691 2322 \nL 691 4666 \nz\n\" transform=\"scale(0.015625)\"/>\n       </defs>\n       <use xlink:href=\"#DejaVuSans-35\"/>\n       <use xlink:href=\"#DejaVuSans-30\" x=\"63.623047\"/>\n       <use xlink:href=\"#DejaVuSans-30\" x=\"127.246094\"/>\n       <use xlink:href=\"#DejaVuSans-30\" x=\"190.869141\"/>\n       <use xlink:href=\"#DejaVuSans-30\" x=\"254.492188\"/>\n      </g>\n     </g>\n    </g>\n   </g>\n   <g id=\"patch_3\">\n    <path d=\"M 67.926477 275.610343 \nL 74.419568 275.610343 \nL 74.419568 275.610343 \nL 67.926477 275.610343 \nz\n\" clip-path=\"url(#p487bd8fb0d)\" style=\"fill: #e24a33; stroke: #eeeeee; stroke-width: 0.5; stroke-linejoin: miter\"/>\n   </g>\n   <g id=\"patch_4\">\n    <path d=\"M 74.419568 275.610343 \nL 80.912659 275.610343 \nL 80.912659 275.610343 \nL 74.419568 275.610343 \nz\n\" clip-path=\"url(#p487bd8fb0d)\" style=\"fill: #e24a33; stroke: #eeeeee; stroke-width: 0.5; stroke-linejoin: miter\"/>\n   </g>\n   <g id=\"patch_5\">\n    <path d=\"M 80.912659 275.610343 \nL 87.40575 275.610343 \nL 87.40575 275.610343 \nL 80.912659 275.610343 \nz\n\" clip-path=\"url(#p487bd8fb0d)\" style=\"fill: #e24a33; stroke: #eeeeee; stroke-width: 0.5; stroke-linejoin: miter\"/>\n   </g>\n   <g id=\"patch_6\">\n    <path d=\"M 87.40575 275.610343 \nL 93.898841 275.610343 \nL 93.898841 275.610343 \nL 87.40575 275.610343 \nz\n\" clip-path=\"url(#p487bd8fb0d)\" style=\"fill: #e24a33; stroke: #eeeeee; stroke-width: 0.5; stroke-linejoin: miter\"/>\n   </g>\n   <g id=\"patch_7\">\n    <path d=\"M 93.898841 275.610343 \nL 100.391932 275.610343 \nL 100.391932 275.610343 \nL 93.898841 275.610343 \nz\n\" clip-path=\"url(#p487bd8fb0d)\" style=\"fill: #e24a33; stroke: #eeeeee; stroke-width: 0.5; stroke-linejoin: miter\"/>\n   </g>\n   <g id=\"patch_8\">\n    <path d=\"M 100.391932 275.610343 \nL 106.885023 275.610343 \nL 106.885023 275.610343 \nL 100.391932 275.610343 \nz\n\" clip-path=\"url(#p487bd8fb0d)\" style=\"fill: #e24a33; stroke: #eeeeee; stroke-width: 0.5; stroke-linejoin: miter\"/>\n   </g>\n   <g id=\"patch_9\">\n    <path d=\"M 106.885023 275.610343 \nL 113.378114 275.610343 \nL 113.378114 275.610343 \nL 106.885023 275.610343 \nz\n\" clip-path=\"url(#p487bd8fb0d)\" style=\"fill: #e24a33; stroke: #eeeeee; stroke-width: 0.5; stroke-linejoin: miter\"/>\n   </g>\n   <g id=\"patch_10\">\n    <path d=\"M 113.378114 275.610343 \nL 119.871205 275.610343 \nL 119.871205 275.610343 \nL 113.378114 275.610343 \nz\n\" clip-path=\"url(#p487bd8fb0d)\" style=\"fill: #e24a33; stroke: #eeeeee; stroke-width: 0.5; stroke-linejoin: miter\"/>\n   </g>\n   <g id=\"patch_11\">\n    <path d=\"M 119.871205 275.610343 \nL 126.364295 275.610343 \nL 126.364295 275.610343 \nL 119.871205 275.610343 \nz\n\" clip-path=\"url(#p487bd8fb0d)\" style=\"fill: #e24a33; stroke: #eeeeee; stroke-width: 0.5; stroke-linejoin: miter\"/>\n   </g>\n   <g id=\"patch_12\">\n    <path d=\"M 126.364295 275.610343 \nL 132.857386 275.610343 \nL 132.857386 275.610343 \nL 126.364295 275.610343 \nz\n\" clip-path=\"url(#p487bd8fb0d)\" style=\"fill: #e24a33; stroke: #eeeeee; stroke-width: 0.5; stroke-linejoin: miter\"/>\n   </g>\n   <g id=\"patch_13\">\n    <path d=\"M 132.857386 275.610343 \nL 139.350477 275.610343 \nL 139.350477 275.610343 \nL 132.857386 275.610343 \nz\n\" clip-path=\"url(#p487bd8fb0d)\" style=\"fill: #e24a33; stroke: #eeeeee; stroke-width: 0.5; stroke-linejoin: miter\"/>\n   </g>\n   <g id=\"patch_14\">\n    <path d=\"M 139.350477 275.610343 \nL 145.843568 275.610343 \nL 145.843568 275.610343 \nL 139.350477 275.610343 \nz\n\" clip-path=\"url(#p487bd8fb0d)\" style=\"fill: #e24a33; stroke: #eeeeee; stroke-width: 0.5; stroke-linejoin: miter\"/>\n   </g>\n   <g id=\"patch_15\">\n    <path d=\"M 145.843568 275.610343 \nL 152.336659 275.610343 \nL 152.336659 275.610343 \nL 145.843568 275.610343 \nz\n\" clip-path=\"url(#p487bd8fb0d)\" style=\"fill: #e24a33; stroke: #eeeeee; stroke-width: 0.5; stroke-linejoin: miter\"/>\n   </g>\n   <g id=\"patch_16\">\n    <path d=\"M 152.336659 275.610343 \nL 158.82975 275.610343 \nL 158.82975 275.610343 \nL 152.336659 275.610343 \nz\n\" clip-path=\"url(#p487bd8fb0d)\" style=\"fill: #e24a33; stroke: #eeeeee; stroke-width: 0.5; stroke-linejoin: miter\"/>\n   </g>\n   <g id=\"patch_17\">\n    <path d=\"M 158.82975 275.610343 \nL 165.322841 275.610343 \nL 165.322841 275.610343 \nL 158.82975 275.610343 \nz\n\" clip-path=\"url(#p487bd8fb0d)\" style=\"fill: #e24a33; stroke: #eeeeee; stroke-width: 0.5; stroke-linejoin: miter\"/>\n   </g>\n   <g id=\"patch_18\">\n    <path d=\"M 165.322841 275.610343 \nL 171.815932 275.610343 \nL 171.815932 275.610343 \nL 165.322841 275.610343 \nz\n\" clip-path=\"url(#p487bd8fb0d)\" style=\"fill: #e24a33; stroke: #eeeeee; stroke-width: 0.5; stroke-linejoin: miter\"/>\n   </g>\n   <g id=\"patch_19\">\n    <path d=\"M 171.815932 275.610343 \nL 178.309023 275.610343 \nL 178.309023 275.610343 \nL 171.815932 275.610343 \nz\n\" clip-path=\"url(#p487bd8fb0d)\" style=\"fill: #e24a33; stroke: #eeeeee; stroke-width: 0.5; stroke-linejoin: miter\"/>\n   </g>\n   <g id=\"patch_20\">\n    <path d=\"M 178.309023 275.610343 \nL 184.802114 275.610343 \nL 184.802114 275.610343 \nL 178.309023 275.610343 \nz\n\" clip-path=\"url(#p487bd8fb0d)\" style=\"fill: #e24a33; stroke: #eeeeee; stroke-width: 0.5; stroke-linejoin: miter\"/>\n   </g>\n   <g id=\"patch_21\">\n    <path d=\"M 184.802114 275.610343 \nL 191.295205 275.610343 \nL 191.295205 275.610343 \nL 184.802114 275.610343 \nz\n\" clip-path=\"url(#p487bd8fb0d)\" style=\"fill: #e24a33; stroke: #eeeeee; stroke-width: 0.5; stroke-linejoin: miter\"/>\n   </g>\n   <g id=\"patch_22\">\n    <path d=\"M 191.295205 275.610343 \nL 197.788295 275.610343 \nL 197.788295 275.610343 \nL 191.295205 275.610343 \nz\n\" clip-path=\"url(#p487bd8fb0d)\" style=\"fill: #e24a33; stroke: #eeeeee; stroke-width: 0.5; stroke-linejoin: miter\"/>\n   </g>\n   <g id=\"patch_23\">\n    <path d=\"M 197.788295 275.610343 \nL 204.281386 275.610343 \nL 204.281386 275.610343 \nL 197.788295 275.610343 \nz\n\" clip-path=\"url(#p487bd8fb0d)\" style=\"fill: #e24a33; stroke: #eeeeee; stroke-width: 0.5; stroke-linejoin: miter\"/>\n   </g>\n   <g id=\"patch_24\">\n    <path d=\"M 204.281386 275.610343 \nL 210.774477 275.610343 \nL 210.774477 275.610343 \nL 204.281386 275.610343 \nz\n\" clip-path=\"url(#p487bd8fb0d)\" style=\"fill: #e24a33; stroke: #eeeeee; stroke-width: 0.5; stroke-linejoin: miter\"/>\n   </g>\n   <g id=\"patch_25\">\n    <path d=\"M 210.774477 275.610343 \nL 217.267568 275.610343 \nL 217.267568 275.610343 \nL 210.774477 275.610343 \nz\n\" clip-path=\"url(#p487bd8fb0d)\" style=\"fill: #e24a33; stroke: #eeeeee; stroke-width: 0.5; stroke-linejoin: miter\"/>\n   </g>\n   <g id=\"patch_26\">\n    <path d=\"M 217.267568 275.610343 \nL 223.760659 275.610343 \nL 223.760659 275.610343 \nL 217.267568 275.610343 \nz\n\" clip-path=\"url(#p487bd8fb0d)\" style=\"fill: #e24a33; stroke: #eeeeee; stroke-width: 0.5; stroke-linejoin: miter\"/>\n   </g>\n   <g id=\"patch_27\">\n    <path d=\"M 223.760659 275.610343 \nL 230.25375 275.610343 \nL 230.25375 275.610343 \nL 223.760659 275.610343 \nz\n\" clip-path=\"url(#p487bd8fb0d)\" style=\"fill: #e24a33; stroke: #eeeeee; stroke-width: 0.5; stroke-linejoin: miter\"/>\n   </g>\n   <g id=\"patch_28\">\n    <path d=\"M 230.25375 275.610343 \nL 236.746841 275.610343 \nL 236.746841 22.170343 \nL 230.25375 22.170343 \nz\n\" clip-path=\"url(#p487bd8fb0d)\" style=\"fill: #e24a33; stroke: #eeeeee; stroke-width: 0.5; stroke-linejoin: miter\"/>\n   </g>\n   <g id=\"patch_29\">\n    <path d=\"M 236.746841 275.610343 \nL 243.239932 275.610343 \nL 243.239932 275.610343 \nL 236.746841 275.610343 \nz\n\" clip-path=\"url(#p487bd8fb0d)\" style=\"fill: #e24a33; stroke: #eeeeee; stroke-width: 0.5; stroke-linejoin: miter\"/>\n   </g>\n   <g id=\"patch_30\">\n    <path d=\"M 243.239932 275.610343 \nL 249.733023 275.610343 \nL 249.733023 275.610343 \nL 243.239932 275.610343 \nz\n\" clip-path=\"url(#p487bd8fb0d)\" style=\"fill: #e24a33; stroke: #eeeeee; stroke-width: 0.5; stroke-linejoin: miter\"/>\n   </g>\n   <g id=\"patch_31\">\n    <path d=\"M 249.733023 275.610343 \nL 256.226114 275.610343 \nL 256.226114 275.610343 \nL 249.733023 275.610343 \nz\n\" clip-path=\"url(#p487bd8fb0d)\" style=\"fill: #e24a33; stroke: #eeeeee; stroke-width: 0.5; stroke-linejoin: miter\"/>\n   </g>\n   <g id=\"patch_32\">\n    <path d=\"M 256.226114 275.610343 \nL 262.719205 275.610343 \nL 262.719205 275.610343 \nL 256.226114 275.610343 \nz\n\" clip-path=\"url(#p487bd8fb0d)\" style=\"fill: #e24a33; stroke: #eeeeee; stroke-width: 0.5; stroke-linejoin: miter\"/>\n   </g>\n   <g id=\"patch_33\">\n    <path d=\"M 262.719205 275.610343 \nL 269.212295 275.610343 \nL 269.212295 275.610343 \nL 262.719205 275.610343 \nz\n\" clip-path=\"url(#p487bd8fb0d)\" style=\"fill: #e24a33; stroke: #eeeeee; stroke-width: 0.5; stroke-linejoin: miter\"/>\n   </g>\n   <g id=\"patch_34\">\n    <path d=\"M 269.212295 275.610343 \nL 275.705386 275.610343 \nL 275.705386 275.610343 \nL 269.212295 275.610343 \nz\n\" clip-path=\"url(#p487bd8fb0d)\" style=\"fill: #e24a33; stroke: #eeeeee; stroke-width: 0.5; stroke-linejoin: miter\"/>\n   </g>\n   <g id=\"patch_35\">\n    <path d=\"M 275.705386 275.610343 \nL 282.198477 275.610343 \nL 282.198477 275.610343 \nL 275.705386 275.610343 \nz\n\" clip-path=\"url(#p487bd8fb0d)\" style=\"fill: #e24a33; stroke: #eeeeee; stroke-width: 0.5; stroke-linejoin: miter\"/>\n   </g>\n   <g id=\"patch_36\">\n    <path d=\"M 282.198477 275.610343 \nL 288.691568 275.610343 \nL 288.691568 275.610343 \nL 282.198477 275.610343 \nz\n\" clip-path=\"url(#p487bd8fb0d)\" style=\"fill: #e24a33; stroke: #eeeeee; stroke-width: 0.5; stroke-linejoin: miter\"/>\n   </g>\n   <g id=\"patch_37\">\n    <path d=\"M 288.691568 275.610343 \nL 295.184659 275.610343 \nL 295.184659 275.610343 \nL 288.691568 275.610343 \nz\n\" clip-path=\"url(#p487bd8fb0d)\" style=\"fill: #e24a33; stroke: #eeeeee; stroke-width: 0.5; stroke-linejoin: miter\"/>\n   </g>\n   <g id=\"patch_38\">\n    <path d=\"M 295.184659 275.610343 \nL 301.67775 275.610343 \nL 301.67775 275.610343 \nL 295.184659 275.610343 \nz\n\" clip-path=\"url(#p487bd8fb0d)\" style=\"fill: #e24a33; stroke: #eeeeee; stroke-width: 0.5; stroke-linejoin: miter\"/>\n   </g>\n   <g id=\"patch_39\">\n    <path d=\"M 301.67775 275.610343 \nL 308.170841 275.610343 \nL 308.170841 275.610343 \nL 301.67775 275.610343 \nz\n\" clip-path=\"url(#p487bd8fb0d)\" style=\"fill: #e24a33; stroke: #eeeeee; stroke-width: 0.5; stroke-linejoin: miter\"/>\n   </g>\n   <g id=\"patch_40\">\n    <path d=\"M 308.170841 275.610343 \nL 314.663932 275.610343 \nL 314.663932 275.610343 \nL 308.170841 275.610343 \nz\n\" clip-path=\"url(#p487bd8fb0d)\" style=\"fill: #e24a33; stroke: #eeeeee; stroke-width: 0.5; stroke-linejoin: miter\"/>\n   </g>\n   <g id=\"patch_41\">\n    <path d=\"M 314.663932 275.610343 \nL 321.157023 275.610343 \nL 321.157023 275.610343 \nL 314.663932 275.610343 \nz\n\" clip-path=\"url(#p487bd8fb0d)\" style=\"fill: #e24a33; stroke: #eeeeee; stroke-width: 0.5; stroke-linejoin: miter\"/>\n   </g>\n   <g id=\"patch_42\">\n    <path d=\"M 321.157023 275.610343 \nL 327.650114 275.610343 \nL 327.650114 275.610343 \nL 321.157023 275.610343 \nz\n\" clip-path=\"url(#p487bd8fb0d)\" style=\"fill: #e24a33; stroke: #eeeeee; stroke-width: 0.5; stroke-linejoin: miter\"/>\n   </g>\n   <g id=\"patch_43\">\n    <path d=\"M 327.650114 275.610343 \nL 334.143205 275.610343 \nL 334.143205 275.610343 \nL 327.650114 275.610343 \nz\n\" clip-path=\"url(#p487bd8fb0d)\" style=\"fill: #e24a33; stroke: #eeeeee; stroke-width: 0.5; stroke-linejoin: miter\"/>\n   </g>\n   <g id=\"patch_44\">\n    <path d=\"M 334.143205 275.610343 \nL 340.636295 275.610343 \nL 340.636295 275.610343 \nL 334.143205 275.610343 \nz\n\" clip-path=\"url(#p487bd8fb0d)\" style=\"fill: #e24a33; stroke: #eeeeee; stroke-width: 0.5; stroke-linejoin: miter\"/>\n   </g>\n   <g id=\"patch_45\">\n    <path d=\"M 340.636295 275.610343 \nL 347.129386 275.610343 \nL 347.129386 275.610343 \nL 340.636295 275.610343 \nz\n\" clip-path=\"url(#p487bd8fb0d)\" style=\"fill: #e24a33; stroke: #eeeeee; stroke-width: 0.5; stroke-linejoin: miter\"/>\n   </g>\n   <g id=\"patch_46\">\n    <path d=\"M 347.129386 275.610343 \nL 353.622477 275.610343 \nL 353.622477 275.610343 \nL 347.129386 275.610343 \nz\n\" clip-path=\"url(#p487bd8fb0d)\" style=\"fill: #e24a33; stroke: #eeeeee; stroke-width: 0.5; stroke-linejoin: miter\"/>\n   </g>\n   <g id=\"patch_47\">\n    <path d=\"M 353.622477 275.610343 \nL 360.115568 275.610343 \nL 360.115568 275.610343 \nL 353.622477 275.610343 \nz\n\" clip-path=\"url(#p487bd8fb0d)\" style=\"fill: #e24a33; stroke: #eeeeee; stroke-width: 0.5; stroke-linejoin: miter\"/>\n   </g>\n   <g id=\"patch_48\">\n    <path d=\"M 360.115568 275.610343 \nL 366.608659 275.610343 \nL 366.608659 275.610343 \nL 360.115568 275.610343 \nz\n\" clip-path=\"url(#p487bd8fb0d)\" style=\"fill: #e24a33; stroke: #eeeeee; stroke-width: 0.5; stroke-linejoin: miter\"/>\n   </g>\n   <g id=\"patch_49\">\n    <path d=\"M 366.608659 275.610343 \nL 373.10175 275.610343 \nL 373.10175 275.610343 \nL 366.608659 275.610343 \nz\n\" clip-path=\"url(#p487bd8fb0d)\" style=\"fill: #e24a33; stroke: #eeeeee; stroke-width: 0.5; stroke-linejoin: miter\"/>\n   </g>\n   <g id=\"patch_50\">\n    <path d=\"M 373.10175 275.610343 \nL 379.594841 275.610343 \nL 379.594841 275.610343 \nL 373.10175 275.610343 \nz\n\" clip-path=\"url(#p487bd8fb0d)\" style=\"fill: #e24a33; stroke: #eeeeee; stroke-width: 0.5; stroke-linejoin: miter\"/>\n   </g>\n   <g id=\"patch_51\">\n    <path d=\"M 379.594841 275.610343 \nL 386.087932 275.610343 \nL 386.087932 275.610343 \nL 379.594841 275.610343 \nz\n\" clip-path=\"url(#p487bd8fb0d)\" style=\"fill: #e24a33; stroke: #eeeeee; stroke-width: 0.5; stroke-linejoin: miter\"/>\n   </g>\n   <g id=\"patch_52\">\n    <path d=\"M 386.087932 275.610343 \nL 392.581023 275.610343 \nL 392.581023 275.610343 \nL 386.087932 275.610343 \nz\n\" clip-path=\"url(#p487bd8fb0d)\" style=\"fill: #e24a33; stroke: #eeeeee; stroke-width: 0.5; stroke-linejoin: miter\"/>\n   </g>\n   <g id=\"patch_53\">\n    <path d=\"M 51.69375 275.610343 \nL 51.69375 9.498343 \n\" style=\"fill: none; stroke: #ffffff; stroke-linejoin: miter; stroke-linecap: square\"/>\n   </g>\n   <g id=\"patch_54\">\n    <path d=\"M 408.81375 275.610343 \nL 408.81375 9.498343 \n\" style=\"fill: none; stroke: #ffffff; stroke-linejoin: miter; stroke-linecap: square\"/>\n   </g>\n   <g id=\"patch_55\">\n    <path d=\"M 51.69375 275.610343 \nL 408.81375 275.610343 \n\" style=\"fill: none; stroke: #ffffff; stroke-linejoin: miter; stroke-linecap: square\"/>\n   </g>\n   <g id=\"patch_56\">\n    <path d=\"M 51.69375 9.498343 \nL 408.81375 9.498343 \n\" style=\"fill: none; stroke: #ffffff; stroke-linejoin: miter; stroke-linecap: square\"/>\n   </g>\n  </g>\n </g>\n <defs>\n  <clipPath id=\"p487bd8fb0d\">\n   <rect x=\"51.69375\" y=\"9.498343\" width=\"357.12\" height=\"266.112\"/>\n  </clipPath>\n </defs>\n</svg>\n"
          },
          "metadata": {}
        }
      ]
    },
    {
      "cell_type": "code",
      "source": [
        "#Words tagged as B-org\n",
        "data.loc[data['Tag'] == 'B-org', 'Word'].head(5)"
      ],
      "metadata": {
        "colab": {
          "base_uri": "https://localhost:8080/"
        },
        "id": "NMhQIxZEArCC",
        "outputId": "654028ea-aad4-43a7-e9c2-e5e4cc46549c"
      },
      "execution_count": null,
      "outputs": [
        {
          "output_type": "execute_result",
          "data": {
            "text/plain": [
              "1371    Halliburton\n",
              "1482            VOA\n",
              "1623           ABAC\n",
              "1682           ABAC\n",
              "1800           ABAC\n",
              "Name: Word, dtype: object"
            ]
          },
          "metadata": {},
          "execution_count": 8
        }
      ]
    },
    {
      "cell_type": "code",
      "source": [
        "data.head()"
      ],
      "metadata": {
        "colab": {
          "base_uri": "https://localhost:8080/",
          "height": 206
        },
        "id": "t-hMowFQKLh4",
        "outputId": "7e1895aa-9ad4-4273-be35-8c708028fada"
      },
      "execution_count": null,
      "outputs": [
        {
          "output_type": "execute_result",
          "data": {
            "text/plain": [
              "        Sentence      Word  POS Tag\n",
              "23   Sentence: 2  Families  NNS   O\n",
              "53   Sentence: 3      They  PRP   O\n",
              "67   Sentence: 4    Police  NNS   O\n",
              "82   Sentence: 5       The   DT   O\n",
              "107  Sentence: 6       The   DT   O"
            ],
            "text/html": [
              "\n",
              "  <div id=\"df-ed58a36d-0e89-49a1-97ac-07ef24accc4a\">\n",
              "    <div class=\"colab-df-container\">\n",
              "      <div>\n",
              "<style scoped>\n",
              "    .dataframe tbody tr th:only-of-type {\n",
              "        vertical-align: middle;\n",
              "    }\n",
              "\n",
              "    .dataframe tbody tr th {\n",
              "        vertical-align: top;\n",
              "    }\n",
              "\n",
              "    .dataframe thead th {\n",
              "        text-align: right;\n",
              "    }\n",
              "</style>\n",
              "<table border=\"1\" class=\"dataframe\">\n",
              "  <thead>\n",
              "    <tr style=\"text-align: right;\">\n",
              "      <th></th>\n",
              "      <th>Sentence</th>\n",
              "      <th>Word</th>\n",
              "      <th>POS</th>\n",
              "      <th>Tag</th>\n",
              "    </tr>\n",
              "  </thead>\n",
              "  <tbody>\n",
              "    <tr>\n",
              "      <th>23</th>\n",
              "      <td>Sentence: 2</td>\n",
              "      <td>Families</td>\n",
              "      <td>NNS</td>\n",
              "      <td>O</td>\n",
              "    </tr>\n",
              "    <tr>\n",
              "      <th>53</th>\n",
              "      <td>Sentence: 3</td>\n",
              "      <td>They</td>\n",
              "      <td>PRP</td>\n",
              "      <td>O</td>\n",
              "    </tr>\n",
              "    <tr>\n",
              "      <th>67</th>\n",
              "      <td>Sentence: 4</td>\n",
              "      <td>Police</td>\n",
              "      <td>NNS</td>\n",
              "      <td>O</td>\n",
              "    </tr>\n",
              "    <tr>\n",
              "      <th>82</th>\n",
              "      <td>Sentence: 5</td>\n",
              "      <td>The</td>\n",
              "      <td>DT</td>\n",
              "      <td>O</td>\n",
              "    </tr>\n",
              "    <tr>\n",
              "      <th>107</th>\n",
              "      <td>Sentence: 6</td>\n",
              "      <td>The</td>\n",
              "      <td>DT</td>\n",
              "      <td>O</td>\n",
              "    </tr>\n",
              "  </tbody>\n",
              "</table>\n",
              "</div>\n",
              "      <button class=\"colab-df-convert\" onclick=\"convertToInteractive('df-ed58a36d-0e89-49a1-97ac-07ef24accc4a')\"\n",
              "              title=\"Convert this dataframe to an interactive table.\"\n",
              "              style=\"display:none;\">\n",
              "        \n",
              "  <svg xmlns=\"http://www.w3.org/2000/svg\" height=\"24px\"viewBox=\"0 0 24 24\"\n",
              "       width=\"24px\">\n",
              "    <path d=\"M0 0h24v24H0V0z\" fill=\"none\"/>\n",
              "    <path d=\"M18.56 5.44l.94 2.06.94-2.06 2.06-.94-2.06-.94-.94-2.06-.94 2.06-2.06.94zm-11 1L8.5 8.5l.94-2.06 2.06-.94-2.06-.94L8.5 2.5l-.94 2.06-2.06.94zm10 10l.94 2.06.94-2.06 2.06-.94-2.06-.94-.94-2.06-.94 2.06-2.06.94z\"/><path d=\"M17.41 7.96l-1.37-1.37c-.4-.4-.92-.59-1.43-.59-.52 0-1.04.2-1.43.59L10.3 9.45l-7.72 7.72c-.78.78-.78 2.05 0 2.83L4 21.41c.39.39.9.59 1.41.59.51 0 1.02-.2 1.41-.59l7.78-7.78 2.81-2.81c.8-.78.8-2.07 0-2.86zM5.41 20L4 18.59l7.72-7.72 1.47 1.35L5.41 20z\"/>\n",
              "  </svg>\n",
              "      </button>\n",
              "      \n",
              "  <style>\n",
              "    .colab-df-container {\n",
              "      display:flex;\n",
              "      flex-wrap:wrap;\n",
              "      gap: 12px;\n",
              "    }\n",
              "\n",
              "    .colab-df-convert {\n",
              "      background-color: #E8F0FE;\n",
              "      border: none;\n",
              "      border-radius: 50%;\n",
              "      cursor: pointer;\n",
              "      display: none;\n",
              "      fill: #1967D2;\n",
              "      height: 32px;\n",
              "      padding: 0 0 0 0;\n",
              "      width: 32px;\n",
              "    }\n",
              "\n",
              "    .colab-df-convert:hover {\n",
              "      background-color: #E2EBFA;\n",
              "      box-shadow: 0px 1px 2px rgba(60, 64, 67, 0.3), 0px 1px 3px 1px rgba(60, 64, 67, 0.15);\n",
              "      fill: #174EA6;\n",
              "    }\n",
              "\n",
              "    [theme=dark] .colab-df-convert {\n",
              "      background-color: #3B4455;\n",
              "      fill: #D2E3FC;\n",
              "    }\n",
              "\n",
              "    [theme=dark] .colab-df-convert:hover {\n",
              "      background-color: #434B5C;\n",
              "      box-shadow: 0px 1px 3px 1px rgba(0, 0, 0, 0.15);\n",
              "      filter: drop-shadow(0px 1px 2px rgba(0, 0, 0, 0.3));\n",
              "      fill: #FFFFFF;\n",
              "    }\n",
              "  </style>\n",
              "\n",
              "      <script>\n",
              "        const buttonEl =\n",
              "          document.querySelector('#df-ed58a36d-0e89-49a1-97ac-07ef24accc4a button.colab-df-convert');\n",
              "        buttonEl.style.display =\n",
              "          google.colab.kernel.accessAllowed ? 'block' : 'none';\n",
              "\n",
              "        async function convertToInteractive(key) {\n",
              "          const element = document.querySelector('#df-ed58a36d-0e89-49a1-97ac-07ef24accc4a');\n",
              "          const dataTable =\n",
              "            await google.colab.kernel.invokeFunction('convertToInteractive',\n",
              "                                                     [key], {});\n",
              "          if (!dataTable) return;\n",
              "\n",
              "          const docLinkHtml = 'Like what you see? Visit the ' +\n",
              "            '<a target=\"_blank\" href=https://colab.research.google.com/notebooks/data_table.ipynb>data table notebook</a>'\n",
              "            + ' to learn more about interactive tables.';\n",
              "          element.innerHTML = '';\n",
              "          dataTable['output_type'] = 'display_data';\n",
              "          await google.colab.output.renderOutput(dataTable, element);\n",
              "          const docLink = document.createElement('div');\n",
              "          docLink.innerHTML = docLinkHtml;\n",
              "          element.appendChild(docLink);\n",
              "        }\n",
              "      </script>\n",
              "    </div>\n",
              "  </div>\n",
              "  "
            ]
          },
          "metadata": {},
          "execution_count": 9
        }
      ]
    },
    {
      "cell_type": "code",
      "source": [
        "#Words distribution across Tags\n",
        "plt.figure(figsize=(15, 5))\n",
        "ax = sns.countplot(x='Tag', data=data)\n",
        "ax.set_xticklabels(ax.get_xticklabels(), rotation=90, ha=\"center\")\n",
        "plt.tight_layout()\n",
        "plt.show()"
      ],
      "metadata": {
        "colab": {
          "base_uri": "https://localhost:8080/",
          "height": 509
        },
        "id": "CHRIQnqtArEq",
        "outputId": "9f43fb68-2de4-452b-ebf1-780917bcf2cb"
      },
      "execution_count": null,
      "outputs": [
        {
          "output_type": "display_data",
          "data": {
            "text/plain": [
              "<Figure size 1500x500 with 1 Axes>"
            ],
            "image/svg+xml": "<?xml version=\"1.0\" encoding=\"utf-8\" standalone=\"no\"?>\n<!DOCTYPE svg PUBLIC \"-//W3C//DTD SVG 1.1//EN\"\n  \"http://www.w3.org/Graphics/SVG/1.1/DTD/svg11.dtd\">\n<svg xmlns:xlink=\"http://www.w3.org/1999/xlink\" width=\"1071.7075pt\" height=\"351.304375pt\" viewBox=\"0 0 1071.7075 351.304375\" xmlns=\"http://www.w3.org/2000/svg\" version=\"1.1\">\n <metadata>\n  <rdf:RDF xmlns:dc=\"http://purl.org/dc/elements/1.1/\" xmlns:cc=\"http://creativecommons.org/ns#\" xmlns:rdf=\"http://www.w3.org/1999/02/22-rdf-syntax-ns#\">\n   <cc:Work>\n    <dc:type rdf:resource=\"http://purl.org/dc/dcmitype/StillImage\"/>\n    <dc:date>2023-05-08T19:42:13.577836</dc:date>\n    <dc:format>image/svg+xml</dc:format>\n    <dc:creator>\n     <cc:Agent>\n      <dc:title>Matplotlib v3.7.1, https://matplotlib.org/</dc:title>\n     </cc:Agent>\n    </dc:creator>\n   </cc:Work>\n  </rdf:RDF>\n </metadata>\n <defs>\n  <style type=\"text/css\">*{stroke-linejoin: round; stroke-linecap: butt}</style>\n </defs>\n <g id=\"figure_1\">\n  <g id=\"patch_1\">\n   <path d=\"M 0 351.304375 \nL 1071.7075 351.304375 \nL 1071.7075 0 \nL 0 0 \nz\n\" style=\"fill: #ffffff\"/>\n  </g>\n  <g id=\"axes_1\">\n   <g id=\"patch_2\">\n    <path d=\"M 67.3075 286.74 \nL 1064.5075 286.74 \nL 1064.5075 7.2 \nL 67.3075 7.2 \nz\n\" style=\"fill: #e5e5e5\"/>\n   </g>\n   <g id=\"matplotlib.axis_1\">\n    <g id=\"xtick_1\">\n     <g id=\"text_1\">\n      <!-- O -->\n      <g style=\"fill: #555555\" transform=\"translate(125.742812 304.899062) rotate(-90) scale(0.11 -0.11)\">\n       <defs>\n        <path id=\"DejaVuSans-4f\" d=\"M 2522 4238 \nQ 1834 4238 1429 3725 \nQ 1025 3213 1025 2328 \nQ 1025 1447 1429 934 \nQ 1834 422 2522 422 \nQ 3209 422 3611 934 \nQ 4013 1447 4013 2328 \nQ 4013 3213 3611 3725 \nQ 3209 4238 2522 4238 \nz\nM 2522 4750 \nQ 3503 4750 4090 4092 \nQ 4678 3434 4678 2328 \nQ 4678 1225 4090 567 \nQ 3503 -91 2522 -91 \nQ 1538 -91 948 565 \nQ 359 1222 359 2328 \nQ 359 3434 948 4092 \nQ 1538 4750 2522 4750 \nz\n\" transform=\"scale(0.015625)\"/>\n       </defs>\n       <use xlink:href=\"#DejaVuSans-4f\"/>\n      </g>\n     </g>\n    </g>\n    <g id=\"xtick_2\">\n     <g id=\"text_2\">\n      <!-- B-gpe -->\n      <g style=\"fill: #555555\" transform=\"translate(236.542812 328.490625) rotate(-90) scale(0.11 -0.11)\">\n       <defs>\n        <path id=\"DejaVuSans-42\" d=\"M 1259 2228 \nL 1259 519 \nL 2272 519 \nQ 2781 519 3026 730 \nQ 3272 941 3272 1375 \nQ 3272 1813 3026 2020 \nQ 2781 2228 2272 2228 \nL 1259 2228 \nz\nM 1259 4147 \nL 1259 2741 \nL 2194 2741 \nQ 2656 2741 2882 2914 \nQ 3109 3088 3109 3444 \nQ 3109 3797 2882 3972 \nQ 2656 4147 2194 4147 \nL 1259 4147 \nz\nM 628 4666 \nL 2241 4666 \nQ 2963 4666 3353 4366 \nQ 3744 4066 3744 3513 \nQ 3744 3084 3544 2831 \nQ 3344 2578 2956 2516 \nQ 3422 2416 3680 2098 \nQ 3938 1781 3938 1306 \nQ 3938 681 3513 340 \nQ 3088 0 2303 0 \nL 628 0 \nL 628 4666 \nz\n\" transform=\"scale(0.015625)\"/>\n        <path id=\"DejaVuSans-2d\" d=\"M 313 2009 \nL 1997 2009 \nL 1997 1497 \nL 313 1497 \nL 313 2009 \nz\n\" transform=\"scale(0.015625)\"/>\n        <path id=\"DejaVuSans-67\" d=\"M 2906 1791 \nQ 2906 2416 2648 2759 \nQ 2391 3103 1925 3103 \nQ 1463 3103 1205 2759 \nQ 947 2416 947 1791 \nQ 947 1169 1205 825 \nQ 1463 481 1925 481 \nQ 2391 481 2648 825 \nQ 2906 1169 2906 1791 \nz\nM 3481 434 \nQ 3481 -459 3084 -895 \nQ 2688 -1331 1869 -1331 \nQ 1566 -1331 1297 -1286 \nQ 1028 -1241 775 -1147 \nL 775 -588 \nQ 1028 -725 1275 -790 \nQ 1522 -856 1778 -856 \nQ 2344 -856 2625 -561 \nQ 2906 -266 2906 331 \nL 2906 616 \nQ 2728 306 2450 153 \nQ 2172 0 1784 0 \nQ 1141 0 747 490 \nQ 353 981 353 1791 \nQ 353 2603 747 3093 \nQ 1141 3584 1784 3584 \nQ 2172 3584 2450 3431 \nQ 2728 3278 2906 2969 \nL 2906 3500 \nL 3481 3500 \nL 3481 434 \nz\n\" transform=\"scale(0.015625)\"/>\n        <path id=\"DejaVuSans-70\" d=\"M 1159 525 \nL 1159 -1331 \nL 581 -1331 \nL 581 3500 \nL 1159 3500 \nL 1159 2969 \nQ 1341 3281 1617 3432 \nQ 1894 3584 2278 3584 \nQ 2916 3584 3314 3078 \nQ 3713 2572 3713 1747 \nQ 3713 922 3314 415 \nQ 2916 -91 2278 -91 \nQ 1894 -91 1617 61 \nQ 1341 213 1159 525 \nz\nM 3116 1747 \nQ 3116 2381 2855 2742 \nQ 2594 3103 2138 3103 \nQ 1681 3103 1420 2742 \nQ 1159 2381 1159 1747 \nQ 1159 1113 1420 752 \nQ 1681 391 2138 391 \nQ 2594 391 2855 752 \nQ 3116 1113 3116 1747 \nz\n\" transform=\"scale(0.015625)\"/>\n        <path id=\"DejaVuSans-65\" d=\"M 3597 1894 \nL 3597 1613 \nL 953 1613 \nQ 991 1019 1311 708 \nQ 1631 397 2203 397 \nQ 2534 397 2845 478 \nQ 3156 559 3463 722 \nL 3463 178 \nQ 3153 47 2828 -22 \nQ 2503 -91 2169 -91 \nQ 1331 -91 842 396 \nQ 353 884 353 1716 \nQ 353 2575 817 3079 \nQ 1281 3584 2069 3584 \nQ 2775 3584 3186 3129 \nQ 3597 2675 3597 1894 \nz\nM 3022 2063 \nQ 3016 2534 2758 2815 \nQ 2500 3097 2075 3097 \nQ 1594 3097 1305 2825 \nQ 1016 2553 972 2059 \nL 3022 2063 \nz\n\" transform=\"scale(0.015625)\"/>\n       </defs>\n       <use xlink:href=\"#DejaVuSans-42\"/>\n       <use xlink:href=\"#DejaVuSans-2d\" x=\"68.603516\"/>\n       <use xlink:href=\"#DejaVuSans-67\" x=\"104.6875\"/>\n       <use xlink:href=\"#DejaVuSans-70\" x=\"168.164062\"/>\n       <use xlink:href=\"#DejaVuSans-65\" x=\"231.640625\"/>\n      </g>\n     </g>\n    </g>\n    <g id=\"xtick_3\">\n     <g id=\"text_3\">\n      <!-- B-geo -->\n      <g style=\"fill: #555555\" transform=\"translate(347.342812 328.237969) rotate(-90) scale(0.11 -0.11)\">\n       <defs>\n        <path id=\"DejaVuSans-6f\" d=\"M 1959 3097 \nQ 1497 3097 1228 2736 \nQ 959 2375 959 1747 \nQ 959 1119 1226 758 \nQ 1494 397 1959 397 \nQ 2419 397 2687 759 \nQ 2956 1122 2956 1747 \nQ 2956 2369 2687 2733 \nQ 2419 3097 1959 3097 \nz\nM 1959 3584 \nQ 2709 3584 3137 3096 \nQ 3566 2609 3566 1747 \nQ 3566 888 3137 398 \nQ 2709 -91 1959 -91 \nQ 1206 -91 779 398 \nQ 353 888 353 1747 \nQ 353 2609 779 3096 \nQ 1206 3584 1959 3584 \nz\n\" transform=\"scale(0.015625)\"/>\n       </defs>\n       <use xlink:href=\"#DejaVuSans-42\"/>\n       <use xlink:href=\"#DejaVuSans-2d\" x=\"68.603516\"/>\n       <use xlink:href=\"#DejaVuSans-67\" x=\"104.6875\"/>\n       <use xlink:href=\"#DejaVuSans-65\" x=\"168.164062\"/>\n       <use xlink:href=\"#DejaVuSans-6f\" x=\"229.6875\"/>\n      </g>\n     </g>\n    </g>\n    <g id=\"xtick_4\">\n     <g id=\"text_4\">\n      <!-- B-per -->\n      <g style=\"fill: #555555\" transform=\"translate(458.142812 326.029375) rotate(-90) scale(0.11 -0.11)\">\n       <defs>\n        <path id=\"DejaVuSans-72\" d=\"M 2631 2963 \nQ 2534 3019 2420 3045 \nQ 2306 3072 2169 3072 \nQ 1681 3072 1420 2755 \nQ 1159 2438 1159 1844 \nL 1159 0 \nL 581 0 \nL 581 3500 \nL 1159 3500 \nL 1159 2956 \nQ 1341 3275 1631 3429 \nQ 1922 3584 2338 3584 \nQ 2397 3584 2469 3576 \nQ 2541 3569 2628 3553 \nL 2631 2963 \nz\n\" transform=\"scale(0.015625)\"/>\n       </defs>\n       <use xlink:href=\"#DejaVuSans-42\"/>\n       <use xlink:href=\"#DejaVuSans-2d\" x=\"68.603516\"/>\n       <use xlink:href=\"#DejaVuSans-70\" x=\"104.6875\"/>\n       <use xlink:href=\"#DejaVuSans-65\" x=\"168.164062\"/>\n       <use xlink:href=\"#DejaVuSans-72\" x=\"229.6875\"/>\n      </g>\n     </g>\n    </g>\n    <g id=\"xtick_5\">\n     <g id=\"text_5\">\n      <!-- B-org -->\n      <g style=\"fill: #555555\" transform=\"translate(568.942812 326.005312) rotate(-90) scale(0.11 -0.11)\">\n       <use xlink:href=\"#DejaVuSans-42\"/>\n       <use xlink:href=\"#DejaVuSans-2d\" x=\"68.603516\"/>\n       <use xlink:href=\"#DejaVuSans-6f\" x=\"106.5625\"/>\n       <use xlink:href=\"#DejaVuSans-72\" x=\"167.744141\"/>\n       <use xlink:href=\"#DejaVuSans-67\" x=\"207.107422\"/>\n      </g>\n     </g>\n    </g>\n    <g id=\"xtick_6\">\n     <g id=\"text_6\">\n      <!-- B-tim -->\n      <g style=\"fill: #555555\" transform=\"translate(679.742812 325.838594) rotate(-90) scale(0.11 -0.11)\">\n       <defs>\n        <path id=\"DejaVuSans-74\" d=\"M 1172 4494 \nL 1172 3500 \nL 2356 3500 \nL 2356 3053 \nL 1172 3053 \nL 1172 1153 \nQ 1172 725 1289 603 \nQ 1406 481 1766 481 \nL 2356 481 \nL 2356 0 \nL 1766 0 \nQ 1100 0 847 248 \nQ 594 497 594 1153 \nL 594 3053 \nL 172 3053 \nL 172 3500 \nL 594 3500 \nL 594 4494 \nL 1172 4494 \nz\n\" transform=\"scale(0.015625)\"/>\n        <path id=\"DejaVuSans-69\" d=\"M 603 3500 \nL 1178 3500 \nL 1178 0 \nL 603 0 \nL 603 3500 \nz\nM 603 4863 \nL 1178 4863 \nL 1178 4134 \nL 603 4134 \nL 603 4863 \nz\n\" transform=\"scale(0.015625)\"/>\n        <path id=\"DejaVuSans-6d\" d=\"M 3328 2828 \nQ 3544 3216 3844 3400 \nQ 4144 3584 4550 3584 \nQ 5097 3584 5394 3201 \nQ 5691 2819 5691 2113 \nL 5691 0 \nL 5113 0 \nL 5113 2094 \nQ 5113 2597 4934 2840 \nQ 4756 3084 4391 3084 \nQ 3944 3084 3684 2787 \nQ 3425 2491 3425 1978 \nL 3425 0 \nL 2847 0 \nL 2847 2094 \nQ 2847 2600 2669 2842 \nQ 2491 3084 2119 3084 \nQ 1678 3084 1418 2786 \nQ 1159 2488 1159 1978 \nL 1159 0 \nL 581 0 \nL 581 3500 \nL 1159 3500 \nL 1159 2956 \nQ 1356 3278 1631 3431 \nQ 1906 3584 2284 3584 \nQ 2666 3584 2933 3390 \nQ 3200 3197 3328 2828 \nz\n\" transform=\"scale(0.015625)\"/>\n       </defs>\n       <use xlink:href=\"#DejaVuSans-42\"/>\n       <use xlink:href=\"#DejaVuSans-2d\" x=\"68.603516\"/>\n       <use xlink:href=\"#DejaVuSans-74\" x=\"104.6875\"/>\n       <use xlink:href=\"#DejaVuSans-69\" x=\"143.896484\"/>\n       <use xlink:href=\"#DejaVuSans-6d\" x=\"171.679688\"/>\n      </g>\n     </g>\n    </g>\n    <g id=\"xtick_7\">\n     <g id=\"text_7\">\n      <!-- B-nat -->\n      <g style=\"fill: #555555\" transform=\"translate(790.542812 325.780156) rotate(-90) scale(0.11 -0.11)\">\n       <defs>\n        <path id=\"DejaVuSans-6e\" d=\"M 3513 2113 \nL 3513 0 \nL 2938 0 \nL 2938 2094 \nQ 2938 2591 2744 2837 \nQ 2550 3084 2163 3084 \nQ 1697 3084 1428 2787 \nQ 1159 2491 1159 1978 \nL 1159 0 \nL 581 0 \nL 581 3500 \nL 1159 3500 \nL 1159 2956 \nQ 1366 3272 1645 3428 \nQ 1925 3584 2291 3584 \nQ 2894 3584 3203 3211 \nQ 3513 2838 3513 2113 \nz\n\" transform=\"scale(0.015625)\"/>\n        <path id=\"DejaVuSans-61\" d=\"M 2194 1759 \nQ 1497 1759 1228 1600 \nQ 959 1441 959 1056 \nQ 959 750 1161 570 \nQ 1363 391 1709 391 \nQ 2188 391 2477 730 \nQ 2766 1069 2766 1631 \nL 2766 1759 \nL 2194 1759 \nz\nM 3341 1997 \nL 3341 0 \nL 2766 0 \nL 2766 531 \nQ 2569 213 2275 61 \nQ 1981 -91 1556 -91 \nQ 1019 -91 701 211 \nQ 384 513 384 1019 \nQ 384 1609 779 1909 \nQ 1175 2209 1959 2209 \nL 2766 2209 \nL 2766 2266 \nQ 2766 2663 2505 2880 \nQ 2244 3097 1772 3097 \nQ 1472 3097 1187 3025 \nQ 903 2953 641 2809 \nL 641 3341 \nQ 956 3463 1253 3523 \nQ 1550 3584 1831 3584 \nQ 2591 3584 2966 3190 \nQ 3341 2797 3341 1997 \nz\n\" transform=\"scale(0.015625)\"/>\n       </defs>\n       <use xlink:href=\"#DejaVuSans-42\"/>\n       <use xlink:href=\"#DejaVuSans-2d\" x=\"68.603516\"/>\n       <use xlink:href=\"#DejaVuSans-6e\" x=\"104.6875\"/>\n       <use xlink:href=\"#DejaVuSans-61\" x=\"168.066406\"/>\n       <use xlink:href=\"#DejaVuSans-74\" x=\"229.345703\"/>\n      </g>\n     </g>\n    </g>\n    <g id=\"xtick_8\">\n     <g id=\"text_8\">\n      <!-- B-eve -->\n      <g style=\"fill: #555555\" transform=\"translate(901.342812 327.803125) rotate(-90) scale(0.11 -0.11)\">\n       <defs>\n        <path id=\"DejaVuSans-76\" d=\"M 191 3500 \nL 800 3500 \nL 1894 563 \nL 2988 3500 \nL 3597 3500 \nL 2284 0 \nL 1503 0 \nL 191 3500 \nz\n\" transform=\"scale(0.015625)\"/>\n       </defs>\n       <use xlink:href=\"#DejaVuSans-42\"/>\n       <use xlink:href=\"#DejaVuSans-2d\" x=\"68.603516\"/>\n       <use xlink:href=\"#DejaVuSans-65\" x=\"104.6875\"/>\n       <use xlink:href=\"#DejaVuSans-76\" x=\"166.210938\"/>\n       <use xlink:href=\"#DejaVuSans-65\" x=\"225.390625\"/>\n      </g>\n     </g>\n    </g>\n    <g id=\"xtick_9\">\n     <g id=\"text_9\">\n      <!-- B-art -->\n      <g style=\"fill: #555555\" transform=\"translate(1012.142812 323.330937) rotate(-90) scale(0.11 -0.11)\">\n       <use xlink:href=\"#DejaVuSans-42\"/>\n       <use xlink:href=\"#DejaVuSans-2d\" x=\"68.603516\"/>\n       <use xlink:href=\"#DejaVuSans-61\" x=\"104.6875\"/>\n       <use xlink:href=\"#DejaVuSans-72\" x=\"165.966797\"/>\n       <use xlink:href=\"#DejaVuSans-74\" x=\"207.080078\"/>\n      </g>\n     </g>\n    </g>\n    <g id=\"text_10\">\n     <!-- Tag -->\n     <g style=\"fill: #555555\" transform=\"translate(555.746875 341.60875) scale(0.12 -0.12)\">\n      <defs>\n       <path id=\"DejaVuSans-54\" d=\"M -19 4666 \nL 3928 4666 \nL 3928 4134 \nL 2272 4134 \nL 2272 0 \nL 1638 0 \nL 1638 4134 \nL -19 4134 \nL -19 4666 \nz\n\" transform=\"scale(0.015625)\"/>\n      </defs>\n      <use xlink:href=\"#DejaVuSans-54\"/>\n      <use xlink:href=\"#DejaVuSans-61\" x=\"44.583984\"/>\n      <use xlink:href=\"#DejaVuSans-67\" x=\"105.863281\"/>\n     </g>\n    </g>\n   </g>\n   <g id=\"matplotlib.axis_2\">\n    <g id=\"ytick_1\">\n     <g id=\"line2d_1\">\n      <path d=\"M 67.3075 286.74 \nL 1064.5075 286.74 \n\" clip-path=\"url(#p51ebcaf6e6)\" style=\"fill: none; stroke: #ffffff; stroke-linecap: round\"/>\n     </g>\n     <g id=\"text_11\">\n      <!-- 0 -->\n      <g style=\"fill: #555555\" transform=\"translate(50.80875 290.919141) scale(0.11 -0.11)\">\n       <defs>\n        <path id=\"DejaVuSans-30\" d=\"M 2034 4250 \nQ 1547 4250 1301 3770 \nQ 1056 3291 1056 2328 \nQ 1056 1369 1301 889 \nQ 1547 409 2034 409 \nQ 2525 409 2770 889 \nQ 3016 1369 3016 2328 \nQ 3016 3291 2770 3770 \nQ 2525 4250 2034 4250 \nz\nM 2034 4750 \nQ 2819 4750 3233 4129 \nQ 3647 3509 3647 2328 \nQ 3647 1150 3233 529 \nQ 2819 -91 2034 -91 \nQ 1250 -91 836 529 \nQ 422 1150 422 2328 \nQ 422 3509 836 4129 \nQ 1250 4750 2034 4750 \nz\n\" transform=\"scale(0.015625)\"/>\n       </defs>\n       <use xlink:href=\"#DejaVuSans-30\"/>\n      </g>\n     </g>\n    </g>\n    <g id=\"ytick_2\">\n     <g id=\"line2d_2\">\n      <path d=\"M 67.3075 247.941351 \nL 1064.5075 247.941351 \n\" clip-path=\"url(#p51ebcaf6e6)\" style=\"fill: none; stroke: #ffffff; stroke-linecap: round\"/>\n     </g>\n     <g id=\"text_12\">\n      <!-- 5000 -->\n      <g style=\"fill: #555555\" transform=\"translate(29.8125 252.120491) scale(0.11 -0.11)\">\n       <defs>\n        <path id=\"DejaVuSans-35\" d=\"M 691 4666 \nL 3169 4666 \nL 3169 4134 \nL 1269 4134 \nL 1269 2991 \nQ 1406 3038 1543 3061 \nQ 1681 3084 1819 3084 \nQ 2600 3084 3056 2656 \nQ 3513 2228 3513 1497 \nQ 3513 744 3044 326 \nQ 2575 -91 1722 -91 \nQ 1428 -91 1123 -41 \nQ 819 9 494 109 \nL 494 744 \nQ 775 591 1075 516 \nQ 1375 441 1709 441 \nQ 2250 441 2565 725 \nQ 2881 1009 2881 1497 \nQ 2881 1984 2565 2268 \nQ 2250 2553 1709 2553 \nQ 1456 2553 1204 2497 \nQ 953 2441 691 2322 \nL 691 4666 \nz\n\" transform=\"scale(0.015625)\"/>\n       </defs>\n       <use xlink:href=\"#DejaVuSans-35\"/>\n       <use xlink:href=\"#DejaVuSans-30\" x=\"63.623047\"/>\n       <use xlink:href=\"#DejaVuSans-30\" x=\"127.246094\"/>\n       <use xlink:href=\"#DejaVuSans-30\" x=\"190.869141\"/>\n      </g>\n     </g>\n    </g>\n    <g id=\"ytick_3\">\n     <g id=\"line2d_3\">\n      <path d=\"M 67.3075 209.142701 \nL 1064.5075 209.142701 \n\" clip-path=\"url(#p51ebcaf6e6)\" style=\"fill: none; stroke: #ffffff; stroke-linecap: round\"/>\n     </g>\n     <g id=\"text_13\">\n      <!-- 10000 -->\n      <g style=\"fill: #555555\" transform=\"translate(22.81375 213.321842) scale(0.11 -0.11)\">\n       <defs>\n        <path id=\"DejaVuSans-31\" d=\"M 794 531 \nL 1825 531 \nL 1825 4091 \nL 703 3866 \nL 703 4441 \nL 1819 4666 \nL 2450 4666 \nL 2450 531 \nL 3481 531 \nL 3481 0 \nL 794 0 \nL 794 531 \nz\n\" transform=\"scale(0.015625)\"/>\n       </defs>\n       <use xlink:href=\"#DejaVuSans-31\"/>\n       <use xlink:href=\"#DejaVuSans-30\" x=\"63.623047\"/>\n       <use xlink:href=\"#DejaVuSans-30\" x=\"127.246094\"/>\n       <use xlink:href=\"#DejaVuSans-30\" x=\"190.869141\"/>\n       <use xlink:href=\"#DejaVuSans-30\" x=\"254.492188\"/>\n      </g>\n     </g>\n    </g>\n    <g id=\"ytick_4\">\n     <g id=\"line2d_4\">\n      <path d=\"M 67.3075 170.344052 \nL 1064.5075 170.344052 \n\" clip-path=\"url(#p51ebcaf6e6)\" style=\"fill: none; stroke: #ffffff; stroke-linecap: round\"/>\n     </g>\n     <g id=\"text_14\">\n      <!-- 15000 -->\n      <g style=\"fill: #555555\" transform=\"translate(22.81375 174.523193) scale(0.11 -0.11)\">\n       <use xlink:href=\"#DejaVuSans-31\"/>\n       <use xlink:href=\"#DejaVuSans-35\" x=\"63.623047\"/>\n       <use xlink:href=\"#DejaVuSans-30\" x=\"127.246094\"/>\n       <use xlink:href=\"#DejaVuSans-30\" x=\"190.869141\"/>\n       <use xlink:href=\"#DejaVuSans-30\" x=\"254.492188\"/>\n      </g>\n     </g>\n    </g>\n    <g id=\"ytick_5\">\n     <g id=\"line2d_5\">\n      <path d=\"M 67.3075 131.545403 \nL 1064.5075 131.545403 \n\" clip-path=\"url(#p51ebcaf6e6)\" style=\"fill: none; stroke: #ffffff; stroke-linecap: round\"/>\n     </g>\n     <g id=\"text_15\">\n      <!-- 20000 -->\n      <g style=\"fill: #555555\" transform=\"translate(22.81375 135.724544) scale(0.11 -0.11)\">\n       <defs>\n        <path id=\"DejaVuSans-32\" d=\"M 1228 531 \nL 3431 531 \nL 3431 0 \nL 469 0 \nL 469 531 \nQ 828 903 1448 1529 \nQ 2069 2156 2228 2338 \nQ 2531 2678 2651 2914 \nQ 2772 3150 2772 3378 \nQ 2772 3750 2511 3984 \nQ 2250 4219 1831 4219 \nQ 1534 4219 1204 4116 \nQ 875 4013 500 3803 \nL 500 4441 \nQ 881 4594 1212 4672 \nQ 1544 4750 1819 4750 \nQ 2544 4750 2975 4387 \nQ 3406 4025 3406 3419 \nQ 3406 3131 3298 2873 \nQ 3191 2616 2906 2266 \nQ 2828 2175 2409 1742 \nQ 1991 1309 1228 531 \nz\n\" transform=\"scale(0.015625)\"/>\n       </defs>\n       <use xlink:href=\"#DejaVuSans-32\"/>\n       <use xlink:href=\"#DejaVuSans-30\" x=\"63.623047\"/>\n       <use xlink:href=\"#DejaVuSans-30\" x=\"127.246094\"/>\n       <use xlink:href=\"#DejaVuSans-30\" x=\"190.869141\"/>\n       <use xlink:href=\"#DejaVuSans-30\" x=\"254.492188\"/>\n      </g>\n     </g>\n    </g>\n    <g id=\"ytick_6\">\n     <g id=\"line2d_6\">\n      <path d=\"M 67.3075 92.746754 \nL 1064.5075 92.746754 \n\" clip-path=\"url(#p51ebcaf6e6)\" style=\"fill: none; stroke: #ffffff; stroke-linecap: round\"/>\n     </g>\n     <g id=\"text_16\">\n      <!-- 25000 -->\n      <g style=\"fill: #555555\" transform=\"translate(22.81375 96.925894) scale(0.11 -0.11)\">\n       <use xlink:href=\"#DejaVuSans-32\"/>\n       <use xlink:href=\"#DejaVuSans-35\" x=\"63.623047\"/>\n       <use xlink:href=\"#DejaVuSans-30\" x=\"127.246094\"/>\n       <use xlink:href=\"#DejaVuSans-30\" x=\"190.869141\"/>\n       <use xlink:href=\"#DejaVuSans-30\" x=\"254.492188\"/>\n      </g>\n     </g>\n    </g>\n    <g id=\"ytick_7\">\n     <g id=\"line2d_7\">\n      <path d=\"M 67.3075 53.948104 \nL 1064.5075 53.948104 \n\" clip-path=\"url(#p51ebcaf6e6)\" style=\"fill: none; stroke: #ffffff; stroke-linecap: round\"/>\n     </g>\n     <g id=\"text_17\">\n      <!-- 30000 -->\n      <g style=\"fill: #555555\" transform=\"translate(22.81375 58.127245) scale(0.11 -0.11)\">\n       <defs>\n        <path id=\"DejaVuSans-33\" d=\"M 2597 2516 \nQ 3050 2419 3304 2112 \nQ 3559 1806 3559 1356 \nQ 3559 666 3084 287 \nQ 2609 -91 1734 -91 \nQ 1441 -91 1130 -33 \nQ 819 25 488 141 \nL 488 750 \nQ 750 597 1062 519 \nQ 1375 441 1716 441 \nQ 2309 441 2620 675 \nQ 2931 909 2931 1356 \nQ 2931 1769 2642 2001 \nQ 2353 2234 1838 2234 \nL 1294 2234 \nL 1294 2753 \nL 1863 2753 \nQ 2328 2753 2575 2939 \nQ 2822 3125 2822 3475 \nQ 2822 3834 2567 4026 \nQ 2313 4219 1838 4219 \nQ 1578 4219 1281 4162 \nQ 984 4106 628 3988 \nL 628 4550 \nQ 988 4650 1302 4700 \nQ 1616 4750 1894 4750 \nQ 2613 4750 3031 4423 \nQ 3450 4097 3450 3541 \nQ 3450 3153 3228 2886 \nQ 3006 2619 2597 2516 \nz\n\" transform=\"scale(0.015625)\"/>\n       </defs>\n       <use xlink:href=\"#DejaVuSans-33\"/>\n       <use xlink:href=\"#DejaVuSans-30\" x=\"63.623047\"/>\n       <use xlink:href=\"#DejaVuSans-30\" x=\"127.246094\"/>\n       <use xlink:href=\"#DejaVuSans-30\" x=\"190.869141\"/>\n       <use xlink:href=\"#DejaVuSans-30\" x=\"254.492188\"/>\n      </g>\n     </g>\n    </g>\n    <g id=\"ytick_8\">\n     <g id=\"line2d_8\">\n      <path d=\"M 67.3075 15.149455 \nL 1064.5075 15.149455 \n\" clip-path=\"url(#p51ebcaf6e6)\" style=\"fill: none; stroke: #ffffff; stroke-linecap: round\"/>\n     </g>\n     <g id=\"text_18\">\n      <!-- 35000 -->\n      <g style=\"fill: #555555\" transform=\"translate(22.81375 19.328596) scale(0.11 -0.11)\">\n       <use xlink:href=\"#DejaVuSans-33\"/>\n       <use xlink:href=\"#DejaVuSans-35\" x=\"63.623047\"/>\n       <use xlink:href=\"#DejaVuSans-30\" x=\"127.246094\"/>\n       <use xlink:href=\"#DejaVuSans-30\" x=\"190.869141\"/>\n       <use xlink:href=\"#DejaVuSans-30\" x=\"254.492188\"/>\n      </g>\n     </g>\n    </g>\n    <g id=\"text_19\">\n     <!-- count -->\n     <g style=\"fill: #555555\" transform=\"translate(16.318125 163.8975) rotate(-90) scale(0.12 -0.12)\">\n      <defs>\n       <path id=\"DejaVuSans-63\" d=\"M 3122 3366 \nL 3122 2828 \nQ 2878 2963 2633 3030 \nQ 2388 3097 2138 3097 \nQ 1578 3097 1268 2742 \nQ 959 2388 959 1747 \nQ 959 1106 1268 751 \nQ 1578 397 2138 397 \nQ 2388 397 2633 464 \nQ 2878 531 3122 666 \nL 3122 134 \nQ 2881 22 2623 -34 \nQ 2366 -91 2075 -91 \nQ 1284 -91 818 406 \nQ 353 903 353 1747 \nQ 353 2603 823 3093 \nQ 1294 3584 2113 3584 \nQ 2378 3584 2631 3529 \nQ 2884 3475 3122 3366 \nz\n\" transform=\"scale(0.015625)\"/>\n       <path id=\"DejaVuSans-75\" d=\"M 544 1381 \nL 544 3500 \nL 1119 3500 \nL 1119 1403 \nQ 1119 906 1312 657 \nQ 1506 409 1894 409 \nQ 2359 409 2629 706 \nQ 2900 1003 2900 1516 \nL 2900 3500 \nL 3475 3500 \nL 3475 0 \nL 2900 0 \nL 2900 538 \nQ 2691 219 2414 64 \nQ 2138 -91 1772 -91 \nQ 1169 -91 856 284 \nQ 544 659 544 1381 \nz\nM 1991 3584 \nL 1991 3584 \nz\n\" transform=\"scale(0.015625)\"/>\n      </defs>\n      <use xlink:href=\"#DejaVuSans-63\"/>\n      <use xlink:href=\"#DejaVuSans-6f\" x=\"54.980469\"/>\n      <use xlink:href=\"#DejaVuSans-75\" x=\"116.162109\"/>\n      <use xlink:href=\"#DejaVuSans-6e\" x=\"179.541016\"/>\n      <use xlink:href=\"#DejaVuSans-74\" x=\"242.919922\"/>\n     </g>\n    </g>\n   </g>\n   <g id=\"patch_3\">\n    <path d=\"M 78.3875 286.74 \nL 167.0275 286.74 \nL 167.0275 20.511429 \nL 78.3875 20.511429 \nz\n\" clip-path=\"url(#p51ebcaf6e6)\" style=\"fill: #ea96a3; stroke: #eeeeee; stroke-width: 0.5; stroke-linejoin: miter\"/>\n   </g>\n   <g id=\"patch_4\">\n    <path d=\"M 189.1875 286.74 \nL 277.8275 286.74 \nL 277.8275 263.546167 \nL 189.1875 263.546167 \nz\n\" clip-path=\"url(#p51ebcaf6e6)\" style=\"fill: #d1964d; stroke: #eeeeee; stroke-width: 0.5; stroke-linejoin: miter\"/>\n   </g>\n   <g id=\"patch_5\">\n    <path d=\"M 299.9875 286.74 \nL 388.6275 286.74 \nL 388.6275 260.861301 \nL 299.9875 260.861301 \nz\n\" clip-path=\"url(#p51ebcaf6e6)\" style=\"fill: #a29f46; stroke: #eeeeee; stroke-width: 0.5; stroke-linejoin: miter\"/>\n   </g>\n   <g id=\"patch_6\">\n    <path d=\"M 410.7875 286.74 \nL 499.4275 286.74 \nL 499.4275 255.553646 \nL 410.7875 255.553646 \nz\n\" clip-path=\"url(#p51ebcaf6e6)\" style=\"fill: #60ae47; stroke: #eeeeee; stroke-width: 0.5; stroke-linejoin: miter\"/>\n   </g>\n   <g id=\"patch_7\">\n    <path d=\"M 521.5875 286.74 \nL 610.2275 286.74 \nL 610.2275 265.385223 \nL 521.5875 265.385223 \nz\n\" clip-path=\"url(#p51ebcaf6e6)\" style=\"fill: #4aad95; stroke: #eeeeee; stroke-width: 0.5; stroke-linejoin: miter\"/>\n   </g>\n   <g id=\"patch_8\">\n    <path d=\"M 632.3875 286.74 \nL 721.0275 286.74 \nL 721.0275 282.743739 \nL 632.3875 282.743739 \nz\n\" clip-path=\"url(#p51ebcaf6e6)\" style=\"fill: #4dabb3; stroke: #eeeeee; stroke-width: 0.5; stroke-linejoin: miter\"/>\n   </g>\n   <g id=\"patch_9\">\n    <path d=\"M 743.1875 286.74 \nL 831.8275 286.74 \nL 831.8275 286.654643 \nL 743.1875 286.654643 \nz\n\" clip-path=\"url(#p51ebcaf6e6)\" style=\"fill: #6daee2; stroke: #eeeeee; stroke-width: 0.5; stroke-linejoin: miter\"/>\n   </g>\n   <g id=\"patch_10\">\n    <path d=\"M 853.9875 286.74 \nL 942.6275 286.74 \nL 942.6275 286.662403 \nL 853.9875 286.662403 \nz\n\" clip-path=\"url(#p51ebcaf6e6)\" style=\"fill: #c4a1ea; stroke: #eeeeee; stroke-width: 0.5; stroke-linejoin: miter\"/>\n   </g>\n   <g id=\"patch_11\">\n    <path d=\"M 964.7875 286.74 \nL 1053.4275 286.74 \nL 1053.4275 286.600325 \nL 964.7875 286.600325 \nz\n\" clip-path=\"url(#p51ebcaf6e6)\" style=\"fill: #e88ed1; stroke: #eeeeee; stroke-width: 0.5; stroke-linejoin: miter\"/>\n   </g>\n   <g id=\"patch_12\">\n    <path d=\"M 67.3075 286.74 \nL 67.3075 7.2 \n\" style=\"fill: none; stroke: #ffffff; stroke-linejoin: miter; stroke-linecap: square\"/>\n   </g>\n   <g id=\"patch_13\">\n    <path d=\"M 1064.5075 286.74 \nL 1064.5075 7.2 \n\" style=\"fill: none; stroke: #ffffff; stroke-linejoin: miter; stroke-linecap: square\"/>\n   </g>\n   <g id=\"patch_14\">\n    <path d=\"M 67.3075 286.74 \nL 1064.5075 286.74 \n\" style=\"fill: none; stroke: #ffffff; stroke-linejoin: miter; stroke-linecap: square\"/>\n   </g>\n   <g id=\"patch_15\">\n    <path d=\"M 67.3075 7.2 \nL 1064.5075 7.2 \n\" style=\"fill: none; stroke: #ffffff; stroke-linejoin: miter; stroke-linecap: square\"/>\n   </g>\n  </g>\n </g>\n <defs>\n  <clipPath id=\"p51ebcaf6e6\">\n   <rect x=\"67.3075\" y=\"7.2\" width=\"997.2\" height=\"279.54\"/>\n  </clipPath>\n </defs>\n</svg>\n"
          },
          "metadata": {}
        }
      ]
    },
    {
      "cell_type": "markdown",
      "source": [
        "most of the words are tagged as outside of any chunk. These words can be considered as fillers and their presence might impact the classifier performance as well. Lets check the dataset again without the O tags."
      ],
      "metadata": {
        "id": "F5nf3u0WDYrT"
      }
    },
    {
      "cell_type": "code",
      "source": [
        "#Words distribution across Tags without O tag\n",
        "plt.figure(figsize=(15, 5))\n",
        "ax = sns.countplot(x='Tag', data=data.loc[data['Tag'] != 'O'])\n",
        "ax.set_xticklabels(ax.get_xticklabels(), rotation=90, ha=\"center\")\n",
        "plt.tight_layout()\n",
        "plt.show()"
      ],
      "metadata": {
        "colab": {
          "base_uri": "https://localhost:8080/",
          "height": 509
        },
        "id": "EHnBlEJgArHW",
        "outputId": "76015c7a-b63e-4dab-cd45-12e1349613c8"
      },
      "execution_count": null,
      "outputs": [
        {
          "output_type": "display_data",
          "data": {
            "text/plain": [
              "<Figure size 1500x500 with 1 Axes>"
            ],
            "image/svg+xml": "<?xml version=\"1.0\" encoding=\"utf-8\" standalone=\"no\"?>\n<!DOCTYPE svg PUBLIC \"-//W3C//DTD SVG 1.1//EN\"\n  \"http://www.w3.org/Graphics/SVG/1.1/DTD/svg11.dtd\">\n<svg xmlns:xlink=\"http://www.w3.org/1999/xlink\" width=\"1071.63875pt\" height=\"351.304375pt\" viewBox=\"0 0 1071.63875 351.304375\" xmlns=\"http://www.w3.org/2000/svg\" version=\"1.1\">\n <metadata>\n  <rdf:RDF xmlns:dc=\"http://purl.org/dc/elements/1.1/\" xmlns:cc=\"http://creativecommons.org/ns#\" xmlns:rdf=\"http://www.w3.org/1999/02/22-rdf-syntax-ns#\">\n   <cc:Work>\n    <dc:type rdf:resource=\"http://purl.org/dc/dcmitype/StillImage\"/>\n    <dc:date>2023-05-08T19:42:13.902138</dc:date>\n    <dc:format>image/svg+xml</dc:format>\n    <dc:creator>\n     <cc:Agent>\n      <dc:title>Matplotlib v3.7.1, https://matplotlib.org/</dc:title>\n     </cc:Agent>\n    </dc:creator>\n   </cc:Work>\n  </rdf:RDF>\n </metadata>\n <defs>\n  <style type=\"text/css\">*{stroke-linejoin: round; stroke-linecap: butt}</style>\n </defs>\n <g id=\"figure_1\">\n  <g id=\"patch_1\">\n   <path d=\"M 0 351.304375 \nL 1071.63875 351.304375 \nL 1071.63875 0 \nL 0 0 \nz\n\" style=\"fill: #ffffff\"/>\n  </g>\n  <g id=\"axes_1\">\n   <g id=\"patch_2\">\n    <path d=\"M 60.30875 286.74 \nL 1064.43875 286.74 \nL 1064.43875 7.2 \nL 60.30875 7.2 \nz\n\" style=\"fill: #e5e5e5\"/>\n   </g>\n   <g id=\"matplotlib.axis_1\">\n    <g id=\"xtick_1\">\n     <g id=\"text_1\">\n      <!-- B-gpe -->\n      <g style=\"fill: #555555\" transform=\"translate(126.102188 328.490625) rotate(-90) scale(0.11 -0.11)\">\n       <defs>\n        <path id=\"DejaVuSans-42\" d=\"M 1259 2228 \nL 1259 519 \nL 2272 519 \nQ 2781 519 3026 730 \nQ 3272 941 3272 1375 \nQ 3272 1813 3026 2020 \nQ 2781 2228 2272 2228 \nL 1259 2228 \nz\nM 1259 4147 \nL 1259 2741 \nL 2194 2741 \nQ 2656 2741 2882 2914 \nQ 3109 3088 3109 3444 \nQ 3109 3797 2882 3972 \nQ 2656 4147 2194 4147 \nL 1259 4147 \nz\nM 628 4666 \nL 2241 4666 \nQ 2963 4666 3353 4366 \nQ 3744 4066 3744 3513 \nQ 3744 3084 3544 2831 \nQ 3344 2578 2956 2516 \nQ 3422 2416 3680 2098 \nQ 3938 1781 3938 1306 \nQ 3938 681 3513 340 \nQ 3088 0 2303 0 \nL 628 0 \nL 628 4666 \nz\n\" transform=\"scale(0.015625)\"/>\n        <path id=\"DejaVuSans-2d\" d=\"M 313 2009 \nL 1997 2009 \nL 1997 1497 \nL 313 1497 \nL 313 2009 \nz\n\" transform=\"scale(0.015625)\"/>\n        <path id=\"DejaVuSans-67\" d=\"M 2906 1791 \nQ 2906 2416 2648 2759 \nQ 2391 3103 1925 3103 \nQ 1463 3103 1205 2759 \nQ 947 2416 947 1791 \nQ 947 1169 1205 825 \nQ 1463 481 1925 481 \nQ 2391 481 2648 825 \nQ 2906 1169 2906 1791 \nz\nM 3481 434 \nQ 3481 -459 3084 -895 \nQ 2688 -1331 1869 -1331 \nQ 1566 -1331 1297 -1286 \nQ 1028 -1241 775 -1147 \nL 775 -588 \nQ 1028 -725 1275 -790 \nQ 1522 -856 1778 -856 \nQ 2344 -856 2625 -561 \nQ 2906 -266 2906 331 \nL 2906 616 \nQ 2728 306 2450 153 \nQ 2172 0 1784 0 \nQ 1141 0 747 490 \nQ 353 981 353 1791 \nQ 353 2603 747 3093 \nQ 1141 3584 1784 3584 \nQ 2172 3584 2450 3431 \nQ 2728 3278 2906 2969 \nL 2906 3500 \nL 3481 3500 \nL 3481 434 \nz\n\" transform=\"scale(0.015625)\"/>\n        <path id=\"DejaVuSans-70\" d=\"M 1159 525 \nL 1159 -1331 \nL 581 -1331 \nL 581 3500 \nL 1159 3500 \nL 1159 2969 \nQ 1341 3281 1617 3432 \nQ 1894 3584 2278 3584 \nQ 2916 3584 3314 3078 \nQ 3713 2572 3713 1747 \nQ 3713 922 3314 415 \nQ 2916 -91 2278 -91 \nQ 1894 -91 1617 61 \nQ 1341 213 1159 525 \nz\nM 3116 1747 \nQ 3116 2381 2855 2742 \nQ 2594 3103 2138 3103 \nQ 1681 3103 1420 2742 \nQ 1159 2381 1159 1747 \nQ 1159 1113 1420 752 \nQ 1681 391 2138 391 \nQ 2594 391 2855 752 \nQ 3116 1113 3116 1747 \nz\n\" transform=\"scale(0.015625)\"/>\n        <path id=\"DejaVuSans-65\" d=\"M 3597 1894 \nL 3597 1613 \nL 953 1613 \nQ 991 1019 1311 708 \nQ 1631 397 2203 397 \nQ 2534 397 2845 478 \nQ 3156 559 3463 722 \nL 3463 178 \nQ 3153 47 2828 -22 \nQ 2503 -91 2169 -91 \nQ 1331 -91 842 396 \nQ 353 884 353 1716 \nQ 353 2575 817 3079 \nQ 1281 3584 2069 3584 \nQ 2775 3584 3186 3129 \nQ 3597 2675 3597 1894 \nz\nM 3022 2063 \nQ 3016 2534 2758 2815 \nQ 2500 3097 2075 3097 \nQ 1594 3097 1305 2825 \nQ 1016 2553 972 2059 \nL 3022 2063 \nz\n\" transform=\"scale(0.015625)\"/>\n       </defs>\n       <use xlink:href=\"#DejaVuSans-42\"/>\n       <use xlink:href=\"#DejaVuSans-2d\" x=\"68.603516\"/>\n       <use xlink:href=\"#DejaVuSans-67\" x=\"104.6875\"/>\n       <use xlink:href=\"#DejaVuSans-70\" x=\"168.164062\"/>\n       <use xlink:href=\"#DejaVuSans-65\" x=\"231.640625\"/>\n      </g>\n     </g>\n    </g>\n    <g id=\"xtick_2\">\n     <g id=\"text_2\">\n      <!-- B-geo -->\n      <g style=\"fill: #555555\" transform=\"translate(251.618437 328.237969) rotate(-90) scale(0.11 -0.11)\">\n       <defs>\n        <path id=\"DejaVuSans-6f\" d=\"M 1959 3097 \nQ 1497 3097 1228 2736 \nQ 959 2375 959 1747 \nQ 959 1119 1226 758 \nQ 1494 397 1959 397 \nQ 2419 397 2687 759 \nQ 2956 1122 2956 1747 \nQ 2956 2369 2687 2733 \nQ 2419 3097 1959 3097 \nz\nM 1959 3584 \nQ 2709 3584 3137 3096 \nQ 3566 2609 3566 1747 \nQ 3566 888 3137 398 \nQ 2709 -91 1959 -91 \nQ 1206 -91 779 398 \nQ 353 888 353 1747 \nQ 353 2609 779 3096 \nQ 1206 3584 1959 3584 \nz\n\" transform=\"scale(0.015625)\"/>\n       </defs>\n       <use xlink:href=\"#DejaVuSans-42\"/>\n       <use xlink:href=\"#DejaVuSans-2d\" x=\"68.603516\"/>\n       <use xlink:href=\"#DejaVuSans-67\" x=\"104.6875\"/>\n       <use xlink:href=\"#DejaVuSans-65\" x=\"168.164062\"/>\n       <use xlink:href=\"#DejaVuSans-6f\" x=\"229.6875\"/>\n      </g>\n     </g>\n    </g>\n    <g id=\"xtick_3\">\n     <g id=\"text_3\">\n      <!-- B-per -->\n      <g style=\"fill: #555555\" transform=\"translate(377.134687 326.029375) rotate(-90) scale(0.11 -0.11)\">\n       <defs>\n        <path id=\"DejaVuSans-72\" d=\"M 2631 2963 \nQ 2534 3019 2420 3045 \nQ 2306 3072 2169 3072 \nQ 1681 3072 1420 2755 \nQ 1159 2438 1159 1844 \nL 1159 0 \nL 581 0 \nL 581 3500 \nL 1159 3500 \nL 1159 2956 \nQ 1341 3275 1631 3429 \nQ 1922 3584 2338 3584 \nQ 2397 3584 2469 3576 \nQ 2541 3569 2628 3553 \nL 2631 2963 \nz\n\" transform=\"scale(0.015625)\"/>\n       </defs>\n       <use xlink:href=\"#DejaVuSans-42\"/>\n       <use xlink:href=\"#DejaVuSans-2d\" x=\"68.603516\"/>\n       <use xlink:href=\"#DejaVuSans-70\" x=\"104.6875\"/>\n       <use xlink:href=\"#DejaVuSans-65\" x=\"168.164062\"/>\n       <use xlink:href=\"#DejaVuSans-72\" x=\"229.6875\"/>\n      </g>\n     </g>\n    </g>\n    <g id=\"xtick_4\">\n     <g id=\"text_4\">\n      <!-- B-org -->\n      <g style=\"fill: #555555\" transform=\"translate(502.650937 326.005312) rotate(-90) scale(0.11 -0.11)\">\n       <use xlink:href=\"#DejaVuSans-42\"/>\n       <use xlink:href=\"#DejaVuSans-2d\" x=\"68.603516\"/>\n       <use xlink:href=\"#DejaVuSans-6f\" x=\"106.5625\"/>\n       <use xlink:href=\"#DejaVuSans-72\" x=\"167.744141\"/>\n       <use xlink:href=\"#DejaVuSans-67\" x=\"207.107422\"/>\n      </g>\n     </g>\n    </g>\n    <g id=\"xtick_5\">\n     <g id=\"text_5\">\n      <!-- B-tim -->\n      <g style=\"fill: #555555\" transform=\"translate(628.167188 325.838594) rotate(-90) scale(0.11 -0.11)\">\n       <defs>\n        <path id=\"DejaVuSans-74\" d=\"M 1172 4494 \nL 1172 3500 \nL 2356 3500 \nL 2356 3053 \nL 1172 3053 \nL 1172 1153 \nQ 1172 725 1289 603 \nQ 1406 481 1766 481 \nL 2356 481 \nL 2356 0 \nL 1766 0 \nQ 1100 0 847 248 \nQ 594 497 594 1153 \nL 594 3053 \nL 172 3053 \nL 172 3500 \nL 594 3500 \nL 594 4494 \nL 1172 4494 \nz\n\" transform=\"scale(0.015625)\"/>\n        <path id=\"DejaVuSans-69\" d=\"M 603 3500 \nL 1178 3500 \nL 1178 0 \nL 603 0 \nL 603 3500 \nz\nM 603 4863 \nL 1178 4863 \nL 1178 4134 \nL 603 4134 \nL 603 4863 \nz\n\" transform=\"scale(0.015625)\"/>\n        <path id=\"DejaVuSans-6d\" d=\"M 3328 2828 \nQ 3544 3216 3844 3400 \nQ 4144 3584 4550 3584 \nQ 5097 3584 5394 3201 \nQ 5691 2819 5691 2113 \nL 5691 0 \nL 5113 0 \nL 5113 2094 \nQ 5113 2597 4934 2840 \nQ 4756 3084 4391 3084 \nQ 3944 3084 3684 2787 \nQ 3425 2491 3425 1978 \nL 3425 0 \nL 2847 0 \nL 2847 2094 \nQ 2847 2600 2669 2842 \nQ 2491 3084 2119 3084 \nQ 1678 3084 1418 2786 \nQ 1159 2488 1159 1978 \nL 1159 0 \nL 581 0 \nL 581 3500 \nL 1159 3500 \nL 1159 2956 \nQ 1356 3278 1631 3431 \nQ 1906 3584 2284 3584 \nQ 2666 3584 2933 3390 \nQ 3200 3197 3328 2828 \nz\n\" transform=\"scale(0.015625)\"/>\n       </defs>\n       <use xlink:href=\"#DejaVuSans-42\"/>\n       <use xlink:href=\"#DejaVuSans-2d\" x=\"68.603516\"/>\n       <use xlink:href=\"#DejaVuSans-74\" x=\"104.6875\"/>\n       <use xlink:href=\"#DejaVuSans-69\" x=\"143.896484\"/>\n       <use xlink:href=\"#DejaVuSans-6d\" x=\"171.679688\"/>\n      </g>\n     </g>\n    </g>\n    <g id=\"xtick_6\">\n     <g id=\"text_6\">\n      <!-- B-nat -->\n      <g style=\"fill: #555555\" transform=\"translate(753.683437 325.780156) rotate(-90) scale(0.11 -0.11)\">\n       <defs>\n        <path id=\"DejaVuSans-6e\" d=\"M 3513 2113 \nL 3513 0 \nL 2938 0 \nL 2938 2094 \nQ 2938 2591 2744 2837 \nQ 2550 3084 2163 3084 \nQ 1697 3084 1428 2787 \nQ 1159 2491 1159 1978 \nL 1159 0 \nL 581 0 \nL 581 3500 \nL 1159 3500 \nL 1159 2956 \nQ 1366 3272 1645 3428 \nQ 1925 3584 2291 3584 \nQ 2894 3584 3203 3211 \nQ 3513 2838 3513 2113 \nz\n\" transform=\"scale(0.015625)\"/>\n        <path id=\"DejaVuSans-61\" d=\"M 2194 1759 \nQ 1497 1759 1228 1600 \nQ 959 1441 959 1056 \nQ 959 750 1161 570 \nQ 1363 391 1709 391 \nQ 2188 391 2477 730 \nQ 2766 1069 2766 1631 \nL 2766 1759 \nL 2194 1759 \nz\nM 3341 1997 \nL 3341 0 \nL 2766 0 \nL 2766 531 \nQ 2569 213 2275 61 \nQ 1981 -91 1556 -91 \nQ 1019 -91 701 211 \nQ 384 513 384 1019 \nQ 384 1609 779 1909 \nQ 1175 2209 1959 2209 \nL 2766 2209 \nL 2766 2266 \nQ 2766 2663 2505 2880 \nQ 2244 3097 1772 3097 \nQ 1472 3097 1187 3025 \nQ 903 2953 641 2809 \nL 641 3341 \nQ 956 3463 1253 3523 \nQ 1550 3584 1831 3584 \nQ 2591 3584 2966 3190 \nQ 3341 2797 3341 1997 \nz\n\" transform=\"scale(0.015625)\"/>\n       </defs>\n       <use xlink:href=\"#DejaVuSans-42\"/>\n       <use xlink:href=\"#DejaVuSans-2d\" x=\"68.603516\"/>\n       <use xlink:href=\"#DejaVuSans-6e\" x=\"104.6875\"/>\n       <use xlink:href=\"#DejaVuSans-61\" x=\"168.066406\"/>\n       <use xlink:href=\"#DejaVuSans-74\" x=\"229.345703\"/>\n      </g>\n     </g>\n    </g>\n    <g id=\"xtick_7\">\n     <g id=\"text_7\">\n      <!-- B-eve -->\n      <g style=\"fill: #555555\" transform=\"translate(879.199687 327.803125) rotate(-90) scale(0.11 -0.11)\">\n       <defs>\n        <path id=\"DejaVuSans-76\" d=\"M 191 3500 \nL 800 3500 \nL 1894 563 \nL 2988 3500 \nL 3597 3500 \nL 2284 0 \nL 1503 0 \nL 191 3500 \nz\n\" transform=\"scale(0.015625)\"/>\n       </defs>\n       <use xlink:href=\"#DejaVuSans-42\"/>\n       <use xlink:href=\"#DejaVuSans-2d\" x=\"68.603516\"/>\n       <use xlink:href=\"#DejaVuSans-65\" x=\"104.6875\"/>\n       <use xlink:href=\"#DejaVuSans-76\" x=\"166.210938\"/>\n       <use xlink:href=\"#DejaVuSans-65\" x=\"225.390625\"/>\n      </g>\n     </g>\n    </g>\n    <g id=\"xtick_8\">\n     <g id=\"text_8\">\n      <!-- B-art -->\n      <g style=\"fill: #555555\" transform=\"translate(1004.715937 323.330937) rotate(-90) scale(0.11 -0.11)\">\n       <use xlink:href=\"#DejaVuSans-42\"/>\n       <use xlink:href=\"#DejaVuSans-2d\" x=\"68.603516\"/>\n       <use xlink:href=\"#DejaVuSans-61\" x=\"104.6875\"/>\n       <use xlink:href=\"#DejaVuSans-72\" x=\"165.966797\"/>\n       <use xlink:href=\"#DejaVuSans-74\" x=\"207.080078\"/>\n      </g>\n     </g>\n    </g>\n    <g id=\"text_9\">\n     <!-- Tag -->\n     <g style=\"fill: #555555\" transform=\"translate(552.213125 341.60875) scale(0.12 -0.12)\">\n      <defs>\n       <path id=\"DejaVuSans-54\" d=\"M -19 4666 \nL 3928 4666 \nL 3928 4134 \nL 2272 4134 \nL 2272 0 \nL 1638 0 \nL 1638 4134 \nL -19 4134 \nL -19 4666 \nz\n\" transform=\"scale(0.015625)\"/>\n      </defs>\n      <use xlink:href=\"#DejaVuSans-54\"/>\n      <use xlink:href=\"#DejaVuSans-61\" x=\"44.583984\"/>\n      <use xlink:href=\"#DejaVuSans-67\" x=\"105.863281\"/>\n     </g>\n    </g>\n   </g>\n   <g id=\"matplotlib.axis_2\">\n    <g id=\"ytick_1\">\n     <g id=\"line2d_1\">\n      <path d=\"M 60.30875 286.74 \nL 1064.43875 286.74 \n\" clip-path=\"url(#p03d9f494f2)\" style=\"fill: none; stroke: #ffffff; stroke-linecap: round\"/>\n     </g>\n     <g id=\"text_10\">\n      <!-- 0 -->\n      <g style=\"fill: #555555\" transform=\"translate(43.81 290.919141) scale(0.11 -0.11)\">\n       <defs>\n        <path id=\"DejaVuSans-30\" d=\"M 2034 4250 \nQ 1547 4250 1301 3770 \nQ 1056 3291 1056 2328 \nQ 1056 1369 1301 889 \nQ 1547 409 2034 409 \nQ 2525 409 2770 889 \nQ 3016 1369 3016 2328 \nQ 3016 3291 2770 3770 \nQ 2525 4250 2034 4250 \nz\nM 2034 4750 \nQ 2819 4750 3233 4129 \nQ 3647 3509 3647 2328 \nQ 3647 1150 3233 529 \nQ 2819 -91 2034 -91 \nQ 1250 -91 836 529 \nQ 422 1150 422 2328 \nQ 422 3509 836 4129 \nQ 1250 4750 2034 4750 \nz\n\" transform=\"scale(0.015625)\"/>\n       </defs>\n       <use xlink:href=\"#DejaVuSans-30\"/>\n      </g>\n     </g>\n    </g>\n    <g id=\"ytick_2\">\n     <g id=\"line2d_2\">\n      <path d=\"M 60.30875 253.618754 \nL 1064.43875 253.618754 \n\" clip-path=\"url(#p03d9f494f2)\" style=\"fill: none; stroke: #ffffff; stroke-linecap: round\"/>\n     </g>\n     <g id=\"text_11\">\n      <!-- 500 -->\n      <g style=\"fill: #555555\" transform=\"translate(29.8125 257.797895) scale(0.11 -0.11)\">\n       <defs>\n        <path id=\"DejaVuSans-35\" d=\"M 691 4666 \nL 3169 4666 \nL 3169 4134 \nL 1269 4134 \nL 1269 2991 \nQ 1406 3038 1543 3061 \nQ 1681 3084 1819 3084 \nQ 2600 3084 3056 2656 \nQ 3513 2228 3513 1497 \nQ 3513 744 3044 326 \nQ 2575 -91 1722 -91 \nQ 1428 -91 1123 -41 \nQ 819 9 494 109 \nL 494 744 \nQ 775 591 1075 516 \nQ 1375 441 1709 441 \nQ 2250 441 2565 725 \nQ 2881 1009 2881 1497 \nQ 2881 1984 2565 2268 \nQ 2250 2553 1709 2553 \nQ 1456 2553 1204 2497 \nQ 953 2441 691 2322 \nL 691 4666 \nz\n\" transform=\"scale(0.015625)\"/>\n       </defs>\n       <use xlink:href=\"#DejaVuSans-35\"/>\n       <use xlink:href=\"#DejaVuSans-30\" x=\"63.623047\"/>\n       <use xlink:href=\"#DejaVuSans-30\" x=\"127.246094\"/>\n      </g>\n     </g>\n    </g>\n    <g id=\"ytick_3\">\n     <g id=\"line2d_3\">\n      <path d=\"M 60.30875 220.497509 \nL 1064.43875 220.497509 \n\" clip-path=\"url(#p03d9f494f2)\" style=\"fill: none; stroke: #ffffff; stroke-linecap: round\"/>\n     </g>\n     <g id=\"text_12\">\n      <!-- 1000 -->\n      <g style=\"fill: #555555\" transform=\"translate(22.81375 224.67665) scale(0.11 -0.11)\">\n       <defs>\n        <path id=\"DejaVuSans-31\" d=\"M 794 531 \nL 1825 531 \nL 1825 4091 \nL 703 3866 \nL 703 4441 \nL 1819 4666 \nL 2450 4666 \nL 2450 531 \nL 3481 531 \nL 3481 0 \nL 794 0 \nL 794 531 \nz\n\" transform=\"scale(0.015625)\"/>\n       </defs>\n       <use xlink:href=\"#DejaVuSans-31\"/>\n       <use xlink:href=\"#DejaVuSans-30\" x=\"63.623047\"/>\n       <use xlink:href=\"#DejaVuSans-30\" x=\"127.246094\"/>\n       <use xlink:href=\"#DejaVuSans-30\" x=\"190.869141\"/>\n      </g>\n     </g>\n    </g>\n    <g id=\"ytick_4\">\n     <g id=\"line2d_4\">\n      <path d=\"M 60.30875 187.376263 \nL 1064.43875 187.376263 \n\" clip-path=\"url(#p03d9f494f2)\" style=\"fill: none; stroke: #ffffff; stroke-linecap: round\"/>\n     </g>\n     <g id=\"text_13\">\n      <!-- 1500 -->\n      <g style=\"fill: #555555\" transform=\"translate(22.81375 191.555404) scale(0.11 -0.11)\">\n       <use xlink:href=\"#DejaVuSans-31\"/>\n       <use xlink:href=\"#DejaVuSans-35\" x=\"63.623047\"/>\n       <use xlink:href=\"#DejaVuSans-30\" x=\"127.246094\"/>\n       <use xlink:href=\"#DejaVuSans-30\" x=\"190.869141\"/>\n      </g>\n     </g>\n    </g>\n    <g id=\"ytick_5\">\n     <g id=\"line2d_5\">\n      <path d=\"M 60.30875 154.255018 \nL 1064.43875 154.255018 \n\" clip-path=\"url(#p03d9f494f2)\" style=\"fill: none; stroke: #ffffff; stroke-linecap: round\"/>\n     </g>\n     <g id=\"text_14\">\n      <!-- 2000 -->\n      <g style=\"fill: #555555\" transform=\"translate(22.81375 158.434159) scale(0.11 -0.11)\">\n       <defs>\n        <path id=\"DejaVuSans-32\" d=\"M 1228 531 \nL 3431 531 \nL 3431 0 \nL 469 0 \nL 469 531 \nQ 828 903 1448 1529 \nQ 2069 2156 2228 2338 \nQ 2531 2678 2651 2914 \nQ 2772 3150 2772 3378 \nQ 2772 3750 2511 3984 \nQ 2250 4219 1831 4219 \nQ 1534 4219 1204 4116 \nQ 875 4013 500 3803 \nL 500 4441 \nQ 881 4594 1212 4672 \nQ 1544 4750 1819 4750 \nQ 2544 4750 2975 4387 \nQ 3406 4025 3406 3419 \nQ 3406 3131 3298 2873 \nQ 3191 2616 2906 2266 \nQ 2828 2175 2409 1742 \nQ 1991 1309 1228 531 \nz\n\" transform=\"scale(0.015625)\"/>\n       </defs>\n       <use xlink:href=\"#DejaVuSans-32\"/>\n       <use xlink:href=\"#DejaVuSans-30\" x=\"63.623047\"/>\n       <use xlink:href=\"#DejaVuSans-30\" x=\"127.246094\"/>\n       <use xlink:href=\"#DejaVuSans-30\" x=\"190.869141\"/>\n      </g>\n     </g>\n    </g>\n    <g id=\"ytick_6\">\n     <g id=\"line2d_6\">\n      <path d=\"M 60.30875 121.133772 \nL 1064.43875 121.133772 \n\" clip-path=\"url(#p03d9f494f2)\" style=\"fill: none; stroke: #ffffff; stroke-linecap: round\"/>\n     </g>\n     <g id=\"text_15\">\n      <!-- 2500 -->\n      <g style=\"fill: #555555\" transform=\"translate(22.81375 125.312913) scale(0.11 -0.11)\">\n       <use xlink:href=\"#DejaVuSans-32\"/>\n       <use xlink:href=\"#DejaVuSans-35\" x=\"63.623047\"/>\n       <use xlink:href=\"#DejaVuSans-30\" x=\"127.246094\"/>\n       <use xlink:href=\"#DejaVuSans-30\" x=\"190.869141\"/>\n      </g>\n     </g>\n    </g>\n    <g id=\"ytick_7\">\n     <g id=\"line2d_7\">\n      <path d=\"M 60.30875 88.012527 \nL 1064.43875 88.012527 \n\" clip-path=\"url(#p03d9f494f2)\" style=\"fill: none; stroke: #ffffff; stroke-linecap: round\"/>\n     </g>\n     <g id=\"text_16\">\n      <!-- 3000 -->\n      <g style=\"fill: #555555\" transform=\"translate(22.81375 92.191668) scale(0.11 -0.11)\">\n       <defs>\n        <path id=\"DejaVuSans-33\" d=\"M 2597 2516 \nQ 3050 2419 3304 2112 \nQ 3559 1806 3559 1356 \nQ 3559 666 3084 287 \nQ 2609 -91 1734 -91 \nQ 1441 -91 1130 -33 \nQ 819 25 488 141 \nL 488 750 \nQ 750 597 1062 519 \nQ 1375 441 1716 441 \nQ 2309 441 2620 675 \nQ 2931 909 2931 1356 \nQ 2931 1769 2642 2001 \nQ 2353 2234 1838 2234 \nL 1294 2234 \nL 1294 2753 \nL 1863 2753 \nQ 2328 2753 2575 2939 \nQ 2822 3125 2822 3475 \nQ 2822 3834 2567 4026 \nQ 2313 4219 1838 4219 \nQ 1578 4219 1281 4162 \nQ 984 4106 628 3988 \nL 628 4550 \nQ 988 4650 1302 4700 \nQ 1616 4750 1894 4750 \nQ 2613 4750 3031 4423 \nQ 3450 4097 3450 3541 \nQ 3450 3153 3228 2886 \nQ 3006 2619 2597 2516 \nz\n\" transform=\"scale(0.015625)\"/>\n       </defs>\n       <use xlink:href=\"#DejaVuSans-33\"/>\n       <use xlink:href=\"#DejaVuSans-30\" x=\"63.623047\"/>\n       <use xlink:href=\"#DejaVuSans-30\" x=\"127.246094\"/>\n       <use xlink:href=\"#DejaVuSans-30\" x=\"190.869141\"/>\n      </g>\n     </g>\n    </g>\n    <g id=\"ytick_8\">\n     <g id=\"line2d_8\">\n      <path d=\"M 60.30875 54.891281 \nL 1064.43875 54.891281 \n\" clip-path=\"url(#p03d9f494f2)\" style=\"fill: none; stroke: #ffffff; stroke-linecap: round\"/>\n     </g>\n     <g id=\"text_17\">\n      <!-- 3500 -->\n      <g style=\"fill: #555555\" transform=\"translate(22.81375 59.070422) scale(0.11 -0.11)\">\n       <use xlink:href=\"#DejaVuSans-33\"/>\n       <use xlink:href=\"#DejaVuSans-35\" x=\"63.623047\"/>\n       <use xlink:href=\"#DejaVuSans-30\" x=\"127.246094\"/>\n       <use xlink:href=\"#DejaVuSans-30\" x=\"190.869141\"/>\n      </g>\n     </g>\n    </g>\n    <g id=\"ytick_9\">\n     <g id=\"line2d_9\">\n      <path d=\"M 60.30875 21.770036 \nL 1064.43875 21.770036 \n\" clip-path=\"url(#p03d9f494f2)\" style=\"fill: none; stroke: #ffffff; stroke-linecap: round\"/>\n     </g>\n     <g id=\"text_18\">\n      <!-- 4000 -->\n      <g style=\"fill: #555555\" transform=\"translate(22.81375 25.949177) scale(0.11 -0.11)\">\n       <defs>\n        <path id=\"DejaVuSans-34\" d=\"M 2419 4116 \nL 825 1625 \nL 2419 1625 \nL 2419 4116 \nz\nM 2253 4666 \nL 3047 4666 \nL 3047 1625 \nL 3713 1625 \nL 3713 1100 \nL 3047 1100 \nL 3047 0 \nL 2419 0 \nL 2419 1100 \nL 313 1100 \nL 313 1709 \nL 2253 4666 \nz\n\" transform=\"scale(0.015625)\"/>\n       </defs>\n       <use xlink:href=\"#DejaVuSans-34\"/>\n       <use xlink:href=\"#DejaVuSans-30\" x=\"63.623047\"/>\n       <use xlink:href=\"#DejaVuSans-30\" x=\"127.246094\"/>\n       <use xlink:href=\"#DejaVuSans-30\" x=\"190.869141\"/>\n      </g>\n     </g>\n    </g>\n    <g id=\"text_19\">\n     <!-- count -->\n     <g style=\"fill: #555555\" transform=\"translate(16.318125 163.8975) rotate(-90) scale(0.12 -0.12)\">\n      <defs>\n       <path id=\"DejaVuSans-63\" d=\"M 3122 3366 \nL 3122 2828 \nQ 2878 2963 2633 3030 \nQ 2388 3097 2138 3097 \nQ 1578 3097 1268 2742 \nQ 959 2388 959 1747 \nQ 959 1106 1268 751 \nQ 1578 397 2138 397 \nQ 2388 397 2633 464 \nQ 2878 531 3122 666 \nL 3122 134 \nQ 2881 22 2623 -34 \nQ 2366 -91 2075 -91 \nQ 1284 -91 818 406 \nQ 353 903 353 1747 \nQ 353 2603 823 3093 \nQ 1294 3584 2113 3584 \nQ 2378 3584 2631 3529 \nQ 2884 3475 3122 3366 \nz\n\" transform=\"scale(0.015625)\"/>\n       <path id=\"DejaVuSans-75\" d=\"M 544 1381 \nL 544 3500 \nL 1119 3500 \nL 1119 1403 \nQ 1119 906 1312 657 \nQ 1506 409 1894 409 \nQ 2359 409 2629 706 \nQ 2900 1003 2900 1516 \nL 2900 3500 \nL 3475 3500 \nL 3475 0 \nL 2900 0 \nL 2900 538 \nQ 2691 219 2414 64 \nQ 2138 -91 1772 -91 \nQ 1169 -91 856 284 \nQ 544 659 544 1381 \nz\nM 1991 3584 \nL 1991 3584 \nz\n\" transform=\"scale(0.015625)\"/>\n      </defs>\n      <use xlink:href=\"#DejaVuSans-63\"/>\n      <use xlink:href=\"#DejaVuSans-6f\" x=\"54.980469\"/>\n      <use xlink:href=\"#DejaVuSans-75\" x=\"116.162109\"/>\n      <use xlink:href=\"#DejaVuSans-6e\" x=\"179.541016\"/>\n      <use xlink:href=\"#DejaVuSans-74\" x=\"242.919922\"/>\n     </g>\n    </g>\n   </g>\n   <g id=\"patch_3\">\n    <path d=\"M 72.860375 286.74 \nL 173.273375 286.74 \nL 173.273375 88.741194 \nL 72.860375 88.741194 \nz\n\" clip-path=\"url(#p03d9f494f2)\" style=\"fill: #ea96a3; stroke: #eeeeee; stroke-width: 0.5; stroke-linejoin: miter\"/>\n   </g>\n   <g id=\"patch_4\">\n    <path d=\"M 198.376625 286.74 \nL 298.789625 286.74 \nL 298.789625 65.821292 \nL 198.376625 65.821292 \nz\n\" clip-path=\"url(#p03d9f494f2)\" style=\"fill: #ca984c; stroke: #eeeeee; stroke-width: 0.5; stroke-linejoin: miter\"/>\n   </g>\n   <g id=\"patch_5\">\n    <path d=\"M 323.892875 286.74 \nL 424.305875 286.74 \nL 424.305875 20.511429 \nL 323.892875 20.511429 \nz\n\" clip-path=\"url(#p03d9f494f2)\" style=\"fill: #98a246; stroke: #eeeeee; stroke-width: 0.5; stroke-linejoin: miter\"/>\n   </g>\n   <g id=\"patch_6\">\n    <path d=\"M 449.409125 286.74 \nL 549.822125 286.74 \nL 549.822125 104.440665 \nL 449.409125 104.440665 \nz\n\" clip-path=\"url(#p03d9f494f2)\" style=\"fill: #49af72; stroke: #eeeeee; stroke-width: 0.5; stroke-linejoin: miter\"/>\n   </g>\n   <g id=\"patch_7\">\n    <path d=\"M 574.925375 286.74 \nL 675.338375 286.74 \nL 675.338375 252.625117 \nL 574.925375 252.625117 \nz\n\" clip-path=\"url(#p03d9f494f2)\" style=\"fill: #4baba4; stroke: #eeeeee; stroke-width: 0.5; stroke-linejoin: miter\"/>\n   </g>\n   <g id=\"patch_8\">\n    <path d=\"M 700.441625 286.74 \nL 800.854625 286.74 \nL 800.854625 286.011333 \nL 700.441625 286.011333 \nz\n\" clip-path=\"url(#p03d9f494f2)\" style=\"fill: #53accd; stroke: #eeeeee; stroke-width: 0.5; stroke-linejoin: miter\"/>\n   </g>\n   <g id=\"patch_9\">\n    <path d=\"M 825.957875 286.74 \nL 926.370875 286.74 \nL 926.370875 286.077575 \nL 825.957875 286.077575 \nz\n\" clip-path=\"url(#p03d9f494f2)\" style=\"fill: #b6a8eb; stroke: #eeeeee; stroke-width: 0.5; stroke-linejoin: miter\"/>\n   </g>\n   <g id=\"patch_10\">\n    <path d=\"M 951.474125 286.74 \nL 1051.887125 286.74 \nL 1051.887125 285.547635 \nL 951.474125 285.547635 \nz\n\" clip-path=\"url(#p03d9f494f2)\" style=\"fill: #e78cd7; stroke: #eeeeee; stroke-width: 0.5; stroke-linejoin: miter\"/>\n   </g>\n   <g id=\"patch_11\">\n    <path d=\"M 60.30875 286.74 \nL 60.30875 7.2 \n\" style=\"fill: none; stroke: #ffffff; stroke-linejoin: miter; stroke-linecap: square\"/>\n   </g>\n   <g id=\"patch_12\">\n    <path d=\"M 1064.43875 286.74 \nL 1064.43875 7.2 \n\" style=\"fill: none; stroke: #ffffff; stroke-linejoin: miter; stroke-linecap: square\"/>\n   </g>\n   <g id=\"patch_13\">\n    <path d=\"M 60.30875 286.74 \nL 1064.43875 286.74 \n\" style=\"fill: none; stroke: #ffffff; stroke-linejoin: miter; stroke-linecap: square\"/>\n   </g>\n   <g id=\"patch_14\">\n    <path d=\"M 60.30875 7.2 \nL 1064.43875 7.2 \n\" style=\"fill: none; stroke: #ffffff; stroke-linejoin: miter; stroke-linecap: square\"/>\n   </g>\n  </g>\n </g>\n <defs>\n  <clipPath id=\"p03d9f494f2\">\n   <rect x=\"60.30875\" y=\"7.2\" width=\"1004.13\" height=\"279.54\"/>\n  </clipPath>\n </defs>\n</svg>\n"
          },
          "metadata": {}
        }
      ]
    },
    {
      "cell_type": "markdown",
      "source": [
        "So our dataset mostly contains words related to geopolitical entities, geographical locations and person names."
      ],
      "metadata": {
        "id": "JqonUzBDDeUA"
      }
    },
    {
      "cell_type": "code",
      "source": [
        "#Words distribution across POS\n",
        "plt.figure(figsize=(15, 5))\n",
        "ax = sns.countplot(x='POS', data=data, orient='h')\n",
        "ax.set_xticklabels(ax.get_xticklabels(), rotation=90, ha=\"center\")\n",
        "plt.tight_layout()\n",
        "plt.show()"
      ],
      "metadata": {
        "colab": {
          "base_uri": "https://localhost:8080/",
          "height": 509
        },
        "id": "GVDe9XQIArK7",
        "outputId": "0f366b19-3346-4b14-a104-9ef77604545e"
      },
      "execution_count": null,
      "outputs": [
        {
          "output_type": "display_data",
          "data": {
            "text/plain": [
              "<Figure size 1500x500 with 1 Axes>"
            ],
            "image/svg+xml": "<?xml version=\"1.0\" encoding=\"utf-8\" standalone=\"no\"?>\n<!DOCTYPE svg PUBLIC \"-//W3C//DTD SVG 1.1//EN\"\n  \"http://www.w3.org/Graphics/SVG/1.1/DTD/svg11.dtd\">\n<svg xmlns:xlink=\"http://www.w3.org/1999/xlink\" width=\"1071.7975pt\" height=\"351.468437pt\" viewBox=\"0 0 1071.7975 351.468437\" xmlns=\"http://www.w3.org/2000/svg\" version=\"1.1\">\n <metadata>\n  <rdf:RDF xmlns:dc=\"http://purl.org/dc/elements/1.1/\" xmlns:cc=\"http://creativecommons.org/ns#\" xmlns:rdf=\"http://www.w3.org/1999/02/22-rdf-syntax-ns#\">\n   <cc:Work>\n    <dc:type rdf:resource=\"http://purl.org/dc/dcmitype/StillImage\"/>\n    <dc:date>2023-05-08T19:42:14.630328</dc:date>\n    <dc:format>image/svg+xml</dc:format>\n    <dc:creator>\n     <cc:Agent>\n      <dc:title>Matplotlib v3.7.1, https://matplotlib.org/</dc:title>\n     </cc:Agent>\n    </dc:creator>\n   </cc:Work>\n  </rdf:RDF>\n </metadata>\n <defs>\n  <style type=\"text/css\">*{stroke-linejoin: round; stroke-linecap: butt}</style>\n </defs>\n <g id=\"figure_1\">\n  <g id=\"patch_1\">\n   <path d=\"M 0 351.468437 \nL 1071.7975 351.468437 \nL 1071.7975 0 \nL 0 0 \nz\n\" style=\"fill: #ffffff\"/>\n  </g>\n  <g id=\"axes_1\">\n   <g id=\"patch_2\">\n    <path d=\"M 67.3075 289.08 \nL 1064.5975 289.08 \nL 1064.5975 7.2 \nL 67.3075 7.2 \nz\n\" style=\"fill: #e5e5e5\"/>\n   </g>\n   <g id=\"matplotlib.axis_1\">\n    <g id=\"xtick_1\">\n     <g id=\"text_1\">\n      <!-- NNS -->\n      <g style=\"fill: #555555\" transform=\"translate(86.964313 322.022031) rotate(-90) scale(0.11 -0.11)\">\n       <defs>\n        <path id=\"DejaVuSans-4e\" d=\"M 628 4666 \nL 1478 4666 \nL 3547 763 \nL 3547 4666 \nL 4159 4666 \nL 4159 0 \nL 3309 0 \nL 1241 3903 \nL 1241 0 \nL 628 0 \nL 628 4666 \nz\n\" transform=\"scale(0.015625)\"/>\n        <path id=\"DejaVuSans-53\" d=\"M 3425 4513 \nL 3425 3897 \nQ 3066 4069 2747 4153 \nQ 2428 4238 2131 4238 \nQ 1616 4238 1336 4038 \nQ 1056 3838 1056 3469 \nQ 1056 3159 1242 3001 \nQ 1428 2844 1947 2747 \nL 2328 2669 \nQ 3034 2534 3370 2195 \nQ 3706 1856 3706 1288 \nQ 3706 609 3251 259 \nQ 2797 -91 1919 -91 \nQ 1588 -91 1214 -16 \nQ 841 59 441 206 \nL 441 856 \nQ 825 641 1194 531 \nQ 1563 422 1919 422 \nQ 2459 422 2753 634 \nQ 3047 847 3047 1241 \nQ 3047 1584 2836 1778 \nQ 2625 1972 2144 2069 \nL 1759 2144 \nQ 1053 2284 737 2584 \nQ 422 2884 422 3419 \nQ 422 4038 858 4394 \nQ 1294 4750 2059 4750 \nQ 2388 4750 2728 4690 \nQ 3069 4631 3425 4513 \nz\n\" transform=\"scale(0.015625)\"/>\n       </defs>\n       <use xlink:href=\"#DejaVuSans-4e\"/>\n       <use xlink:href=\"#DejaVuSans-4e\" x=\"74.804688\"/>\n       <use xlink:href=\"#DejaVuSans-53\" x=\"149.609375\"/>\n      </g>\n     </g>\n    </g>\n    <g id=\"xtick_2\">\n     <g id=\"text_2\">\n      <!-- PRP -->\n      <g style=\"fill: #555555\" transform=\"translate(120.207313 319.488594) rotate(-90) scale(0.11 -0.11)\">\n       <defs>\n        <path id=\"DejaVuSans-50\" d=\"M 1259 4147 \nL 1259 2394 \nL 2053 2394 \nQ 2494 2394 2734 2622 \nQ 2975 2850 2975 3272 \nQ 2975 3691 2734 3919 \nQ 2494 4147 2053 4147 \nL 1259 4147 \nz\nM 628 4666 \nL 2053 4666 \nQ 2838 4666 3239 4311 \nQ 3641 3956 3641 3272 \nQ 3641 2581 3239 2228 \nQ 2838 1875 2053 1875 \nL 1259 1875 \nL 1259 0 \nL 628 0 \nL 628 4666 \nz\n\" transform=\"scale(0.015625)\"/>\n        <path id=\"DejaVuSans-52\" d=\"M 2841 2188 \nQ 3044 2119 3236 1894 \nQ 3428 1669 3622 1275 \nL 4263 0 \nL 3584 0 \nL 2988 1197 \nQ 2756 1666 2539 1819 \nQ 2322 1972 1947 1972 \nL 1259 1972 \nL 1259 0 \nL 628 0 \nL 628 4666 \nL 2053 4666 \nQ 2853 4666 3247 4331 \nQ 3641 3997 3641 3322 \nQ 3641 2881 3436 2590 \nQ 3231 2300 2841 2188 \nz\nM 1259 4147 \nL 1259 2491 \nL 2053 2491 \nQ 2509 2491 2742 2702 \nQ 2975 2913 2975 3322 \nQ 2975 3731 2742 3939 \nQ 2509 4147 2053 4147 \nL 1259 4147 \nz\n\" transform=\"scale(0.015625)\"/>\n       </defs>\n       <use xlink:href=\"#DejaVuSans-50\"/>\n       <use xlink:href=\"#DejaVuSans-52\" x=\"60.302734\"/>\n       <use xlink:href=\"#DejaVuSans-50\" x=\"129.785156\"/>\n      </g>\n     </g>\n    </g>\n    <g id=\"xtick_3\">\n     <g id=\"text_3\">\n      <!-- DT -->\n      <g style=\"fill: #555555\" transform=\"translate(153.450313 313.768594) rotate(-90) scale(0.11 -0.11)\">\n       <defs>\n        <path id=\"DejaVuSans-44\" d=\"M 1259 4147 \nL 1259 519 \nL 2022 519 \nQ 2988 519 3436 956 \nQ 3884 1394 3884 2338 \nQ 3884 3275 3436 3711 \nQ 2988 4147 2022 4147 \nL 1259 4147 \nz\nM 628 4666 \nL 1925 4666 \nQ 3281 4666 3915 4102 \nQ 4550 3538 4550 2338 \nQ 4550 1131 3912 565 \nQ 3275 0 1925 0 \nL 628 0 \nL 628 4666 \nz\n\" transform=\"scale(0.015625)\"/>\n        <path id=\"DejaVuSans-54\" d=\"M -19 4666 \nL 3928 4666 \nL 3928 4134 \nL 2272 4134 \nL 2272 0 \nL 1638 0 \nL 1638 4134 \nL -19 4134 \nL -19 4666 \nz\n\" transform=\"scale(0.015625)\"/>\n       </defs>\n       <use xlink:href=\"#DejaVuSans-44\"/>\n       <use xlink:href=\"#DejaVuSans-54\" x=\"77.001953\"/>\n      </g>\n     </g>\n    </g>\n    <g id=\"xtick_4\">\n     <g id=\"text_4\">\n      <!-- NNP -->\n      <g style=\"fill: #555555\" transform=\"translate(186.693313 321.671406) rotate(-90) scale(0.11 -0.11)\">\n       <use xlink:href=\"#DejaVuSans-4e\"/>\n       <use xlink:href=\"#DejaVuSans-4e\" x=\"74.804688\"/>\n       <use xlink:href=\"#DejaVuSans-50\" x=\"149.609375\"/>\n      </g>\n     </g>\n    </g>\n    <g id=\"xtick_5\">\n     <g id=\"text_5\">\n      <!-- JJ -->\n      <g style=\"fill: #555555\" transform=\"translate(219.936313 305.07) rotate(-90) scale(0.11 -0.11)\">\n       <defs>\n        <path id=\"DejaVuSans-4a\" d=\"M 628 4666 \nL 1259 4666 \nL 1259 325 \nQ 1259 -519 939 -900 \nQ 619 -1281 -91 -1281 \nL -331 -1281 \nL -331 -750 \nL -134 -750 \nQ 284 -750 456 -515 \nQ 628 -281 628 325 \nL 628 4666 \nz\n\" transform=\"scale(0.015625)\"/>\n       </defs>\n       <use xlink:href=\"#DejaVuSans-4a\"/>\n       <use xlink:href=\"#DejaVuSans-4a\" x=\"29.492188\"/>\n      </g>\n     </g>\n    </g>\n    <g id=\"xtick_6\">\n     <g id=\"text_6\">\n      <!-- CD -->\n      <g style=\"fill: #555555\" transform=\"translate(253.179313 314.731094) rotate(-90) scale(0.11 -0.11)\">\n       <defs>\n        <path id=\"DejaVuSans-43\" d=\"M 4122 4306 \nL 4122 3641 \nQ 3803 3938 3442 4084 \nQ 3081 4231 2675 4231 \nQ 1875 4231 1450 3742 \nQ 1025 3253 1025 2328 \nQ 1025 1406 1450 917 \nQ 1875 428 2675 428 \nQ 3081 428 3442 575 \nQ 3803 722 4122 1019 \nL 4122 359 \nQ 3791 134 3420 21 \nQ 3050 -91 2638 -91 \nQ 1578 -91 968 557 \nQ 359 1206 359 2328 \nQ 359 3453 968 4101 \nQ 1578 4750 2638 4750 \nQ 3056 4750 3426 4639 \nQ 3797 4528 4122 4306 \nz\n\" transform=\"scale(0.015625)\"/>\n       </defs>\n       <use xlink:href=\"#DejaVuSans-43\"/>\n       <use xlink:href=\"#DejaVuSans-44\" x=\"69.824219\"/>\n      </g>\n     </g>\n    </g>\n    <g id=\"xtick_7\">\n     <g id=\"text_7\">\n      <!-- IN -->\n      <g style=\"fill: #555555\" transform=\"translate(286.422313 310.054375) rotate(-90) scale(0.11 -0.11)\">\n       <defs>\n        <path id=\"DejaVuSans-49\" d=\"M 628 4666 \nL 1259 4666 \nL 1259 0 \nL 628 0 \nL 628 4666 \nz\n\" transform=\"scale(0.015625)\"/>\n       </defs>\n       <use xlink:href=\"#DejaVuSans-49\"/>\n       <use xlink:href=\"#DejaVuSans-4e\" x=\"29.492188\"/>\n      </g>\n     </g>\n    </g>\n    <g id=\"xtick_8\">\n     <g id=\"text_8\">\n      <!-- PRP$ -->\n      <g style=\"fill: #555555\" transform=\"translate(319.665312 326.487344) rotate(-90) scale(0.11 -0.11)\">\n       <defs>\n        <path id=\"DejaVuSans-24\" d=\"M 2163 -941 \nL 1850 -941 \nL 1847 0 \nQ 1519 6 1191 76 \nQ 863 147 531 288 \nL 531 850 \nQ 850 650 1176 548 \nQ 1503 447 1850 444 \nL 1850 1869 \nQ 1159 1981 845 2250 \nQ 531 2519 531 2988 \nQ 531 3497 872 3790 \nQ 1213 4084 1850 4128 \nL 1850 4863 \nL 2163 4863 \nL 2163 4138 \nQ 2453 4125 2725 4076 \nQ 2997 4028 3256 3944 \nL 3256 3397 \nQ 2997 3528 2723 3600 \nQ 2450 3672 2163 3684 \nL 2163 2350 \nQ 2872 2241 3206 1959 \nQ 3541 1678 3541 1191 \nQ 3541 663 3186 358 \nQ 2831 53 2163 6 \nL 2163 -941 \nz\nM 1850 2406 \nL 1850 3688 \nQ 1488 3647 1297 3481 \nQ 1106 3316 1106 3041 \nQ 1106 2772 1282 2622 \nQ 1459 2472 1850 2406 \nz\nM 2163 1806 \nL 2163 453 \nQ 2559 506 2761 678 \nQ 2963 850 2963 1131 \nQ 2963 1406 2770 1568 \nQ 2578 1731 2163 1806 \nz\n\" transform=\"scale(0.015625)\"/>\n       </defs>\n       <use xlink:href=\"#DejaVuSans-50\"/>\n       <use xlink:href=\"#DejaVuSans-52\" x=\"60.302734\"/>\n       <use xlink:href=\"#DejaVuSans-50\" x=\"129.785156\"/>\n       <use xlink:href=\"#DejaVuSans-24\" x=\"190.087891\"/>\n      </g>\n     </g>\n    </g>\n    <g id=\"xtick_9\">\n     <g id=\"text_9\">\n      <!-- CC -->\n      <g style=\"fill: #555555\" transform=\"translate(352.908313 313.942187) rotate(-90) scale(0.11 -0.11)\">\n       <use xlink:href=\"#DejaVuSans-43\"/>\n       <use xlink:href=\"#DejaVuSans-43\" x=\"69.824219\"/>\n      </g>\n     </g>\n    </g>\n    <g id=\"xtick_10\">\n     <g id=\"text_10\">\n      <!-- WRB -->\n      <g style=\"fill: #555555\" transform=\"translate(386.151312 324.646563) rotate(-90) scale(0.11 -0.11)\">\n       <defs>\n        <path id=\"DejaVuSans-57\" d=\"M 213 4666 \nL 850 4666 \nL 1831 722 \nL 2809 4666 \nL 3519 4666 \nL 4500 722 \nL 5478 4666 \nL 6119 4666 \nL 4947 0 \nL 4153 0 \nL 3169 4050 \nL 2175 0 \nL 1381 0 \nL 213 4666 \nz\n\" transform=\"scale(0.015625)\"/>\n        <path id=\"DejaVuSans-42\" d=\"M 1259 2228 \nL 1259 519 \nL 2272 519 \nQ 2781 519 3026 730 \nQ 3272 941 3272 1375 \nQ 3272 1813 3026 2020 \nQ 2781 2228 2272 2228 \nL 1259 2228 \nz\nM 1259 4147 \nL 1259 2741 \nL 2194 2741 \nQ 2656 2741 2882 2914 \nQ 3109 3088 3109 3444 \nQ 3109 3797 2882 3972 \nQ 2656 4147 2194 4147 \nL 1259 4147 \nz\nM 628 4666 \nL 2241 4666 \nQ 2963 4666 3353 4366 \nQ 3744 4066 3744 3513 \nQ 3744 3084 3544 2831 \nQ 3344 2578 2956 2516 \nQ 3422 2416 3680 2098 \nQ 3938 1781 3938 1306 \nQ 3938 681 3513 340 \nQ 3088 0 2303 0 \nL 628 0 \nL 628 4666 \nz\n\" transform=\"scale(0.015625)\"/>\n       </defs>\n       <use xlink:href=\"#DejaVuSans-57\"/>\n       <use xlink:href=\"#DejaVuSans-52\" x=\"98.876953\"/>\n       <use xlink:href=\"#DejaVuSans-42\" x=\"168.359375\"/>\n      </g>\n     </g>\n    </g>\n    <g id=\"xtick_11\">\n     <g id=\"text_11\">\n      <!-- NN -->\n      <g style=\"fill: #555555\" transform=\"translate(419.394313 315.03875) rotate(-90) scale(0.11 -0.11)\">\n       <use xlink:href=\"#DejaVuSans-4e\"/>\n       <use xlink:href=\"#DejaVuSans-4e\" x=\"74.804688\"/>\n      </g>\n     </g>\n    </g>\n    <g id=\"xtick_12\">\n     <g id=\"text_12\">\n      <!-- `` -->\n      <g style=\"fill: #555555\" transform=\"translate(452.637312 309.58) rotate(-90) scale(0.11 -0.11)\">\n       <defs>\n        <path id=\"DejaVuSans-60\" d=\"M 1147 5119 \nL 2028 3950 \nL 1550 3950 \nL 531 5119 \nL 1147 5119 \nz\n\" transform=\"scale(0.015625)\"/>\n       </defs>\n       <use xlink:href=\"#DejaVuSans-60\"/>\n       <use xlink:href=\"#DejaVuSans-60\" x=\"50\"/>\n      </g>\n     </g>\n    </g>\n    <g id=\"xtick_13\">\n     <g id=\"text_13\">\n      <!-- RB -->\n      <g style=\"fill: #555555\" transform=\"translate(485.880313 313.770312) rotate(-90) scale(0.11 -0.11)\">\n       <use xlink:href=\"#DejaVuSans-52\"/>\n       <use xlink:href=\"#DejaVuSans-42\" x=\"69.482422\"/>\n      </g>\n     </g>\n    </g>\n    <g id=\"xtick_14\">\n     <g id=\"text_14\">\n      <!-- JJS -->\n      <g style=\"fill: #555555\" transform=\"translate(519.123313 312.053281) rotate(-90) scale(0.11 -0.11)\">\n       <use xlink:href=\"#DejaVuSans-4a\"/>\n       <use xlink:href=\"#DejaVuSans-4a\" x=\"29.492188\"/>\n       <use xlink:href=\"#DejaVuSans-53\" x=\"58.984375\"/>\n      </g>\n     </g>\n    </g>\n    <g id=\"xtick_15\">\n     <g id=\"text_15\">\n      <!-- VBG -->\n      <g style=\"fill: #555555\" transform=\"translate(552.366313 321.9825) rotate(-90) scale(0.11 -0.11)\">\n       <defs>\n        <path id=\"DejaVuSans-56\" d=\"M 1831 0 \nL 50 4666 \nL 709 4666 \nL 2188 738 \nL 3669 4666 \nL 4325 4666 \nL 2547 0 \nL 1831 0 \nz\n\" transform=\"scale(0.015625)\"/>\n        <path id=\"DejaVuSans-47\" d=\"M 3809 666 \nL 3809 1919 \nL 2778 1919 \nL 2778 2438 \nL 4434 2438 \nL 4434 434 \nQ 4069 175 3628 42 \nQ 3188 -91 2688 -91 \nQ 1594 -91 976 548 \nQ 359 1188 359 2328 \nQ 359 3472 976 4111 \nQ 1594 4750 2688 4750 \nQ 3144 4750 3555 4637 \nQ 3966 4525 4313 4306 \nL 4313 3634 \nQ 3963 3931 3569 4081 \nQ 3175 4231 2741 4231 \nQ 1884 4231 1454 3753 \nQ 1025 3275 1025 2328 \nQ 1025 1384 1454 906 \nQ 1884 428 2741 428 \nQ 3075 428 3337 486 \nQ 3600 544 3809 666 \nz\n\" transform=\"scale(0.015625)\"/>\n       </defs>\n       <use xlink:href=\"#DejaVuSans-56\"/>\n       <use xlink:href=\"#DejaVuSans-42\" x=\"68.408203\"/>\n       <use xlink:href=\"#DejaVuSans-47\" x=\"135.261719\"/>\n      </g>\n     </g>\n    </g>\n    <g id=\"xtick_16\">\n     <g id=\"text_16\">\n      <!-- JJR -->\n      <g style=\"fill: #555555\" transform=\"translate(585.609313 312.713281) rotate(-90) scale(0.11 -0.11)\">\n       <use xlink:href=\"#DejaVuSans-4a\"/>\n       <use xlink:href=\"#DejaVuSans-4a\" x=\"29.492188\"/>\n       <use xlink:href=\"#DejaVuSans-52\" x=\"58.984375\"/>\n      </g>\n     </g>\n    </g>\n    <g id=\"xtick_17\">\n     <g id=\"text_17\">\n      <!-- EX -->\n      <g style=\"fill: #555555\" transform=\"translate(618.852313 313.065625) rotate(-90) scale(0.11 -0.11)\">\n       <defs>\n        <path id=\"DejaVuSans-45\" d=\"M 628 4666 \nL 3578 4666 \nL 3578 4134 \nL 1259 4134 \nL 1259 2753 \nL 3481 2753 \nL 3481 2222 \nL 1259 2222 \nL 1259 531 \nL 3634 531 \nL 3634 0 \nL 628 0 \nL 628 4666 \nz\n\" transform=\"scale(0.015625)\"/>\n        <path id=\"DejaVuSans-58\" d=\"M 403 4666 \nL 1081 4666 \nL 2241 2931 \nL 3406 4666 \nL 4084 4666 \nL 2584 2425 \nL 4184 0 \nL 3506 0 \nL 2194 1984 \nL 872 0 \nL 191 0 \nL 1856 2491 \nL 403 4666 \nz\n\" transform=\"scale(0.015625)\"/>\n       </defs>\n       <use xlink:href=\"#DejaVuSans-45\"/>\n       <use xlink:href=\"#DejaVuSans-58\" x=\"63.183594\"/>\n      </g>\n     </g>\n    </g>\n    <g id=\"xtick_18\">\n     <g id=\"text_18\">\n      <!-- RBR -->\n      <g style=\"fill: #555555\" transform=\"translate(652.095313 321.413594) rotate(-90) scale(0.11 -0.11)\">\n       <use xlink:href=\"#DejaVuSans-52\"/>\n       <use xlink:href=\"#DejaVuSans-42\" x=\"69.482422\"/>\n       <use xlink:href=\"#DejaVuSans-52\" x=\"138.085938\"/>\n      </g>\n     </g>\n    </g>\n    <g id=\"xtick_19\">\n     <g id=\"text_19\">\n      <!-- VBN -->\n      <g style=\"fill: #555555\" transform=\"translate(685.338313 321.881094) rotate(-90) scale(0.11 -0.11)\">\n       <use xlink:href=\"#DejaVuSans-56\"/>\n       <use xlink:href=\"#DejaVuSans-42\" x=\"68.408203\"/>\n       <use xlink:href=\"#DejaVuSans-4e\" x=\"137.011719\"/>\n      </g>\n     </g>\n    </g>\n    <g id=\"xtick_20\">\n     <g id=\"text_20\">\n      <!-- VBP -->\n      <g style=\"fill: #555555\" transform=\"translate(718.581313 320.284375) rotate(-90) scale(0.11 -0.11)\">\n       <use xlink:href=\"#DejaVuSans-56\"/>\n       <use xlink:href=\"#DejaVuSans-42\" x=\"68.408203\"/>\n       <use xlink:href=\"#DejaVuSans-50\" x=\"137.011719\"/>\n      </g>\n     </g>\n    </g>\n    <g id=\"xtick_21\">\n     <g id=\"text_21\">\n      <!-- NNPS -->\n      <g style=\"fill: #555555\" transform=\"translate(751.824313 328.654687) rotate(-90) scale(0.11 -0.11)\">\n       <use xlink:href=\"#DejaVuSans-4e\"/>\n       <use xlink:href=\"#DejaVuSans-4e\" x=\"74.804688\"/>\n       <use xlink:href=\"#DejaVuSans-50\" x=\"149.609375\"/>\n       <use xlink:href=\"#DejaVuSans-53\" x=\"209.912109\"/>\n      </g>\n     </g>\n    </g>\n    <g id=\"xtick_22\">\n     <g id=\"text_22\">\n      <!-- PDT -->\n      <g style=\"fill: #555555\" transform=\"translate(785.067313 320.40125) rotate(-90) scale(0.11 -0.11)\">\n       <use xlink:href=\"#DejaVuSans-50\"/>\n       <use xlink:href=\"#DejaVuSans-44\" x=\"60.302734\"/>\n       <use xlink:href=\"#DejaVuSans-54\" x=\"137.304688\"/>\n      </g>\n     </g>\n    </g>\n    <g id=\"xtick_23\">\n     <g id=\"text_23\">\n      <!-- TO -->\n      <g style=\"fill: #555555\" transform=\"translate(818.310313 313.957656) rotate(-90) scale(0.11 -0.11)\">\n       <defs>\n        <path id=\"DejaVuSans-4f\" d=\"M 2522 4238 \nQ 1834 4238 1429 3725 \nQ 1025 3213 1025 2328 \nQ 1025 1447 1429 934 \nQ 1834 422 2522 422 \nQ 3209 422 3611 934 \nQ 4013 1447 4013 2328 \nQ 4013 3213 3611 3725 \nQ 3209 4238 2522 4238 \nz\nM 2522 4750 \nQ 3503 4750 4090 4092 \nQ 4678 3434 4678 2328 \nQ 4678 1225 4090 567 \nQ 3503 -91 2522 -91 \nQ 1538 -91 948 565 \nQ 359 1222 359 2328 \nQ 359 3434 948 4092 \nQ 1538 4750 2522 4750 \nz\n\" transform=\"scale(0.015625)\"/>\n       </defs>\n       <use xlink:href=\"#DejaVuSans-54\"/>\n       <use xlink:href=\"#DejaVuSans-4f\" x=\"61.083984\"/>\n      </g>\n     </g>\n    </g>\n    <g id=\"xtick_24\">\n     <g id=\"text_24\">\n      <!-- VB -->\n      <g style=\"fill: #555555\" transform=\"translate(851.553313 313.651719) rotate(-90) scale(0.11 -0.11)\">\n       <use xlink:href=\"#DejaVuSans-56\"/>\n       <use xlink:href=\"#DejaVuSans-42\" x=\"68.408203\"/>\n      </g>\n     </g>\n    </g>\n    <g id=\"xtick_25\">\n     <g id=\"text_25\">\n      <!-- WP -->\n      <g style=\"fill: #555555\" transform=\"translate(884.796313 316.088906) rotate(-90) scale(0.11 -0.11)\">\n       <use xlink:href=\"#DejaVuSans-57\"/>\n       <use xlink:href=\"#DejaVuSans-50\" x=\"98.876953\"/>\n      </g>\n     </g>\n    </g>\n    <g id=\"xtick_26\">\n     <g id=\"text_26\">\n      <!-- WDT -->\n      <g style=\"fill: #555555\" transform=\"translate(918.039313 324.644844) rotate(-90) scale(0.11 -0.11)\">\n       <use xlink:href=\"#DejaVuSans-57\"/>\n       <use xlink:href=\"#DejaVuSans-44\" x=\"98.876953\"/>\n       <use xlink:href=\"#DejaVuSans-54\" x=\"175.878906\"/>\n      </g>\n     </g>\n    </g>\n    <g id=\"xtick_27\">\n     <g id=\"text_27\">\n      <!-- : -->\n      <g style=\"fill: #555555\" transform=\"translate(951.282313 302.285625) rotate(-90) scale(0.11 -0.11)\">\n       <defs>\n        <path id=\"DejaVuSans-3a\" d=\"M 750 794 \nL 1409 794 \nL 1409 0 \nL 750 0 \nL 750 794 \nz\nM 750 3309 \nL 1409 3309 \nL 1409 2516 \nL 750 2516 \nL 750 3309 \nz\n\" transform=\"scale(0.015625)\"/>\n       </defs>\n       <use xlink:href=\"#DejaVuSans-3a\"/>\n      </g>\n     </g>\n    </g>\n    <g id=\"xtick_28\">\n     <g id=\"text_28\">\n      <!-- VBZ -->\n      <g style=\"fill: #555555\" transform=\"translate(984.525313 321.186719) rotate(-90) scale(0.11 -0.11)\">\n       <defs>\n        <path id=\"DejaVuSans-5a\" d=\"M 359 4666 \nL 4025 4666 \nL 4025 4184 \nL 1075 531 \nL 4097 531 \nL 4097 0 \nL 288 0 \nL 288 481 \nL 3238 4134 \nL 359 4134 \nL 359 4666 \nz\n\" transform=\"scale(0.015625)\"/>\n       </defs>\n       <use xlink:href=\"#DejaVuSans-56\"/>\n       <use xlink:href=\"#DejaVuSans-42\" x=\"68.408203\"/>\n       <use xlink:href=\"#DejaVuSans-5a\" x=\"137.011719\"/>\n      </g>\n     </g>\n    </g>\n    <g id=\"xtick_29\">\n     <g id=\"text_29\">\n      <!-- LRB -->\n      <g style=\"fill: #555555\" transform=\"translate(1017.768313 319.899375) rotate(-90) scale(0.11 -0.11)\">\n       <defs>\n        <path id=\"DejaVuSans-4c\" d=\"M 628 4666 \nL 1259 4666 \nL 1259 531 \nL 3531 531 \nL 3531 0 \nL 628 0 \nL 628 4666 \nz\n\" transform=\"scale(0.015625)\"/>\n       </defs>\n       <use xlink:href=\"#DejaVuSans-4c\"/>\n       <use xlink:href=\"#DejaVuSans-52\" x=\"55.712891\"/>\n       <use xlink:href=\"#DejaVuSans-42\" x=\"125.195312\"/>\n      </g>\n     </g>\n    </g>\n    <g id=\"xtick_30\">\n     <g id=\"text_30\">\n      <!-- UH -->\n      <g style=\"fill: #555555\" transform=\"translate(1051.011313 314.902969) rotate(-90) scale(0.11 -0.11)\">\n       <defs>\n        <path id=\"DejaVuSans-55\" d=\"M 556 4666 \nL 1191 4666 \nL 1191 1831 \nQ 1191 1081 1462 751 \nQ 1734 422 2344 422 \nQ 2950 422 3222 751 \nQ 3494 1081 3494 1831 \nL 3494 4666 \nL 4128 4666 \nL 4128 1753 \nQ 4128 841 3676 375 \nQ 3225 -91 2344 -91 \nQ 1459 -91 1007 375 \nQ 556 841 556 1753 \nL 556 4666 \nz\n\" transform=\"scale(0.015625)\"/>\n        <path id=\"DejaVuSans-48\" d=\"M 628 4666 \nL 1259 4666 \nL 1259 2753 \nL 3553 2753 \nL 3553 4666 \nL 4184 4666 \nL 4184 0 \nL 3553 0 \nL 3553 2222 \nL 1259 2222 \nL 1259 0 \nL 628 0 \nL 628 4666 \nz\n\" transform=\"scale(0.015625)\"/>\n       </defs>\n       <use xlink:href=\"#DejaVuSans-55\"/>\n       <use xlink:href=\"#DejaVuSans-48\" x=\"73.193359\"/>\n      </g>\n     </g>\n    </g>\n    <g id=\"text_31\">\n     <!-- POS -->\n     <g style=\"fill: #555555\" transform=\"translate(553.8025 341.772812) scale(0.12 -0.12)\">\n      <use xlink:href=\"#DejaVuSans-50\"/>\n      <use xlink:href=\"#DejaVuSans-4f\" x=\"60.302734\"/>\n      <use xlink:href=\"#DejaVuSans-53\" x=\"139.013672\"/>\n     </g>\n    </g>\n   </g>\n   <g id=\"matplotlib.axis_2\">\n    <g id=\"ytick_1\">\n     <g id=\"line2d_1\">\n      <path d=\"M 67.3075 289.08 \nL 1064.5975 289.08 \n\" clip-path=\"url(#p2642223134)\" style=\"fill: none; stroke: #ffffff; stroke-linecap: round\"/>\n     </g>\n     <g id=\"text_32\">\n      <!-- 0 -->\n      <g style=\"fill: #555555\" transform=\"translate(50.80875 293.259141) scale(0.11 -0.11)\">\n       <defs>\n        <path id=\"DejaVuSans-30\" d=\"M 2034 4250 \nQ 1547 4250 1301 3770 \nQ 1056 3291 1056 2328 \nQ 1056 1369 1301 889 \nQ 1547 409 2034 409 \nQ 2525 409 2770 889 \nQ 3016 1369 3016 2328 \nQ 3016 3291 2770 3770 \nQ 2525 4250 2034 4250 \nz\nM 2034 4750 \nQ 2819 4750 3233 4129 \nQ 3647 3509 3647 2328 \nQ 3647 1150 3233 529 \nQ 2819 -91 2034 -91 \nQ 1250 -91 836 529 \nQ 422 1150 422 2328 \nQ 422 3509 836 4129 \nQ 1250 4750 2034 4750 \nz\n\" transform=\"scale(0.015625)\"/>\n       </defs>\n       <use xlink:href=\"#DejaVuSans-30\"/>\n      </g>\n     </g>\n    </g>\n    <g id=\"ytick_2\">\n     <g id=\"line2d_2\">\n      <path d=\"M 67.3075 252.816709 \nL 1064.5975 252.816709 \n\" clip-path=\"url(#p2642223134)\" style=\"fill: none; stroke: #ffffff; stroke-linecap: round\"/>\n     </g>\n     <g id=\"text_33\">\n      <!-- 2000 -->\n      <g style=\"fill: #555555\" transform=\"translate(29.8125 256.99585) scale(0.11 -0.11)\">\n       <defs>\n        <path id=\"DejaVuSans-32\" d=\"M 1228 531 \nL 3431 531 \nL 3431 0 \nL 469 0 \nL 469 531 \nQ 828 903 1448 1529 \nQ 2069 2156 2228 2338 \nQ 2531 2678 2651 2914 \nQ 2772 3150 2772 3378 \nQ 2772 3750 2511 3984 \nQ 2250 4219 1831 4219 \nQ 1534 4219 1204 4116 \nQ 875 4013 500 3803 \nL 500 4441 \nQ 881 4594 1212 4672 \nQ 1544 4750 1819 4750 \nQ 2544 4750 2975 4387 \nQ 3406 4025 3406 3419 \nQ 3406 3131 3298 2873 \nQ 3191 2616 2906 2266 \nQ 2828 2175 2409 1742 \nQ 1991 1309 1228 531 \nz\n\" transform=\"scale(0.015625)\"/>\n       </defs>\n       <use xlink:href=\"#DejaVuSans-32\"/>\n       <use xlink:href=\"#DejaVuSans-30\" x=\"63.623047\"/>\n       <use xlink:href=\"#DejaVuSans-30\" x=\"127.246094\"/>\n       <use xlink:href=\"#DejaVuSans-30\" x=\"190.869141\"/>\n      </g>\n     </g>\n    </g>\n    <g id=\"ytick_3\">\n     <g id=\"line2d_3\">\n      <path d=\"M 67.3075 216.553418 \nL 1064.5975 216.553418 \n\" clip-path=\"url(#p2642223134)\" style=\"fill: none; stroke: #ffffff; stroke-linecap: round\"/>\n     </g>\n     <g id=\"text_34\">\n      <!-- 4000 -->\n      <g style=\"fill: #555555\" transform=\"translate(29.8125 220.732559) scale(0.11 -0.11)\">\n       <defs>\n        <path id=\"DejaVuSans-34\" d=\"M 2419 4116 \nL 825 1625 \nL 2419 1625 \nL 2419 4116 \nz\nM 2253 4666 \nL 3047 4666 \nL 3047 1625 \nL 3713 1625 \nL 3713 1100 \nL 3047 1100 \nL 3047 0 \nL 2419 0 \nL 2419 1100 \nL 313 1100 \nL 313 1709 \nL 2253 4666 \nz\n\" transform=\"scale(0.015625)\"/>\n       </defs>\n       <use xlink:href=\"#DejaVuSans-34\"/>\n       <use xlink:href=\"#DejaVuSans-30\" x=\"63.623047\"/>\n       <use xlink:href=\"#DejaVuSans-30\" x=\"127.246094\"/>\n       <use xlink:href=\"#DejaVuSans-30\" x=\"190.869141\"/>\n      </g>\n     </g>\n    </g>\n    <g id=\"ytick_4\">\n     <g id=\"line2d_4\">\n      <path d=\"M 67.3075 180.290127 \nL 1064.5975 180.290127 \n\" clip-path=\"url(#p2642223134)\" style=\"fill: none; stroke: #ffffff; stroke-linecap: round\"/>\n     </g>\n     <g id=\"text_35\">\n      <!-- 6000 -->\n      <g style=\"fill: #555555\" transform=\"translate(29.8125 184.469268) scale(0.11 -0.11)\">\n       <defs>\n        <path id=\"DejaVuSans-36\" d=\"M 2113 2584 \nQ 1688 2584 1439 2293 \nQ 1191 2003 1191 1497 \nQ 1191 994 1439 701 \nQ 1688 409 2113 409 \nQ 2538 409 2786 701 \nQ 3034 994 3034 1497 \nQ 3034 2003 2786 2293 \nQ 2538 2584 2113 2584 \nz\nM 3366 4563 \nL 3366 3988 \nQ 3128 4100 2886 4159 \nQ 2644 4219 2406 4219 \nQ 1781 4219 1451 3797 \nQ 1122 3375 1075 2522 \nQ 1259 2794 1537 2939 \nQ 1816 3084 2150 3084 \nQ 2853 3084 3261 2657 \nQ 3669 2231 3669 1497 \nQ 3669 778 3244 343 \nQ 2819 -91 2113 -91 \nQ 1303 -91 875 529 \nQ 447 1150 447 2328 \nQ 447 3434 972 4092 \nQ 1497 4750 2381 4750 \nQ 2619 4750 2861 4703 \nQ 3103 4656 3366 4563 \nz\n\" transform=\"scale(0.015625)\"/>\n       </defs>\n       <use xlink:href=\"#DejaVuSans-36\"/>\n       <use xlink:href=\"#DejaVuSans-30\" x=\"63.623047\"/>\n       <use xlink:href=\"#DejaVuSans-30\" x=\"127.246094\"/>\n       <use xlink:href=\"#DejaVuSans-30\" x=\"190.869141\"/>\n      </g>\n     </g>\n    </g>\n    <g id=\"ytick_5\">\n     <g id=\"line2d_5\">\n      <path d=\"M 67.3075 144.026836 \nL 1064.5975 144.026836 \n\" clip-path=\"url(#p2642223134)\" style=\"fill: none; stroke: #ffffff; stroke-linecap: round\"/>\n     </g>\n     <g id=\"text_36\">\n      <!-- 8000 -->\n      <g style=\"fill: #555555\" transform=\"translate(29.8125 148.205977) scale(0.11 -0.11)\">\n       <defs>\n        <path id=\"DejaVuSans-38\" d=\"M 2034 2216 \nQ 1584 2216 1326 1975 \nQ 1069 1734 1069 1313 \nQ 1069 891 1326 650 \nQ 1584 409 2034 409 \nQ 2484 409 2743 651 \nQ 3003 894 3003 1313 \nQ 3003 1734 2745 1975 \nQ 2488 2216 2034 2216 \nz\nM 1403 2484 \nQ 997 2584 770 2862 \nQ 544 3141 544 3541 \nQ 544 4100 942 4425 \nQ 1341 4750 2034 4750 \nQ 2731 4750 3128 4425 \nQ 3525 4100 3525 3541 \nQ 3525 3141 3298 2862 \nQ 3072 2584 2669 2484 \nQ 3125 2378 3379 2068 \nQ 3634 1759 3634 1313 \nQ 3634 634 3220 271 \nQ 2806 -91 2034 -91 \nQ 1263 -91 848 271 \nQ 434 634 434 1313 \nQ 434 1759 690 2068 \nQ 947 2378 1403 2484 \nz\nM 1172 3481 \nQ 1172 3119 1398 2916 \nQ 1625 2713 2034 2713 \nQ 2441 2713 2670 2916 \nQ 2900 3119 2900 3481 \nQ 2900 3844 2670 4047 \nQ 2441 4250 2034 4250 \nQ 1625 4250 1398 4047 \nQ 1172 3844 1172 3481 \nz\n\" transform=\"scale(0.015625)\"/>\n       </defs>\n       <use xlink:href=\"#DejaVuSans-38\"/>\n       <use xlink:href=\"#DejaVuSans-30\" x=\"63.623047\"/>\n       <use xlink:href=\"#DejaVuSans-30\" x=\"127.246094\"/>\n       <use xlink:href=\"#DejaVuSans-30\" x=\"190.869141\"/>\n      </g>\n     </g>\n    </g>\n    <g id=\"ytick_6\">\n     <g id=\"line2d_6\">\n      <path d=\"M 67.3075 107.763545 \nL 1064.5975 107.763545 \n\" clip-path=\"url(#p2642223134)\" style=\"fill: none; stroke: #ffffff; stroke-linecap: round\"/>\n     </g>\n     <g id=\"text_37\">\n      <!-- 10000 -->\n      <g style=\"fill: #555555\" transform=\"translate(22.81375 111.942686) scale(0.11 -0.11)\">\n       <defs>\n        <path id=\"DejaVuSans-31\" d=\"M 794 531 \nL 1825 531 \nL 1825 4091 \nL 703 3866 \nL 703 4441 \nL 1819 4666 \nL 2450 4666 \nL 2450 531 \nL 3481 531 \nL 3481 0 \nL 794 0 \nL 794 531 \nz\n\" transform=\"scale(0.015625)\"/>\n       </defs>\n       <use xlink:href=\"#DejaVuSans-31\"/>\n       <use xlink:href=\"#DejaVuSans-30\" x=\"63.623047\"/>\n       <use xlink:href=\"#DejaVuSans-30\" x=\"127.246094\"/>\n       <use xlink:href=\"#DejaVuSans-30\" x=\"190.869141\"/>\n       <use xlink:href=\"#DejaVuSans-30\" x=\"254.492188\"/>\n      </g>\n     </g>\n    </g>\n    <g id=\"ytick_7\">\n     <g id=\"line2d_7\">\n      <path d=\"M 67.3075 71.500254 \nL 1064.5975 71.500254 \n\" clip-path=\"url(#p2642223134)\" style=\"fill: none; stroke: #ffffff; stroke-linecap: round\"/>\n     </g>\n     <g id=\"text_38\">\n      <!-- 12000 -->\n      <g style=\"fill: #555555\" transform=\"translate(22.81375 75.679395) scale(0.11 -0.11)\">\n       <use xlink:href=\"#DejaVuSans-31\"/>\n       <use xlink:href=\"#DejaVuSans-32\" x=\"63.623047\"/>\n       <use xlink:href=\"#DejaVuSans-30\" x=\"127.246094\"/>\n       <use xlink:href=\"#DejaVuSans-30\" x=\"190.869141\"/>\n       <use xlink:href=\"#DejaVuSans-30\" x=\"254.492188\"/>\n      </g>\n     </g>\n    </g>\n    <g id=\"ytick_8\">\n     <g id=\"line2d_8\">\n      <path d=\"M 67.3075 35.236963 \nL 1064.5975 35.236963 \n\" clip-path=\"url(#p2642223134)\" style=\"fill: none; stroke: #ffffff; stroke-linecap: round\"/>\n     </g>\n     <g id=\"text_39\">\n      <!-- 14000 -->\n      <g style=\"fill: #555555\" transform=\"translate(22.81375 39.416104) scale(0.11 -0.11)\">\n       <use xlink:href=\"#DejaVuSans-31\"/>\n       <use xlink:href=\"#DejaVuSans-34\" x=\"63.623047\"/>\n       <use xlink:href=\"#DejaVuSans-30\" x=\"127.246094\"/>\n       <use xlink:href=\"#DejaVuSans-30\" x=\"190.869141\"/>\n       <use xlink:href=\"#DejaVuSans-30\" x=\"254.492188\"/>\n      </g>\n     </g>\n    </g>\n    <g id=\"text_40\">\n     <!-- count -->\n     <g style=\"fill: #555555\" transform=\"translate(16.318125 165.0675) rotate(-90) scale(0.12 -0.12)\">\n      <defs>\n       <path id=\"DejaVuSans-63\" d=\"M 3122 3366 \nL 3122 2828 \nQ 2878 2963 2633 3030 \nQ 2388 3097 2138 3097 \nQ 1578 3097 1268 2742 \nQ 959 2388 959 1747 \nQ 959 1106 1268 751 \nQ 1578 397 2138 397 \nQ 2388 397 2633 464 \nQ 2878 531 3122 666 \nL 3122 134 \nQ 2881 22 2623 -34 \nQ 2366 -91 2075 -91 \nQ 1284 -91 818 406 \nQ 353 903 353 1747 \nQ 353 2603 823 3093 \nQ 1294 3584 2113 3584 \nQ 2378 3584 2631 3529 \nQ 2884 3475 3122 3366 \nz\n\" transform=\"scale(0.015625)\"/>\n       <path id=\"DejaVuSans-6f\" d=\"M 1959 3097 \nQ 1497 3097 1228 2736 \nQ 959 2375 959 1747 \nQ 959 1119 1226 758 \nQ 1494 397 1959 397 \nQ 2419 397 2687 759 \nQ 2956 1122 2956 1747 \nQ 2956 2369 2687 2733 \nQ 2419 3097 1959 3097 \nz\nM 1959 3584 \nQ 2709 3584 3137 3096 \nQ 3566 2609 3566 1747 \nQ 3566 888 3137 398 \nQ 2709 -91 1959 -91 \nQ 1206 -91 779 398 \nQ 353 888 353 1747 \nQ 353 2609 779 3096 \nQ 1206 3584 1959 3584 \nz\n\" transform=\"scale(0.015625)\"/>\n       <path id=\"DejaVuSans-75\" d=\"M 544 1381 \nL 544 3500 \nL 1119 3500 \nL 1119 1403 \nQ 1119 906 1312 657 \nQ 1506 409 1894 409 \nQ 2359 409 2629 706 \nQ 2900 1003 2900 1516 \nL 2900 3500 \nL 3475 3500 \nL 3475 0 \nL 2900 0 \nL 2900 538 \nQ 2691 219 2414 64 \nQ 2138 -91 1772 -91 \nQ 1169 -91 856 284 \nQ 544 659 544 1381 \nz\nM 1991 3584 \nL 1991 3584 \nz\n\" transform=\"scale(0.015625)\"/>\n       <path id=\"DejaVuSans-6e\" d=\"M 3513 2113 \nL 3513 0 \nL 2938 0 \nL 2938 2094 \nQ 2938 2591 2744 2837 \nQ 2550 3084 2163 3084 \nQ 1697 3084 1428 2787 \nQ 1159 2491 1159 1978 \nL 1159 0 \nL 581 0 \nL 581 3500 \nL 1159 3500 \nL 1159 2956 \nQ 1366 3272 1645 3428 \nQ 1925 3584 2291 3584 \nQ 2894 3584 3203 3211 \nQ 3513 2838 3513 2113 \nz\n\" transform=\"scale(0.015625)\"/>\n       <path id=\"DejaVuSans-74\" d=\"M 1172 4494 \nL 1172 3500 \nL 2356 3500 \nL 2356 3053 \nL 1172 3053 \nL 1172 1153 \nQ 1172 725 1289 603 \nQ 1406 481 1766 481 \nL 2356 481 \nL 2356 0 \nL 1766 0 \nQ 1100 0 847 248 \nQ 594 497 594 1153 \nL 594 3053 \nL 172 3053 \nL 172 3500 \nL 594 3500 \nL 594 4494 \nL 1172 4494 \nz\n\" transform=\"scale(0.015625)\"/>\n      </defs>\n      <use xlink:href=\"#DejaVuSans-63\"/>\n      <use xlink:href=\"#DejaVuSans-6f\" x=\"54.980469\"/>\n      <use xlink:href=\"#DejaVuSans-75\" x=\"116.162109\"/>\n      <use xlink:href=\"#DejaVuSans-6e\" x=\"179.541016\"/>\n      <use xlink:href=\"#DejaVuSans-74\" x=\"242.919922\"/>\n     </g>\n    </g>\n   </g>\n   <g id=\"patch_3\">\n    <path d=\"M 70.6318 289.08 \nL 97.2262 289.08 \nL 97.2262 219.019322 \nL 70.6318 219.019322 \nz\n\" clip-path=\"url(#p2642223134)\" style=\"fill: #ea96a3; stroke: #eeeeee; stroke-width: 0.5; stroke-linejoin: miter\"/>\n   </g>\n   <g id=\"patch_4\">\n    <path d=\"M 103.8748 289.08 \nL 130.4692 289.08 \nL 130.4692 230.297205 \nL 103.8748 230.297205 \nz\n\" clip-path=\"url(#p2642223134)\" style=\"fill: #e99791; stroke: #eeeeee; stroke-width: 0.5; stroke-linejoin: miter\"/>\n   </g>\n   <g id=\"patch_5\">\n    <path d=\"M 137.1178 289.08 \nL 163.7122 289.08 \nL 163.7122 20.622857 \nL 137.1178 20.622857 \nz\n\" clip-path=\"url(#p2642223134)\" style=\"fill: #e59471; stroke: #eeeeee; stroke-width: 0.5; stroke-linejoin: miter\"/>\n   </g>\n   <g id=\"patch_6\">\n    <path d=\"M 170.3608 289.08 \nL 196.9552 289.08 \nL 196.9552 74.927135 \nL 170.3608 74.927135 \nz\n\" clip-path=\"url(#p2642223134)\" style=\"fill: #d7944e; stroke: #eeeeee; stroke-width: 0.5; stroke-linejoin: miter\"/>\n   </g>\n   <g id=\"patch_7\">\n    <path d=\"M 203.6038 289.08 \nL 230.1982 289.08 \nL 230.1982 208.539231 \nL 203.6038 208.539231 \nz\n\" clip-path=\"url(#p2642223134)\" style=\"fill: #c6994b; stroke: #eeeeee; stroke-width: 0.5; stroke-linejoin: miter\"/>\n   </g>\n   <g id=\"patch_8\">\n    <path d=\"M 236.8468 289.08 \nL 263.4412 289.08 \nL 263.4412 277.330694 \nL 236.8468 277.330694 \nz\n\" clip-path=\"url(#p2642223134)\" style=\"fill: #b89c49; stroke: #eeeeee; stroke-width: 0.5; stroke-linejoin: miter\"/>\n   </g>\n   <g id=\"patch_9\">\n    <path d=\"M 270.0898 289.08 \nL 296.6842 289.08 \nL 296.6842 221.739069 \nL 270.0898 221.739069 \nz\n\" clip-path=\"url(#p2642223134)\" style=\"fill: #ab9e47; stroke: #eeeeee; stroke-width: 0.5; stroke-linejoin: miter\"/>\n   </g>\n   <g id=\"patch_10\">\n    <path d=\"M 303.3328 289.08 \nL 329.9272 289.08 \nL 329.9272 284.130061 \nL 303.3328 284.130061 \nz\n\" clip-path=\"url(#p2642223134)\" style=\"fill: #9ea045; stroke: #eeeeee; stroke-width: 0.5; stroke-linejoin: miter\"/>\n   </g>\n   <g id=\"patch_11\">\n    <path d=\"M 336.5758 289.08 \nL 363.1702 289.08 \nL 363.1702 272.21757 \nL 336.5758 272.21757 \nz\n\" clip-path=\"url(#p2642223134)\" style=\"fill: #91a446; stroke: #eeeeee; stroke-width: 0.5; stroke-linejoin: miter\"/>\n   </g>\n   <g id=\"patch_12\">\n    <path d=\"M 369.8188 289.08 \nL 396.4132 289.08 \nL 396.4132 287.919575 \nL 369.8188 287.919575 \nz\n\" clip-path=\"url(#p2642223134)\" style=\"fill: #7fa946; stroke: #eeeeee; stroke-width: 0.5; stroke-linejoin: miter\"/>\n   </g>\n   <g id=\"patch_13\">\n    <path d=\"M 403.0618 289.08 \nL 429.6562 289.08 \nL 429.6562 269.534086 \nL 403.0618 269.534086 \nz\n\" clip-path=\"url(#p2642223134)\" style=\"fill: #60ae47; stroke: #eeeeee; stroke-width: 0.5; stroke-linejoin: miter\"/>\n   </g>\n   <g id=\"patch_14\">\n    <path d=\"M 436.3048 289.08 \nL 462.8992 289.08 \nL 462.8992 287.012992 \nL 436.3048 287.012992 \nz\n\" clip-path=\"url(#p2642223134)\" style=\"fill: #48b06a; stroke: #eeeeee; stroke-width: 0.5; stroke-linejoin: miter\"/>\n   </g>\n   <g id=\"patch_15\">\n    <path d=\"M 469.5478 289.08 \nL 496.1422 289.08 \nL 496.1422 261.266056 \nL 469.5478 261.266056 \nz\n\" clip-path=\"url(#p2642223134)\" style=\"fill: #49ae83; stroke: #eeeeee; stroke-width: 0.5; stroke-linejoin: miter\"/>\n   </g>\n   <g id=\"patch_16\">\n    <path d=\"M 502.7908 289.08 \nL 529.3852 289.08 \nL 529.3852 287.466284 \nL 502.7908 287.466284 \nz\n\" clip-path=\"url(#p2642223134)\" style=\"fill: #4aad91; stroke: #eeeeee; stroke-width: 0.5; stroke-linejoin: miter\"/>\n   </g>\n   <g id=\"patch_17\">\n    <path d=\"M 536.0338 289.08 \nL 562.6282 289.08 \nL 562.6282 280.757575 \nL 536.0338 280.757575 \nz\n\" clip-path=\"url(#p2642223134)\" style=\"fill: #4aac9b; stroke: #eeeeee; stroke-width: 0.5; stroke-linejoin: miter\"/>\n   </g>\n   <g id=\"patch_18\">\n    <path d=\"M 569.2768 289.08 \nL 595.8712 289.08 \nL 595.8712 285.272354 \nL 569.2768 285.272354 \nz\n\" clip-path=\"url(#p2642223134)\" style=\"fill: #4baba4; stroke: #eeeeee; stroke-width: 0.5; stroke-linejoin: miter\"/>\n   </g>\n   <g id=\"patch_19\">\n    <path d=\"M 602.5198 289.08 \nL 629.1142 289.08 \nL 629.1142 284.909722 \nL 602.5198 284.909722 \nz\n\" clip-path=\"url(#p2642223134)\" style=\"fill: #4cabad; stroke: #eeeeee; stroke-width: 0.5; stroke-linejoin: miter\"/>\n   </g>\n   <g id=\"patch_20\">\n    <path d=\"M 635.7628 289.08 \nL 662.3572 289.08 \nL 662.3572 285.054775 \nL 635.7628 285.054775 \nz\n\" clip-path=\"url(#p2642223134)\" style=\"fill: #4eabb7; stroke: #eeeeee; stroke-width: 0.5; stroke-linejoin: miter\"/>\n   </g>\n   <g id=\"patch_21\">\n    <path d=\"M 669.0058 289.08 \nL 695.6002 289.08 \nL 695.6002 286.65036 \nL 669.0058 286.65036 \nz\n\" clip-path=\"url(#p2642223134)\" style=\"fill: #50acc3; stroke: #eeeeee; stroke-width: 0.5; stroke-linejoin: miter\"/>\n   </g>\n   <g id=\"patch_22\">\n    <path d=\"M 702.2488 289.08 \nL 728.8432 289.08 \nL 728.8432 289.043737 \nL 702.2488 289.043737 \nz\n\" clip-path=\"url(#p2642223134)\" style=\"fill: #54acd1; stroke: #eeeeee; stroke-width: 0.5; stroke-linejoin: miter\"/>\n   </g>\n   <g id=\"patch_23\">\n    <path d=\"M 735.4918 289.08 \nL 762.0862 289.08 \nL 762.0862 288.499787 \nL 735.4918 288.499787 \nz\n\" clip-path=\"url(#p2642223134)\" style=\"fill: #6daee2; stroke: #eeeeee; stroke-width: 0.5; stroke-linejoin: miter\"/>\n   </g>\n   <g id=\"patch_24\">\n    <path d=\"M 768.7348 289.08 \nL 795.3292 289.08 \nL 795.3292 289.025605 \nL 768.7348 289.025605 \nz\n\" clip-path=\"url(#p2642223134)\" style=\"fill: #94aee8; stroke: #eeeeee; stroke-width: 0.5; stroke-linejoin: miter\"/>\n   </g>\n   <g id=\"patch_25\">\n    <path d=\"M 801.9778 289.08 \nL 828.5722 289.08 \nL 828.5722 288.517919 \nL 801.9778 288.517919 \nz\n\" clip-path=\"url(#p2642223134)\" style=\"fill: #adabeb; stroke: #eeeeee; stroke-width: 0.5; stroke-linejoin: miter\"/>\n   </g>\n   <g id=\"patch_26\">\n    <path d=\"M 835.2208 289.08 \nL 861.8152 289.08 \nL 861.8152 288.898684 \nL 835.2208 288.898684 \nz\n\" clip-path=\"url(#p2642223134)\" style=\"fill: #bea4ea; stroke: #eeeeee; stroke-width: 0.5; stroke-linejoin: miter\"/>\n   </g>\n   <g id=\"patch_27\">\n    <path d=\"M 868.4638 289.08 \nL 895.0582 289.08 \nL 895.0582 288.953078 \nL 868.4638 288.953078 \nz\n\" clip-path=\"url(#p2642223134)\" style=\"fill: #ce9be9; stroke: #eeeeee; stroke-width: 0.5; stroke-linejoin: miter\"/>\n   </g>\n   <g id=\"patch_28\">\n    <path d=\"M 901.7068 289.08 \nL 928.3012 289.08 \nL 928.3012 289.043737 \nL 901.7068 289.043737 \nz\n\" clip-path=\"url(#p2642223134)\" style=\"fill: #df8fe7; stroke: #eeeeee; stroke-width: 0.5; stroke-linejoin: miter\"/>\n   </g>\n   <g id=\"patch_29\">\n    <path d=\"M 934.9498 289.08 \nL 961.5442 289.08 \nL 961.5442 289.025605 \nL 934.9498 289.025605 \nz\n\" clip-path=\"url(#p2642223134)\" style=\"fill: #e78bdb; stroke: #eeeeee; stroke-width: 0.5; stroke-linejoin: miter\"/>\n   </g>\n   <g id=\"patch_30\">\n    <path d=\"M 968.1928 289.08 \nL 994.7872 289.08 \nL 994.7872 289.061868 \nL 968.1928 289.061868 \nz\n\" clip-path=\"url(#p2642223134)\" style=\"fill: #e88fcc; stroke: #eeeeee; stroke-width: 0.5; stroke-linejoin: miter\"/>\n   </g>\n   <g id=\"patch_31\">\n    <path d=\"M 1001.4358 289.08 \nL 1028.0302 289.08 \nL 1028.0302 289.043737 \nL 1001.4358 289.043737 \nz\n\" clip-path=\"url(#p2642223134)\" style=\"fill: #e891bf; stroke: #eeeeee; stroke-width: 0.5; stroke-linejoin: miter\"/>\n   </g>\n   <g id=\"patch_32\">\n    <path d=\"M 1034.6788 289.08 \nL 1061.2732 289.08 \nL 1061.2732 289.061868 \nL 1034.6788 289.061868 \nz\n\" clip-path=\"url(#p2642223134)\" style=\"fill: #e994b2; stroke: #eeeeee; stroke-width: 0.5; stroke-linejoin: miter\"/>\n   </g>\n   <g id=\"patch_33\">\n    <path d=\"M 67.3075 289.08 \nL 67.3075 7.2 \n\" style=\"fill: none; stroke: #ffffff; stroke-linejoin: miter; stroke-linecap: square\"/>\n   </g>\n   <g id=\"patch_34\">\n    <path d=\"M 1064.5975 289.08 \nL 1064.5975 7.2 \n\" style=\"fill: none; stroke: #ffffff; stroke-linejoin: miter; stroke-linecap: square\"/>\n   </g>\n   <g id=\"patch_35\">\n    <path d=\"M 67.3075 289.08 \nL 1064.5975 289.08 \n\" style=\"fill: none; stroke: #ffffff; stroke-linejoin: miter; stroke-linecap: square\"/>\n   </g>\n   <g id=\"patch_36\">\n    <path d=\"M 67.3075 7.2 \nL 1064.5975 7.2 \n\" style=\"fill: none; stroke: #ffffff; stroke-linejoin: miter; stroke-linecap: square\"/>\n   </g>\n  </g>\n </g>\n <defs>\n  <clipPath id=\"p2642223134\">\n   <rect x=\"67.3075\" y=\"7.2\" width=\"997.29\" height=\"281.88\"/>\n  </clipPath>\n </defs>\n</svg>\n"
          },
          "metadata": {}
        }
      ]
    },
    {
      "cell_type": "markdown",
      "source": [
        "## Random Forest"
      ],
      "metadata": {
        "id": "IpYKQaYjDlLn"
      }
    },
    {
      "cell_type": "code",
      "source": [
        "#Simple feature map to feed arrays into the classifier. \n",
        "def feature_map(word):\n",
        "    return np.array([word.istitle(), word.islower(), word.isupper(), len(word),\n",
        "                     word.isdigit(),  word.isalpha()])\n",
        "    \n",
        "#We divide the dataset into train and test sets\n",
        "words = [feature_map(w) for w in data[\"Word\"].values.tolist()]\n",
        "tags = data[\"Tag\"].values.tolist()\n",
        "print(f\"words : {words[5]}\")\n",
        "print(f\"tags : {tags[5]}\")\n",
        "n_words = len(words)\n",
        "n_tags = len(tags)\n",
        "print(f\"n_words : {n_words}  & n_tags : {n_tags}\")"
      ],
      "metadata": {
        "colab": {
          "base_uri": "https://localhost:8080/"
        },
        "id": "gwj4Su4qDhT1",
        "outputId": "f57ef0f3-7674-4bd2-f9d3-e3420d49e8d5"
      },
      "execution_count": null,
      "outputs": [
        {
          "output_type": "stream",
          "name": "stdout",
          "text": [
            "words : [1 0 0 3 0 1]\n",
            "tags : O\n",
            "n_words : 47958  & n_tags : 47958\n"
          ]
        }
      ]
    },
    {
      "cell_type": "code",
      "source": [
        "#Random Forest classifier\n",
        "clf = RandomForestClassifier(n_estimators=20)\n",
        "clf.fit(X=words, y=tags)\n",
        "pred = cross_val_predict(clf,X=words, y=tags, cv=5)\n",
        "#Lets check the performance \n",
        "from sklearn.metrics import classification_report\n",
        "report = classification_report(y_pred=pred, y_true=tags)\n",
        "print(report)"
      ],
      "metadata": {
        "colab": {
          "base_uri": "https://localhost:8080/"
        },
        "id": "ga8eJf81DhW9",
        "outputId": "047b4485-4add-4caf-83f3-46be529a813f"
      },
      "execution_count": null,
      "outputs": [
        {
          "output_type": "stream",
          "name": "stderr",
          "text": [
            "/usr/local/lib/python3.10/dist-packages/sklearn/metrics/_classification.py:1344: UndefinedMetricWarning: Precision and F-score are ill-defined and being set to 0.0 in labels with no predicted samples. Use `zero_division` parameter to control this behavior.\n",
            "  _warn_prf(average, modifier, msg_start, len(result))\n",
            "/usr/local/lib/python3.10/dist-packages/sklearn/metrics/_classification.py:1344: UndefinedMetricWarning: Precision and F-score are ill-defined and being set to 0.0 in labels with no predicted samples. Use `zero_division` parameter to control this behavior.\n",
            "  _warn_prf(average, modifier, msg_start, len(result))\n"
          ]
        },
        {
          "output_type": "stream",
          "name": "stdout",
          "text": [
            "              precision    recall  f1-score   support\n",
            "\n",
            "       B-art       0.00      0.00      0.00        18\n",
            "       B-eve       0.00      0.00      0.00        10\n",
            "       B-geo       0.51      0.10      0.16      3335\n",
            "       B-gpe       0.00      0.00      0.00      2989\n",
            "       B-nat       0.00      0.00      0.00        11\n",
            "       B-org       0.80      0.20      0.32      2752\n",
            "       B-per       0.99      0.39      0.56      4019\n",
            "       B-tim       0.00      0.00      0.00       515\n",
            "           O       0.76      1.00      0.86     34309\n",
            "\n",
            "    accuracy                           0.76     47958\n",
            "   macro avg       0.34      0.19      0.21     47958\n",
            "weighted avg       0.71      0.76      0.69     47958\n",
            "\n"
          ]
        },
        {
          "output_type": "stream",
          "name": "stderr",
          "text": [
            "/usr/local/lib/python3.10/dist-packages/sklearn/metrics/_classification.py:1344: UndefinedMetricWarning: Precision and F-score are ill-defined and being set to 0.0 in labels with no predicted samples. Use `zero_division` parameter to control this behavior.\n",
            "  _warn_prf(average, modifier, msg_start, len(result))\n"
          ]
        }
      ]
    },
    {
      "cell_type": "code",
      "source": [
        "test_string = \"This is Egyptian , He knows it\" \n",
        "test_words = [feature_map(w) for w in test_string.title().split()]\n",
        "\n",
        "prediction = clf.predict(test_words)\n",
        "prediction"
      ],
      "metadata": {
        "colab": {
          "base_uri": "https://localhost:8080/"
        },
        "id": "RwTALtRmN5sH",
        "outputId": "c5b273c8-15d7-4140-d6a0-38b4e6902ef2"
      },
      "execution_count": null,
      "outputs": [
        {
          "output_type": "execute_result",
          "data": {
            "text/plain": [
              "array(['O', 'O', 'O', 'O', 'O', 'O', 'O'], dtype='<U5')"
            ]
          },
          "metadata": {},
          "execution_count": 15
        }
      ]
    },
    {
      "metadata": {
        "_cell_guid": "e3448ee3-bed0-4029-88a1-3a79abfd23d5",
        "_uuid": "2d4d560f8101eb4da1a90c05cfa30b32b134be10",
        "id": "o4xXVJz87mDO"
      },
      "cell_type": "markdown",
      "source": [
        "# Bidirectional-LSTM "
      ]
    },
    {
      "metadata": {
        "collapsed": true,
        "_cell_guid": "9f70ec09-0452-495d-aa80-a6358c2d30af",
        "_uuid": "45e7b565a3eacf62a3104969026eed96c7440b34",
        "trusted": true,
        "colab": {
          "base_uri": "https://localhost:8080/",
          "height": 330
        },
        "id": "tkp-h0gQ7mDQ",
        "outputId": "6df101f7-66f8-449d-8718-d020bfdacfe4"
      },
      "cell_type": "code",
      "source": [
        "df = pd.read_csv(\"ner.csv\", encoding = \"ISO-8859-1\", error_bad_lines=False)\n",
        "dataset=df.drop(['Unnamed: 0', 'lemma', 'next-lemma', 'next-next-lemma', 'next-next-pos',\n",
        "       'next-next-shape', 'next-next-word', 'next-pos', 'next-shape',\n",
        "       'next-word', 'prev-iob', 'prev-lemma', 'prev-pos',\n",
        "       'prev-prev-iob', 'prev-prev-lemma', 'prev-prev-pos', 'prev-prev-shape',\n",
        "       'prev-prev-word', 'prev-shape', 'prev-word',\"pos\",'shape'],axis=1)\n",
        "\n",
        "dataset.head(5)"
      ],
      "execution_count": null,
      "outputs": [
        {
          "output_type": "stream",
          "name": "stderr",
          "text": [
            "<ipython-input-27-0f7eab09bc03>:1: FutureWarning: The error_bad_lines argument has been deprecated and will be removed in a future version. Use on_bad_lines in the future.\n",
            "\n",
            "\n",
            "  df = pd.read_csv(\"ner.csv\", encoding = \"ISO-8859-1\", error_bad_lines=False)\n",
            "Skipping line 281837: expected 25 fields, saw 34\n",
            "\n"
          ]
        },
        {
          "output_type": "execute_result",
          "data": {
            "text/plain": [
              "   sentence_idx           word tag\n",
              "0           1.0      Thousands   O\n",
              "1           1.0             of   O\n",
              "2           1.0  demonstrators   O\n",
              "3           1.0           have   O\n",
              "4           1.0        marched   O"
            ],
            "text/html": [
              "\n",
              "  <div id=\"df-1ac91c44-0489-4c14-96c2-5cd36d48cec7\">\n",
              "    <div class=\"colab-df-container\">\n",
              "      <div>\n",
              "<style scoped>\n",
              "    .dataframe tbody tr th:only-of-type {\n",
              "        vertical-align: middle;\n",
              "    }\n",
              "\n",
              "    .dataframe tbody tr th {\n",
              "        vertical-align: top;\n",
              "    }\n",
              "\n",
              "    .dataframe thead th {\n",
              "        text-align: right;\n",
              "    }\n",
              "</style>\n",
              "<table border=\"1\" class=\"dataframe\">\n",
              "  <thead>\n",
              "    <tr style=\"text-align: right;\">\n",
              "      <th></th>\n",
              "      <th>sentence_idx</th>\n",
              "      <th>word</th>\n",
              "      <th>tag</th>\n",
              "    </tr>\n",
              "  </thead>\n",
              "  <tbody>\n",
              "    <tr>\n",
              "      <th>0</th>\n",
              "      <td>1.0</td>\n",
              "      <td>Thousands</td>\n",
              "      <td>O</td>\n",
              "    </tr>\n",
              "    <tr>\n",
              "      <th>1</th>\n",
              "      <td>1.0</td>\n",
              "      <td>of</td>\n",
              "      <td>O</td>\n",
              "    </tr>\n",
              "    <tr>\n",
              "      <th>2</th>\n",
              "      <td>1.0</td>\n",
              "      <td>demonstrators</td>\n",
              "      <td>O</td>\n",
              "    </tr>\n",
              "    <tr>\n",
              "      <th>3</th>\n",
              "      <td>1.0</td>\n",
              "      <td>have</td>\n",
              "      <td>O</td>\n",
              "    </tr>\n",
              "    <tr>\n",
              "      <th>4</th>\n",
              "      <td>1.0</td>\n",
              "      <td>marched</td>\n",
              "      <td>O</td>\n",
              "    </tr>\n",
              "  </tbody>\n",
              "</table>\n",
              "</div>\n",
              "      <button class=\"colab-df-convert\" onclick=\"convertToInteractive('df-1ac91c44-0489-4c14-96c2-5cd36d48cec7')\"\n",
              "              title=\"Convert this dataframe to an interactive table.\"\n",
              "              style=\"display:none;\">\n",
              "        \n",
              "  <svg xmlns=\"http://www.w3.org/2000/svg\" height=\"24px\"viewBox=\"0 0 24 24\"\n",
              "       width=\"24px\">\n",
              "    <path d=\"M0 0h24v24H0V0z\" fill=\"none\"/>\n",
              "    <path d=\"M18.56 5.44l.94 2.06.94-2.06 2.06-.94-2.06-.94-.94-2.06-.94 2.06-2.06.94zm-11 1L8.5 8.5l.94-2.06 2.06-.94-2.06-.94L8.5 2.5l-.94 2.06-2.06.94zm10 10l.94 2.06.94-2.06 2.06-.94-2.06-.94-.94-2.06-.94 2.06-2.06.94z\"/><path d=\"M17.41 7.96l-1.37-1.37c-.4-.4-.92-.59-1.43-.59-.52 0-1.04.2-1.43.59L10.3 9.45l-7.72 7.72c-.78.78-.78 2.05 0 2.83L4 21.41c.39.39.9.59 1.41.59.51 0 1.02-.2 1.41-.59l7.78-7.78 2.81-2.81c.8-.78.8-2.07 0-2.86zM5.41 20L4 18.59l7.72-7.72 1.47 1.35L5.41 20z\"/>\n",
              "  </svg>\n",
              "      </button>\n",
              "      \n",
              "  <style>\n",
              "    .colab-df-container {\n",
              "      display:flex;\n",
              "      flex-wrap:wrap;\n",
              "      gap: 12px;\n",
              "    }\n",
              "\n",
              "    .colab-df-convert {\n",
              "      background-color: #E8F0FE;\n",
              "      border: none;\n",
              "      border-radius: 50%;\n",
              "      cursor: pointer;\n",
              "      display: none;\n",
              "      fill: #1967D2;\n",
              "      height: 32px;\n",
              "      padding: 0 0 0 0;\n",
              "      width: 32px;\n",
              "    }\n",
              "\n",
              "    .colab-df-convert:hover {\n",
              "      background-color: #E2EBFA;\n",
              "      box-shadow: 0px 1px 2px rgba(60, 64, 67, 0.3), 0px 1px 3px 1px rgba(60, 64, 67, 0.15);\n",
              "      fill: #174EA6;\n",
              "    }\n",
              "\n",
              "    [theme=dark] .colab-df-convert {\n",
              "      background-color: #3B4455;\n",
              "      fill: #D2E3FC;\n",
              "    }\n",
              "\n",
              "    [theme=dark] .colab-df-convert:hover {\n",
              "      background-color: #434B5C;\n",
              "      box-shadow: 0px 1px 3px 1px rgba(0, 0, 0, 0.15);\n",
              "      filter: drop-shadow(0px 1px 2px rgba(0, 0, 0, 0.3));\n",
              "      fill: #FFFFFF;\n",
              "    }\n",
              "  </style>\n",
              "\n",
              "      <script>\n",
              "        const buttonEl =\n",
              "          document.querySelector('#df-1ac91c44-0489-4c14-96c2-5cd36d48cec7 button.colab-df-convert');\n",
              "        buttonEl.style.display =\n",
              "          google.colab.kernel.accessAllowed ? 'block' : 'none';\n",
              "\n",
              "        async function convertToInteractive(key) {\n",
              "          const element = document.querySelector('#df-1ac91c44-0489-4c14-96c2-5cd36d48cec7');\n",
              "          const dataTable =\n",
              "            await google.colab.kernel.invokeFunction('convertToInteractive',\n",
              "                                                     [key], {});\n",
              "          if (!dataTable) return;\n",
              "\n",
              "          const docLinkHtml = 'Like what you see? Visit the ' +\n",
              "            '<a target=\"_blank\" href=https://colab.research.google.com/notebooks/data_table.ipynb>data table notebook</a>'\n",
              "            + ' to learn more about interactive tables.';\n",
              "          element.innerHTML = '';\n",
              "          dataTable['output_type'] = 'display_data';\n",
              "          await google.colab.output.renderOutput(dataTable, element);\n",
              "          const docLink = document.createElement('div');\n",
              "          docLink.innerHTML = docLinkHtml;\n",
              "          element.appendChild(docLink);\n",
              "        }\n",
              "      </script>\n",
              "    </div>\n",
              "  </div>\n",
              "  "
            ]
          },
          "metadata": {},
          "execution_count": 27
        }
      ]
    },
    {
      "metadata": {
        "collapsed": true,
        "_cell_guid": "6cab4e05-47c2-4c5b-bcbb-f899f0639691",
        "_uuid": "198ccf9cc26eca32fd8e17b7f3e41bf0af3612b1",
        "trusted": true,
        "id": "kXqhOmvd7mDu"
      },
      "cell_type": "code",
      "source": [
        "class SentenceGetter(object):\n",
        "    \n",
        "    def __init__(self, dataset):\n",
        "        self.n_sent = 1\n",
        "        self.dataset = dataset\n",
        "        self.empty = False\n",
        "        agg_func = lambda s: [(w, t) for w,t in zip(s[\"word\"].values.tolist(),\n",
        "                                                        s[\"tag\"].values.tolist())]\n",
        "        self.grouped = self.dataset.groupby(\"sentence_idx\").apply(agg_func)\n",
        "        self.sentences = [s for s in self.grouped]\n",
        "    \n",
        "    def get_next(self):\n",
        "        try:\n",
        "            s = self.grouped[\"Sentence: {}\".format(self.n_sent)]\n",
        "            self.n_sent += 1\n",
        "            return s\n",
        "        except:\n",
        "            return None"
      ],
      "execution_count": null,
      "outputs": []
    },
    {
      "metadata": {
        "_cell_guid": "16006628-505a-4d37-a5f6-db6a428517b4",
        "_uuid": "fb62acd5794185e2d7714e76712af2ed2ccc6c1d",
        "trusted": true,
        "collapsed": true,
        "colab": {
          "base_uri": "https://localhost:8080/",
          "height": 476
        },
        "id": "uT_rpNPk7mDz",
        "outputId": "e064fcc6-0e9d-4789-8044-12e8f7c48ad7"
      },
      "cell_type": "code",
      "source": [
        "getter = SentenceGetter(dataset)\n",
        "sentences = getter.sentences\n",
        "print(f\"Stentence looks like : {sentences[5]}\")\n",
        "maxlen = max([len(s) for s in sentences])\n",
        "print ('Maximum sequence length:', maxlen)\n",
        "\n",
        "# Check how long sentences are so that we can pad them\n",
        "\n",
        "\n",
        "plt.hist([len(s) for s in sentences], bins=50)\n",
        "plt.show()"
      ],
      "execution_count": null,
      "outputs": [
        {
          "output_type": "stream",
          "name": "stdout",
          "text": [
            "Stentence looks like : [('The', 'O'), ('party', 'O'), ('is', 'O'), ('divided', 'O'), ('over', 'O'), ('Britain', 'B-gpe'), (\"'s\", 'O'), ('participation', 'O'), ('in', 'O'), ('the', 'O'), ('Iraq', 'B-geo'), ('conflict', 'O'), ('and', 'O'), ('the', 'O'), ('continued', 'O'), ('deployment', 'O'), ('of', 'O'), ('8,500', 'O'), ('British', 'B-gpe'), ('troops', 'O'), ('in', 'O'), ('that', 'O'), ('country', 'O'), ('.', 'O'), ('The', 'O'), ('party', 'O'), ('is', 'O'), ('divided', 'O'), ('over', 'O'), ('Britain', 'B-gpe'), (\"'s\", 'O'), ('participation', 'O'), ('in', 'O'), ('the', 'O'), ('Iraq', 'B-geo'), ('conflict', 'O'), ('and', 'O'), ('the', 'O'), ('continued', 'O'), ('deployment', 'O'), ('of', 'O'), ('8,500', 'O'), ('British', 'B-gpe'), ('troops', 'O'), ('in', 'O'), ('that', 'O'), ('country', 'O'), ('.', 'O')]\n",
            "Maximum sequence length: 140\n"
          ]
        },
        {
          "output_type": "display_data",
          "data": {
            "text/plain": [
              "<Figure size 640x480 with 1 Axes>"
            ],
            "image/svg+xml": "<?xml version=\"1.0\" encoding=\"utf-8\" standalone=\"no\"?>\n<!DOCTYPE svg PUBLIC \"-//W3C//DTD SVG 1.1//EN\"\n  \"http://www.w3.org/Graphics/SVG/1.1/DTD/svg11.dtd\">\n<svg xmlns:xlink=\"http://www.w3.org/1999/xlink\" width=\"409.015pt\" height=\"300.657937pt\" viewBox=\"0 0 409.015 300.657937\" xmlns=\"http://www.w3.org/2000/svg\" version=\"1.1\">\n <metadata>\n  <rdf:RDF xmlns:dc=\"http://purl.org/dc/elements/1.1/\" xmlns:cc=\"http://creativecommons.org/ns#\" xmlns:rdf=\"http://www.w3.org/1999/02/22-rdf-syntax-ns#\">\n   <cc:Work>\n    <dc:type rdf:resource=\"http://purl.org/dc/dcmitype/StillImage\"/>\n    <dc:date>2023-05-08T20:43:08.225398</dc:date>\n    <dc:format>image/svg+xml</dc:format>\n    <dc:creator>\n     <cc:Agent>\n      <dc:title>Matplotlib v3.7.1, https://matplotlib.org/</dc:title>\n     </cc:Agent>\n    </dc:creator>\n   </cc:Work>\n  </rdf:RDF>\n </metadata>\n <defs>\n  <style type=\"text/css\">*{stroke-linejoin: round; stroke-linecap: butt}</style>\n </defs>\n <g id=\"figure_1\">\n  <g id=\"patch_1\">\n   <path d=\"M 0 300.657937 \nL 409.015 300.657937 \nL 409.015 0 \nL 0 0 \nz\n\" style=\"fill: #ffffff\"/>\n  </g>\n  <g id=\"axes_1\">\n   <g id=\"patch_2\">\n    <path d=\"M 44.695 273.312 \nL 401.815 273.312 \nL 401.815 7.2 \nL 44.695 7.2 \nz\n\" style=\"fill: #e5e5e5\"/>\n   </g>\n   <g id=\"matplotlib.axis_1\">\n    <g id=\"xtick_1\">\n     <g id=\"line2d_1\">\n      <path d=\"M 58.592083 273.312 \nL 58.592083 7.2 \n\" clip-path=\"url(#pd7a08c139b)\" style=\"fill: none; stroke: #ffffff; stroke-linecap: round\"/>\n     </g>\n     <g id=\"text_1\">\n      <!-- 0 -->\n      <g style=\"fill: #555555\" transform=\"translate(55.092708 291.170281) scale(0.11 -0.11)\">\n       <defs>\n        <path id=\"DejaVuSans-30\" d=\"M 2034 4250 \nQ 1547 4250 1301 3770 \nQ 1056 3291 1056 2328 \nQ 1056 1369 1301 889 \nQ 1547 409 2034 409 \nQ 2525 409 2770 889 \nQ 3016 1369 3016 2328 \nQ 3016 3291 2770 3770 \nQ 2525 4250 2034 4250 \nz\nM 2034 4750 \nQ 2819 4750 3233 4129 \nQ 3647 3509 3647 2328 \nQ 3647 1150 3233 529 \nQ 2819 -91 2034 -91 \nQ 1250 -91 836 529 \nQ 422 1150 422 2328 \nQ 422 3509 836 4129 \nQ 1250 4750 2034 4750 \nz\n\" transform=\"scale(0.015625)\"/>\n       </defs>\n       <use xlink:href=\"#DejaVuSans-30\"/>\n      </g>\n     </g>\n    </g>\n    <g id=\"xtick_2\">\n     <g id=\"line2d_2\">\n      <path d=\"M 105.304967 273.312 \nL 105.304967 7.2 \n\" clip-path=\"url(#pd7a08c139b)\" style=\"fill: none; stroke: #ffffff; stroke-linecap: round\"/>\n     </g>\n     <g id=\"text_2\">\n      <!-- 20 -->\n      <g style=\"fill: #555555\" transform=\"translate(98.306217 291.170281) scale(0.11 -0.11)\">\n       <defs>\n        <path id=\"DejaVuSans-32\" d=\"M 1228 531 \nL 3431 531 \nL 3431 0 \nL 469 0 \nL 469 531 \nQ 828 903 1448 1529 \nQ 2069 2156 2228 2338 \nQ 2531 2678 2651 2914 \nQ 2772 3150 2772 3378 \nQ 2772 3750 2511 3984 \nQ 2250 4219 1831 4219 \nQ 1534 4219 1204 4116 \nQ 875 4013 500 3803 \nL 500 4441 \nQ 881 4594 1212 4672 \nQ 1544 4750 1819 4750 \nQ 2544 4750 2975 4387 \nQ 3406 4025 3406 3419 \nQ 3406 3131 3298 2873 \nQ 3191 2616 2906 2266 \nQ 2828 2175 2409 1742 \nQ 1991 1309 1228 531 \nz\n\" transform=\"scale(0.015625)\"/>\n       </defs>\n       <use xlink:href=\"#DejaVuSans-32\"/>\n       <use xlink:href=\"#DejaVuSans-30\" x=\"63.623047\"/>\n      </g>\n     </g>\n    </g>\n    <g id=\"xtick_3\">\n     <g id=\"line2d_3\">\n      <path d=\"M 152.017852 273.312 \nL 152.017852 7.2 \n\" clip-path=\"url(#pd7a08c139b)\" style=\"fill: none; stroke: #ffffff; stroke-linecap: round\"/>\n     </g>\n     <g id=\"text_3\">\n      <!-- 40 -->\n      <g style=\"fill: #555555\" transform=\"translate(145.019102 291.170281) scale(0.11 -0.11)\">\n       <defs>\n        <path id=\"DejaVuSans-34\" d=\"M 2419 4116 \nL 825 1625 \nL 2419 1625 \nL 2419 4116 \nz\nM 2253 4666 \nL 3047 4666 \nL 3047 1625 \nL 3713 1625 \nL 3713 1100 \nL 3047 1100 \nL 3047 0 \nL 2419 0 \nL 2419 1100 \nL 313 1100 \nL 313 1709 \nL 2253 4666 \nz\n\" transform=\"scale(0.015625)\"/>\n       </defs>\n       <use xlink:href=\"#DejaVuSans-34\"/>\n       <use xlink:href=\"#DejaVuSans-30\" x=\"63.623047\"/>\n      </g>\n     </g>\n    </g>\n    <g id=\"xtick_4\">\n     <g id=\"line2d_4\">\n      <path d=\"M 198.730736 273.312 \nL 198.730736 7.2 \n\" clip-path=\"url(#pd7a08c139b)\" style=\"fill: none; stroke: #ffffff; stroke-linecap: round\"/>\n     </g>\n     <g id=\"text_4\">\n      <!-- 60 -->\n      <g style=\"fill: #555555\" transform=\"translate(191.731986 291.170281) scale(0.11 -0.11)\">\n       <defs>\n        <path id=\"DejaVuSans-36\" d=\"M 2113 2584 \nQ 1688 2584 1439 2293 \nQ 1191 2003 1191 1497 \nQ 1191 994 1439 701 \nQ 1688 409 2113 409 \nQ 2538 409 2786 701 \nQ 3034 994 3034 1497 \nQ 3034 2003 2786 2293 \nQ 2538 2584 2113 2584 \nz\nM 3366 4563 \nL 3366 3988 \nQ 3128 4100 2886 4159 \nQ 2644 4219 2406 4219 \nQ 1781 4219 1451 3797 \nQ 1122 3375 1075 2522 \nQ 1259 2794 1537 2939 \nQ 1816 3084 2150 3084 \nQ 2853 3084 3261 2657 \nQ 3669 2231 3669 1497 \nQ 3669 778 3244 343 \nQ 2819 -91 2113 -91 \nQ 1303 -91 875 529 \nQ 447 1150 447 2328 \nQ 447 3434 972 4092 \nQ 1497 4750 2381 4750 \nQ 2619 4750 2861 4703 \nQ 3103 4656 3366 4563 \nz\n\" transform=\"scale(0.015625)\"/>\n       </defs>\n       <use xlink:href=\"#DejaVuSans-36\"/>\n       <use xlink:href=\"#DejaVuSans-30\" x=\"63.623047\"/>\n      </g>\n     </g>\n    </g>\n    <g id=\"xtick_5\">\n     <g id=\"line2d_5\">\n      <path d=\"M 245.44362 273.312 \nL 245.44362 7.2 \n\" clip-path=\"url(#pd7a08c139b)\" style=\"fill: none; stroke: #ffffff; stroke-linecap: round\"/>\n     </g>\n     <g id=\"text_5\">\n      <!-- 80 -->\n      <g style=\"fill: #555555\" transform=\"translate(238.44487 291.170281) scale(0.11 -0.11)\">\n       <defs>\n        <path id=\"DejaVuSans-38\" d=\"M 2034 2216 \nQ 1584 2216 1326 1975 \nQ 1069 1734 1069 1313 \nQ 1069 891 1326 650 \nQ 1584 409 2034 409 \nQ 2484 409 2743 651 \nQ 3003 894 3003 1313 \nQ 3003 1734 2745 1975 \nQ 2488 2216 2034 2216 \nz\nM 1403 2484 \nQ 997 2584 770 2862 \nQ 544 3141 544 3541 \nQ 544 4100 942 4425 \nQ 1341 4750 2034 4750 \nQ 2731 4750 3128 4425 \nQ 3525 4100 3525 3541 \nQ 3525 3141 3298 2862 \nQ 3072 2584 2669 2484 \nQ 3125 2378 3379 2068 \nQ 3634 1759 3634 1313 \nQ 3634 634 3220 271 \nQ 2806 -91 2034 -91 \nQ 1263 -91 848 271 \nQ 434 634 434 1313 \nQ 434 1759 690 2068 \nQ 947 2378 1403 2484 \nz\nM 1172 3481 \nQ 1172 3119 1398 2916 \nQ 1625 2713 2034 2713 \nQ 2441 2713 2670 2916 \nQ 2900 3119 2900 3481 \nQ 2900 3844 2670 4047 \nQ 2441 4250 2034 4250 \nQ 1625 4250 1398 4047 \nQ 1172 3844 1172 3481 \nz\n\" transform=\"scale(0.015625)\"/>\n       </defs>\n       <use xlink:href=\"#DejaVuSans-38\"/>\n       <use xlink:href=\"#DejaVuSans-30\" x=\"63.623047\"/>\n      </g>\n     </g>\n    </g>\n    <g id=\"xtick_6\">\n     <g id=\"line2d_6\">\n      <path d=\"M 292.156504 273.312 \nL 292.156504 7.2 \n\" clip-path=\"url(#pd7a08c139b)\" style=\"fill: none; stroke: #ffffff; stroke-linecap: round\"/>\n     </g>\n     <g id=\"text_6\">\n      <!-- 100 -->\n      <g style=\"fill: #555555\" transform=\"translate(281.658379 291.170281) scale(0.11 -0.11)\">\n       <defs>\n        <path id=\"DejaVuSans-31\" d=\"M 794 531 \nL 1825 531 \nL 1825 4091 \nL 703 3866 \nL 703 4441 \nL 1819 4666 \nL 2450 4666 \nL 2450 531 \nL 3481 531 \nL 3481 0 \nL 794 0 \nL 794 531 \nz\n\" transform=\"scale(0.015625)\"/>\n       </defs>\n       <use xlink:href=\"#DejaVuSans-31\"/>\n       <use xlink:href=\"#DejaVuSans-30\" x=\"63.623047\"/>\n       <use xlink:href=\"#DejaVuSans-30\" x=\"127.246094\"/>\n      </g>\n     </g>\n    </g>\n    <g id=\"xtick_7\">\n     <g id=\"line2d_7\">\n      <path d=\"M 338.869388 273.312 \nL 338.869388 7.2 \n\" clip-path=\"url(#pd7a08c139b)\" style=\"fill: none; stroke: #ffffff; stroke-linecap: round\"/>\n     </g>\n     <g id=\"text_7\">\n      <!-- 120 -->\n      <g style=\"fill: #555555\" transform=\"translate(328.371263 291.170281) scale(0.11 -0.11)\">\n       <use xlink:href=\"#DejaVuSans-31\"/>\n       <use xlink:href=\"#DejaVuSans-32\" x=\"63.623047\"/>\n       <use xlink:href=\"#DejaVuSans-30\" x=\"127.246094\"/>\n      </g>\n     </g>\n    </g>\n    <g id=\"xtick_8\">\n     <g id=\"line2d_8\">\n      <path d=\"M 385.582273 273.312 \nL 385.582273 7.2 \n\" clip-path=\"url(#pd7a08c139b)\" style=\"fill: none; stroke: #ffffff; stroke-linecap: round\"/>\n     </g>\n     <g id=\"text_8\">\n      <!-- 140 -->\n      <g style=\"fill: #555555\" transform=\"translate(375.084148 291.170281) scale(0.11 -0.11)\">\n       <use xlink:href=\"#DejaVuSans-31\"/>\n       <use xlink:href=\"#DejaVuSans-34\" x=\"63.623047\"/>\n       <use xlink:href=\"#DejaVuSans-30\" x=\"127.246094\"/>\n      </g>\n     </g>\n    </g>\n   </g>\n   <g id=\"matplotlib.axis_2\">\n    <g id=\"ytick_1\">\n     <g id=\"line2d_9\">\n      <path d=\"M 44.695 273.312 \nL 401.815 273.312 \n\" clip-path=\"url(#pd7a08c139b)\" style=\"fill: none; stroke: #ffffff; stroke-linecap: round\"/>\n     </g>\n     <g id=\"text_9\">\n      <!-- 0 -->\n      <g style=\"fill: #555555\" transform=\"translate(28.19625 277.491141) scale(0.11 -0.11)\">\n       <use xlink:href=\"#DejaVuSans-30\"/>\n      </g>\n     </g>\n    </g>\n    <g id=\"ytick_2\">\n     <g id=\"line2d_10\">\n      <path d=\"M 44.695 239.320584 \nL 401.815 239.320584 \n\" clip-path=\"url(#pd7a08c139b)\" style=\"fill: none; stroke: #ffffff; stroke-linecap: round\"/>\n     </g>\n     <g id=\"text_10\">\n      <!-- 500 -->\n      <g style=\"fill: #555555\" transform=\"translate(14.19875 243.499724) scale(0.11 -0.11)\">\n       <defs>\n        <path id=\"DejaVuSans-35\" d=\"M 691 4666 \nL 3169 4666 \nL 3169 4134 \nL 1269 4134 \nL 1269 2991 \nQ 1406 3038 1543 3061 \nQ 1681 3084 1819 3084 \nQ 2600 3084 3056 2656 \nQ 3513 2228 3513 1497 \nQ 3513 744 3044 326 \nQ 2575 -91 1722 -91 \nQ 1428 -91 1123 -41 \nQ 819 9 494 109 \nL 494 744 \nQ 775 591 1075 516 \nQ 1375 441 1709 441 \nQ 2250 441 2565 725 \nQ 2881 1009 2881 1497 \nQ 2881 1984 2565 2268 \nQ 2250 2553 1709 2553 \nQ 1456 2553 1204 2497 \nQ 953 2441 691 2322 \nL 691 4666 \nz\n\" transform=\"scale(0.015625)\"/>\n       </defs>\n       <use xlink:href=\"#DejaVuSans-35\"/>\n       <use xlink:href=\"#DejaVuSans-30\" x=\"63.623047\"/>\n       <use xlink:href=\"#DejaVuSans-30\" x=\"127.246094\"/>\n      </g>\n     </g>\n    </g>\n    <g id=\"ytick_3\">\n     <g id=\"line2d_11\">\n      <path d=\"M 44.695 205.329167 \nL 401.815 205.329167 \n\" clip-path=\"url(#pd7a08c139b)\" style=\"fill: none; stroke: #ffffff; stroke-linecap: round\"/>\n     </g>\n     <g id=\"text_11\">\n      <!-- 1000 -->\n      <g style=\"fill: #555555\" transform=\"translate(7.2 209.508308) scale(0.11 -0.11)\">\n       <use xlink:href=\"#DejaVuSans-31\"/>\n       <use xlink:href=\"#DejaVuSans-30\" x=\"63.623047\"/>\n       <use xlink:href=\"#DejaVuSans-30\" x=\"127.246094\"/>\n       <use xlink:href=\"#DejaVuSans-30\" x=\"190.869141\"/>\n      </g>\n     </g>\n    </g>\n    <g id=\"ytick_4\">\n     <g id=\"line2d_12\">\n      <path d=\"M 44.695 171.337751 \nL 401.815 171.337751 \n\" clip-path=\"url(#pd7a08c139b)\" style=\"fill: none; stroke: #ffffff; stroke-linecap: round\"/>\n     </g>\n     <g id=\"text_12\">\n      <!-- 1500 -->\n      <g style=\"fill: #555555\" transform=\"translate(7.2 175.516892) scale(0.11 -0.11)\">\n       <use xlink:href=\"#DejaVuSans-31\"/>\n       <use xlink:href=\"#DejaVuSans-35\" x=\"63.623047\"/>\n       <use xlink:href=\"#DejaVuSans-30\" x=\"127.246094\"/>\n       <use xlink:href=\"#DejaVuSans-30\" x=\"190.869141\"/>\n      </g>\n     </g>\n    </g>\n    <g id=\"ytick_5\">\n     <g id=\"line2d_13\">\n      <path d=\"M 44.695 137.346335 \nL 401.815 137.346335 \n\" clip-path=\"url(#pd7a08c139b)\" style=\"fill: none; stroke: #ffffff; stroke-linecap: round\"/>\n     </g>\n     <g id=\"text_13\">\n      <!-- 2000 -->\n      <g style=\"fill: #555555\" transform=\"translate(7.2 141.525475) scale(0.11 -0.11)\">\n       <use xlink:href=\"#DejaVuSans-32\"/>\n       <use xlink:href=\"#DejaVuSans-30\" x=\"63.623047\"/>\n       <use xlink:href=\"#DejaVuSans-30\" x=\"127.246094\"/>\n       <use xlink:href=\"#DejaVuSans-30\" x=\"190.869141\"/>\n      </g>\n     </g>\n    </g>\n    <g id=\"ytick_6\">\n     <g id=\"line2d_14\">\n      <path d=\"M 44.695 103.354918 \nL 401.815 103.354918 \n\" clip-path=\"url(#pd7a08c139b)\" style=\"fill: none; stroke: #ffffff; stroke-linecap: round\"/>\n     </g>\n     <g id=\"text_14\">\n      <!-- 2500 -->\n      <g style=\"fill: #555555\" transform=\"translate(7.2 107.534059) scale(0.11 -0.11)\">\n       <use xlink:href=\"#DejaVuSans-32\"/>\n       <use xlink:href=\"#DejaVuSans-35\" x=\"63.623047\"/>\n       <use xlink:href=\"#DejaVuSans-30\" x=\"127.246094\"/>\n       <use xlink:href=\"#DejaVuSans-30\" x=\"190.869141\"/>\n      </g>\n     </g>\n    </g>\n    <g id=\"ytick_7\">\n     <g id=\"line2d_15\">\n      <path d=\"M 44.695 69.363502 \nL 401.815 69.363502 \n\" clip-path=\"url(#pd7a08c139b)\" style=\"fill: none; stroke: #ffffff; stroke-linecap: round\"/>\n     </g>\n     <g id=\"text_15\">\n      <!-- 3000 -->\n      <g style=\"fill: #555555\" transform=\"translate(7.2 73.542643) scale(0.11 -0.11)\">\n       <defs>\n        <path id=\"DejaVuSans-33\" d=\"M 2597 2516 \nQ 3050 2419 3304 2112 \nQ 3559 1806 3559 1356 \nQ 3559 666 3084 287 \nQ 2609 -91 1734 -91 \nQ 1441 -91 1130 -33 \nQ 819 25 488 141 \nL 488 750 \nQ 750 597 1062 519 \nQ 1375 441 1716 441 \nQ 2309 441 2620 675 \nQ 2931 909 2931 1356 \nQ 2931 1769 2642 2001 \nQ 2353 2234 1838 2234 \nL 1294 2234 \nL 1294 2753 \nL 1863 2753 \nQ 2328 2753 2575 2939 \nQ 2822 3125 2822 3475 \nQ 2822 3834 2567 4026 \nQ 2313 4219 1838 4219 \nQ 1578 4219 1281 4162 \nQ 984 4106 628 3988 \nL 628 4550 \nQ 988 4650 1302 4700 \nQ 1616 4750 1894 4750 \nQ 2613 4750 3031 4423 \nQ 3450 4097 3450 3541 \nQ 3450 3153 3228 2886 \nQ 3006 2619 2597 2516 \nz\n\" transform=\"scale(0.015625)\"/>\n       </defs>\n       <use xlink:href=\"#DejaVuSans-33\"/>\n       <use xlink:href=\"#DejaVuSans-30\" x=\"63.623047\"/>\n       <use xlink:href=\"#DejaVuSans-30\" x=\"127.246094\"/>\n       <use xlink:href=\"#DejaVuSans-30\" x=\"190.869141\"/>\n      </g>\n     </g>\n    </g>\n    <g id=\"ytick_8\">\n     <g id=\"line2d_16\">\n      <path d=\"M 44.695 35.372086 \nL 401.815 35.372086 \n\" clip-path=\"url(#pd7a08c139b)\" style=\"fill: none; stroke: #ffffff; stroke-linecap: round\"/>\n     </g>\n     <g id=\"text_16\">\n      <!-- 3500 -->\n      <g style=\"fill: #555555\" transform=\"translate(7.2 39.551226) scale(0.11 -0.11)\">\n       <use xlink:href=\"#DejaVuSans-33\"/>\n       <use xlink:href=\"#DejaVuSans-35\" x=\"63.623047\"/>\n       <use xlink:href=\"#DejaVuSans-30\" x=\"127.246094\"/>\n       <use xlink:href=\"#DejaVuSans-30\" x=\"190.869141\"/>\n      </g>\n     </g>\n    </g>\n   </g>\n   <g id=\"patch_3\">\n    <path d=\"M 60.927727 273.312 \nL 67.420818 273.312 \nL 67.420818 272.904103 \nL 60.927727 272.904103 \nz\n\" clip-path=\"url(#pd7a08c139b)\" style=\"fill: #e24a33; stroke: #eeeeee; stroke-width: 0.5; stroke-linejoin: miter\"/>\n   </g>\n   <g id=\"patch_4\">\n    <path d=\"M 67.420818 273.312 \nL 73.913909 273.312 \nL 73.913909 258.559725 \nL 67.420818 258.559725 \nz\n\" clip-path=\"url(#pd7a08c139b)\" style=\"fill: #e24a33; stroke: #eeeeee; stroke-width: 0.5; stroke-linejoin: miter\"/>\n   </g>\n   <g id=\"patch_5\">\n    <path d=\"M 73.913909 273.312 \nL 80.407 273.312 \nL 80.407 215.254661 \nL 73.913909 215.254661 \nz\n\" clip-path=\"url(#pd7a08c139b)\" style=\"fill: #e24a33; stroke: #eeeeee; stroke-width: 0.5; stroke-linejoin: miter\"/>\n   </g>\n   <g id=\"patch_6\">\n    <path d=\"M 80.407 273.312 \nL 86.900091 273.312 \nL 86.900091 156.449511 \nL 80.407 156.449511 \nz\n\" clip-path=\"url(#pd7a08c139b)\" style=\"fill: #e24a33; stroke: #eeeeee; stroke-width: 0.5; stroke-linejoin: miter\"/>\n   </g>\n   <g id=\"patch_7\">\n    <path d=\"M 86.900091 273.312 \nL 93.393182 273.312 \nL 93.393182 162.228052 \nL 86.900091 162.228052 \nz\n\" clip-path=\"url(#pd7a08c139b)\" style=\"fill: #e24a33; stroke: #eeeeee; stroke-width: 0.5; stroke-linejoin: miter\"/>\n   </g>\n   <g id=\"patch_8\">\n    <path d=\"M 93.393182 273.312 \nL 99.886273 273.312 \nL 99.886273 80.444704 \nL 93.393182 80.444704 \nz\n\" clip-path=\"url(#pd7a08c139b)\" style=\"fill: #e24a33; stroke: #eeeeee; stroke-width: 0.5; stroke-linejoin: miter\"/>\n   </g>\n   <g id=\"patch_9\">\n    <path d=\"M 99.886273 273.312 \nL 106.379364 273.312 \nL 106.379364 22.659296 \nL 99.886273 22.659296 \nz\n\" clip-path=\"url(#pd7a08c139b)\" style=\"fill: #e24a33; stroke: #eeeeee; stroke-width: 0.5; stroke-linejoin: miter\"/>\n   </g>\n   <g id=\"patch_10\">\n    <path d=\"M 106.379364 273.312 \nL 112.872455 273.312 \nL 112.872455 29.321614 \nL 106.379364 29.321614 \nz\n\" clip-path=\"url(#pd7a08c139b)\" style=\"fill: #e24a33; stroke: #eeeeee; stroke-width: 0.5; stroke-linejoin: miter\"/>\n   </g>\n   <g id=\"patch_11\">\n    <path d=\"M 112.872455 273.312 \nL 119.365545 273.312 \nL 119.365545 19.872 \nL 112.872455 19.872 \nz\n\" clip-path=\"url(#pd7a08c139b)\" style=\"fill: #e24a33; stroke: #eeeeee; stroke-width: 0.5; stroke-linejoin: miter\"/>\n   </g>\n   <g id=\"patch_12\">\n    <path d=\"M 119.365545 273.312 \nL 125.858636 273.312 \nL 125.858636 132.383588 \nL 119.365545 132.383588 \nz\n\" clip-path=\"url(#pd7a08c139b)\" style=\"fill: #e24a33; stroke: #eeeeee; stroke-width: 0.5; stroke-linejoin: miter\"/>\n   </g>\n   <g id=\"patch_13\">\n    <path d=\"M 125.858636 273.312 \nL 132.351727 273.312 \nL 132.351727 115.38788 \nL 125.858636 115.38788 \nz\n\" clip-path=\"url(#pd7a08c139b)\" style=\"fill: #e24a33; stroke: #eeeeee; stroke-width: 0.5; stroke-linejoin: miter\"/>\n   </g>\n   <g id=\"patch_14\">\n    <path d=\"M 132.351727 273.312 \nL 138.844818 273.312 \nL 138.844818 126.061185 \nL 132.351727 126.061185 \nz\n\" clip-path=\"url(#pd7a08c139b)\" style=\"fill: #e24a33; stroke: #eeeeee; stroke-width: 0.5; stroke-linejoin: miter\"/>\n   </g>\n   <g id=\"patch_15\">\n    <path d=\"M 138.844818 273.312 \nL 145.337909 273.312 \nL 145.337909 186.837837 \nL 138.844818 186.837837 \nz\n\" clip-path=\"url(#pd7a08c139b)\" style=\"fill: #e24a33; stroke: #eeeeee; stroke-width: 0.5; stroke-linejoin: miter\"/>\n   </g>\n   <g id=\"patch_16\">\n    <path d=\"M 145.337909 273.312 \nL 151.831 273.312 \nL 151.831 214.710798 \nL 145.337909 214.710798 \nz\n\" clip-path=\"url(#pd7a08c139b)\" style=\"fill: #e24a33; stroke: #eeeeee; stroke-width: 0.5; stroke-linejoin: miter\"/>\n   </g>\n   <g id=\"patch_17\">\n    <path d=\"M 151.831 273.312 \nL 158.324091 273.312 \nL 158.324091 168.074575 \nL 151.831 168.074575 \nz\n\" clip-path=\"url(#pd7a08c139b)\" style=\"fill: #e24a33; stroke: #eeeeee; stroke-width: 0.5; stroke-linejoin: miter\"/>\n   </g>\n   <g id=\"patch_18\">\n    <path d=\"M 158.324091 273.312 \nL 164.817182 273.312 \nL 164.817182 221.577064 \nL 158.324091 221.577064 \nz\n\" clip-path=\"url(#pd7a08c139b)\" style=\"fill: #e24a33; stroke: #eeeeee; stroke-width: 0.5; stroke-linejoin: miter\"/>\n   </g>\n   <g id=\"patch_19\">\n    <path d=\"M 164.817182 273.312 \nL 171.310273 273.312 \nL 171.310273 188.469425 \nL 164.817182 188.469425 \nz\n\" clip-path=\"url(#pd7a08c139b)\" style=\"fill: #e24a33; stroke: #eeeeee; stroke-width: 0.5; stroke-linejoin: miter\"/>\n   </g>\n   <g id=\"patch_20\">\n    <path d=\"M 171.310273 273.312 \nL 177.803364 273.312 \nL 177.803364 229.599039 \nL 171.310273 229.599039 \nz\n\" clip-path=\"url(#pd7a08c139b)\" style=\"fill: #e24a33; stroke: #eeeeee; stroke-width: 0.5; stroke-linejoin: miter\"/>\n   </g>\n   <g id=\"patch_21\">\n    <path d=\"M 177.803364 273.312 \nL 184.296455 273.312 \nL 184.296455 238.776721 \nL 177.803364 238.776721 \nz\n\" clip-path=\"url(#pd7a08c139b)\" style=\"fill: #e24a33; stroke: #eeeeee; stroke-width: 0.5; stroke-linejoin: miter\"/>\n   </g>\n   <g id=\"patch_22\">\n    <path d=\"M 184.296455 273.312 \nL 190.789545 273.312 \nL 190.789545 207.096721 \nL 184.296455 207.096721 \nz\n\" clip-path=\"url(#pd7a08c139b)\" style=\"fill: #e24a33; stroke: #eeeeee; stroke-width: 0.5; stroke-linejoin: miter\"/>\n   </g>\n   <g id=\"patch_23\">\n    <path d=\"M 190.789545 273.312 \nL 197.282636 273.312 \nL 197.282636 244.419296 \nL 190.789545 244.419296 \nz\n\" clip-path=\"url(#pd7a08c139b)\" style=\"fill: #e24a33; stroke: #eeeeee; stroke-width: 0.5; stroke-linejoin: miter\"/>\n   </g>\n   <g id=\"patch_24\">\n    <path d=\"M 197.282636 273.312 \nL 203.775727 273.312 \nL 203.775727 228.239382 \nL 197.282636 228.239382 \nz\n\" clip-path=\"url(#pd7a08c139b)\" style=\"fill: #e24a33; stroke: #eeeeee; stroke-width: 0.5; stroke-linejoin: miter\"/>\n   </g>\n   <g id=\"patch_25\">\n    <path d=\"M 203.775727 273.312 \nL 210.268818 273.312 \nL 210.268818 254.956635 \nL 203.775727 254.956635 \nz\n\" clip-path=\"url(#pd7a08c139b)\" style=\"fill: #e24a33; stroke: #eeeeee; stroke-width: 0.5; stroke-linejoin: miter\"/>\n   </g>\n   <g id=\"patch_26\">\n    <path d=\"M 210.268818 273.312 \nL 216.761909 273.312 \nL 216.761909 260.12333 \nL 210.268818 260.12333 \nz\n\" clip-path=\"url(#pd7a08c139b)\" style=\"fill: #e24a33; stroke: #eeeeee; stroke-width: 0.5; stroke-linejoin: miter\"/>\n   </g>\n   <g id=\"patch_27\">\n    <path d=\"M 216.761909 273.312 \nL 223.255 273.312 \nL 223.255 249.518009 \nL 216.761909 249.518009 \nz\n\" clip-path=\"url(#pd7a08c139b)\" style=\"fill: #e24a33; stroke: #eeeeee; stroke-width: 0.5; stroke-linejoin: miter\"/>\n   </g>\n   <g id=\"patch_28\">\n    <path d=\"M 223.255 273.312 \nL 229.748091 273.312 \nL 229.748091 264.814146 \nL 223.255 264.814146 \nz\n\" clip-path=\"url(#pd7a08c139b)\" style=\"fill: #e24a33; stroke: #eeeeee; stroke-width: 0.5; stroke-linejoin: miter\"/>\n   </g>\n   <g id=\"patch_29\">\n    <path d=\"M 229.748091 273.312 \nL 236.241182 273.312 \nL 236.241182 261.07509 \nL 229.748091 261.07509 \nz\n\" clip-path=\"url(#pd7a08c139b)\" style=\"fill: #e24a33; stroke: #eeeeee; stroke-width: 0.5; stroke-linejoin: miter\"/>\n   </g>\n   <g id=\"patch_30\">\n    <path d=\"M 236.241182 273.312 \nL 242.734273 273.312 \nL 242.734273 267.737408 \nL 236.241182 267.737408 \nz\n\" clip-path=\"url(#pd7a08c139b)\" style=\"fill: #e24a33; stroke: #eeeeee; stroke-width: 0.5; stroke-linejoin: miter\"/>\n   </g>\n   <g id=\"patch_31\">\n    <path d=\"M 242.734273 273.312 \nL 249.227364 273.312 \nL 249.227364 269.640927 \nL 242.734273 269.640927 \nz\n\" clip-path=\"url(#pd7a08c139b)\" style=\"fill: #e24a33; stroke: #eeeeee; stroke-width: 0.5; stroke-linejoin: miter\"/>\n   </g>\n   <g id=\"patch_32\">\n    <path d=\"M 249.227364 273.312 \nL 255.720455 273.312 \nL 255.720455 268.893116 \nL 249.227364 268.893116 \nz\n\" clip-path=\"url(#pd7a08c139b)\" style=\"fill: #e24a33; stroke: #eeeeee; stroke-width: 0.5; stroke-linejoin: miter\"/>\n   </g>\n   <g id=\"patch_33\">\n    <path d=\"M 255.720455 273.312 \nL 262.213545 273.312 \nL 262.213545 271.816378 \nL 255.720455 271.816378 \nz\n\" clip-path=\"url(#pd7a08c139b)\" style=\"fill: #e24a33; stroke: #eeeeee; stroke-width: 0.5; stroke-linejoin: miter\"/>\n   </g>\n   <g id=\"patch_34\">\n    <path d=\"M 262.213545 273.312 \nL 268.706636 273.312 \nL 268.706636 272.020326 \nL 262.213545 272.020326 \nz\n\" clip-path=\"url(#pd7a08c139b)\" style=\"fill: #e24a33; stroke: #eeeeee; stroke-width: 0.5; stroke-linejoin: miter\"/>\n   </g>\n   <g id=\"patch_35\">\n    <path d=\"M 268.706636 273.312 \nL 275.199727 273.312 \nL 275.199727 271.816378 \nL 268.706636 271.816378 \nz\n\" clip-path=\"url(#pd7a08c139b)\" style=\"fill: #e24a33; stroke: #eeeeee; stroke-width: 0.5; stroke-linejoin: miter\"/>\n   </g>\n   <g id=\"patch_36\">\n    <path d=\"M 275.199727 273.312 \nL 281.692818 273.312 \nL 281.692818 272.564189 \nL 275.199727 272.564189 \nz\n\" clip-path=\"url(#pd7a08c139b)\" style=\"fill: #e24a33; stroke: #eeeeee; stroke-width: 0.5; stroke-linejoin: miter\"/>\n   </g>\n   <g id=\"patch_37\">\n    <path d=\"M 281.692818 273.312 \nL 288.185909 273.312 \nL 288.185909 271.952343 \nL 281.692818 271.952343 \nz\n\" clip-path=\"url(#pd7a08c139b)\" style=\"fill: #e24a33; stroke: #eeeeee; stroke-width: 0.5; stroke-linejoin: miter\"/>\n   </g>\n   <g id=\"patch_38\">\n    <path d=\"M 288.185909 273.312 \nL 294.679 273.312 \nL 294.679 272.904103 \nL 288.185909 272.904103 \nz\n\" clip-path=\"url(#pd7a08c139b)\" style=\"fill: #e24a33; stroke: #eeeeee; stroke-width: 0.5; stroke-linejoin: miter\"/>\n   </g>\n   <g id=\"patch_39\">\n    <path d=\"M 294.679 273.312 \nL 301.172091 273.312 \nL 301.172091 273.244017 \nL 294.679 273.244017 \nz\n\" clip-path=\"url(#pd7a08c139b)\" style=\"fill: #e24a33; stroke: #eeeeee; stroke-width: 0.5; stroke-linejoin: miter\"/>\n   </g>\n   <g id=\"patch_40\">\n    <path d=\"M 301.172091 273.312 \nL 307.665182 273.312 \nL 307.665182 272.972086 \nL 301.172091 272.972086 \nz\n\" clip-path=\"url(#pd7a08c139b)\" style=\"fill: #e24a33; stroke: #eeeeee; stroke-width: 0.5; stroke-linejoin: miter\"/>\n   </g>\n   <g id=\"patch_41\">\n    <path d=\"M 307.665182 273.312 \nL 314.158273 273.312 \nL 314.158273 273.176034 \nL 307.665182 273.176034 \nz\n\" clip-path=\"url(#pd7a08c139b)\" style=\"fill: #e24a33; stroke: #eeeeee; stroke-width: 0.5; stroke-linejoin: miter\"/>\n   </g>\n   <g id=\"patch_42\">\n    <path d=\"M 314.158273 273.312 \nL 320.651364 273.312 \nL 320.651364 273.040069 \nL 314.158273 273.040069 \nz\n\" clip-path=\"url(#pd7a08c139b)\" style=\"fill: #e24a33; stroke: #eeeeee; stroke-width: 0.5; stroke-linejoin: miter\"/>\n   </g>\n   <g id=\"patch_43\">\n    <path d=\"M 320.651364 273.312 \nL 327.144455 273.312 \nL 327.144455 273.244017 \nL 320.651364 273.244017 \nz\n\" clip-path=\"url(#pd7a08c139b)\" style=\"fill: #e24a33; stroke: #eeeeee; stroke-width: 0.5; stroke-linejoin: miter\"/>\n   </g>\n   <g id=\"patch_44\">\n    <path d=\"M 327.144455 273.312 \nL 333.637545 273.312 \nL 333.637545 273.312 \nL 327.144455 273.312 \nz\n\" clip-path=\"url(#pd7a08c139b)\" style=\"fill: #e24a33; stroke: #eeeeee; stroke-width: 0.5; stroke-linejoin: miter\"/>\n   </g>\n   <g id=\"patch_45\">\n    <path d=\"M 333.637545 273.312 \nL 340.130636 273.312 \nL 340.130636 273.108052 \nL 333.637545 273.108052 \nz\n\" clip-path=\"url(#pd7a08c139b)\" style=\"fill: #e24a33; stroke: #eeeeee; stroke-width: 0.5; stroke-linejoin: miter\"/>\n   </g>\n   <g id=\"patch_46\">\n    <path d=\"M 340.130636 273.312 \nL 346.623727 273.312 \nL 346.623727 273.244017 \nL 340.130636 273.244017 \nz\n\" clip-path=\"url(#pd7a08c139b)\" style=\"fill: #e24a33; stroke: #eeeeee; stroke-width: 0.5; stroke-linejoin: miter\"/>\n   </g>\n   <g id=\"patch_47\">\n    <path d=\"M 346.623727 273.312 \nL 353.116818 273.312 \nL 353.116818 273.244017 \nL 346.623727 273.244017 \nz\n\" clip-path=\"url(#pd7a08c139b)\" style=\"fill: #e24a33; stroke: #eeeeee; stroke-width: 0.5; stroke-linejoin: miter\"/>\n   </g>\n   <g id=\"patch_48\">\n    <path d=\"M 353.116818 273.312 \nL 359.609909 273.312 \nL 359.609909 273.312 \nL 353.116818 273.312 \nz\n\" clip-path=\"url(#pd7a08c139b)\" style=\"fill: #e24a33; stroke: #eeeeee; stroke-width: 0.5; stroke-linejoin: miter\"/>\n   </g>\n   <g id=\"patch_49\">\n    <path d=\"M 359.609909 273.312 \nL 366.103 273.312 \nL 366.103 273.312 \nL 359.609909 273.312 \nz\n\" clip-path=\"url(#pd7a08c139b)\" style=\"fill: #e24a33; stroke: #eeeeee; stroke-width: 0.5; stroke-linejoin: miter\"/>\n   </g>\n   <g id=\"patch_50\">\n    <path d=\"M 366.103 273.312 \nL 372.596091 273.312 \nL 372.596091 273.244017 \nL 366.103 273.244017 \nz\n\" clip-path=\"url(#pd7a08c139b)\" style=\"fill: #e24a33; stroke: #eeeeee; stroke-width: 0.5; stroke-linejoin: miter\"/>\n   </g>\n   <g id=\"patch_51\">\n    <path d=\"M 372.596091 273.312 \nL 379.089182 273.312 \nL 379.089182 273.312 \nL 372.596091 273.312 \nz\n\" clip-path=\"url(#pd7a08c139b)\" style=\"fill: #e24a33; stroke: #eeeeee; stroke-width: 0.5; stroke-linejoin: miter\"/>\n   </g>\n   <g id=\"patch_52\">\n    <path d=\"M 379.089182 273.312 \nL 385.582273 273.312 \nL 385.582273 273.244017 \nL 379.089182 273.244017 \nz\n\" clip-path=\"url(#pd7a08c139b)\" style=\"fill: #e24a33; stroke: #eeeeee; stroke-width: 0.5; stroke-linejoin: miter\"/>\n   </g>\n   <g id=\"patch_53\">\n    <path d=\"M 44.695 273.312 \nL 44.695 7.2 \n\" style=\"fill: none; stroke: #ffffff; stroke-linejoin: miter; stroke-linecap: square\"/>\n   </g>\n   <g id=\"patch_54\">\n    <path d=\"M 401.815 273.312 \nL 401.815 7.2 \n\" style=\"fill: none; stroke: #ffffff; stroke-linejoin: miter; stroke-linecap: square\"/>\n   </g>\n   <g id=\"patch_55\">\n    <path d=\"M 44.695 273.312 \nL 401.815 273.312 \n\" style=\"fill: none; stroke: #ffffff; stroke-linejoin: miter; stroke-linecap: square\"/>\n   </g>\n   <g id=\"patch_56\">\n    <path d=\"M 44.695 7.2 \nL 401.815 7.2 \n\" style=\"fill: none; stroke: #ffffff; stroke-linejoin: miter; stroke-linecap: square\"/>\n   </g>\n  </g>\n </g>\n <defs>\n  <clipPath id=\"pd7a08c139b\">\n   <rect x=\"44.695\" y=\"7.2\" width=\"357.12\" height=\"266.112\"/>\n  </clipPath>\n </defs>\n</svg>\n"
          },
          "metadata": {}
        }
      ]
    },
    {
      "metadata": {
        "collapsed": true,
        "_cell_guid": "4efea2e0-276c-44bb-b0ce-c94ac99cbf91",
        "_uuid": "db68187a5ea707569031c83db34ca4284025bb8b",
        "trusted": true,
        "colab": {
          "base_uri": "https://localhost:8080/"
        },
        "id": "5y5iUHdq7mEF",
        "outputId": "4036099d-5daa-4cdf-f832-e2b890a20b47"
      },
      "cell_type": "code",
      "source": [
        "words = list(set(dataset[\"word\"].values))\n",
        "words.append(\"ENDPAD\")\n",
        "print(f\"words : {words[:5]}\")\n",
        "tags = list(set(dataset[\"tag\"].values))\n",
        "print(f\"tags : {tags[:5]}\")\n",
        "n_words = len(words)\n",
        "n_tags = len(tags)\n",
        "print(f\"n_words : {n_words}  & n_tags : {n_tags}\")"
      ],
      "execution_count": null,
      "outputs": [
        {
          "output_type": "stream",
          "name": "stdout",
          "text": [
            "words : ['rank-and-file', 'challenged', 'plunge', 'Asghari', 'Areas']\n",
            "tags : ['I-gpe', 'B-eve', 'B-per', 'B-gpe', 'I-nat']\n",
            "n_words : 30174  & n_tags : 18\n"
          ]
        }
      ]
    },
    {
      "metadata": {
        "_cell_guid": "15e92312-4539-490c-a34a-8d8c91e97e0e",
        "_uuid": "8d7134b27205443861225d5820d2ac9e0049e30e",
        "id": "M3V3lscI7mEM"
      },
      "cell_type": "markdown",
      "source": [
        "**Converting words to numbers and numbers to words**"
      ]
    },
    {
      "metadata": {
        "collapsed": true,
        "_cell_guid": "805f61f0-ec6b-4afc-a1f6-60a5fe015023",
        "_uuid": "b8109f08b55281540b01c07d95666b2f413aa0a8",
        "trusted": true,
        "colab": {
          "base_uri": "https://localhost:8080/"
        },
        "id": "cL5DdAIi7mEN",
        "outputId": "b1917ce0-5c5f-464d-ff38-66d752b52ae1"
      },
      "cell_type": "code",
      "source": [
        "word2idx = {w: i for i, w in enumerate(words)}\n",
        "tag2idx = {t: i for i, t in enumerate(tags)}\n",
        "print(f'Obama : {word2idx[\"Obama\"]} , O : {tag2idx[\"O\"]}')"
      ],
      "execution_count": null,
      "outputs": [
        {
          "output_type": "stream",
          "name": "stdout",
          "text": [
            "Obama : 2929 , O : 16\n"
          ]
        }
      ]
    },
    {
      "cell_type": "code",
      "source": [
        "sentences[5]"
      ],
      "metadata": {
        "colab": {
          "base_uri": "https://localhost:8080/"
        },
        "id": "5M5o-v5QGJXp",
        "outputId": "05413f65-bde0-4815-d070-661506f52240"
      },
      "execution_count": null,
      "outputs": [
        {
          "output_type": "execute_result",
          "data": {
            "text/plain": [
              "[('The', 'O'),\n",
              " ('party', 'O'),\n",
              " ('is', 'O'),\n",
              " ('divided', 'O'),\n",
              " ('over', 'O'),\n",
              " ('Britain', 'B-gpe'),\n",
              " (\"'s\", 'O'),\n",
              " ('participation', 'O'),\n",
              " ('in', 'O'),\n",
              " ('the', 'O'),\n",
              " ('Iraq', 'B-geo'),\n",
              " ('conflict', 'O'),\n",
              " ('and', 'O'),\n",
              " ('the', 'O'),\n",
              " ('continued', 'O'),\n",
              " ('deployment', 'O'),\n",
              " ('of', 'O'),\n",
              " ('8,500', 'O'),\n",
              " ('British', 'B-gpe'),\n",
              " ('troops', 'O'),\n",
              " ('in', 'O'),\n",
              " ('that', 'O'),\n",
              " ('country', 'O'),\n",
              " ('.', 'O'),\n",
              " ('The', 'O'),\n",
              " ('party', 'O'),\n",
              " ('is', 'O'),\n",
              " ('divided', 'O'),\n",
              " ('over', 'O'),\n",
              " ('Britain', 'B-gpe'),\n",
              " (\"'s\", 'O'),\n",
              " ('participation', 'O'),\n",
              " ('in', 'O'),\n",
              " ('the', 'O'),\n",
              " ('Iraq', 'B-geo'),\n",
              " ('conflict', 'O'),\n",
              " ('and', 'O'),\n",
              " ('the', 'O'),\n",
              " ('continued', 'O'),\n",
              " ('deployment', 'O'),\n",
              " ('of', 'O'),\n",
              " ('8,500', 'O'),\n",
              " ('British', 'B-gpe'),\n",
              " ('troops', 'O'),\n",
              " ('in', 'O'),\n",
              " ('that', 'O'),\n",
              " ('country', 'O'),\n",
              " ('.', 'O')]"
            ]
          },
          "metadata": {},
          "execution_count": 56
        }
      ]
    },
    {
      "cell_type": "code",
      "source": [
        "from tensorflow.keras.preprocessing.sequence import pad_sequences\n",
        "from keras.utils import to_categorical\n",
        "\n",
        "from tensorflow.keras import Model, Input\n",
        "from keras.layers import LSTM, Embedding, Dense, TimeDistributed, Dropout, Bidirectional\n",
        "\n",
        "from keras.models import load_model"
      ],
      "metadata": {
        "id": "K8--PizI1bHT"
      },
      "execution_count": 6,
      "outputs": []
    },
    {
      "metadata": {
        "_cell_guid": "5cd7d9ad-77ae-49ba-b99e-6429a949dede",
        "_uuid": "b25bb0979a6bbe8c6eb11b05c23109592d318a5b",
        "trusted": true,
        "id": "E9b68FFb7mER"
      },
      "cell_type": "code",
      "source": [
        "\n",
        "X = [[word2idx[w[0]] for w in s] for s in sentences]\n",
        "X = pad_sequences(maxlen=140, sequences=X, padding=\"post\",value=n_words - 1)\n",
        "y = [[tag2idx[w[1]] for w in s] for s in sentences]\n",
        "y = pad_sequences(maxlen=140, sequences=y, padding=\"post\", value=tag2idx[\"O\"])\n",
        "y = [to_categorical(i, num_classes=n_tags) for i in y]\n",
        "\n",
        "from sklearn.model_selection import train_test_split\n",
        "X_train, X_test, y_train, y_test = train_test_split(X, y, test_size=0.2)"
      ],
      "execution_count": null,
      "outputs": []
    },
    {
      "metadata": {
        "_cell_guid": "b8ad552d-ba01-4421-b57c-893b286b7023",
        "_uuid": "c97f42b1c86f9e9b82f9eff323789795ebb05bcd",
        "trusted": true,
        "collapsed": true,
        "colab": {
          "base_uri": "https://localhost:8080/"
        },
        "id": "UAVafGr67mEh",
        "outputId": "6ba3418d-7066-4dcd-b2ba-34cfb2421454"
      },
      "cell_type": "code",
      "source": [
        "\n",
        "\n",
        "input = Input(shape=(maxlen,))\n",
        "model = Embedding(input_dim=n_words, output_dim=maxlen, input_length=maxlen)(input)\n",
        "model = Dropout(0.1)(model)\n",
        "model = Bidirectional(LSTM(units=100, return_sequences=True, recurrent_dropout=0.1))(model)\n",
        "out = TimeDistributed(Dense(n_tags, activation=\"softmax\"))(model)  # softmax output layer\n",
        "model = Model(input, out)\n",
        "model.compile(optimizer=\"adam\", loss=\"categorical_crossentropy\", metrics=[\"accuracy\"])\n",
        "model.summary()"
      ],
      "execution_count": null,
      "outputs": [
        {
          "output_type": "stream",
          "name": "stderr",
          "text": [
            "WARNING:tensorflow:Layer lstm will not use cuDNN kernels since it doesn't meet the criteria. It will use a generic GPU kernel as fallback when running on GPU.\n",
            "WARNING:tensorflow:Layer lstm will not use cuDNN kernels since it doesn't meet the criteria. It will use a generic GPU kernel as fallback when running on GPU.\n",
            "WARNING:tensorflow:Layer lstm will not use cuDNN kernels since it doesn't meet the criteria. It will use a generic GPU kernel as fallback when running on GPU.\n"
          ]
        },
        {
          "output_type": "stream",
          "name": "stdout",
          "text": [
            "Model: \"model\"\n",
            "_________________________________________________________________\n",
            " Layer (type)                Output Shape              Param #   \n",
            "=================================================================\n",
            " input_1 (InputLayer)        [(None, 140)]             0         \n",
            "                                                                 \n",
            " embedding (Embedding)       (None, 140, 140)          4224360   \n",
            "                                                                 \n",
            " dropout (Dropout)           (None, 140, 140)          0         \n",
            "                                                                 \n",
            " bidirectional (Bidirectiona  (None, 140, 200)         192800    \n",
            " l)                                                              \n",
            "                                                                 \n",
            " time_distributed (TimeDistr  (None, 140, 18)          3618      \n",
            " ibuted)                                                         \n",
            "                                                                 \n",
            "=================================================================\n",
            "Total params: 4,420,778\n",
            "Trainable params: 4,420,778\n",
            "Non-trainable params: 0\n",
            "_________________________________________________________________\n"
          ]
        }
      ]
    },
    {
      "metadata": {
        "_cell_guid": "5df5d6eb-2285-4a57-b5a0-d0bcbf79c483",
        "_uuid": "93e241a9304d00294cb0f675f1e42b5dbb6a1c07",
        "trusted": true,
        "scrolled": true,
        "colab": {
          "base_uri": "https://localhost:8080/"
        },
        "id": "0aGEDvZl7mEo",
        "outputId": "b61f2fa8-96a0-4c6c-df24-f220220068df"
      },
      "cell_type": "code",
      "source": [
        "history = model.fit(X_train, np.array(y_train), batch_size=32, epochs=3, validation_split=0.2, verbose=1)"
      ],
      "execution_count": null,
      "outputs": [
        {
          "output_type": "stream",
          "name": "stdout",
          "text": [
            "Epoch 1/3\n",
            "704/704 [==============================] - 769s 1s/step - loss: 0.1263 - accuracy: 0.9749 - val_loss: 0.0454 - val_accuracy: 0.9878\n",
            "Epoch 2/3\n",
            "704/704 [==============================] - 715s 1s/step - loss: 0.0308 - accuracy: 0.9913 - val_loss: 0.0288 - val_accuracy: 0.9916\n",
            "Epoch 3/3\n",
            "704/704 [==============================] - 711s 1s/step - loss: 0.0204 - accuracy: 0.9939 - val_loss: 0.0265 - val_accuracy: 0.9921\n"
          ]
        }
      ]
    },
    {
      "metadata": {
        "trusted": true,
        "_uuid": "139269e019aaac2da260b0ee5a676a4c618f6673",
        "id": "qZkT0RSP7mEr",
        "colab": {
          "base_uri": "https://localhost:8080/"
        },
        "outputId": "e1159250-1954-41a3-8420-69a944b700cb"
      },
      "cell_type": "code",
      "source": [
        "i = 0\n",
        "p = model.predict(np.array([X_test[i]]))\n",
        "p = np.argmax(p, axis=-1)\n",
        "print(\"{:14} ({:5}): {}\".format(\"Word\", \"True\", \"Pred\"))\n",
        "for w,pred in zip(X_test[i],p[0]):\n",
        "    print(\"{:14}: {}\".format(words[w],tags[pred]))\n",
        "\n",
        "p[0]"
      ],
      "execution_count": null,
      "outputs": [
        {
          "output_type": "stream",
          "name": "stdout",
          "text": [
            "1/1 [==============================] - 1s 613ms/step\n",
            "Word           (True ): Pred\n",
            "On            : O\n",
            "the           : O\n",
            "political     : O\n",
            "front         : O\n",
            ",             : O\n",
            "Iraq          : B-geo\n",
            "'s            : O\n",
            "main          : O\n",
            "Shi'ite       : O\n",
            "alliance      : O\n",
            ",             : O\n",
            "which         : O\n",
            "swept         : O\n",
            "the           : O\n",
            "January       : B-tim\n",
            "30            : O\n",
            "elections     : O\n",
            ",             : O\n",
            "is            : O\n",
            "finalizing    : O\n",
            "a             : O\n",
            "deal          : O\n",
            "with          : O\n",
            "Kurdish       : O\n",
            "leaders       : O\n",
            "to            : O\n",
            "form          : O\n",
            "a             : O\n",
            "coalition     : O\n",
            "ahead         : O\n",
            "of            : O\n",
            "the           : O\n",
            "new           : O\n",
            "parliament    : O\n",
            "'s            : O\n",
            "first         : O\n",
            "session       : O\n",
            "next          : O\n",
            "Wednesday     : B-tim\n",
            ".             : O\n",
            "On            : O\n",
            "the           : O\n",
            "political     : O\n",
            "front         : O\n",
            ",             : O\n",
            "Iraq          : B-geo\n",
            "'s            : O\n",
            "main          : O\n",
            "Shi'ite       : O\n",
            "alliance      : O\n",
            ",             : O\n",
            "which         : O\n",
            "swept         : O\n",
            "the           : O\n",
            "January       : B-tim\n",
            "30            : O\n",
            "elections     : O\n",
            ",             : O\n",
            "is            : O\n",
            "finalizing    : O\n",
            "a             : O\n",
            "deal          : O\n",
            "with          : O\n",
            "Kurdish       : O\n",
            "leaders       : O\n",
            "to            : O\n",
            "form          : O\n",
            "a             : O\n",
            "coalition     : O\n",
            "ahead         : O\n",
            "of            : O\n",
            "the           : O\n",
            "new           : O\n",
            "parliament    : O\n",
            "'s            : O\n",
            "first         : O\n",
            "session       : O\n",
            "next          : O\n",
            "Wednesday     : B-tim\n",
            ".             : O\n",
            "ENDPAD        : O\n",
            "ENDPAD        : O\n",
            "ENDPAD        : O\n",
            "ENDPAD        : O\n",
            "ENDPAD        : O\n",
            "ENDPAD        : O\n",
            "ENDPAD        : O\n",
            "ENDPAD        : O\n",
            "ENDPAD        : O\n",
            "ENDPAD        : O\n",
            "ENDPAD        : O\n",
            "ENDPAD        : O\n",
            "ENDPAD        : O\n",
            "ENDPAD        : O\n",
            "ENDPAD        : O\n",
            "ENDPAD        : O\n",
            "ENDPAD        : O\n",
            "ENDPAD        : O\n",
            "ENDPAD        : O\n",
            "ENDPAD        : O\n",
            "ENDPAD        : O\n",
            "ENDPAD        : O\n",
            "ENDPAD        : O\n",
            "ENDPAD        : O\n",
            "ENDPAD        : O\n",
            "ENDPAD        : O\n",
            "ENDPAD        : O\n",
            "ENDPAD        : O\n",
            "ENDPAD        : O\n",
            "ENDPAD        : O\n",
            "ENDPAD        : O\n",
            "ENDPAD        : O\n",
            "ENDPAD        : O\n",
            "ENDPAD        : O\n",
            "ENDPAD        : O\n",
            "ENDPAD        : O\n",
            "ENDPAD        : O\n",
            "ENDPAD        : O\n",
            "ENDPAD        : O\n",
            "ENDPAD        : O\n",
            "ENDPAD        : O\n",
            "ENDPAD        : O\n",
            "ENDPAD        : O\n",
            "ENDPAD        : O\n",
            "ENDPAD        : O\n",
            "ENDPAD        : O\n",
            "ENDPAD        : O\n",
            "ENDPAD        : O\n",
            "ENDPAD        : O\n",
            "ENDPAD        : O\n",
            "ENDPAD        : O\n",
            "ENDPAD        : O\n",
            "ENDPAD        : O\n",
            "ENDPAD        : O\n",
            "ENDPAD        : O\n",
            "ENDPAD        : O\n",
            "ENDPAD        : O\n",
            "ENDPAD        : O\n",
            "ENDPAD        : O\n",
            "ENDPAD        : O\n"
          ]
        },
        {
          "output_type": "execute_result",
          "data": {
            "text/plain": [
              "array([16, 16, 16, 16, 16,  5, 16, 16, 16, 16, 16, 16, 16, 16, 14, 16, 16,\n",
              "       16, 16, 16, 16, 16, 16, 16, 16, 16, 16, 16, 16, 16, 16, 16, 16, 16,\n",
              "       16, 16, 16, 16, 14, 16, 16, 16, 16, 16, 16,  5, 16, 16, 16, 16, 16,\n",
              "       16, 16, 16, 14, 16, 16, 16, 16, 16, 16, 16, 16, 16, 16, 16, 16, 16,\n",
              "       16, 16, 16, 16, 16, 16, 16, 16, 16, 16, 14, 16, 16, 16, 16, 16, 16,\n",
              "       16, 16, 16, 16, 16, 16, 16, 16, 16, 16, 16, 16, 16, 16, 16, 16, 16,\n",
              "       16, 16, 16, 16, 16, 16, 16, 16, 16, 16, 16, 16, 16, 16, 16, 16, 16,\n",
              "       16, 16, 16, 16, 16, 16, 16, 16, 16, 16, 16, 16, 16, 16, 16, 16, 16,\n",
              "       16, 16, 16, 16])"
            ]
          },
          "metadata": {},
          "execution_count": 35
        }
      ]
    },
    {
      "metadata": {
        "trusted": true,
        "_uuid": "715463a69f08ef2ab2c405ba2e8df57049e93c5e",
        "id": "YxOiGAKD7mEt",
        "colab": {
          "base_uri": "https://localhost:8080/"
        },
        "outputId": "fd6ff959-ee0b-48d6-b67e-beed0831338f"
      },
      "cell_type": "code",
      "source": [
        "model.save('ner_bilstm.h5')\n",
        "del model  "
      ],
      "execution_count": null,
      "outputs": [
        {
          "output_type": "stream",
          "name": "stderr",
          "text": [
            "WARNING:tensorflow:Layer lstm will not use cuDNN kernels since it doesn't meet the criteria. It will use a generic GPU kernel as fallback when running on GPU.\n",
            "WARNING:tensorflow:Layer lstm will not use cuDNN kernels since it doesn't meet the criteria. It will use a generic GPU kernel as fallback when running on GPU.\n",
            "WARNING:tensorflow:Layer lstm will not use cuDNN kernels since it doesn't meet the criteria. It will use a generic GPU kernel as fallback when running on GPU.\n"
          ]
        }
      ]
    },
    {
      "cell_type": "code",
      "source": [
        "import shutil\n",
        "\n",
        "shutil.copy(\"/content/content/MyDrive/NER_Data/ner_bilstm.h5\",\".\")"
      ],
      "metadata": {
        "colab": {
          "base_uri": "https://localhost:8080/",
          "height": 41
        },
        "id": "CmAnBuMAyLzr",
        "outputId": "9a031fa8-401d-4572-c732-3bfd1d98a07d"
      },
      "execution_count": 3,
      "outputs": [
        {
          "output_type": "execute_result",
          "data": {
            "text/plain": [
              "'./ner_bilstm.h5'"
            ],
            "application/vnd.google.colaboratory.intrinsic+json": {
              "type": "string"
            }
          },
          "metadata": {},
          "execution_count": 3
        }
      ]
    },
    {
      "cell_type": "code",
      "source": [
        "model = load_model('ner_bilstm.h5')\n",
        "dataset = pd.read_csv(\"ner.csv\", encoding = \"ISO-8859-1\", error_bad_lines=False)\n",
        "words = list(set(dataset[\"word\"].values))\n",
        "tags = list(set(dataset[\"tag\"].values))\n",
        "words.append(\"ENDPAD\")\n",
        "word2idx = {w: i for i, w in enumerate(words)}\n",
        "maxlen = 140 # if we're only doing inference\n",
        "model.summary()"
      ],
      "metadata": {
        "colab": {
          "base_uri": "https://localhost:8080/"
        },
        "id": "8cWz3kYCxLnc",
        "outputId": "b4300a56-21b1-410a-f59c-e658bfc08359"
      },
      "execution_count": 11,
      "outputs": [
        {
          "output_type": "stream",
          "name": "stderr",
          "text": [
            "WARNING:tensorflow:Layer lstm will not use cuDNN kernels since it doesn't meet the criteria. It will use a generic GPU kernel as fallback when running on GPU.\n",
            "WARNING:tensorflow:Layer lstm will not use cuDNN kernels since it doesn't meet the criteria. It will use a generic GPU kernel as fallback when running on GPU.\n",
            "WARNING:tensorflow:Layer lstm will not use cuDNN kernels since it doesn't meet the criteria. It will use a generic GPU kernel as fallback when running on GPU.\n",
            "<ipython-input-11-e3e251d1c72c>:2: FutureWarning: The error_bad_lines argument has been deprecated and will be removed in a future version. Use on_bad_lines in the future.\n",
            "\n",
            "\n",
            "  dataset = pd.read_csv(\"ner.csv\", encoding = \"ISO-8859-1\", error_bad_lines=False)\n",
            "Skipping line 281837: expected 25 fields, saw 34\n",
            "\n"
          ]
        },
        {
          "output_type": "stream",
          "name": "stdout",
          "text": [
            "Model: \"model\"\n",
            "_________________________________________________________________\n",
            " Layer (type)                Output Shape              Param #   \n",
            "=================================================================\n",
            " input_1 (InputLayer)        [(None, 140)]             0         \n",
            "                                                                 \n",
            " embedding (Embedding)       (None, 140, 140)          4224360   \n",
            "                                                                 \n",
            " dropout (Dropout)           (None, 140, 140)          0         \n",
            "                                                                 \n",
            " bidirectional (Bidirectiona  (None, 140, 200)         192800    \n",
            " l)                                                              \n",
            "                                                                 \n",
            " time_distributed (TimeDistr  (None, 140, 18)          3618      \n",
            " ibuted)                                                         \n",
            "                                                                 \n",
            "=================================================================\n",
            "Total params: 4,420,778\n",
            "Trainable params: 4,420,778\n",
            "Non-trainable params: 0\n",
            "_________________________________________________________________\n"
          ]
        }
      ]
    },
    {
      "cell_type": "markdown",
      "source": [
        "## Test on custom data"
      ],
      "metadata": {
        "id": "Dz43uEI9_ygU"
      }
    },
    {
      "cell_type": "code",
      "source": [
        "# multiple_custom_data = [\"This is a test sentence. Do NER on it\", \"Don't forget to put <ENDPAD>\",\"Can it detect U.S ?\",\"Monday is a week day\",\n",
        "#                \"The Indian Space Research Organisation or is the national space agency of India, headquartered in Bengaluru. It operates under Department of Space which is directly overseen by the Prime Minister of India while Chairman of ISRO acts as executive of DOS as well.\"]"
      ],
      "metadata": {
        "id": "Rthah_vtwSqM"
      },
      "execution_count": 13,
      "outputs": []
    },
    {
      "cell_type": "code",
      "source": [
        "custom_data = [\"The Indian Space Research Organisation or is the national space agency of India, headquartered in Bengaluru. It operates under Department of Space which is directly overseen by the Prime Minister of India while Chairman of ISRO acts as executive of DOS as well.\"]"
      ],
      "metadata": {
        "id": "R96Lwrd62RPU"
      },
      "execution_count": 17,
      "outputs": []
    },
    {
      "cell_type": "code",
      "source": [
        "\n",
        "# # Add 'ENDPAD' token to the words list\n",
        "# words.append(\"ENDPAD\")\n",
        "n_words = len(words)\n",
        "\n",
        "\n",
        "# Preprocess the custom data\n",
        "custom_sequences = [[word2idx.get(word, n_words - 1) for word in sentence.split()] for sentence in custom_data]\n",
        "custom_sequences = pad_sequences(maxlen=maxlen, sequences=custom_sequences, padding=\"post\", value=n_words - 1)\n",
        "\n",
        "# Predict tags for the custom data\n",
        "predictions = model.predict(np.array(custom_sequences))\n",
        "predicted_tags = np.argmax(predictions, axis=-1)\n",
        "\n",
        "# Map tag indices back to the original tags\n",
        "predicted_tags = [[tags[idx] for idx in sentence] for sentence in predicted_tags]\n",
        "\n",
        "# Print the results\n",
        "for sentence, tags in zip(custom_data, predicted_tags):\n",
        "    words = sentence.split()\n",
        "    print(\"Sentence:\", sentence)\n",
        "    print(\"Word\\t\\tTag\")\n",
        "    for word, tag in zip(words, tags):\n",
        "        print(f\"{word}\\t\\t{tag}\")\n",
        "    print()"
      ],
      "metadata": {
        "id": "nbmQgWTN_xTe",
        "colab": {
          "base_uri": "https://localhost:8080/"
        },
        "outputId": "3b30b2fc-8387-4234-efc4-67c99d09dfbd"
      },
      "execution_count": 19,
      "outputs": [
        {
          "output_type": "stream",
          "name": "stdout",
          "text": [
            "1/1 [==============================] - 0s 80ms/step\n",
            "Sentence: The Indian Space Research Organisation or is the national space agency of India, headquartered in Bengaluru. It operates under Department of Space which is directly overseen by the Prime Minister of India while Chairman of ISRO acts as executive of DOS as well.\n",
            "Word\t\tTag\n",
            "The\t\tI-tim\n",
            "Indian\t\tI-tim\n",
            "Space\t\tI-tim\n",
            "Research\t\tI-tim\n",
            "Organisation\t\tI-tim\n",
            "or\t\tI-tim\n",
            "is\t\tI-tim\n",
            "the\t\tI-tim\n",
            "national\t\tI-tim\n",
            "space\t\tI-tim\n",
            "agency\t\tI-tim\n",
            "of\t\tI-tim\n",
            "India,\t\tI-tim\n",
            "headquartered\t\tI-tim\n",
            "in\t\tI-tim\n",
            "Bengaluru.\t\tI-tim\n",
            "It\t\tI-tim\n",
            "operates\t\tI-tim\n",
            "under\t\tI-tim\n",
            "Department\t\tI-tim\n",
            "of\t\tI-tim\n",
            "Space\t\tI-tim\n",
            "which\t\tI-tim\n",
            "is\t\tI-tim\n",
            "directly\t\tI-tim\n",
            "overseen\t\tI-tim\n",
            "by\t\tI-tim\n",
            "the\t\tI-tim\n",
            "Prime\t\tI-tim\n",
            "Minister\t\tI-tim\n",
            "of\t\tI-tim\n",
            "India\t\tI-tim\n",
            "while\t\tI-tim\n",
            "Chairman\t\tI-tim\n",
            "of\t\tI-tim\n",
            "ISRO\t\tI-tim\n",
            "acts\t\tI-tim\n",
            "as\t\tI-tim\n",
            "executive\t\tI-tim\n",
            "of\t\tI-tim\n",
            "DOS\t\tI-tim\n",
            "as\t\tI-tim\n",
            "well.\t\tI-tim\n",
            "\n"
          ]
        }
      ]
    },
    {
      "metadata": {
        "trusted": true,
        "collapsed": true,
        "_uuid": "4dc5e6069a25ba00e1e34ad86c3b90de1f946f83",
        "id": "z78nQSy27mEx"
      },
      "cell_type": "code",
      "source": [
        "import spacy\n",
        "from spacy import displacy\n",
        "\n",
        "NER = spacy.load(\"en_core_web_sm\")"
      ],
      "execution_count": 3,
      "outputs": []
    },
    {
      "cell_type": "code",
      "source": [
        "text1= NER(custom_data[-1])\n",
        "\n",
        "for word in text1.ents:\n",
        "    print(word.text,word.label_)\n",
        "displacy.render(text1,style=\"ent\",jupyter=True)"
      ],
      "metadata": {
        "colab": {
          "base_uri": "https://localhost:8080/",
          "height": 244
        },
        "id": "TjfPLSyrwA5_",
        "outputId": "b2c3ab2c-761e-4ed5-bfaa-5821a7bc116a"
      },
      "execution_count": 7,
      "outputs": [
        {
          "output_type": "stream",
          "name": "stdout",
          "text": [
            "The Indian Space Research Organisation ORG\n",
            "India GPE\n",
            "Bengaluru GPE\n",
            "Department of Space ORG\n",
            "India GPE\n",
            "ISRO ORG\n",
            "DOS ORG\n"
          ]
        },
        {
          "output_type": "display_data",
          "data": {
            "text/plain": [
              "<IPython.core.display.HTML object>"
            ],
            "text/html": [
              "<span class=\"tex2jax_ignore\"><div class=\"entities\" style=\"line-height: 2.5; direction: ltr\">\n",
              "<mark class=\"entity\" style=\"background: #7aecec; padding: 0.45em 0.6em; margin: 0 0.25em; line-height: 1; border-radius: 0.35em;\">\n",
              "    The Indian Space Research Organisation\n",
              "    <span style=\"font-size: 0.8em; font-weight: bold; line-height: 1; border-radius: 0.35em; vertical-align: middle; margin-left: 0.5rem\">ORG</span>\n",
              "</mark>\n",
              " or is the national space agency of \n",
              "<mark class=\"entity\" style=\"background: #feca74; padding: 0.45em 0.6em; margin: 0 0.25em; line-height: 1; border-radius: 0.35em;\">\n",
              "    India\n",
              "    <span style=\"font-size: 0.8em; font-weight: bold; line-height: 1; border-radius: 0.35em; vertical-align: middle; margin-left: 0.5rem\">GPE</span>\n",
              "</mark>\n",
              ", headquartered in \n",
              "<mark class=\"entity\" style=\"background: #feca74; padding: 0.45em 0.6em; margin: 0 0.25em; line-height: 1; border-radius: 0.35em;\">\n",
              "    Bengaluru\n",
              "    <span style=\"font-size: 0.8em; font-weight: bold; line-height: 1; border-radius: 0.35em; vertical-align: middle; margin-left: 0.5rem\">GPE</span>\n",
              "</mark>\n",
              ". It operates under \n",
              "<mark class=\"entity\" style=\"background: #7aecec; padding: 0.45em 0.6em; margin: 0 0.25em; line-height: 1; border-radius: 0.35em;\">\n",
              "    Department of Space\n",
              "    <span style=\"font-size: 0.8em; font-weight: bold; line-height: 1; border-radius: 0.35em; vertical-align: middle; margin-left: 0.5rem\">ORG</span>\n",
              "</mark>\n",
              " which is directly overseen by the Prime Minister of \n",
              "<mark class=\"entity\" style=\"background: #feca74; padding: 0.45em 0.6em; margin: 0 0.25em; line-height: 1; border-radius: 0.35em;\">\n",
              "    India\n",
              "    <span style=\"font-size: 0.8em; font-weight: bold; line-height: 1; border-radius: 0.35em; vertical-align: middle; margin-left: 0.5rem\">GPE</span>\n",
              "</mark>\n",
              " while Chairman of \n",
              "<mark class=\"entity\" style=\"background: #7aecec; padding: 0.45em 0.6em; margin: 0 0.25em; line-height: 1; border-radius: 0.35em;\">\n",
              "    ISRO\n",
              "    <span style=\"font-size: 0.8em; font-weight: bold; line-height: 1; border-radius: 0.35em; vertical-align: middle; margin-left: 0.5rem\">ORG</span>\n",
              "</mark>\n",
              " acts as executive of \n",
              "<mark class=\"entity\" style=\"background: #7aecec; padding: 0.45em 0.6em; margin: 0 0.25em; line-height: 1; border-radius: 0.35em;\">\n",
              "    DOS\n",
              "    <span style=\"font-size: 0.8em; font-weight: bold; line-height: 1; border-radius: 0.35em; vertical-align: middle; margin-left: 0.5rem\">ORG</span>\n",
              "</mark>\n",
              " as well.</div></span>"
            ]
          },
          "metadata": {}
        }
      ]
    },
    {
      "cell_type": "code",
      "source": [],
      "metadata": {
        "id": "5-VH41HlwA-A"
      },
      "execution_count": null,
      "outputs": []
    }
  ],
  "metadata": {
    "kernelspec": {
      "display_name": "Python 3",
      "language": "python",
      "name": "python3"
    },
    "language_info": {
      "name": "python",
      "version": "3.6.6",
      "mimetype": "text/x-python",
      "codemirror_mode": {
        "name": "ipython",
        "version": 3
      },
      "pygments_lexer": "ipython3",
      "nbconvert_exporter": "python",
      "file_extension": ".py"
    },
    "colab": {
      "provenance": [],
      "gpuType": "T4"
    },
    "accelerator": "GPU",
    "gpuClass": "standard"
  },
  "nbformat": 4,
  "nbformat_minor": 0
}