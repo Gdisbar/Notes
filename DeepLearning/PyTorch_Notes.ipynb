{
  "metadata": {
    "kernelspec": {
      "language": "python",
      "display_name": "Python 3",
      "name": "python3"
    },
    "language_info": {
      "name": "python",
      "version": "3.10.12",
      "mimetype": "text/x-python",
      "codemirror_mode": {
        "name": "ipython",
        "version": 3
      },
      "pygments_lexer": "ipython3",
      "nbconvert_exporter": "python",
      "file_extension": ".py"
    },
    "kaggle": {
      "accelerator": "none",
      "dataSources": [],
      "dockerImageVersionId": 30558,
      "isInternetEnabled": true,
      "language": "python",
      "sourceType": "notebook",
      "isGpuEnabled": false
    },
    "colab": {
      "name": "PyTorch_Notes",
      "provenance": []
    }
  },
  "nbformat_minor": 0,
  "nbformat": 4,
  "cells": [
    {
      "cell_type": "code",
      "source": [
        "import numpy as np\n",
        "import pandas as pd\n",
        "import torch\n",
        "from torch.utils.data import Dataset,DataLoader"
      ],
      "metadata": {
        "_uuid": "8f2839f25d086af736a60e9eeb907d3b93b6e0e5",
        "_cell_guid": "b1076dfc-b9ad-4769-8c92-a6c4dae69d19",
        "execution": {
          "iopub.status.busy": "2023-12-24T01:43:32.505247Z",
          "iopub.execute_input": "2023-12-24T01:43:32.506055Z",
          "iopub.status.idle": "2023-12-24T01:43:36.875222Z",
          "shell.execute_reply.started": "2023-12-24T01:43:32.506015Z",
          "shell.execute_reply": "2023-12-24T01:43:36.873072Z"
        },
        "trusted": true,
        "id": "LD4Xh-TmcVLg"
      },
      "execution_count": null,
      "outputs": []
    },
    {
      "cell_type": "markdown",
      "source": [
        "# Types of torch.nn Layers + torch.optim Optimization function + torch.nn Loss function"
      ],
      "metadata": {
        "id": "ILvvpXPVcVLj"
      }
    },
    {
      "cell_type": "code",
      "source": [
        "import torch\n",
        "from torch import nn\n",
        "\n",
        "linear_layer = nn.Linear(in_features=10,out_features=5,bias=True)\n",
        "# conv1d -> text,conv2d -> heightXwidth (image),conv3d - heightXweightXtime (video)\n",
        "conv_1d = nn.Conv3d(in_channels=3,out_channels=5,kernel_size=3,stride=2,padding=2)\n",
        "\n",
        "#===============================================================================================\n",
        "#===============================================================================================\n",
        "\n",
        "## transformer layer\n",
        "transformer_model = nn.Transformer()\n",
        "# single encoder (embedding_dim=768)\n",
        "encoder_layer = nn.TransformerEncoderLayer(d_model=768,nhead=12)\n",
        "# stacked encoder\n",
        "transformer_encoder = nn.TransformerEncoder(encoder_layer=encoder_layer,num_layers=6)\n",
        "# single decoder layer\n",
        "decoder_layer = nn.TransformerDecoderLayer(d_model=768,nhead=12)\n",
        "# stacked decoder layer\n",
        "transformer_decoder = nn.TransformerDecoder(decoder_layer=decoder_layer,num_layers=6)\n",
        "\n",
        "#===============================================================================================\n",
        "#===============================================================================================\n",
        "\n",
        "# lstm cell\n",
        "lstm_cell = nn.LSTMCell(input_size=10,hidden_size=5)\n",
        "# Stack together LSTM cells - 3 stacked cells - similar for GRU\n",
        "lstm_stack = nn.LSTM(input_size=10,hidden_size=5, num_layers=3)\n",
        "bidirectional_lstm_stack = nn.LSTM(input_size=10,hidden_size=5,num_layers=3,bidirectional=True)\n",
        "\n",
        "#===============================================================================================\n",
        "#===============================================================================================\n",
        "# activation function - relu,sigmoid,softmax\n",
        "relu = nn.ReLU()\n",
        "# loss function\n",
        "mae = nn.L1Loss()\n",
        "mse = nn.MSELoss()\n",
        "binary_cross_entropy = nn.BCEWithLogitsLoss()\n",
        "multi_class_cross_entropy = nn.CrossEntropyLoss()\n",
        "\n",
        "#===============================================================================================\n",
        "#===============================================================================================\n",
        "\n",
        "# optimizer\n",
        "model = nn.Transformer()\n",
        "sgd = torch.optim.SGD(params=model.parameters(),lr=0.001)"
      ],
      "metadata": {
        "execution": {
          "iopub.status.busy": "2023-12-24T02:01:09.208256Z",
          "iopub.execute_input": "2023-12-24T02:01:09.208656Z",
          "iopub.status.idle": "2023-12-24T02:01:09.218551Z",
          "shell.execute_reply.started": "2023-12-24T02:01:09.208624Z",
          "shell.execute_reply": "2023-12-24T02:01:09.217026Z"
        },
        "trusted": true,
        "id": "IUAok_WUcVLo"
      },
      "execution_count": null,
      "outputs": []
    },
    {
      "cell_type": "markdown",
      "source": [
        "# PyTorch Tensors"
      ],
      "metadata": {
        "id": "voPfW2tXcVLt"
      }
    },
    {
      "cell_type": "code",
      "source": [
        "import torch\n",
        "import numpy as np\n",
        "\n",
        "np_array = np.array([[1,2],[3,4]])\n",
        "torch_array = torch.from_numpy(np_array)\n",
        "print(f\"torch_array : {torch_array}\")\n",
        "torch_ones = torch.ones_like(torch_array,dtype=torch.float)\n",
        "print(f\"torch_ones : {torch_ones}\")\n",
        "shape = (2,3)\n",
        "torch_rand = torch.rand(shape)\n",
        "print(f\"torch_rand : {torch_rand}\")\n",
        "torch_arange = torch.arange(start=1,end=11,step=2)\n",
        "print(f\"torch_arange : \",{torch_arange})"
      ],
      "metadata": {
        "execution": {
          "iopub.status.busy": "2023-12-28T02:32:00.460019Z",
          "iopub.execute_input": "2023-12-28T02:32:00.460489Z",
          "iopub.status.idle": "2023-12-28T02:32:00.472597Z",
          "shell.execute_reply.started": "2023-12-28T02:32:00.460457Z",
          "shell.execute_reply": "2023-12-28T02:32:00.471136Z"
        },
        "trusted": true,
        "id": "ivC7nF-IcVLv",
        "outputId": "10b8f632-f87d-4a46-804d-088267dd4c11"
      },
      "execution_count": null,
      "outputs": [
        {
          "name": "stdout",
          "text": "torch_array : tensor([[1, 2],\n        [3, 4]])\ntorch_ones : tensor([[1., 1.],\n        [1., 1.]])\ntorch_rand : tensor([[0.1420, 0.1922, 0.5319],\n        [0.3657, 0.0430, 0.8208]])\ntorch_arange :  {tensor([1, 3, 5, 7, 9])}\n",
          "output_type": "stream"
        }
      ]
    },
    {
      "cell_type": "markdown",
      "source": [
        "# Tensor Indexing"
      ],
      "metadata": {
        "id": "N1EXCZjscVLy"
      }
    },
    {
      "cell_type": "code",
      "source": [
        "x = torch.reshape(torch.arange(1,13,1,dtype=torch.float),(4,3))\n",
        "print(f\"First row: {x[0]}\")\n",
        "print(f\"First column: {x[:, 0]}\")\n",
        "print(f\"Last column: {x[..., -1]}\")\n",
        "x[:,1] = 0\n",
        "print(x)\n",
        "tensor1 = torch.randn(10, 3, 4)\n",
        "print(tensor1[:,0,0].shape,tensor1[0,:,0].shape,tensor1[0,0,:].shape)\n",
        "print(tensor1)\n",
        "tensor2 = torch.randn(4)\n",
        "print(tensor2)"
      ],
      "metadata": {
        "execution": {
          "iopub.status.busy": "2023-12-28T03:36:55.132456Z",
          "iopub.execute_input": "2023-12-28T03:36:55.133045Z",
          "iopub.status.idle": "2023-12-28T03:36:55.153552Z",
          "shell.execute_reply.started": "2023-12-28T03:36:55.133008Z",
          "shell.execute_reply": "2023-12-28T03:36:55.15176Z"
        },
        "trusted": true,
        "id": "PnxUpt1lcVLz",
        "outputId": "1ebc4dbc-c112-4e82-e632-a4631ec2c004"
      },
      "execution_count": null,
      "outputs": [
        {
          "name": "stdout",
          "text": "First row: tensor([1., 2., 3.])\nFirst column: tensor([ 1.,  4.,  7., 10.])\nLast column: tensor([ 3.,  6.,  9., 12.])\ntensor([[ 1.,  0.,  3.],\n        [ 4.,  0.,  6.],\n        [ 7.,  0.,  9.],\n        [10.,  0., 12.]])\ntorch.Size([10]) torch.Size([3]) torch.Size([4])\ntensor([[[-0.4198, -1.3901, -0.7433,  1.6252],\n         [-1.3204,  0.2975, -1.9061,  0.4013],\n         [-1.2086, -0.6729,  0.2693, -0.2020]],\n\n        [[-0.2129, -0.5784, -0.1382, -0.1359],\n         [-0.1326,  0.9448, -0.8960, -0.1384],\n         [-1.1900, -0.6642, -0.3136,  0.3689]],\n\n        [[-0.4662, -1.3043, -1.4399,  0.4012],\n         [ 1.5566,  1.7305, -0.0877,  0.4483],\n         [-0.0824, -0.9446, -0.5587, -0.3315]],\n\n        [[ 0.2831, -0.3476,  1.2822,  0.4452],\n         [ 1.3330, -2.1681,  0.7457,  1.1190],\n         [ 0.8063,  0.6081,  0.6591, -0.6953]],\n\n        [[-1.4361,  0.0067,  1.5265,  1.7683],\n         [-1.4769,  0.4061,  0.4140, -1.2963],\n         [-1.4096, -1.4380,  0.1303,  0.6771]],\n\n        [[-0.8026,  0.7763,  0.0867,  1.9739],\n         [-1.0366, -0.0450, -0.6429,  0.3087],\n         [-1.3665, -1.1721, -0.5223,  0.1377]],\n\n        [[ 0.1370, -1.9979,  0.2713, -0.1283],\n         [ 0.6508, -1.1412, -0.3425, -0.6489],\n         [-0.3668,  0.7319,  2.4437, -1.5481]],\n\n        [[-0.0282, -0.0609,  0.3651,  0.7016],\n         [ 0.5137,  0.2146,  1.3256,  0.4319],\n         [-0.4728,  0.4057, -1.1310,  0.3588]],\n\n        [[-1.1598,  1.1433,  0.9422,  0.5403],\n         [ 0.2999, -0.5343, -0.0566,  0.1676],\n         [ 0.8184,  0.7342,  0.3719,  0.0997]],\n\n        [[-0.4189,  0.3068, -0.8246, -0.1423],\n         [ 1.6314,  0.1968,  0.5517, -0.6386],\n         [-1.1487, -1.4260, -0.3797,  1.8733]]])\ntensor([ 0.6858, -0.5195,  0.6868, -0.3207])\n",
          "output_type": "stream"
        }
      ]
    },
    {
      "cell_type": "markdown",
      "source": [
        "# Tensor Aggreration Operation"
      ],
      "metadata": {
        "id": "ltHg1_8LcVL1"
      }
    },
    {
      "cell_type": "code",
      "source": [
        "tensor = torch.ones(3, 4)\n",
        "print(f\"tensor : {tensor} \\n\")\n",
        "tensor.add_(5)\n",
        "print(\"tensor + 5 (inplace using add_ ) \",tensor)\n",
        "t1 = torch.cat([tensor, tensor, tensor], dim=1)\n",
        "print(\"tensor concat : \",t1)\n"
      ],
      "metadata": {
        "execution": {
          "iopub.status.busy": "2023-12-28T02:35:13.92749Z",
          "iopub.execute_input": "2023-12-28T02:35:13.927959Z",
          "iopub.status.idle": "2023-12-28T02:35:13.938339Z",
          "shell.execute_reply.started": "2023-12-28T02:35:13.927923Z",
          "shell.execute_reply": "2023-12-28T02:35:13.937025Z"
        },
        "trusted": true,
        "id": "AZNMlblzcVL2",
        "outputId": "37e27bae-d6d4-41be-c21e-4518a98f314b"
      },
      "execution_count": null,
      "outputs": [
        {
          "name": "stdout",
          "text": "tensor : tensor([[1., 1., 1., 1.],\n        [1., 1., 1., 1.],\n        [1., 1., 1., 1.]]) \n\ntensor + 5 (inplace using add_ )  tensor([[6., 6., 6., 6.],\n        [6., 6., 6., 6.],\n        [6., 6., 6., 6.]])\ntensor concat :  tensor([[6., 6., 6., 6., 6., 6., 6., 6., 6., 6., 6., 6.],\n        [6., 6., 6., 6., 6., 6., 6., 6., 6., 6., 6., 6.],\n        [6., 6., 6., 6., 6., 6., 6., 6., 6., 6., 6., 6.]])\n",
          "output_type": "stream"
        }
      ]
    },
    {
      "cell_type": "markdown",
      "source": [
        "if requires_grad=True then need to detach() before clone()"
      ],
      "metadata": {
        "id": "hvmAWqwDcVL3"
      }
    },
    {
      "cell_type": "code",
      "source": [
        "a = torch.rand(2, 2, requires_grad=True) # turn on autograd\n",
        "print(\"a : \",a)\n",
        "\n",
        "b = a.clone()\n",
        "print(\"b : \",b)\n",
        "\n",
        "c = a.detach().clone()\n",
        "print(\"c : \",c)\n",
        "\n",
        "try:\n",
        "    assert b is a\n",
        "except AssertionError as e:\n",
        "    print(e)\n",
        "\n",
        "a = torch.rand(3, 226, 226)\n",
        "e = torch.rand(1,5)\n",
        "c = a.clone()\n",
        "\n",
        "b = a.unsqueeze(0)\n",
        "d = c.squeeze(0)\n",
        "f = e.squeeze(0)\n",
        "print(\"a.unsqueeze(0) : \",a.shape,b.shape)\n",
        "print(\"a.squeeze(0) : \",a.shape,d.shape)\n",
        "print(\"e.squeeze(0) : \",e.shape,f.shape)"
      ],
      "metadata": {
        "id": "r1W9q9mvcVL4"
      },
      "execution_count": null,
      "outputs": []
    },
    {
      "cell_type": "markdown",
      "source": [
        "# Torch Aggregation - groupby"
      ],
      "metadata": {
        "id": "AuViruracVL4"
      }
    },
    {
      "cell_type": "code",
      "source": [
        "samples = torch.Tensor([\n",
        "    [0.1, 0.1],    #-> group / class 1\n",
        "    [0.2, 0.2],    #-> group / class 2\n",
        "    [0.4, 0.4],    #-> group / class 2\n",
        "    [0.0, 0.0]     #-> group / class 0\n",
        "])\n",
        "\n",
        "labels = torch.LongTensor([1,2,2,0])\n",
        "\n",
        "label_size = 3\n",
        "sample_dim = samples.size(1)\n",
        "print(\"sample_dim \",sample_dim)\n",
        "index = labels.unsqueeze(1)\n",
        "print(\"labels.unsqueeze(1) \",index)\n",
        "index = index.repeat((1, sample_dim))\n",
        "print(\"index.repeat((1, sample_dim)) \",index)\n",
        "\n",
        "res = torch.ones(label_size, sample_dim, dtype=samples.dtype)\n",
        "print(\"res \",res)\n",
        "res.scatter_(0, index, samples, reduce='multiply')"
      ],
      "metadata": {
        "execution": {
          "iopub.status.busy": "2023-12-28T03:13:46.269464Z",
          "iopub.execute_input": "2023-12-28T03:13:46.269971Z",
          "iopub.status.idle": "2023-12-28T03:13:46.287578Z",
          "shell.execute_reply.started": "2023-12-28T03:13:46.269932Z",
          "shell.execute_reply": "2023-12-28T03:13:46.286052Z"
        },
        "trusted": true,
        "id": "QKsnT5qocVL5",
        "outputId": "43fa54bb-fff2-4b34-f17e-0d532f592690"
      },
      "execution_count": null,
      "outputs": [
        {
          "name": "stdout",
          "text": "sample_dim  2\nlabels.unsqueeze(1)  tensor([[1],\n        [2],\n        [2],\n        [0]])\nindex.repeat((1, sample_dim))  tensor([[1, 1],\n        [2, 2],\n        [2, 2],\n        [0, 0]])\nres  tensor([[1., 1.],\n        [1., 1.],\n        [1., 1.]])\n",
          "output_type": "stream"
        },
        {
          "execution_count": 33,
          "output_type": "execute_result",
          "data": {
            "text/plain": "tensor([[0.0000, 0.0000],\n        [0.1000, 0.1000],\n        [0.0800, 0.0800]])"
          },
          "metadata": {}
        }
      ]
    },
    {
      "cell_type": "markdown",
      "source": [],
      "metadata": {
        "id": "F7rSfwy0cVL5"
      }
    },
    {
      "cell_type": "markdown",
      "source": [
        "# Matrix Multiplication\n",
        "\n",
        "    torch.mm - performs a matrix multiplication without broadcasting - (2D tensor) by (2D tensor)\n",
        "    torch.mul - performs a elementwise multiplication with broadcasting - (Tensor) by (Tensor or Number)\n",
        "    torch.matmul - matrix product with broadcasting - (Tensor) by (Tensor) with different behaviors depending on the tensor shapes (dot product, matrix product, batched matrix products).\n",
        "    \n"
      ],
      "metadata": {
        "id": "2JZi5TakcVL6"
      }
    },
    {
      "cell_type": "markdown",
      "source": [
        "    torch.mm - performs a matrix multiplication without broadcasting\n",
        "It expects two 2D tensors so n×m * m×p = n×p"
      ],
      "metadata": {
        "id": "5SRX46-fcVL6"
      }
    },
    {
      "cell_type": "code",
      "source": [
        "x1 = torch.ones(3, 4)\n",
        "x2 = torch.reshape(torch.arange(1,13,1,dtype=torch.float),(4,3))\n",
        "print(f\"x1 : {x1.shape} ,x2 : {x2.shape}\")\n",
        "y1 = x1 @ x2\n",
        "y2 = x1.matmul(x2)\n",
        "assert torch.all(torch.eq(y1,y2)).item()==True\n",
        "y3 = torch.mm(x1, x2)\n",
        "\n",
        "# assert torch.all(torch.eq(y3,y2)).item()==True\n",
        "print(\"Matrix Multiplication : works with only matching dimensions\")\n",
        "print(f\"y1 = x1 @ x2 : shape {y1.shape} : {y1}\")\n",
        "print(f\"y2 = x1.matmul(x2) : shape {y2.shape} : {y2}\")\n",
        "print(f\"y3 = torch.mm(x1, x2) : shape {y3.shape} : {y3}\")"
      ],
      "metadata": {
        "execution": {
          "iopub.status.busy": "2023-12-28T03:48:47.247543Z",
          "iopub.execute_input": "2023-12-28T03:48:47.248082Z",
          "iopub.status.idle": "2023-12-28T03:48:47.260929Z",
          "shell.execute_reply.started": "2023-12-28T03:48:47.248048Z",
          "shell.execute_reply": "2023-12-28T03:48:47.259625Z"
        },
        "trusted": true,
        "id": "SB2H-YS0cVL6",
        "outputId": "455e5e76-e52c-41a7-f127-51fc74c27227"
      },
      "execution_count": null,
      "outputs": [
        {
          "name": "stdout",
          "text": "x1 : torch.Size([3, 4]) ,x2 : torch.Size([4, 3])\nMatrix Multiplication : works with only matching dimensions\ny1 = x1 @ x2 : shape torch.Size([3, 3]) : tensor([[22., 26., 30.],\n        [22., 26., 30.],\n        [22., 26., 30.]])\ny2 = x1.matmul(x2) : shape torch.Size([3, 3]) : tensor([[22., 26., 30.],\n        [22., 26., 30.],\n        [22., 26., 30.]])\ny3 = torch.mm(x1, x2) : shape torch.Size([3, 3]) : tensor([[22., 26., 30.],\n        [22., 26., 30.],\n        [22., 26., 30.]])\n",
          "output_type": "stream"
        }
      ]
    },
    {
      "cell_type": "markdown",
      "source": [
        "    torch.mul - performs a elementwise multiplication with broadcasting - (Tensor) by (Tensor or Number)\n",
        "\n",
        "Docs: https://pytorch.org/docs/stable/generated/torch.mul.html\n",
        "\n",
        "torch.mul does not perform a matrix multiplication. It broadcasts two tensors and performs an elementwise multiplication. So when you uses it with tensors 1x4 * 4x1 it will work similar to:"
      ],
      "metadata": {
        "id": "5u928cyrcVL7"
      }
    },
    {
      "cell_type": "code",
      "source": [
        "a = torch.FloatTensor([[1], [2], [3]])\n",
        "b = torch.FloatTensor([[1, 10, 100, 1000]])\n",
        "a, b = torch.broadcast_tensors(a, b)\n",
        "c = a * b\n",
        "d = torch.mul(a,b)\n",
        "print(a)\n",
        "print(b)\n",
        "assert torch.all(torch.eq(c,d)).item()==True\n",
        "print(c)\n",
        "print(d)\n"
      ],
      "metadata": {
        "execution": {
          "iopub.status.busy": "2023-12-28T03:27:55.558708Z",
          "iopub.execute_input": "2023-12-28T03:27:55.559151Z",
          "iopub.status.idle": "2023-12-28T03:27:55.569844Z",
          "shell.execute_reply.started": "2023-12-28T03:27:55.559117Z",
          "shell.execute_reply": "2023-12-28T03:27:55.568693Z"
        },
        "trusted": true,
        "id": "V4c6WYcIcVL7",
        "outputId": "487c07c5-51bf-437f-fe40-156eacbe703e"
      },
      "execution_count": null,
      "outputs": [
        {
          "name": "stdout",
          "text": "tensor([[1., 1., 1., 1.],\n        [2., 2., 2., 2.],\n        [3., 3., 3., 3.]])\ntensor([[   1.,   10.,  100., 1000.],\n        [   1.,   10.,  100., 1000.],\n        [   1.,   10.,  100., 1000.]])\ntensor([[1.0000e+00, 1.0000e+01, 1.0000e+02, 1.0000e+03],\n        [2.0000e+00, 2.0000e+01, 2.0000e+02, 2.0000e+03],\n        [3.0000e+00, 3.0000e+01, 3.0000e+02, 3.0000e+03]])\ntensor([[1.0000e+00, 1.0000e+01, 1.0000e+02, 1.0000e+03],\n        [2.0000e+00, 2.0000e+01, 2.0000e+02, 2.0000e+03],\n        [3.0000e+00, 3.0000e+01, 3.0000e+02, 3.0000e+03]])\n",
          "output_type": "stream"
        }
      ]
    },
    {
      "cell_type": "markdown",
      "source": [
        "    torch.matmul\n",
        "\n",
        "It is better to check out the official documentation https://pytorch.org/docs/stable/generated/torch.matmul.html as it uses different modes depending on the input tensors. It may perform dot product, matrix-matrix product or batched matrix products with broadcasting."
      ],
      "metadata": {
        "id": "8lQiTNjucVL8"
      }
    },
    {
      "cell_type": "code",
      "source": [
        "tensor1 = torch.randn(10, 3, 4)\n",
        "tensor2 = torch.randn(4)\n",
        "print(tensor1[:,0,0].shape,tensor1[0,:,0].shape,tensor1[0,0,:].shape)\n",
        "print(tensor2.shape)\n",
        "tensor3 = torch.matmul(tensor1,tensor2)\n",
        "print(tensor3.shape)\n",
        "\n",
        "# 3x1x3\n",
        "a = torch.FloatTensor([[[1, 2, 3]], [[3, 4, 5]], [[6, 7, 8]]])\n",
        "# 3\n",
        "b = torch.FloatTensor([1, 10, 100])\n",
        "r1 = torch.matmul(a, b)\n",
        "\n",
        "r2 = torch.stack((\n",
        "    torch.matmul(a[0], b),\n",
        "    torch.matmul(a[1], b),\n",
        "    torch.matmul(a[2], b),\n",
        "))\n",
        "assert torch.allclose(r1, r2)\n",
        "print(a.shape,b.shape,r1.shape)"
      ],
      "metadata": {
        "execution": {
          "iopub.status.busy": "2023-12-28T03:42:10.890867Z",
          "iopub.execute_input": "2023-12-28T03:42:10.891342Z",
          "iopub.status.idle": "2023-12-28T03:42:10.904673Z",
          "shell.execute_reply.started": "2023-12-28T03:42:10.891305Z",
          "shell.execute_reply": "2023-12-28T03:42:10.903003Z"
        },
        "trusted": true,
        "id": "OjZmqjnQcVL8",
        "outputId": "0f2940d6-0e36-4593-a8dd-9505023cfaca"
      },
      "execution_count": null,
      "outputs": [
        {
          "name": "stdout",
          "text": "torch.Size([10]) torch.Size([3]) torch.Size([4])\ntorch.Size([4])\ntorch.Size([10, 3])\ntorch.Size([3, 1, 3]) torch.Size([3]) torch.Size([3, 1])\n",
          "output_type": "stream"
        }
      ]
    },
    {
      "cell_type": "code",
      "source": [
        "a = torch.ones(4, 3, 2)\n",
        "b = torch.rand(   3)     # trying to multiply a * b will give a runtime error\n",
        "c = b.unsqueeze(1)       # change to a 2-dimensional tensor, adding new dim at the end\n",
        "print(\"After broadcasting b : \", c.shape)\n",
        "print(\"Broadcasing internally : \",torch.mul(a,c).shape)            # broadcasting works again!\n",
        "\n",
        "output3d = torch.rand(6, 20, 20)\n",
        "print(\"output3d : \",output3d.shape)\n",
        "\n",
        "input1d = output3d.reshape(6 * 20 * 20)\n",
        "print(\"input1d : \",input1d.shape)\n",
        "\n",
        "# can also call it as a method on the torch module:\n",
        "print(\"same as above but using torch : \",torch.reshape(output3d, (6 * 20 * 20,)).shape)"
      ],
      "metadata": {
        "id": "SUyPu0YZcVL8"
      },
      "execution_count": null,
      "outputs": []
    },
    {
      "cell_type": "markdown",
      "source": [
        "# PyTorch Common Math function"
      ],
      "metadata": {
        "id": "rnUtWlrhcVL9"
      }
    },
    {
      "cell_type": "code",
      "source": [
        "import torch\n",
        "import math\n",
        "\n",
        "# common functions\n",
        "a = torch.rand(2, 4) * 2 - 1\n",
        "print('Common functions:')\n",
        "print(torch.abs(a))\n",
        "print(torch.ceil(a))\n",
        "print(torch.floor(a))\n",
        "print(torch.clamp(a, -0.5, 0.5))\n",
        "\n",
        "# trigonometric functions and their inverses\n",
        "angles = torch.tensor([0, math.pi / 4, math.pi / 2, 3 * math.pi / 4])\n",
        "sines = torch.sin(angles)\n",
        "inverses = torch.asin(sines)\n",
        "print('\\nSine and arcsine:')\n",
        "print(angles)\n",
        "print(sines)\n",
        "print(inverses)\n",
        "\n",
        "# bitwise operations\n",
        "print('\\nBitwise XOR:')\n",
        "b = torch.tensor([1, 5, 11])\n",
        "c = torch.tensor([2, 7, 10])\n",
        "print(torch.bitwise_xor(b, c))\n",
        "\n",
        "# comparisons:\n",
        "print('\\nBroadcasted, element-wise equality comparison:')\n",
        "d = torch.tensor([[1., 2.], [3., 4.]])\n",
        "e = torch.ones(1, 2)  # many comparison ops support broadcasting!\n",
        "print(torch.eq(d, e)) # returns a tensor of type bool\n",
        "\n",
        "# reductions:\n",
        "print('\\nReduction ops:')\n",
        "print(torch.max(d))        # returns a single-element tensor\n",
        "print(torch.max(d).item()) # extracts the value from the returned tensor\n",
        "print(torch.mean(d))       # average\n",
        "print(torch.std(d))        # standard deviation\n",
        "print(torch.prod(d))       # product of all numbers\n",
        "print(torch.unique(torch.tensor([1, 2, 1, 2, 1, 2]))) # filter unique elements\n",
        "\n",
        "# vector and linear algebra operations\n",
        "v1 = torch.tensor([1., 0., 0.])         # x unit vector\n",
        "v2 = torch.tensor([0., 1., 0.])         # y unit vector\n",
        "m1 = torch.rand(2, 2)                   # random matrix\n",
        "m2 = torch.tensor([[3., 0.], [0., 3.]]) # three times identity matrix\n",
        "\n",
        "print('\\nVectors & Matrices:')\n",
        "print(torch.cross(v2, v1)) # negative of z unit vector (v1 x v2 == -v2 x v1)\n",
        "print(m1)\n",
        "m3 = torch.matmul(m1, m2)\n",
        "print(m3)                  # 3 times m1\n",
        "print(torch.svd(m3))       # singular value decomposition"
      ],
      "metadata": {
        "execution": {
          "iopub.status.busy": "2023-12-27T01:50:37.961785Z",
          "iopub.execute_input": "2023-12-27T01:50:37.963441Z",
          "iopub.status.idle": "2023-12-27T01:50:38.001452Z",
          "shell.execute_reply.started": "2023-12-27T01:50:37.963395Z",
          "shell.execute_reply": "2023-12-27T01:50:38.000329Z"
        },
        "trusted": true,
        "id": "qaQgjCrscVL9",
        "outputId": "e5edfa90-bd5c-4401-98b9-906df8591bdd"
      },
      "execution_count": null,
      "outputs": [
        {
          "name": "stdout",
          "text": "Common functions:\ntensor([[0.8587, 0.0493, 0.9242, 0.1247],\n        [0.0059, 0.8742, 0.3704, 0.4161]])\ntensor([[-0., -0., 1., -0.],\n        [1., 1., -0., -0.]])\ntensor([[-1., -1.,  0., -1.],\n        [ 0.,  0., -1., -1.]])\ntensor([[-0.5000, -0.0493,  0.5000, -0.1247],\n        [ 0.0059,  0.5000, -0.3704, -0.4161]])\n\nSine and arcsine:\ntensor([0.0000, 0.7854, 1.5708, 2.3562])\ntensor([0.0000, 0.7071, 1.0000, 0.7071])\ntensor([0.0000, 0.7854, 1.5708, 0.7854])\n\nBitwise XOR:\ntensor([3, 2, 1])\n\nBroadcasted, element-wise equality comparison:\ntensor([[ True, False],\n        [False, False]])\n\nReduction ops:\ntensor(4.)\n4.0\ntensor(2.5000)\ntensor(1.2910)\ntensor(24.)\ntensor([1, 2])\n\nVectors & Matrices:\ntensor([ 0.,  0., -1.])\ntensor([[0.1393, 0.9677],\n        [0.4260, 0.3730]])\ntensor([[0.4178, 2.9031],\n        [1.2780, 1.1191]])\ntorch.return_types.svd(\nU=tensor([[-0.8952, -0.4456],\n        [-0.4456,  0.8952]]),\nS=tensor([3.2382, 1.0014]),\nV=tensor([[-0.2914,  0.9566],\n        [-0.9566, -0.2914]]))\n",
          "output_type": "stream"
        }
      ]
    },
    {
      "cell_type": "code",
      "source": [],
      "metadata": {
        "id": "Yxhu7pgbcVL9"
      },
      "execution_count": null,
      "outputs": []
    },
    {
      "cell_type": "code",
      "source": [
        "import torch\n",
        "import torch.nn.functional as F\n",
        "\n",
        "x = torch.arange(1, 11, 1)\n",
        "print(\"Original Tensor:\", x)\n",
        "\n",
        "# Ensure the index tensor is of dtype torch.int64\n",
        "one_hot_encoded = F.one_hot(torch.tensor(x - 1), num_classes=len(x))\n",
        "print(\"One-Hot Encoded Tensor:\\n\", one_hot_encoded.float())"
      ],
      "metadata": {
        "execution": {
          "iopub.status.busy": "2023-12-25T01:58:52.873991Z",
          "iopub.execute_input": "2023-12-25T01:58:52.875131Z",
          "iopub.status.idle": "2023-12-25T01:58:56.959261Z",
          "shell.execute_reply.started": "2023-12-25T01:58:52.875087Z",
          "shell.execute_reply": "2023-12-25T01:58:56.958067Z"
        },
        "trusted": true,
        "id": "Q6l6XpOQcVL-",
        "outputId": "38d80862-c5e9-43b0-ec98-681daf2ab0ef"
      },
      "execution_count": null,
      "outputs": [
        {
          "name": "stdout",
          "text": "Original Tensor: tensor([ 1,  2,  3,  4,  5,  6,  7,  8,  9, 10])\nOne-Hot Encoded Tensor:\n tensor([[1., 0., 0., 0., 0., 0., 0., 0., 0., 0.],\n        [0., 1., 0., 0., 0., 0., 0., 0., 0., 0.],\n        [0., 0., 1., 0., 0., 0., 0., 0., 0., 0.],\n        [0., 0., 0., 1., 0., 0., 0., 0., 0., 0.],\n        [0., 0., 0., 0., 1., 0., 0., 0., 0., 0.],\n        [0., 0., 0., 0., 0., 1., 0., 0., 0., 0.],\n        [0., 0., 0., 0., 0., 0., 1., 0., 0., 0.],\n        [0., 0., 0., 0., 0., 0., 0., 1., 0., 0.],\n        [0., 0., 0., 0., 0., 0., 0., 0., 1., 0.],\n        [0., 0., 0., 0., 0., 0., 0., 0., 0., 1.]])\n",
          "output_type": "stream"
        },
        {
          "name": "stderr",
          "text": "/tmp/ipykernel_32/2904155138.py:8: UserWarning: To copy construct from a tensor, it is recommended to use sourceTensor.clone().detach() or sourceTensor.clone().detach().requires_grad_(True), rather than torch.tensor(sourceTensor).\n  one_hot_encoded = F.one_hot(torch.tensor(x - 1), num_classes=len(x))\n",
          "output_type": "stream"
        }
      ]
    },
    {
      "cell_type": "code",
      "source": [
        "inp = torch.eye(4, 5, requires_grad=True)\n",
        "out = (inp+1).pow(2).t()\n",
        "print(\"inp : \\n\",inp)\n",
        "print(\"out : \\n\",out)\n",
        "out.backward(torch.ones_like(out), retain_graph=True)\n",
        "print(f\"First call\\n{inp.grad}\")\n",
        "out.backward(torch.ones_like(out), retain_graph=True)\n",
        "print(f\"\\nSecond call\\n{inp.grad}\")\n",
        "inp.grad.zero_()\n",
        "out.backward(torch.ones_like(out), retain_graph=True)\n",
        "print(f\"\\nCall after zeroing gradients\\n{inp.grad}\")"
      ],
      "metadata": {
        "execution": {
          "iopub.status.busy": "2023-12-25T02:00:35.343701Z",
          "iopub.execute_input": "2023-12-25T02:00:35.344091Z",
          "iopub.status.idle": "2023-12-25T02:00:35.358043Z",
          "shell.execute_reply.started": "2023-12-25T02:00:35.34406Z",
          "shell.execute_reply": "2023-12-25T02:00:35.356698Z"
        },
        "trusted": true,
        "id": "MtPVkATOcVL-",
        "outputId": "f0a3e63f-9bc8-4498-dbcd-1948fe5def43"
      },
      "execution_count": null,
      "outputs": [
        {
          "name": "stdout",
          "text": "inp : \n tensor([[1., 0., 0., 0., 0.],\n        [0., 1., 0., 0., 0.],\n        [0., 0., 1., 0., 0.],\n        [0., 0., 0., 1., 0.]], requires_grad=True)\nout : \n tensor([[4., 1., 1., 1.],\n        [1., 4., 1., 1.],\n        [1., 1., 4., 1.],\n        [1., 1., 1., 4.],\n        [1., 1., 1., 1.]], grad_fn=<TBackward0>)\nFirst call\ntensor([[4., 2., 2., 2., 2.],\n        [2., 4., 2., 2., 2.],\n        [2., 2., 4., 2., 2.],\n        [2., 2., 2., 4., 2.]])\n\nSecond call\ntensor([[8., 4., 4., 4., 4.],\n        [4., 8., 4., 4., 4.],\n        [4., 4., 8., 4., 4.],\n        [4., 4., 4., 8., 4.]])\n\nCall after zeroing gradients\ntensor([[4., 2., 2., 2., 2.],\n        [2., 4., 2., 2., 2.],\n        [2., 2., 4., 2., 2.],\n        [2., 2., 2., 4., 2.]])\n",
          "output_type": "stream"
        }
      ]
    },
    {
      "cell_type": "code",
      "source": [
        "import math\n",
        "\n",
        "class LegendrePolynomial3(torch.autograd.Function):\n",
        "    @staticmethod\n",
        "    def forward(ctx,x):\n",
        "        ctx.save_for_backward(x)\n",
        "        return 0.5 * (5*x**3 - 3*x)\n",
        "\n",
        "    @staticmethod\n",
        "    def backward(ctx,grad_out):\n",
        "        x, = ctx.saved_tensors\n",
        "        return grad_out*1.5*(5*x**2-1)\n",
        "\n",
        "device,dtype = torch.device(\"cpu\"),torch.float\n",
        "x = torch.linspace(-math.pi,math.pi,10,dtype=dtype)\n",
        "y = torch.sin(x)\n",
        "print(\"x : \",x)\n",
        "print(\"y : \",y)\n",
        "a = torch.full((), 0.0, device=device, dtype=dtype, requires_grad=True)\n",
        "b = torch.full((), -1.0, device=device, dtype=dtype, requires_grad=True)\n",
        "c = torch.full((), 0.0, device=device, dtype=dtype, requires_grad=True)\n",
        "d = torch.full((), 0.3, device=device, dtype=dtype, requires_grad=True)\n",
        "print(\"a : \",a)\n",
        "print(\"b : \",b)\n",
        "lr = 5e-6\n",
        "\n",
        "for it in range(100):\n",
        "    # forward pass\n",
        "    P3 = LegendrePolynomial3.apply\n",
        "    y_pred = a+b*P3(c+d*x)\n",
        "    loss = (y-y_pred).pow(2).sum()\n",
        "    if it%10==0:\n",
        "        print(f\"iter : {it} loss : {loss.item()}\")\n",
        "    loss.backward()\n",
        "    # update grad\n",
        "    with torch.no_grad():\n",
        "        a -=lr*a.grad\n",
        "        b -=lr*b.grad\n",
        "        c -=lr*c.grad\n",
        "        d -=lr*d.grad\n",
        "        a.grad = None\n",
        "        b.grad = None\n",
        "        c.grad = None\n",
        "        d.grad = None\n",
        "\n",
        "print(f'Result: y = {a.item()} + {b.item()} * P3({c.item()} + {d.item()} x)')\n",
        ""
      ],
      "metadata": {
        "execution": {
          "iopub.status.busy": "2023-12-25T02:33:34.434601Z",
          "iopub.execute_input": "2023-12-25T02:33:34.435007Z",
          "iopub.status.idle": "2023-12-25T02:33:34.489082Z",
          "shell.execute_reply.started": "2023-12-25T02:33:34.434976Z",
          "shell.execute_reply": "2023-12-25T02:33:34.487671Z"
        },
        "trusted": true,
        "id": "4zMGdl5FcVL-",
        "outputId": "8ec7cb09-3cb8-4eda-fda6-b29b56f4842b"
      },
      "execution_count": null,
      "outputs": [
        {
          "name": "stdout",
          "text": "x :  tensor([-3.1416, -2.4435, -1.7453, -1.0472, -0.3491,  0.3491,  1.0472,  1.7453,\n         2.4435,  3.1416])\ny :  tensor([ 8.7423e-08, -6.4279e-01, -9.8481e-01, -8.6603e-01, -3.4202e-01,\n         3.4202e-01,  8.6603e-01,  9.8481e-01,  6.4279e-01, -8.7423e-08])\na :  tensor(0., requires_grad=True)\nb :  tensor(-1., requires_grad=True)\niter : 0 loss : 2.62017822265625\niter : 10 loss : 2.4684810638427734\niter : 20 loss : 2.3406341075897217\niter : 30 loss : 2.2319769859313965\niter : 40 loss : 2.138925790786743\niter : 50 loss : 2.058706045150757\niter : 60 loss : 1.9891233444213867\niter : 70 loss : 1.9284296035766602\niter : 80 loss : 1.8752241134643555\niter : 90 loss : 1.8283681869506836\nResult: y = -3.5762792467003424e-12 + -1.0005356073379517 * P3(3.2782552714105684e-12 + 0.2799958288669586 x)\n",
          "output_type": "stream"
        }
      ]
    },
    {
      "cell_type": "code",
      "source": [
        "import torch\n",
        "import torch.nn as nn\n",
        "import torch.nn.functional as F\n",
        "\n",
        "class LeNet(nn.Module):\n",
        "\n",
        "    def __init__(self):\n",
        "        super(LeNet, self).__init__()\n",
        "        # 1 input image channel (black & white), 6 output channels, 5x5 square convolution\n",
        "        # kernel\n",
        "        self.conv1 = nn.Conv2d(1, 6, 5)\n",
        "        self.conv2 = nn.Conv2d(6, 16, 5)\n",
        "        # an affine operation: y = Wx + b\n",
        "        self.fc1 = nn.Linear(16 * 5 * 5, 120)  # 5*5 from image dimension\n",
        "        self.fc2 = nn.Linear(120, 84)\n",
        "        self.fc3 = nn.Linear(84, 10)\n",
        "\n",
        "    def forward(self, x):\n",
        "        # Max pooling over a (2, 2) window\n",
        "        print(\"Before 1st Max-pooling \",x.shape)\n",
        "        x = F.max_pool2d(F.relu(self.conv1(x)), (2, 2))\n",
        "        print(\"After 1st Max-pooling \",x.shape)\n",
        "        # If the size is a square you can only specify a single number\n",
        "        x = F.max_pool2d(F.relu(self.conv2(x)), 2)\n",
        "        print(\"After 2nd Max-pooling \",x.shape)\n",
        "        x = x.view(-1, self.num_flat_features(x))\n",
        "        print(\"After flatten \",x.shape)\n",
        "        x = F.relu(self.fc1(x))\n",
        "        print(\"After 1st FC \",x.shape)\n",
        "        x = F.relu(self.fc2(x))\n",
        "        print(\"After 2nd FC \",x.shape)\n",
        "        x = self.fc3(x)\n",
        "        return x\n",
        "\n",
        "    def num_flat_features(self, x):\n",
        "        size = x.size()[1:]  # all dimensions except the batch dimension\n",
        "        num_features = 1\n",
        "        for s in size:\n",
        "            num_features *= s\n",
        "        return num_features\n",
        "\n",
        "\n",
        "net = LeNet()\n",
        "print(net)                         # what does the object tell us about itself?\n",
        "\n",
        "x = torch.rand(1, 1, 32, 32)   # stand-in for a 32x32 black & white image\n",
        "print('\\nImage batch shape: ',x.shape)\n",
        "print()\n",
        "output = net(x)                # we don't call forward() directly\n",
        "print('\\nRaw output: ',output.shape)\n",
        "\n"
      ],
      "metadata": {
        "execution": {
          "iopub.status.busy": "2023-12-27T03:35:40.350017Z",
          "iopub.execute_input": "2023-12-27T03:35:40.350458Z",
          "iopub.status.idle": "2023-12-27T03:35:40.372634Z",
          "shell.execute_reply.started": "2023-12-27T03:35:40.350428Z",
          "shell.execute_reply": "2023-12-27T03:35:40.371615Z"
        },
        "trusted": true,
        "id": "UD228qTWcVL_",
        "outputId": "992ac22b-fe63-4201-ca64-be6afe08f271"
      },
      "execution_count": null,
      "outputs": [
        {
          "name": "stdout",
          "text": "LeNet(\n  (conv1): Conv2d(1, 6, kernel_size=(5, 5), stride=(1, 1))\n  (conv2): Conv2d(6, 16, kernel_size=(5, 5), stride=(1, 1))\n  (fc1): Linear(in_features=400, out_features=120, bias=True)\n  (fc2): Linear(in_features=120, out_features=84, bias=True)\n  (fc3): Linear(in_features=84, out_features=10, bias=True)\n)\n\nImage batch shape:  torch.Size([1, 1, 32, 32])\n\nBefore 1st Max-pooling  torch.Size([1, 1, 32, 32])\nAfter 1st Max-pooling  torch.Size([1, 6, 14, 14])\nAfter 2nd Max-pooling  torch.Size([1, 16, 5, 5])\nAfter flatten  torch.Size([1, 400])\nAfter 1st FC  torch.Size([1, 120])\nAfter 2nd FC  torch.Size([1, 84])\n\nRaw output:  torch.Size([1, 10])\ntensor([[[ 0.0616, -0.0301,  0.0087, -0.0128,  0.0276],\n         [-0.0459,  0.0670,  0.0641,  0.0208, -0.0161],\n         [-0.0261, -0.0803,  0.0063,  0.0082,  0.0133],\n         [-0.0082, -0.0273, -0.0540, -0.0452,  0.0129],\n         [-0.0126,  0.0143, -0.0307, -0.0135, -0.0357]],\n\n        [[ 0.0010,  0.0365, -0.0153, -0.0238, -0.0104],\n         [-0.0399,  0.0632, -0.0516,  0.0447, -0.0349],\n         [-0.0505, -0.0107, -0.0170, -0.0058, -0.0049],\n         [ 0.0018, -0.0083,  0.0121,  0.0597, -0.0054],\n         [-0.0278,  0.0081, -0.0208, -0.0416, -0.0489]],\n\n        [[-0.0260, -0.0688, -0.0732,  0.0570, -0.0730],\n         [ 0.0047,  0.0460,  0.0269,  0.0083, -0.0406],\n         [ 0.0194, -0.0147,  0.0345,  0.0519,  0.0639],\n         [ 0.0530, -0.0488,  0.0150, -0.0010, -0.0602],\n         [ 0.0692,  0.0669, -0.0303,  0.0806,  0.0388]],\n\n        [[ 0.0632, -0.0594,  0.0716, -0.0373, -0.0674],\n         [-0.0422,  0.0799,  0.0541,  0.0331, -0.0541],\n         [-0.0677,  0.0811, -0.0529,  0.0190,  0.0592],\n         [-0.0535,  0.0182, -0.0779,  0.0605,  0.0441],\n         [ 0.0679,  0.0309,  0.0546, -0.0753, -0.0798]],\n\n        [[-0.0390,  0.0152, -0.0527, -0.0113, -0.0710],\n         [-0.0713,  0.0231, -0.0789,  0.0657, -0.0745],\n         [-0.0583, -0.0722, -0.0044,  0.0290, -0.0570],\n         [ 0.0129, -0.0567, -0.0021,  0.0486, -0.0058],\n         [ 0.0024, -0.0399,  0.0235,  0.0798, -0.0372]]],\n       grad_fn=<SliceBackward0>)\nNone\n",
          "output_type": "stream"
        }
      ]
    },
    {
      "cell_type": "code",
      "source": [
        "import torch\n",
        "import torch.nn as nn\n",
        "import torch.nn.functional as F\n",
        "\n",
        "BATCH_SIZE = 4\n",
        "DIM_IN = 10\n",
        "HIDDEN_SIZE = 5\n",
        "DIM_OUT = 3\n",
        "\n",
        "class TinyModel(torch.nn.Module):\n",
        "\n",
        "    def __init__(self):\n",
        "        super(TinyModel, self).__init__()\n",
        "\n",
        "        self.layer1 = torch.nn.Linear(DIM_IN,HIDDEN_SIZE)\n",
        "        self.relu = torch.nn.ReLU()\n",
        "        self.layer2 = torch.nn.Linear(HIDDEN_SIZE,DIM_OUT)\n",
        "\n",
        "    def forward(self, x):\n",
        "        x = self.layer1(x)\n",
        "        print(\"After layer1 : \",x.shape)\n",
        "        x = self.relu(x)\n",
        "        print(\"After relu : \",x.shape)\n",
        "        x = self.layer2(x)\n",
        "        print(\"After layer2 : \",x.shape)\n",
        "        return x\n",
        "\n",
        "some_input = torch.randn(BATCH_SIZE, DIM_IN, requires_grad=False)\n",
        "ideal_output = torch.randn(BATCH_SIZE, DIM_OUT, requires_grad=False)\n",
        "\n",
        "model = TinyModel()\n",
        "print(model)\n",
        "\n",
        "print('The model:')\n",
        "print(model)\n",
        "\n",
        "print('\\n\\nJust one layer:')\n",
        "print(model.layer2)\n",
        "\n",
        "print('\\n\\nModel params:')\n",
        "for param in model.parameters():\n",
        "    print(param)\n",
        "\n",
        "print('\\n\\nLayer2 params:')\n",
        "for param in model.layer2.parameters():\n",
        "    print(param)\n",
        "\n"
      ],
      "metadata": {
        "execution": {
          "iopub.status.busy": "2023-12-28T01:29:04.089413Z",
          "iopub.execute_input": "2023-12-28T01:29:04.090387Z",
          "iopub.status.idle": "2023-12-28T01:29:08.151234Z",
          "shell.execute_reply.started": "2023-12-28T01:29:04.090344Z",
          "shell.execute_reply": "2023-12-28T01:29:08.150189Z"
        },
        "trusted": true,
        "id": "H7KS59stcVMA",
        "outputId": "d0cb6a96-a5a6-49ec-f892-fa200d428204"
      },
      "execution_count": null,
      "outputs": [
        {
          "name": "stdout",
          "text": "TinyModel(\n  (layer1): Linear(in_features=10, out_features=5, bias=True)\n  (relu): ReLU()\n  (layer2): Linear(in_features=5, out_features=3, bias=True)\n)\nThe model:\nTinyModel(\n  (layer1): Linear(in_features=10, out_features=5, bias=True)\n  (relu): ReLU()\n  (layer2): Linear(in_features=5, out_features=3, bias=True)\n)\n\n\nJust one layer:\nLinear(in_features=5, out_features=3, bias=True)\n\n\nModel params:\nParameter containing:\ntensor([[ 0.1707,  0.2802,  0.3141,  0.1493,  0.2285,  0.0542,  0.1041,  0.0995,\n         -0.1608,  0.1545],\n        [ 0.2470, -0.1126, -0.2651,  0.1784, -0.0713, -0.1379, -0.0692,  0.1331,\n         -0.1114,  0.1604],\n        [-0.0364, -0.2262,  0.0610,  0.1969,  0.0008,  0.2661,  0.0582, -0.2541,\n         -0.0842, -0.3015],\n        [ 0.2489, -0.2897,  0.0012,  0.2174,  0.1837, -0.2974, -0.1919, -0.2012,\n         -0.2468, -0.2838],\n        [ 0.1434,  0.0558,  0.3025,  0.2021, -0.2085, -0.1412, -0.1651, -0.2545,\n         -0.3015,  0.0285]], requires_grad=True)\nParameter containing:\ntensor([ 0.1730, -0.0979,  0.0790,  0.1789, -0.0176], requires_grad=True)\nParameter containing:\ntensor([[ 0.1351, -0.2073, -0.1421,  0.3038, -0.4342],\n        [ 0.0886, -0.3375,  0.4023,  0.2033,  0.0395],\n        [-0.3346,  0.3087,  0.1119, -0.1473,  0.1628]], requires_grad=True)\nParameter containing:\ntensor([-0.2228,  0.1992, -0.1283], requires_grad=True)\n\n\nLayer2 params:\nParameter containing:\ntensor([[ 0.1351, -0.2073, -0.1421,  0.3038, -0.4342],\n        [ 0.0886, -0.3375,  0.4023,  0.2033,  0.0395],\n        [-0.3346,  0.3087,  0.1119, -0.1473,  0.1628]], requires_grad=True)\nParameter containing:\ntensor([-0.2228,  0.1992, -0.1283], requires_grad=True)\n",
          "output_type": "stream"
        }
      ]
    },
    {
      "cell_type": "code",
      "source": [
        "print(\"before weights update \")\n",
        "print(model.layer2.weight[0][0:10]) # just a small slice\n",
        "print(model.layer2.weight.grad)\n",
        "\n",
        "optimizer = torch.optim.SGD(model.parameters(), lr=0.001)\n",
        "\n",
        "prediction = model(some_input)\n",
        "\n",
        "loss = (ideal_output - prediction).pow(2).sum()\n",
        "print(\"loss : \",loss)\n",
        "\n",
        "loss.backward()\n",
        "print(\"weights after backward pass : \")\n",
        "print(model.layer2.weight[0][0:10])\n",
        "print(model.layer2.weight.grad[0][0:10])\n",
        "\n",
        "optimizer.step()\n",
        "print(\"weights after backward pass + grad optimized : \")\n",
        "print(model.layer2.weight[0][0:10])\n",
        "print(model.layer2.weight.grad[0][0:10])\n",
        "\n",
        "optimizer.zero_grad(set_to_none=False)\n",
        "print(\"weights after backward pass + grad optimized + optimizer.zero_grad : \")\n",
        "print(model.layer2.weight[0][0:10])\n",
        "print(model.layer2.weight.grad[0][0:10])"
      ],
      "metadata": {
        "execution": {
          "iopub.status.busy": "2023-12-28T01:29:08.152957Z",
          "iopub.execute_input": "2023-12-28T01:29:08.153494Z",
          "iopub.status.idle": "2023-12-28T01:29:08.217809Z",
          "shell.execute_reply.started": "2023-12-28T01:29:08.15346Z",
          "shell.execute_reply": "2023-12-28T01:29:08.216915Z"
        },
        "trusted": true,
        "id": "X3AvfC75cVMB",
        "outputId": "c1eea319-9173-419d-97ce-b8ebe84f5457"
      },
      "execution_count": null,
      "outputs": [
        {
          "name": "stdout",
          "text": "before weights update \ntensor([ 0.1351, -0.2073, -0.1421,  0.3038, -0.4342], grad_fn=<SliceBackward0>)\nNone\nAfter layer1 :  torch.Size([4, 5])\nAfter relu :  torch.Size([4, 5])\nAfter layer2 :  torch.Size([4, 3])\nloss :  tensor(19.0096, grad_fn=<SumBackward0>)\nweights after backward pass : \ntensor([ 0.1351, -0.2073, -0.1421,  0.3038, -0.4342], grad_fn=<SliceBackward0>)\ntensor([-0.2993,  0.7222,  0.9651,  2.6914,  0.4884])\nweights after backward pass + grad optimized : \ntensor([ 0.1354, -0.2080, -0.1431,  0.3011, -0.4347], grad_fn=<SliceBackward0>)\ntensor([-0.2993,  0.7222,  0.9651,  2.6914,  0.4884])\nweights after backward pass + grad optimized + optimizer.zero_grad : \ntensor([ 0.1354, -0.2080, -0.1431,  0.3011, -0.4347], grad_fn=<SliceBackward0>)\ntensor([0., 0., 0., 0., 0.])\n",
          "output_type": "stream"
        }
      ]
    },
    {
      "cell_type": "markdown",
      "source": [
        "vocab_size is the number of words in the input vocabulary. Each word is a one-hot vector (or unit vector) in a vocab_size-dimensional space.\n",
        "\n",
        "tagset_size is the number of tags in the output set.\n",
        "\n",
        "embedding_dim is the size of the embedding space for the vocabulary. An embedding maps a vocabulary onto a low-dimensional space, where words with similar meanings are close together in the space.\n",
        "\n",
        "hidden_dim is the size of the LSTM’s memory.\n",
        "\n",
        "The input will be a sentence with the words represented as indices of one-hot vectors. The embedding layer will then map these down to an embedding_dim-dimensional space. The LSTM takes this sequence of embeddings and iterates over it, fielding an output vector of length hidden_dim. The final linear layer acts as a classifier; applying log_softmax() to the output of the final layer converts the output into a normalized set of estimated probabilities that a given word maps to a given tag."
      ],
      "metadata": {
        "id": "njP47STTcVMC"
      }
    },
    {
      "cell_type": "code",
      "source": [
        "class LSTMTagger(torch.nn.Module):\n",
        "\n",
        "    def __init__(self, embedding_dim, hidden_dim, vocab_size, tagset_size):\n",
        "        super(LSTMTagger, self).__init__()\n",
        "        self.hidden_dim = hidden_dim\n",
        "\n",
        "        self.word_embeddings = torch.nn.Embedding(vocab_size, embedding_dim)\n",
        "\n",
        "        # The LSTM takes word embeddings as inputs, and outputs hidden states\n",
        "        # with dimensionality hidden_dim.\n",
        "        self.lstm = torch.nn.LSTM(embedding_dim, hidden_dim)\n",
        "\n",
        "        # The linear layer that maps from hidden state space to tag space\n",
        "        self.hidden2tag = torch.nn.Linear(hidden_dim, tagset_size)\n",
        "\n",
        "    def forward(self, sentence):\n",
        "        embeds = self.word_embeddings(sentence)\n",
        "        lstm_out, _ = self.lstm(embeds.view(len(sentence), 1, -1))\n",
        "        tag_space = self.hidden2tag(lstm_out.view(len(sentence), -1))\n",
        "        tag_scores = F.log_softmax(tag_space, dim=1)\n",
        "        return tag_scores"
      ],
      "metadata": {
        "id": "AZAdN_dKcVMD"
      },
      "execution_count": null,
      "outputs": []
    },
    {
      "cell_type": "markdown",
      "source": [
        "# Pooling + BatchNorm + Dropout"
      ],
      "metadata": {
        "id": "A4IX-ZgqcVME"
      }
    },
    {
      "cell_type": "code",
      "source": [
        "my_tensor = torch.rand(1, 6, 6)\n",
        "print(my_tensor)\n",
        "\n",
        "maxpool_layer = torch.nn.MaxPool2d(3)\n",
        "print(maxpool_layer(my_tensor))"
      ],
      "metadata": {
        "execution": {
          "iopub.status.busy": "2023-12-28T01:50:53.707695Z",
          "iopub.execute_input": "2023-12-28T01:50:53.709567Z",
          "iopub.status.idle": "2023-12-28T01:50:53.721835Z",
          "shell.execute_reply.started": "2023-12-28T01:50:53.709514Z",
          "shell.execute_reply": "2023-12-28T01:50:53.72038Z"
        },
        "trusted": true,
        "id": "C-Wol94fcVME",
        "outputId": "56fedcd8-a198-44b6-d0aa-3cf9de0e2b05"
      },
      "execution_count": null,
      "outputs": [
        {
          "name": "stdout",
          "text": "tensor([[[0.9154, 0.1099, 0.0817, 0.9214, 0.0138, 0.5309],\n         [0.5636, 0.2406, 0.4650, 0.9344, 0.7706, 0.7663],\n         [0.6355, 0.6535, 0.9984, 0.7862, 0.3423, 0.3433],\n         [0.4761, 0.4214, 0.9434, 0.0538, 0.2010, 0.5654],\n         [0.7186, 0.6959, 0.3769, 0.4089, 0.8383, 0.1977],\n         [0.4577, 0.5526, 0.2973, 0.4424, 0.1070, 0.6613]]])\ntensor([[[0.9984, 0.9344],\n         [0.9434, 0.8383]]])\n",
          "output_type": "stream"
        }
      ]
    },
    {
      "cell_type": "code",
      "source": [
        "my_tensor = torch.rand(1, 4, 4) * 20 + 5\n",
        "print(my_tensor)\n",
        "\n",
        "print(my_tensor.mean())\n",
        "\n",
        "norm_layer = torch.nn.BatchNorm1d(4)\n",
        "normed_tensor = norm_layer(my_tensor)\n",
        "print(normed_tensor)\n",
        "\n",
        "print(normed_tensor.mean())"
      ],
      "metadata": {
        "execution": {
          "iopub.status.busy": "2023-12-28T01:51:55.349859Z",
          "iopub.execute_input": "2023-12-28T01:51:55.350292Z",
          "iopub.status.idle": "2023-12-28T01:51:55.367543Z",
          "shell.execute_reply.started": "2023-12-28T01:51:55.350262Z",
          "shell.execute_reply": "2023-12-28T01:51:55.365739Z"
        },
        "trusted": true,
        "id": "0Ofx-ErrcVMF",
        "outputId": "aed0ddb9-ffee-4a51-bdc5-e80101a8270d"
      },
      "execution_count": null,
      "outputs": [
        {
          "name": "stdout",
          "text": "tensor([[[15.7163, 16.0728, 10.8773, 23.0611],\n         [ 7.4773, 22.2312, 24.3448, 24.6766],\n         [10.9640, 13.6779, 23.6286, 21.9696],\n         [ 8.5672, 13.6959, 23.3365, 20.3197]]])\ntensor(17.5386)\ntensor([[[-0.1648, -0.0827, -1.2790,  1.5265],\n         [-1.7169,  0.3585,  0.6558,  0.7025],\n         [-1.2310, -0.7245,  1.1325,  0.8229],\n         [-1.3768, -0.4844,  1.1931,  0.6681]]],\n       grad_fn=<NativeBatchNormBackward0>)\ntensor(8.9407e-08, grad_fn=<MeanBackward0>)\n",
          "output_type": "stream"
        }
      ]
    },
    {
      "cell_type": "code",
      "source": [
        "my_tensor = torch.rand(1, 4, 4)\n",
        "print(my_tensor)\n",
        "dropout = torch.nn.Dropout(p=0.4)\n",
        "print(dropout(my_tensor))\n",
        "print(dropout(my_tensor))"
      ],
      "metadata": {
        "execution": {
          "iopub.status.busy": "2023-12-28T01:53:30.065535Z",
          "iopub.execute_input": "2023-12-28T01:53:30.066017Z",
          "iopub.status.idle": "2023-12-28T01:53:30.08071Z",
          "shell.execute_reply.started": "2023-12-28T01:53:30.065983Z",
          "shell.execute_reply": "2023-12-28T01:53:30.079303Z"
        },
        "trusted": true,
        "id": "q7Kf6yvVcVMF",
        "outputId": "26d7b5b3-e9e1-4a89-b14d-c3193287a065"
      },
      "execution_count": null,
      "outputs": [
        {
          "name": "stdout",
          "text": "tensor([[[0.9990, 0.5716, 0.7154, 0.7757],\n         [0.4983, 0.9120, 0.9467, 0.1978],\n         [0.3957, 0.2455, 0.4039, 0.3528],\n         [0.9801, 0.8895, 0.7989, 0.4342]]])\ntensor([[[0.0000, 0.9527, 1.1923, 0.0000],\n         [0.8305, 0.0000, 1.5778, 0.3297],\n         [0.0000, 0.4091, 0.6732, 0.5880],\n         [1.6335, 1.4824, 0.0000, 0.7236]]])\ntensor([[[0.0000, 0.9527, 1.1923, 1.2928],\n         [0.0000, 1.5200, 1.5778, 0.3297],\n         [0.6596, 0.4091, 0.6732, 0.5880],\n         [0.0000, 0.0000, 0.0000, 0.7236]]])\n",
          "output_type": "stream"
        }
      ]
    },
    {
      "cell_type": "code",
      "source": [
        "# torch.no_grad() can also be used as a function or method decorato\n",
        "\n",
        "def add_tensors1(x, y):\n",
        "    return x + y\n",
        "\n",
        "@torch.no_grad()\n",
        "def add_tensors2(x, y):\n",
        "    return x + y\n",
        "\n",
        "\n",
        "a = torch.ones(2, 3, requires_grad=True) * 2\n",
        "b = torch.ones(2, 3, requires_grad=True) * 3\n",
        "\n",
        "c1 = add_tensors1(a, b)\n",
        "print(c1)\n",
        "\n",
        "c2 = add_tensors2(a, b)\n",
        "print(c2)"
      ],
      "metadata": {
        "execution": {
          "iopub.status.busy": "2023-12-27T03:57:53.124282Z",
          "iopub.execute_input": "2023-12-27T03:57:53.124713Z",
          "iopub.status.idle": "2023-12-27T03:57:53.13753Z",
          "shell.execute_reply.started": "2023-12-27T03:57:53.124682Z",
          "shell.execute_reply": "2023-12-27T03:57:53.136005Z"
        },
        "trusted": true,
        "id": "_E_CS97wcVMG",
        "outputId": "4e5a4c09-9da3-4825-ad0d-40556b375037"
      },
      "execution_count": null,
      "outputs": [
        {
          "name": "stdout",
          "text": "tensor([[5., 5., 5.],\n        [5., 5., 5.]], grad_fn=<AddBackward0>)\ntensor([[5., 5., 5.],\n        [5., 5., 5.]])\n",
          "output_type": "stream"
        }
      ]
    },
    {
      "cell_type": "code",
      "source": [
        "# -*- coding: utf-8 -*-\n",
        "\n",
        "import torch\n",
        "import math\n",
        "\n",
        "\n",
        "dtype = torch.float\n",
        "device = torch.device(\"cpu\")\n",
        "# device = torch.device(\"cuda:0\") # Uncomment this to run on GPU\n",
        "\n",
        "# Create random input and output data\n",
        "x = torch.linspace(-math.pi, math.pi, 10, device=device, dtype=dtype)\n",
        "y = torch.sin(x)\n",
        "\n",
        "# Randomly initialize weights\n",
        "a = torch.randn((), device=device, dtype=dtype)\n",
        "b = torch.randn((), device=device, dtype=dtype)\n",
        "c = torch.randn((), device=device, dtype=dtype)\n",
        "d = torch.randn((), device=device, dtype=dtype)\n",
        "\n",
        "learning_rate = 1e-6\n",
        "for t in range(100):\n",
        "    # Forward pass: compute predicted y\n",
        "    y_pred = a + b * x + c * x ** 2 + d * x ** 3\n",
        "\n",
        "    # Compute and print loss\n",
        "    loss = (y_pred - y).pow(2).sum().item()\n",
        "    if t % 100 == 0:\n",
        "        print(t, loss)\n",
        "\n",
        "    # Backprop to compute gradients of a, b, c, d with respect to loss\n",
        "    grad_y_pred = 2.0 * (y_pred - y)\n",
        "    grad_a = grad_y_pred.sum()\n",
        "    grad_b = (grad_y_pred * x).sum()\n",
        "    grad_c = (grad_y_pred * x ** 2).sum()\n",
        "    grad_d = (grad_y_pred * x ** 3).sum()\n",
        "\n",
        "    # Update weights using gradient descent\n",
        "    a -= learning_rate * grad_a\n",
        "    b -= learning_rate * grad_b\n",
        "    c -= learning_rate * grad_c\n",
        "    d -= learning_rate * grad_d\n",
        "\n",
        "\n",
        "print(f'Result: y = {a.item()} + {b.item()} x + {c.item()} x^2 + {d.item()} x^3')\n",
        "\n",
        "\n",
        "\n",
        "\n",
        "    # Use autograd to compute the backward pass. This call will compute the\n",
        "    # gradient of loss with respect to all Tensors with requires_grad=True.\n",
        "    # After this call a.grad, b.grad. c.grad and d.grad will be Tensors holding\n",
        "    # the gradient of the loss with respect to a, b, c, d respectively.\n",
        "    loss.backward()\n",
        "\n",
        "    # Manually update weights using gradient descent. Wrap in torch.no_grad()\n",
        "    # because weights have requires_grad=True, but we don't need to track this\n",
        "    # in autograd.\n",
        "    with torch.no_grad():\n",
        "        a -= learning_rate * a.grad\n",
        "        b -= learning_rate * b.grad\n",
        "        c -= learning_rate * c.grad\n",
        "        d -= learning_rate * d.grad\n",
        "\n",
        "        # Manually zero the gradients after updating weights\n",
        "        a.grad = None\n",
        "        b.grad = None\n",
        "        c.grad = None\n",
        "        d.grad = None\n",
        "\n",
        "print(f'Result: y = {a.item()} + {b.item()} x + {c.item()} x^2 + {d.item()} x^3')"
      ],
      "metadata": {
        "execution": {
          "iopub.status.busy": "2023-11-29T07:50:10.415106Z",
          "iopub.status.idle": "2023-11-29T07:50:10.41547Z",
          "shell.execute_reply.started": "2023-11-29T07:50:10.415285Z",
          "shell.execute_reply": "2023-11-29T07:50:10.415301Z"
        },
        "trusted": true,
        "id": "yT985A_UcVMH"
      },
      "execution_count": null,
      "outputs": []
    },
    {
      "cell_type": "markdown",
      "source": [
        "If we tried to call y.backward() now, we’d get a runtime error and a message that gradients can only be implicitly computed for scalar outputs. For a multi-dimensional output, autograd expects us to provide gradients for those three outputs that it can multiply into the Jacobian:\n",
        "\n",
        "\n",
        "(Note that the output gradients are all related to powers of two - which we’d expect from a repeated doubling operation.)"
      ],
      "metadata": {
        "id": "iSfREEw0cVMS"
      }
    },
    {
      "cell_type": "code",
      "source": [
        "x = torch.randn(3, requires_grad=True)\n",
        "\n",
        "y = x * 2\n",
        "while y.data.norm() < 1000:\n",
        "    y = y * 2\n",
        "\n",
        "print(y)\n",
        "\n",
        "v = torch.tensor([0.1, 1.0, 0.0001], dtype=torch.float) # stand-in for gradients\n",
        "y.backward(v)\n",
        "\n",
        "print(x.grad)"
      ],
      "metadata": {
        "execution": {
          "iopub.status.busy": "2023-12-28T01:36:57.785404Z",
          "iopub.execute_input": "2023-12-28T01:36:57.786495Z",
          "iopub.status.idle": "2023-12-28T01:36:57.802798Z",
          "shell.execute_reply.started": "2023-12-28T01:36:57.78645Z",
          "shell.execute_reply": "2023-12-28T01:36:57.801372Z"
        },
        "trusted": true,
        "id": "zhIITVeEcVMS",
        "outputId": "2e8628b8-fe80-46e6-8baf-928ede17d246"
      },
      "execution_count": null,
      "outputs": [
        {
          "name": "stdout",
          "text": "tensor([  69.0714,  481.0133, 1008.0416], grad_fn=<MulBackward0>)\ntensor([5.1200e+01, 5.1200e+02, 5.1200e-02])\n",
          "output_type": "stream"
        }
      ]
    },
    {
      "cell_type": "markdown",
      "source": [
        "There is an API on autograd that gives you direct access to important differential matrix and vector operations. In particular, it allows you to calculate the Jacobian and the Hessian matrices of a particular function for particular inputs. (The Hessian is like the Jacobian, but expresses all partial second derivatives.) It also provides methods for taking vector products with these matrices.\n",
        "\n",
        "Let’s take the Jacobian of a simple function, evaluated for a 2 single-element inputs:\n",
        "\n",
        "\n",
        "If you look closely, the first output should equal  2*e^x (since the derivative of e^x is e^x), and the second value should be 3.\n",
        "\n",
        "You can, of course, do this with higher-order tensors:"
      ],
      "metadata": {
        "id": "GIuim3WzcVMT"
      }
    },
    {
      "cell_type": "code",
      "source": [
        "def exp_adder(x, y):\n",
        "    return 2 * x.exp() + 3 * y\n",
        "\n",
        "inputs = (torch.rand(3), torch.rand(3)) # arguments for the function\n",
        "print(inputs)\n",
        "torch.autograd.functional.jacobian(exp_adder, inputs)"
      ],
      "metadata": {
        "execution": {
          "iopub.status.busy": "2023-12-28T01:42:42.484975Z",
          "iopub.execute_input": "2023-12-28T01:42:42.486966Z",
          "iopub.status.idle": "2023-12-28T01:42:42.515675Z",
          "shell.execute_reply.started": "2023-12-28T01:42:42.4869Z",
          "shell.execute_reply": "2023-12-28T01:42:42.514274Z"
        },
        "trusted": true,
        "id": "hYNSmGOecVMT",
        "outputId": "91498655-9154-46dc-9ac7-9e280ecec45c"
      },
      "execution_count": null,
      "outputs": [
        {
          "name": "stdout",
          "text": "(tensor([0.1351, 0.8873, 0.0998]), tensor([0.2679, 0.2757, 0.8676]))\n",
          "output_type": "stream"
        },
        {
          "execution_count": 4,
          "output_type": "execute_result",
          "data": {
            "text/plain": "(tensor([[2.2892, 0.0000, 0.0000],\n         [0.0000, 4.8572, 0.0000],\n         [0.0000, 0.0000, 2.2098]]),\n tensor([[3., 0., 0.],\n         [0., 3., 0.],\n         [0., 0., 3.]]))"
          },
          "metadata": {}
        }
      ]
    },
    {
      "cell_type": "markdown",
      "source": [
        "The torch.autograd.functional.hessian() method works identically (assuming your function is twice differentiable), but returns a matrix of all second derivatives.\n",
        "\n",
        "There is also a function to directly compute the vector-Jacobian product, if you provide the vector:"
      ],
      "metadata": {
        "id": "GHqGJzr5cVMU"
      }
    },
    {
      "cell_type": "code",
      "source": [
        "def do_some_doubling(x):\n",
        "    y = x * 2\n",
        "    while y.data.norm() < 1000:\n",
        "        y = y * 2\n",
        "    return y\n",
        "\n",
        "inputs = torch.randn(3)\n",
        "my_gradients = torch.tensor([0.1, 1.0, 0.0001])\n",
        "torch.autograd.functional.vjp(do_some_doubling, inputs, v=my_gradients)"
      ],
      "metadata": {
        "execution": {
          "iopub.status.busy": "2023-12-28T01:43:52.185144Z",
          "iopub.execute_input": "2023-12-28T01:43:52.185617Z",
          "iopub.status.idle": "2023-12-28T01:43:52.198638Z",
          "shell.execute_reply.started": "2023-12-28T01:43:52.185584Z",
          "shell.execute_reply": "2023-12-28T01:43:52.196709Z"
        },
        "trusted": true,
        "id": "y54s2gIhcVMU",
        "outputId": "bc762b1a-562a-41ef-e2fd-caa63e7131ba"
      },
      "execution_count": null,
      "outputs": [
        {
          "execution_count": 5,
          "output_type": "execute_result",
          "data": {
            "text/plain": "(tensor([ 819.0781, -173.8911, -908.0206]),\n tensor([5.1200e+01, 5.1200e+02, 5.1200e-02]))"
          },
          "metadata": {}
        }
      ]
    },
    {
      "cell_type": "code",
      "source": [
        "import torch\n",
        "\n",
        "import matplotlib.pyplot as plt\n",
        "import matplotlib.ticker as ticker\n",
        "import math\n",
        "\n",
        "a = torch.linspace(0., 2* math.pi, steps=5, requires_grad=True)\n",
        "print(\"a : \",a)\n",
        "b = torch.sin(a)\n",
        "print(\"sin(a) : \",b)\n",
        "plt.plot(a.detach(), b.detach())\n",
        "c = 2 * b\n",
        "print(\"c : \",c)\n",
        "d = c + 1\n",
        "print(\"d : \",d)\n",
        "out = d.sum()\n",
        "print(\"out : \",out)"
      ],
      "metadata": {
        "execution": {
          "iopub.status.busy": "2023-12-27T03:28:37.982595Z",
          "iopub.execute_input": "2023-12-27T03:28:37.983619Z",
          "iopub.status.idle": "2023-12-27T03:28:38.305772Z",
          "shell.execute_reply.started": "2023-12-27T03:28:37.98358Z",
          "shell.execute_reply": "2023-12-27T03:28:38.304442Z"
        },
        "trusted": true,
        "id": "PIlp61cbcVMU",
        "outputId": "ccc4fe9d-c8b6-4f44-cbc3-b6125f20ff64"
      },
      "execution_count": null,
      "outputs": [
        {
          "name": "stdout",
          "text": "a :  tensor([0.0000, 1.5708, 3.1416, 4.7124, 6.2832], requires_grad=True)\nsin(a) :  tensor([ 0.0000e+00,  1.0000e+00, -8.7423e-08, -1.0000e+00,  1.7485e-07],\n       grad_fn=<SinBackward0>)\nc :  tensor([ 0.0000e+00,  2.0000e+00, -1.7485e-07, -2.0000e+00,  3.4969e-07],\n       grad_fn=<MulBackward0>)\nd :  tensor([ 1.0000,  3.0000,  1.0000, -1.0000,  1.0000], grad_fn=<AddBackward0>)\nout :  tensor(5.0000, grad_fn=<SumBackward0>)\n",
          "output_type": "stream"
        },
        {
          "output_type": "display_data",
          "data": {
            "text/plain": "<Figure size 640x480 with 1 Axes>",
            "image/png": "[encoded data removed]"
          },
          "metadata": {}
        }
      ]
    },
    {
      "cell_type": "markdown",
      "source": [
        "Each grad_fn stored with our tensors allows you to walk the computation all the way back to its inputs with its next_functions property. We can see below that drilling down on this property on d shows us the gradient functions for all the prior tensors. Note that a.grad_fn is reported as None, indicating that this was an input to the function with no history of its own."
      ],
      "metadata": {
        "id": "g95GAe7ccVMV"
      }
    },
    {
      "cell_type": "code",
      "source": [
        "print('d: ',d.grad_fn)\n",
        "print(\"walking along computation graph for grad calculation : \")\n",
        "print(d.grad_fn.next_functions)\n",
        "print(d.grad_fn.next_functions[0][0].next_functions)\n",
        "print(d.grad_fn.next_functions[0][0].next_functions[0][0].next_functions)\n",
        "print(d.grad_fn.next_functions[0][0].next_functions[0][0].next_functions[0][0].next_functions)\n",
        "print('c: ',c.grad_fn)\n",
        "print('b: ',b.grad_fn)\n",
        "print('a: ',a.grad_fn)\n",
        "# calculating grad\n",
        "print(\"before grad calculation out : \",out)\n",
        "out.backward()\n",
        "print(\"after grad calculation out : \",out)\n",
        "print(\"a.grad  : \",a.grad)\n",
        "plt.plot(a.detach(), a.grad.detach())"
      ],
      "metadata": {
        "execution": {
          "iopub.status.busy": "2023-12-27T03:28:44.390893Z",
          "iopub.execute_input": "2023-12-27T03:28:44.391441Z",
          "iopub.status.idle": "2023-12-27T03:28:44.642697Z",
          "shell.execute_reply.started": "2023-12-27T03:28:44.391404Z",
          "shell.execute_reply": "2023-12-27T03:28:44.641123Z"
        },
        "trusted": true,
        "id": "IHk-36h0cVMV",
        "outputId": "9fd55721-8b01-463a-fd15-726aaf9bd138"
      },
      "execution_count": null,
      "outputs": [
        {
          "name": "stdout",
          "text": "d:  <AddBackward0 object at 0x7c847c5e85e0>\nwalking along computation graph for grad calculation : \n((<MulBackward0 object at 0x7c847c5e9330>, 0), (None, 0))\n((<SinBackward0 object at 0x7c847c5e9870>, 0), (None, 0))\n((<AccumulateGrad object at 0x7c847c5e85b0>, 0),)\n()\nc:  <MulBackward0 object at 0x7c847c5e85b0>\nb:  <SinBackward0 object at 0x7c847c5e85e0>\na:  None\nbefore grad calculation out :  tensor(5.0000, grad_fn=<SumBackward0>)\nafter grad calculation out :  tensor(5.0000, grad_fn=<SumBackward0>)\na.grad  :  tensor([ 2.0000e+00, -8.7423e-08, -2.0000e+00,  2.3850e-08,  2.0000e+00])\n",
          "output_type": "stream"
        },
        {
          "execution_count": 52,
          "output_type": "execute_result",
          "data": {
            "text/plain": "[<matplotlib.lines.Line2D at 0x7c847c5f3910>]"
          },
          "metadata": {}
        },
        {
          "output_type": "display_data",
          "data": {
            "text/plain": "<Figure size 640x480 with 1 Axes>",
            "image/png": "[encoded data removed]"
          },
          "metadata": {}
        }
      ]
    },
    {
      "cell_type": "code",
      "source": [],
      "metadata": {
        "id": "nPs8SC7IcVMV"
      },
      "execution_count": null,
      "outputs": []
    },
    {
      "cell_type": "code",
      "source": [
        "def train_one_epoch(epoch_index, tb_writer):\n",
        "    running_loss = 0.\n",
        "    last_loss = 0.\n",
        "\n",
        "    # Here, we use enumerate(training_loader) instead of\n",
        "    # iter(training_loader) so that we can track the batch\n",
        "    # index and do some intra-epoch reporting\n",
        "    for i, data in enumerate(training_loader):\n",
        "        # Every data instance is an input + label pair\n",
        "        inputs, labels = data\n",
        "\n",
        "        # Zero your gradients for every batch!\n",
        "        optimizer.zero_grad()\n",
        "\n",
        "        # Make predictions for this batch\n",
        "        outputs = model(inputs)\n",
        "\n",
        "        # Compute the loss and its gradients\n",
        "        loss = loss_fn(outputs, labels)\n",
        "        loss.backward()\n",
        "\n",
        "        # Adjust learning weights\n",
        "        optimizer.step()\n",
        "\n",
        "        # Gather data and report\n",
        "        running_loss += loss.item()\n",
        "        if i % 1000 == 999:\n",
        "            last_loss = running_loss / 1000 # loss per batch\n",
        "            print('  batch {} loss: {}'.format(i + 1, last_loss))\n",
        "            tb_x = epoch_index * len(training_loader) + i + 1\n",
        "            tb_writer.add_scalar('Loss/train', last_loss, tb_x)\n",
        "            running_loss = 0.\n",
        "\n",
        "    return last_loss\n",
        "\n",
        "\n",
        "\n",
        "# Initializing in a separate cell so we can easily add more epochs to the same run\n",
        "timestamp = datetime.now().strftime('%Y%m%d_%H%M%S')\n",
        "writer = SummaryWriter('runs/fashion_trainer_{}'.format(timestamp))\n",
        "epoch_number = 0\n",
        "\n",
        "EPOCHS = 5\n",
        "\n",
        "best_vloss = 1_000_000.\n",
        "\n",
        "for epoch in range(EPOCHS):\n",
        "    print('EPOCH {}:'.format(epoch_number + 1))\n",
        "\n",
        "    # Make sure gradient tracking is on, and do a pass over the data\n",
        "    model.train(True)\n",
        "    avg_loss = train_one_epoch(epoch_number, writer)\n",
        "\n",
        "\n",
        "    running_vloss = 0.0\n",
        "    # Set the model to evaluation mode, disabling dropout and using population\n",
        "    # statistics for batch normalization.\n",
        "    model.eval()\n",
        "\n",
        "    # Disable gradient computation and reduce memory consumption.\n",
        "    with torch.no_grad():\n",
        "        for i, vdata in enumerate(validation_loader):\n",
        "            vinputs, vlabels = vdata\n",
        "            voutputs = model(vinputs)\n",
        "            vloss = loss_fn(voutputs, vlabels)\n",
        "            running_vloss += vloss\n",
        "\n",
        "    avg_vloss = running_vloss / (i + 1)\n",
        "    print('LOSS train {} valid {}'.format(avg_loss, avg_vloss))\n",
        "\n",
        "    # Log the running loss averaged per batch\n",
        "    # for both training and validation\n",
        "    writer.add_scalars('Training vs. Validation Loss',\n",
        "                    { 'Training' : avg_loss, 'Validation' : avg_vloss },\n",
        "                    epoch_number + 1)\n",
        "    writer.flush()\n",
        "\n",
        "    # Track best performance, and save the model's state\n",
        "    if avg_vloss < best_vloss:\n",
        "        best_vloss = avg_vloss\n",
        "        model_path = 'model_{}_{}'.format(timestamp, epoch_number)\n",
        "        torch.save(model.state_dict(), model_path)\n",
        "\n",
        "    epoch_number += 1"
      ],
      "metadata": {
        "id": "Ks90S6kycVMW"
      },
      "execution_count": null,
      "outputs": []
    },
    {
      "cell_type": "code",
      "source": [
        "import torch\n",
        "import math\n",
        "\n",
        "\n",
        "class Polynomial3(torch.nn.Module):\n",
        "    def __init__(self):\n",
        "        \"\"\"\n",
        "        In the constructor we instantiate four parameters and assign them as\n",
        "        member parameters.\n",
        "        \"\"\"\n",
        "        super().__init__()\n",
        "        self.a = torch.nn.Parameter(torch.randn(()))\n",
        "        self.b = torch.nn.Parameter(torch.randn(()))\n",
        "        self.c = torch.nn.Parameter(torch.randn(()))\n",
        "        self.d = torch.nn.Parameter(torch.randn(()))\n",
        "\n",
        "    def forward(self, x):\n",
        "        \"\"\"\n",
        "        In the forward function we accept a Tensor of input data and we must return\n",
        "        a Tensor of output data. We can use Modules defined in the constructor as\n",
        "        well as arbitrary operators on Tensors.\n",
        "        \"\"\"\n",
        "        return self.a + self.b * x + self.c * x ** 2 + self.d * x ** 3\n",
        "\n",
        "    def string(self):\n",
        "        \"\"\"\n",
        "        Just like any class in Python, you can also define custom method on PyTorch modules\n",
        "        \"\"\"\n",
        "        return f'y = {self.a.item()} + {self.b.item()} x + {self.c.item()} x^2 + {self.d.item()} x^3'\n",
        "\n",
        "\n",
        "# Create Tensors to hold input and outputs.\n",
        "x = torch.linspace(-math.pi, math.pi, 2000)\n",
        "y = torch.sin(x)\n",
        "\n",
        "# Construct our model by instantiating the class defined above\n",
        "model = Polynomial3()\n",
        "\n",
        "# Construct our loss function and an Optimizer. The call to model.parameters()\n",
        "# in the SGD constructor will contain the learnable parameters (defined\n",
        "# with torch.nn.Parameter) which are members of the model.\n",
        "criterion = torch.nn.MSELoss(reduction='sum')\n",
        "optimizer = torch.optim.SGD(model.parameters(), lr=1e-6)\n",
        "for t in range(2000):\n",
        "    # Forward pass: Compute predicted y by passing x to the model\n",
        "    y_pred = model(x)\n",
        "\n",
        "    # Compute and print loss\n",
        "    loss = criterion(y_pred, y)\n",
        "    if t % 100 == 0:\n",
        "        print(t, loss.item())\n",
        "\n",
        "    # Zero gradients, perform a backward pass, and update the weights.\n",
        "    optimizer.zero_grad()\n",
        "    loss.backward()\n",
        "    optimizer.step()\n",
        "\n",
        "print(f'Result: {model.string()}')"
      ],
      "metadata": {
        "execution": {
          "iopub.status.busy": "2023-12-28T02:12:09.174509Z",
          "iopub.execute_input": "2023-12-28T02:12:09.175027Z",
          "iopub.status.idle": "2023-12-28T02:12:09.830603Z",
          "shell.execute_reply.started": "2023-12-28T02:12:09.174988Z",
          "shell.execute_reply": "2023-12-28T02:12:09.82934Z"
        },
        "trusted": true,
        "id": "46L88034cVMW",
        "outputId": "a5ca3778-6e8b-40e2-aefc-9955e43c40af"
      },
      "execution_count": null,
      "outputs": [
        {
          "name": "stdout",
          "text": "0 1067579.625\n100 1314.68603515625\n200 872.380859375\n300 579.8905029296875\n400 386.4690856933594\n500 258.5603942871094\n600 173.97476196289062\n700 118.03816223144531\n800 81.04708862304688\n900 56.584510803222656\n1000 40.407020568847656\n1100 29.70855712890625\n1200 22.63350486755371\n1300 17.954547882080078\n1400 14.860237121582031\n1500 12.813790321350098\n1600 11.460406303405762\n1700 10.56534481048584\n1800 9.973381042480469\n1900 9.5818510055542\nResult: y = 0.0014096597442403436 + 0.8348725438117981 x + -0.00024319066142197698 x^2 + -0.09021981060504913 x^3\n",
          "output_type": "stream"
        }
      ]
    },
    {
      "cell_type": "code",
      "source": [
        "import random\n",
        "import torch\n",
        "import math\n",
        "\n",
        "\n",
        "class DynamicNet(torch.nn.Module):\n",
        "    def __init__(self):\n",
        "        \"\"\"\n",
        "        In the constructor we instantiate five parameters and assign them as members.\n",
        "        \"\"\"\n",
        "        super().__init__()\n",
        "        self.a = torch.nn.Parameter(torch.randn(()))\n",
        "        self.b = torch.nn.Parameter(torch.randn(()))\n",
        "        self.c = torch.nn.Parameter(torch.randn(()))\n",
        "        self.d = torch.nn.Parameter(torch.randn(()))\n",
        "        self.e = torch.nn.Parameter(torch.randn(()))\n",
        "\n",
        "    def forward(self, x):\n",
        "        \"\"\"\n",
        "        For the forward pass of the model, we randomly choose either 4, 5\n",
        "        and reuse the e parameter to compute the contribution of these orders.\n",
        "\n",
        "        Since each forward pass builds a dynamic computation graph, we can use normal\n",
        "        Python control-flow operators like loops or conditional statements when\n",
        "        defining the forward pass of the model.\n",
        "\n",
        "        Here we also see that it is perfectly safe to reuse the same parameter many\n",
        "        times when defining a computational graph.\n",
        "        \"\"\"\n",
        "        y = self.a + self.b * x + self.c * x ** 2 + self.d * x ** 3\n",
        "        for exp in range(4, random.randint(4, 6)):\n",
        "            y = y + self.e * x ** exp\n",
        "        return y\n",
        "\n",
        "    def string(self):\n",
        "        \"\"\"\n",
        "        Just like any class in Python, you can also define custom method on PyTorch modules\n",
        "        \"\"\"\n",
        "        return f'y = {self.a.item()} + {self.b.item()} x + {self.c.item()} x^2 + {self.d.item()} x^3 + {self.e.item()} x^4 ? + {self.e.item()} x^5 ?'\n",
        "\n",
        "\n",
        "# Create Tensors to hold input and outputs.\n",
        "x = torch.linspace(-math.pi, math.pi, 20)\n",
        "y = torch.sin(x)\n",
        "\n",
        "# Construct our model by instantiating the class defined above\n",
        "model = DynamicNet()\n",
        "\n",
        "# Construct our loss function and an Optimizer. Training this strange model with\n",
        "# vanilla stochastic gradient descent is tough, so we use momentum\n",
        "criterion = torch.nn.MSELoss(reduction='sum')\n",
        "optimizer = torch.optim.SGD(model.parameters(), lr=1e-8, momentum=0.9)\n",
        "for t in range(300):\n",
        "    # Forward pass: Compute predicted y by passing x to the model\n",
        "    y_pred = model(x)\n",
        "\n",
        "    # Compute and print loss\n",
        "    loss = criterion(y_pred, y)\n",
        "    if t % 20 == 0:\n",
        "        print(t, loss.item())\n",
        "\n",
        "    # Zero gradients, perform a backward pass, and update the weights.\n",
        "    optimizer.zero_grad()\n",
        "    loss.backward()\n",
        "    optimizer.step()\n",
        "\n",
        "print(f'Result: {model.string()}')"
      ],
      "metadata": {
        "execution": {
          "iopub.status.busy": "2023-12-28T02:16:28.569425Z",
          "iopub.execute_input": "2023-12-28T02:16:28.570035Z",
          "iopub.status.idle": "2023-12-28T02:16:28.707987Z",
          "shell.execute_reply.started": "2023-12-28T02:16:28.569993Z",
          "shell.execute_reply": "2023-12-28T02:16:28.706871Z"
        },
        "trusted": true,
        "id": "dZkMmwOXcVMW",
        "outputId": "5cc55ca2-2ea2-4c64-afcb-0a35a0674c20"
      },
      "execution_count": null,
      "outputs": [
        {
          "name": "stdout",
          "text": "0 2705.714599609375\n20 2649.596435546875\n40 2212.77294921875\n60 1027.913330078125\n80 2463.24609375\n100 2392.26220703125\n120 2043.373779296875\n140 2002.381591796875\n160 988.0462036132812\n180 1926.952880859375\n200 940.7538452148438\n220 932.4345703125\n240 1812.5201416015625\n260 922.9461669921875\n280 1738.956787109375\nResult: y = 1.9864966869354248 + -2.382695436477661 x + 0.30508556962013245 x^2 + -0.28453633189201355 x^3 + 0.04388752579689026 x^4 ? + 0.04388752579689026 x^5 ?\n",
          "output_type": "stream"
        }
      ]
    },
    {
      "cell_type": "code",
      "source": [
        "#"
      ],
      "metadata": {
        "id": "7QqviMkDcVMX"
      },
      "execution_count": null,
      "outputs": []
    }
  ]
}